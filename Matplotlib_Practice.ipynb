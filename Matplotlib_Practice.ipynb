{
  "nbformat": 4,
  "nbformat_minor": 0,
  "metadata": {
    "kernelspec": {
      "display_name": "Python 3",
      "language": "python",
      "name": "python3"
    },
    "language_info": {
      "codemirror_mode": {
        "name": "ipython",
        "version": 3
      },
      "file_extension": ".py",
      "mimetype": "text/x-python",
      "name": "python",
      "nbconvert_exporter": "python",
      "pygments_lexer": "ipython3",
      "version": "3.7.3"
    },
    "colab": {
      "name": "Matplotlib_Practice.ipynb",
      "provenance": []
    }
  },
  "cells": [
    {
      "cell_type": "code",
      "metadata": {
        "id": "spT89Cp-vlDW"
      },
      "source": [
        "import numpy as np\n",
        "x = np.arange(0,100)\n",
        "y = x*2\n",
        "z = x**2"
      ],
      "execution_count": null,
      "outputs": []
    },
    {
      "cell_type": "markdown",
      "metadata": {
        "id": "FJ7Tm9k8vlDa"
      },
      "source": [
        "Import matplotlib.pyplot as plt and set %matplotlib inline if you are using the jupyter notebook. What command do you use if you aren't using the jupyter notebook?"
      ]
    },
    {
      "cell_type": "code",
      "metadata": {
        "id": "pOmy-j4yvlDb"
      },
      "source": [
        "import matplotlib.pyplot as plt\n",
        "%matplotlib inline\n",
        "# plt.show() for non-notebook users"
      ],
      "execution_count": null,
      "outputs": []
    },
    {
      "cell_type": "markdown",
      "metadata": {
        "id": "1Aj6pbIZvlDe"
      },
      "source": [
        "Question 1:\n",
        "**Follow along with these steps:** \n",
        "**Create a figure object called fig using plt.figure()** \n",
        "**Use add_axes to add an axis to the figure canvas at [0,0,1,1]. Call this new axis ax.** \n",
        "**Plot (x,y) on that axes and set the labels and titles to match the plot below:**"
      ]
    },
    {
      "cell_type": "code",
      "metadata": {
        "scrolled": true,
        "id": "UvfVhXykvlDe"
      },
      "source": [
        "fig = plt.figure()\n",
        "ax = fig.add_axes([0,0,1,1])\n",
        "ax.plot(x,y)\n",
        "ax.set_xlabel('x')\n",
        "ax.set_ylabel('y')\n",
        "ax.set_title('title')"
      ],
      "execution_count": null,
      "outputs": []
    },
    {
      "cell_type": "markdown",
      "metadata": {
        "id": "2S0RZpQAvlDi"
      },
      "source": [
        "Question 2-\n",
        "**Create a figure object and put two axes on it, ax1 and ax2. Located at [0,0,1,1] and [0.2,0.5,.2,.2] respectively.**"
      ]
    },
    {
      "cell_type": "code",
      "metadata": {
        "id": "eSZs9c77vlDi"
      },
      "source": [
        "fig = plt.figure()\n",
        "\n",
        "ax1 = fig.add_axes([0,0,1,1])\n",
        "ax2 = fig.add_axes([0.2,0.5,0.2,0.2])"
      ],
      "execution_count": null,
      "outputs": []
    },
    {
      "cell_type": "markdown",
      "metadata": {
        "id": "KRJGYMSzvlDk"
      },
      "source": [
        "**Now plot (x,y) on both axes. And call your figure object to show it.**"
      ]
    },
    {
      "cell_type": "code",
      "metadata": {
        "id": "WOFA0zcSvlDl"
      },
      "source": [
        "ax1.plot(x,y)\n",
        "ax1.set_xlabel('x')\n",
        "ax1.set_ylabel('y')\n",
        "\n",
        "\n",
        "ax2.plot(x,y)\n",
        "ax2.set_xlabel('x')\n",
        "ax2.set_ylabel('y')\n",
        "\n",
        "fig # Show figure object"
      ],
      "execution_count": null,
      "outputs": []
    },
    {
      "cell_type": "markdown",
      "metadata": {
        "id": "jhlhqfzAvlDn"
      },
      "source": [
        "Question 3-\n",
        "\n",
        "**Create the plot below by adding two axes to a figure object at [0,0,1,1] and [0.2,0.5,.4,.4]**"
      ]
    },
    {
      "cell_type": "code",
      "metadata": {
        "id": "z0BiFIdivlDo"
      },
      "source": [
        "fig = plt.figure()\n",
        "\n",
        "ax = fig.add_axes([0,0,1,1])\n",
        "ax2 = fig.add_axes([0.2,0.5,.4,.4])"
      ],
      "execution_count": null,
      "outputs": []
    },
    {
      "cell_type": "markdown",
      "metadata": {
        "id": "7q4_z1dnvlDr"
      },
      "source": [
        "**Now use x,y, and z arrays to recreate the plot below. Observe the xlimits and y limits on the inserted plot:**"
      ]
    },
    {
      "cell_type": "code",
      "metadata": {
        "id": "c5D8v7cAvlDr"
      },
      "source": [
        "ax.plot(x,z)\n",
        "ax.set_xlabel('X')\n",
        "ax.set_ylabel('Z')\n",
        "\n",
        "\n",
        "ax2.plot(x,y)\n",
        "ax2.set_xlabel('X')\n",
        "ax2.set_ylabel('Y')\n",
        "ax2.set_title('zoom')\n",
        "ax2.set_xlim(20,22)\n",
        "ax2.set_ylim(30,50)\n",
        "\n",
        "fig"
      ],
      "execution_count": null,
      "outputs": []
    },
    {
      "cell_type": "markdown",
      "metadata": {
        "id": "8yEDFivVvlDt"
      },
      "source": [
        "Question 4-\n",
        "\n",
        "**Use plt.subplots(nrows=1, ncols=2) to create the plot below.**"
      ]
    },
    {
      "cell_type": "code",
      "metadata": {
        "id": "wUgK98BEvlDu"
      },
      "source": [
        "# Empty canvas of 1 by 2 subplots\n",
        "fig, axes = plt.subplots(nrows=1, ncols=2)"
      ],
      "execution_count": null,
      "outputs": []
    },
    {
      "cell_type": "markdown",
      "metadata": {
        "id": "2xUu4pREvlDx"
      },
      "source": [
        "**Now plot (x,y) and (x,z) on the axes. Play around with the linewidth and style**"
      ]
    },
    {
      "cell_type": "code",
      "metadata": {
        "id": "e6qk7soQvlDx"
      },
      "source": [
        "axes[0].plot(x,y,color=\"blue\", lw=3, ls='--')\n",
        "axes[1].plot(x,z,color=\"red\", lw=3, ls='-')\n",
        "fig"
      ],
      "execution_count": null,
      "outputs": []
    },
    {
      "cell_type": "markdown",
      "metadata": {
        "id": "_fu5ioLkvlD0"
      },
      "source": [
        "**See if you can resize the plot by adding the figsize() argument in plt.subplots() **"
      ]
    },
    {
      "cell_type": "code",
      "metadata": {
        "id": "-PIhOxBvvlD1"
      },
      "source": [
        "fig, axes = plt.subplots(nrows=1, ncols=2,figsize=(12,2))\n",
        "\n",
        "axes[0].plot(x,y,color=\"blue\", lw=5)\n",
        "axes[0].set_xlabel('x')\n",
        "axes[0].set_ylabel('y')\n",
        "\n",
        "axes[1].plot(x,z,color=\"red\", lw=3, ls='--')\n",
        "axes[1].set_xlabel('x')\n",
        "axes[1].set_ylabel('z')"
      ],
      "execution_count": null,
      "outputs": []
    }
  ]
}