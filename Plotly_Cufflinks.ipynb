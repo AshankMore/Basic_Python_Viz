{
  "nbformat": 4,
  "nbformat_minor": 0,
  "metadata": {
    "kernelspec": {
      "display_name": "Python 3",
      "language": "python",
      "name": "python3"
    },
    "language_info": {
      "codemirror_mode": {
        "name": "ipython",
        "version": 3
      },
      "file_extension": ".py",
      "mimetype": "text/x-python",
      "name": "python",
      "nbconvert_exporter": "python",
      "pygments_lexer": "ipython3",
      "version": "3.7.3"
    },
    "colab": {
      "name": "Plotly_Cufflinks.ipynb",
      "provenance": []
    }
  },
  "cells": [
    {
      "cell_type": "markdown",
      "metadata": {
        "id": "bYdj-QUbo0K6"
      },
      "source": [
        "\n",
        "___\n",
        "# Plotly and Cufflinks"
      ]
    },
    {
      "cell_type": "markdown",
      "metadata": {
        "id": "GHG9Pluao0K8"
      },
      "source": [
        "Plotly is a library that allows you to create interactive plots that you can use in dashboards or websites (you can save them as html files or static images).\n",
        "\n",
        "## Installation\n",
        "\n",
        "In order for this all to work, you'll need to install plotly and cufflinks to call plots directly off of a pandas dataframe. These libraries are not currently available through **conda** but are available through **pip**. Install the libraries at your command line/terminal using:\n",
        "\n",
        "    pip install plotly\n",
        "    pip install cufflinks\n",
        "\n",
        "** NOTE: Make sure you only have one installation of Python on your computer when you do this, otherwise the installation may not work. **\n",
        "\n",
        "## Imports and Set-up"
      ]
    },
    {
      "cell_type": "code",
      "metadata": {
        "id": "a28HkmYbo0K9"
      },
      "source": [
        "import pandas as pd\n",
        "import numpy as np\n",
        "%matplotlib inline"
      ],
      "execution_count": 1,
      "outputs": []
    },
    {
      "cell_type": "code",
      "metadata": {
        "colab": {
          "base_uri": "https://localhost:8080/"
        },
        "id": "9AdxCF2ao0K9",
        "outputId": "74b6a83e-660f-45be-95ee-25d8e095629c"
      },
      "source": [
        "from plotly import __version__\n",
        "from plotly.offline import download_plotlyjs, init_notebook_mode, plot, iplot\n",
        "\n",
        "print(__version__)"
      ],
      "execution_count": 2,
      "outputs": [
        {
          "output_type": "stream",
          "text": [
            "4.4.1\n"
          ],
          "name": "stdout"
        }
      ]
    },
    {
      "cell_type": "code",
      "metadata": {
        "id": "S7gPhaGMo0K-"
      },
      "source": [
        "import cufflinks as cf"
      ],
      "execution_count": 3,
      "outputs": []
    },
    {
      "cell_type": "code",
      "metadata": {
        "colab": {
          "base_uri": "https://localhost:8080/",
          "height": 17
        },
        "id": "j3VZcC5Ro0K-",
        "outputId": "e7717211-30ee-4d06-bc11-d894d3b1b93c"
      },
      "source": [
        "init_notebook_mode(connected = True)"
      ],
      "execution_count": 4,
      "outputs": [
        {
          "output_type": "display_data",
          "data": {
            "text/html": [
              "        <script type=\"text/javascript\">\n",
              "        window.PlotlyConfig = {MathJaxConfig: 'local'};\n",
              "        if (window.MathJax) {MathJax.Hub.Config({SVG: {font: \"STIX-Web\"}});}\n",
              "        if (typeof require !== 'undefined') {\n",
              "        require.undef(\"plotly\");\n",
              "        requirejs.config({\n",
              "            paths: {\n",
              "                'plotly': ['https://cdn.plot.ly/plotly-latest.min']\n",
              "            }\n",
              "        });\n",
              "        require(['plotly'], function(Plotly) {\n",
              "            window._Plotly = Plotly;\n",
              "        });\n",
              "        }\n",
              "        </script>\n",
              "        "
            ]
          },
          "metadata": {
            "tags": []
          }
        }
      ]
    },
    {
      "cell_type": "code",
      "metadata": {
        "colab": {
          "base_uri": "https://localhost:8080/",
          "height": 17
        },
        "id": "HiC5IVDQo0K-",
        "outputId": "cbe6319f-718e-4b9b-f8d0-352fef28dee0"
      },
      "source": [
        "cf.go_offline()"
      ],
      "execution_count": 5,
      "outputs": [
        {
          "output_type": "display_data",
          "data": {
            "text/html": [
              "        <script type=\"text/javascript\">\n",
              "        window.PlotlyConfig = {MathJaxConfig: 'local'};\n",
              "        if (window.MathJax) {MathJax.Hub.Config({SVG: {font: \"STIX-Web\"}});}\n",
              "        if (typeof require !== 'undefined') {\n",
              "        require.undef(\"plotly\");\n",
              "        requirejs.config({\n",
              "            paths: {\n",
              "                'plotly': ['https://cdn.plot.ly/plotly-latest.min']\n",
              "            }\n",
              "        });\n",
              "        require(['plotly'], function(Plotly) {\n",
              "            window._Plotly = Plotly;\n",
              "        });\n",
              "        }\n",
              "        </script>\n",
              "        "
            ]
          },
          "metadata": {
            "tags": []
          }
        }
      ]
    },
    {
      "cell_type": "markdown",
      "metadata": {
        "id": "nJfHKUMbo0K_"
      },
      "source": [
        "### Fake Data"
      ]
    },
    {
      "cell_type": "code",
      "metadata": {
        "id": "WZjci87Oo0K_"
      },
      "source": [
        "df = pd.DataFrame(np.random.randn(100,4), columns = 'A B C D'.split())"
      ],
      "execution_count": 6,
      "outputs": []
    },
    {
      "cell_type": "code",
      "metadata": {
        "colab": {
          "base_uri": "https://localhost:8080/",
          "height": 195
        },
        "id": "b5wMOrako0K_",
        "outputId": "c3052677-afdb-4c30-b72f-c5b72e543f7d"
      },
      "source": [
        "df.head()"
      ],
      "execution_count": 7,
      "outputs": [
        {
          "output_type": "execute_result",
          "data": {
            "text/html": [
              "<div>\n",
              "<style scoped>\n",
              "    .dataframe tbody tr th:only-of-type {\n",
              "        vertical-align: middle;\n",
              "    }\n",
              "\n",
              "    .dataframe tbody tr th {\n",
              "        vertical-align: top;\n",
              "    }\n",
              "\n",
              "    .dataframe thead th {\n",
              "        text-align: right;\n",
              "    }\n",
              "</style>\n",
              "<table border=\"1\" class=\"dataframe\">\n",
              "  <thead>\n",
              "    <tr style=\"text-align: right;\">\n",
              "      <th></th>\n",
              "      <th>A</th>\n",
              "      <th>B</th>\n",
              "      <th>C</th>\n",
              "      <th>D</th>\n",
              "    </tr>\n",
              "  </thead>\n",
              "  <tbody>\n",
              "    <tr>\n",
              "      <th>0</th>\n",
              "      <td>0.494493</td>\n",
              "      <td>-0.813676</td>\n",
              "      <td>-1.310690</td>\n",
              "      <td>-0.558653</td>\n",
              "    </tr>\n",
              "    <tr>\n",
              "      <th>1</th>\n",
              "      <td>0.034528</td>\n",
              "      <td>-0.054850</td>\n",
              "      <td>-1.001664</td>\n",
              "      <td>2.564838</td>\n",
              "    </tr>\n",
              "    <tr>\n",
              "      <th>2</th>\n",
              "      <td>-0.794622</td>\n",
              "      <td>-0.735432</td>\n",
              "      <td>-0.416421</td>\n",
              "      <td>1.334415</td>\n",
              "    </tr>\n",
              "    <tr>\n",
              "      <th>3</th>\n",
              "      <td>1.902825</td>\n",
              "      <td>0.224929</td>\n",
              "      <td>-1.755064</td>\n",
              "      <td>1.254355</td>\n",
              "    </tr>\n",
              "    <tr>\n",
              "      <th>4</th>\n",
              "      <td>0.006169</td>\n",
              "      <td>1.042792</td>\n",
              "      <td>-0.222678</td>\n",
              "      <td>0.163571</td>\n",
              "    </tr>\n",
              "  </tbody>\n",
              "</table>\n",
              "</div>"
            ],
            "text/plain": [
              "          A         B         C         D\n",
              "0  0.494493 -0.813676 -1.310690 -0.558653\n",
              "1  0.034528 -0.054850 -1.001664  2.564838\n",
              "2 -0.794622 -0.735432 -0.416421  1.334415\n",
              "3  1.902825  0.224929 -1.755064  1.254355\n",
              "4  0.006169  1.042792 -0.222678  0.163571"
            ]
          },
          "metadata": {
            "tags": []
          },
          "execution_count": 7
        }
      ]
    },
    {
      "cell_type": "code",
      "metadata": {
        "id": "hhNBaUEfo0LA"
      },
      "source": [
        "df2 = pd.DataFrame({'Category':['A','B','C'], 'Values':[32,43,50]})"
      ],
      "execution_count": 8,
      "outputs": []
    },
    {
      "cell_type": "code",
      "metadata": {
        "colab": {
          "base_uri": "https://localhost:8080/",
          "height": 136
        },
        "id": "tdKNIDkso0LA",
        "outputId": "1eb289b3-a100-48e9-dbdb-35b8f2590f23"
      },
      "source": [
        "df2.head()"
      ],
      "execution_count": 9,
      "outputs": [
        {
          "output_type": "execute_result",
          "data": {
            "text/html": [
              "<div>\n",
              "<style scoped>\n",
              "    .dataframe tbody tr th:only-of-type {\n",
              "        vertical-align: middle;\n",
              "    }\n",
              "\n",
              "    .dataframe tbody tr th {\n",
              "        vertical-align: top;\n",
              "    }\n",
              "\n",
              "    .dataframe thead th {\n",
              "        text-align: right;\n",
              "    }\n",
              "</style>\n",
              "<table border=\"1\" class=\"dataframe\">\n",
              "  <thead>\n",
              "    <tr style=\"text-align: right;\">\n",
              "      <th></th>\n",
              "      <th>Category</th>\n",
              "      <th>Values</th>\n",
              "    </tr>\n",
              "  </thead>\n",
              "  <tbody>\n",
              "    <tr>\n",
              "      <th>0</th>\n",
              "      <td>A</td>\n",
              "      <td>32</td>\n",
              "    </tr>\n",
              "    <tr>\n",
              "      <th>1</th>\n",
              "      <td>B</td>\n",
              "      <td>43</td>\n",
              "    </tr>\n",
              "    <tr>\n",
              "      <th>2</th>\n",
              "      <td>C</td>\n",
              "      <td>50</td>\n",
              "    </tr>\n",
              "  </tbody>\n",
              "</table>\n",
              "</div>"
            ],
            "text/plain": [
              "  Category  Values\n",
              "0        A      32\n",
              "1        B      43\n",
              "2        C      50"
            ]
          },
          "metadata": {
            "tags": []
          },
          "execution_count": 9
        }
      ]
    },
    {
      "cell_type": "markdown",
      "metadata": {
        "id": "dQENXE5Oo0LA"
      },
      "source": [
        "## Using Cufflinks and iplot()\n",
        "\n",
        "* scatter\n",
        "* bar\n",
        "* box\n",
        "* spread\n",
        "* ratio\n",
        "* heatmap\n",
        "* surface\n",
        "* histogram\n",
        "* bubble"
      ]
    },
    {
      "cell_type": "markdown",
      "metadata": {
        "id": "6Td4P5MXo0LA"
      },
      "source": [
        "## Scatter"
      ]
    },
    {
      "cell_type": "code",
      "metadata": {
        "colab": {
          "base_uri": "https://localhost:8080/",
          "height": 542
        },
        "id": "f1723zkHo0LA",
        "outputId": "5a8aef65-62bd-4268-a62c-41827e9ef041"
      },
      "source": [
        "df.iplot(kind = 'scatter', x = 'A', y = 'B', mode = 'markers', size = 10)"
      ],
      "execution_count": 25,
      "outputs": [
        {
          "output_type": "display_data",
          "data": {
            "text/html": [
              "<div>\n",
              "        \n",
              "        \n",
              "            <div id=\"84f7109b-dddf-463b-9aff-585330a8476e\" class=\"plotly-graph-div\" style=\"height:525px; width:100%;\"></div>\n",
              "            <script type=\"text/javascript\">\n",
              "                require([\"plotly\"], function(Plotly) {\n",
              "                    window.PLOTLYENV=window.PLOTLYENV || {};\n",
              "                    window.PLOTLYENV.BASE_URL='https://plot.ly';\n",
              "                    \n",
              "                if (document.getElementById(\"84f7109b-dddf-463b-9aff-585330a8476e\")) {\n",
              "                    Plotly.newPlot(\n",
              "                        '84f7109b-dddf-463b-9aff-585330a8476e',\n",
              "                        [{\"line\": {\"color\": \"rgba(255, 153, 51, 1.0)\", \"dash\": \"solid\", \"shape\": \"linear\", \"width\": 1.3}, \"marker\": {\"size\": 10, \"symbol\": \"circle\"}, \"mode\": \"markers\", \"name\": \"B\", \"text\": \"\", \"type\": \"scatter\", \"x\": [0.49449272530329047, 0.034528001350900256, -0.7946215341312589, 1.9028248305238074, 0.006168500487285368, -0.646904665314446, 0.48255753274079133, -0.7343086288457172, -0.34794321781969817, 1.9142109663219973, 1.9009810730582737, 0.60851843055985, 0.7118296524467419, -1.146016055014683, -0.18326960130776676, -0.12060848620152653, 0.6279615151556829, 2.3972492782457357, 0.25352786848048336, 0.30340667749886713, 1.911779639274964, -0.41634320669644, 0.06774707796135956, -0.6969960897231474, -1.1926002276894017, -0.9052079661067426, 1.1360267449714567, -0.8071906369875103, 1.5973964698699552, 0.8548629282365606, 0.00805549333156661, -0.1875107634509211, 1.860888082553138, 0.4491610317689726, -1.1065729004552944, -1.210253649996616, -1.3861184880132484, -0.37859662107129394, 0.6744767804346525, -1.0787036830472339, 0.09231075314670419, -0.11910687458279542, -0.00932143515294092, 0.8237425395388134, -1.2245368744825151, 0.765472350926838, 1.488814705875263, 0.6332138353148433, 0.017800676144336905, -0.10641501029678054, -0.2561215983248197, -0.16090710308918565, -0.5629484054684389, 0.24499515509043016, -1.0250294042886583, -0.23433780993918485, -0.6235825081087522, -1.0040664888392414, 0.4412264639634368, -0.13897635859556548, 0.4909861903980702, 1.6283087805480077, -0.8157090997355115, 0.2591105079595253, 1.8061640134274737, -0.26243055062034426, -1.2041654634413208, 0.08228734517166987, 0.24626482502167044, 0.08211455780515052, 1.2051798170386212, -1.1799496193151544, -0.526486513684934, -0.25981063949919314, 0.3662313414855823, -0.6529890732166655, 1.5678515870250003, 0.05769126472384962, -1.2569152310660323, -0.6859973308376616, -1.8511519876772007, -0.9653073216056013, 1.112894317654417, 0.3907391182199121, -0.63850397282398, -0.8403492596202459, 0.48223732635132477, -0.2934179114575572, -0.12704325980510536, 0.36727881765268805, 1.9638666113011793, -1.1639993715176382, 1.4742499705754153, -1.3170710454264, 2.061406034108948, 1.0390809142847595, -0.35994721777590705, 0.5822715275002863, 0.5780547144122881, -0.7910318664440708], \"y\": [-0.8136759797552139, -0.05485004777981325, -0.7354321015336972, 0.2249286743408787, 1.042791519448513, -0.18273615906352095, -0.06692170724897374, 1.607177305910856, -0.1793710017199522, -0.018194588543706005, 0.12316141153047848, 0.3680399156648711, -0.5974356495058103, -0.09832813929968391, 0.32320235378837736, -0.30785533668697723, 1.5758386876787536, 1.5225267490392824, 0.6163565107520003, -0.016783669433683018, 0.3826115635049692, -0.26777625398632077, -1.635750655467563, 0.3406422253573746, -0.787959156960995, 0.3645487271885021, -0.35577341396159645, 0.6490752613997947, -0.8130874975316237, 0.47861025390015216, -1.4102850439880745, 0.6389802293177309, -1.080070246304188, 0.014505110937698303, 0.5335163451855318, -0.020432045686978578, -0.32132438112819084, -1.641500057485398, 0.5990451502361493, -0.724953471543375, 0.8536130491768231, -0.2910271148862159, -0.9111452886490694, -0.720343772877038, 0.7823487918924391, -0.8568066719129985, -0.46363014921539397, -0.34993197525826414, 1.3838867053010142, -0.1298659550706131, -3.007146529953769, -0.4371479134339112, -1.4987649242344048, -0.05594828278616842, -2.458347801850056, 0.6697959465864352, 2.638600323779429, -1.4334736453973018, -1.7527544091674543, -2.55126788260544, 0.43919616105371667, -0.5396909605551713, 0.5871878208303853, -1.772939745598578, -0.602616598198998, -1.1016540891023183, -0.9630877137017885, 1.1248381048177714, 0.2748240387380922, 0.4358776515904015, 0.7685860891350906, -0.004574417545520153, 2.14357981609164, -1.8892338070965509, -0.6699330789034134, -0.4015884234543682, -0.7132818644409759, 0.2326994556677902, 0.8536679521702573, -1.2832262558150698, 0.5823721324294828, -0.5481622827200686, 1.4767962539420714, -0.05182969341053261, -1.64242794344349, 1.3758526793671009, -0.06464799276267091, -0.0038963779145905196, 0.6762561054044929, -0.7969326503180237, 0.9207974519783559, 1.0861925805067818, -2.1934441364003576, -0.5292897576555309, 1.1117441137860085, -0.13524443733734617, -0.32520926724879606, -0.11781438669767867, -0.06603583569490025, -0.9416595928090823]}],\n",
              "                        {\"legend\": {\"bgcolor\": \"#F5F6F9\", \"font\": {\"color\": \"#4D5663\"}}, \"paper_bgcolor\": \"#F5F6F9\", \"plot_bgcolor\": \"#F5F6F9\", \"template\": {\"data\": {\"bar\": [{\"error_x\": {\"color\": \"#2a3f5f\"}, \"error_y\": {\"color\": \"#2a3f5f\"}, \"marker\": {\"line\": {\"color\": \"#E5ECF6\", \"width\": 0.5}}, \"type\": \"bar\"}], \"barpolar\": [{\"marker\": {\"line\": {\"color\": \"#E5ECF6\", \"width\": 0.5}}, \"type\": \"barpolar\"}], \"carpet\": [{\"aaxis\": {\"endlinecolor\": \"#2a3f5f\", \"gridcolor\": \"white\", \"linecolor\": \"white\", \"minorgridcolor\": \"white\", \"startlinecolor\": \"#2a3f5f\"}, \"baxis\": {\"endlinecolor\": \"#2a3f5f\", \"gridcolor\": \"white\", \"linecolor\": \"white\", \"minorgridcolor\": \"white\", \"startlinecolor\": \"#2a3f5f\"}, \"type\": \"carpet\"}], \"choropleth\": [{\"colorbar\": {\"outlinewidth\": 0, \"ticks\": \"\"}, \"type\": \"choropleth\"}], \"contour\": [{\"colorbar\": {\"outlinewidth\": 0, \"ticks\": \"\"}, \"colorscale\": [[0.0, \"#0d0887\"], [0.1111111111111111, \"#46039f\"], [0.2222222222222222, \"#7201a8\"], [0.3333333333333333, \"#9c179e\"], [0.4444444444444444, \"#bd3786\"], [0.5555555555555556, \"#d8576b\"], [0.6666666666666666, \"#ed7953\"], [0.7777777777777778, \"#fb9f3a\"], [0.8888888888888888, \"#fdca26\"], [1.0, \"#f0f921\"]], \"type\": \"contour\"}], \"contourcarpet\": [{\"colorbar\": {\"outlinewidth\": 0, \"ticks\": \"\"}, \"type\": \"contourcarpet\"}], \"heatmap\": [{\"colorbar\": {\"outlinewidth\": 0, \"ticks\": \"\"}, \"colorscale\": [[0.0, \"#0d0887\"], [0.1111111111111111, \"#46039f\"], [0.2222222222222222, \"#7201a8\"], [0.3333333333333333, \"#9c179e\"], [0.4444444444444444, \"#bd3786\"], [0.5555555555555556, \"#d8576b\"], [0.6666666666666666, \"#ed7953\"], [0.7777777777777778, \"#fb9f3a\"], [0.8888888888888888, \"#fdca26\"], [1.0, \"#f0f921\"]], \"type\": \"heatmap\"}], \"heatmapgl\": [{\"colorbar\": {\"outlinewidth\": 0, \"ticks\": \"\"}, \"colorscale\": [[0.0, \"#0d0887\"], [0.1111111111111111, \"#46039f\"], [0.2222222222222222, \"#7201a8\"], [0.3333333333333333, \"#9c179e\"], [0.4444444444444444, \"#bd3786\"], [0.5555555555555556, \"#d8576b\"], [0.6666666666666666, \"#ed7953\"], [0.7777777777777778, \"#fb9f3a\"], [0.8888888888888888, \"#fdca26\"], [1.0, \"#f0f921\"]], \"type\": \"heatmapgl\"}], \"histogram\": [{\"marker\": {\"colorbar\": {\"outlinewidth\": 0, \"ticks\": \"\"}}, \"type\": \"histogram\"}], \"histogram2d\": [{\"colorbar\": {\"outlinewidth\": 0, \"ticks\": \"\"}, \"colorscale\": [[0.0, \"#0d0887\"], [0.1111111111111111, \"#46039f\"], [0.2222222222222222, \"#7201a8\"], [0.3333333333333333, \"#9c179e\"], [0.4444444444444444, \"#bd3786\"], [0.5555555555555556, \"#d8576b\"], [0.6666666666666666, \"#ed7953\"], [0.7777777777777778, \"#fb9f3a\"], [0.8888888888888888, \"#fdca26\"], [1.0, \"#f0f921\"]], \"type\": \"histogram2d\"}], \"histogram2dcontour\": [{\"colorbar\": {\"outlinewidth\": 0, \"ticks\": \"\"}, \"colorscale\": [[0.0, \"#0d0887\"], [0.1111111111111111, \"#46039f\"], [0.2222222222222222, \"#7201a8\"], [0.3333333333333333, \"#9c179e\"], [0.4444444444444444, \"#bd3786\"], [0.5555555555555556, \"#d8576b\"], [0.6666666666666666, \"#ed7953\"], [0.7777777777777778, \"#fb9f3a\"], [0.8888888888888888, \"#fdca26\"], [1.0, \"#f0f921\"]], \"type\": \"histogram2dcontour\"}], \"mesh3d\": [{\"colorbar\": {\"outlinewidth\": 0, \"ticks\": \"\"}, \"type\": \"mesh3d\"}], \"parcoords\": [{\"line\": {\"colorbar\": {\"outlinewidth\": 0, \"ticks\": \"\"}}, \"type\": \"parcoords\"}], \"pie\": [{\"automargin\": true, \"type\": \"pie\"}], \"scatter\": [{\"marker\": {\"colorbar\": {\"outlinewidth\": 0, \"ticks\": \"\"}}, \"type\": \"scatter\"}], \"scatter3d\": [{\"line\": {\"colorbar\": {\"outlinewidth\": 0, \"ticks\": \"\"}}, \"marker\": {\"colorbar\": {\"outlinewidth\": 0, \"ticks\": \"\"}}, \"type\": \"scatter3d\"}], \"scattercarpet\": [{\"marker\": {\"colorbar\": {\"outlinewidth\": 0, \"ticks\": \"\"}}, \"type\": \"scattercarpet\"}], \"scattergeo\": [{\"marker\": {\"colorbar\": {\"outlinewidth\": 0, \"ticks\": \"\"}}, \"type\": \"scattergeo\"}], \"scattergl\": [{\"marker\": {\"colorbar\": {\"outlinewidth\": 0, \"ticks\": \"\"}}, \"type\": \"scattergl\"}], \"scattermapbox\": [{\"marker\": {\"colorbar\": {\"outlinewidth\": 0, \"ticks\": \"\"}}, \"type\": \"scattermapbox\"}], \"scatterpolar\": [{\"marker\": {\"colorbar\": {\"outlinewidth\": 0, \"ticks\": \"\"}}, \"type\": \"scatterpolar\"}], \"scatterpolargl\": [{\"marker\": {\"colorbar\": {\"outlinewidth\": 0, \"ticks\": \"\"}}, \"type\": \"scatterpolargl\"}], \"scatterternary\": [{\"marker\": {\"colorbar\": {\"outlinewidth\": 0, \"ticks\": \"\"}}, \"type\": \"scatterternary\"}], \"surface\": [{\"colorbar\": {\"outlinewidth\": 0, \"ticks\": \"\"}, \"colorscale\": [[0.0, \"#0d0887\"], [0.1111111111111111, \"#46039f\"], [0.2222222222222222, \"#7201a8\"], [0.3333333333333333, \"#9c179e\"], [0.4444444444444444, \"#bd3786\"], [0.5555555555555556, \"#d8576b\"], [0.6666666666666666, \"#ed7953\"], [0.7777777777777778, \"#fb9f3a\"], [0.8888888888888888, \"#fdca26\"], [1.0, \"#f0f921\"]], \"type\": \"surface\"}], \"table\": [{\"cells\": {\"fill\": {\"color\": \"#EBF0F8\"}, \"line\": {\"color\": \"white\"}}, \"header\": {\"fill\": {\"color\": \"#C8D4E3\"}, \"line\": {\"color\": \"white\"}}, \"type\": \"table\"}]}, \"layout\": {\"annotationdefaults\": {\"arrowcolor\": \"#2a3f5f\", \"arrowhead\": 0, \"arrowwidth\": 1}, \"coloraxis\": {\"colorbar\": {\"outlinewidth\": 0, \"ticks\": \"\"}}, \"colorscale\": {\"diverging\": [[0, \"#8e0152\"], [0.1, \"#c51b7d\"], [0.2, \"#de77ae\"], [0.3, \"#f1b6da\"], [0.4, \"#fde0ef\"], [0.5, \"#f7f7f7\"], [0.6, \"#e6f5d0\"], [0.7, \"#b8e186\"], [0.8, \"#7fbc41\"], [0.9, \"#4d9221\"], [1, \"#276419\"]], \"sequential\": [[0.0, \"#0d0887\"], [0.1111111111111111, \"#46039f\"], [0.2222222222222222, \"#7201a8\"], [0.3333333333333333, \"#9c179e\"], [0.4444444444444444, \"#bd3786\"], [0.5555555555555556, \"#d8576b\"], [0.6666666666666666, \"#ed7953\"], [0.7777777777777778, \"#fb9f3a\"], [0.8888888888888888, \"#fdca26\"], [1.0, \"#f0f921\"]], \"sequentialminus\": [[0.0, \"#0d0887\"], [0.1111111111111111, \"#46039f\"], [0.2222222222222222, \"#7201a8\"], [0.3333333333333333, \"#9c179e\"], [0.4444444444444444, \"#bd3786\"], [0.5555555555555556, \"#d8576b\"], [0.6666666666666666, \"#ed7953\"], [0.7777777777777778, \"#fb9f3a\"], [0.8888888888888888, \"#fdca26\"], [1.0, \"#f0f921\"]]}, \"colorway\": [\"#636efa\", \"#EF553B\", \"#00cc96\", \"#ab63fa\", \"#FFA15A\", \"#19d3f3\", \"#FF6692\", \"#B6E880\", \"#FF97FF\", \"#FECB52\"], \"font\": {\"color\": \"#2a3f5f\"}, \"geo\": {\"bgcolor\": \"white\", \"lakecolor\": \"white\", \"landcolor\": \"#E5ECF6\", \"showlakes\": true, \"showland\": true, \"subunitcolor\": \"white\"}, \"hoverlabel\": {\"align\": \"left\"}, \"hovermode\": \"closest\", \"mapbox\": {\"style\": \"light\"}, \"paper_bgcolor\": \"white\", \"plot_bgcolor\": \"#E5ECF6\", \"polar\": {\"angularaxis\": {\"gridcolor\": \"white\", \"linecolor\": \"white\", \"ticks\": \"\"}, \"bgcolor\": \"#E5ECF6\", \"radialaxis\": {\"gridcolor\": \"white\", \"linecolor\": \"white\", \"ticks\": \"\"}}, \"scene\": {\"xaxis\": {\"backgroundcolor\": \"#E5ECF6\", \"gridcolor\": \"white\", \"gridwidth\": 2, \"linecolor\": \"white\", \"showbackground\": true, \"ticks\": \"\", \"zerolinecolor\": \"white\"}, \"yaxis\": {\"backgroundcolor\": \"#E5ECF6\", \"gridcolor\": \"white\", \"gridwidth\": 2, \"linecolor\": \"white\", \"showbackground\": true, \"ticks\": \"\", \"zerolinecolor\": \"white\"}, \"zaxis\": {\"backgroundcolor\": \"#E5ECF6\", \"gridcolor\": \"white\", \"gridwidth\": 2, \"linecolor\": \"white\", \"showbackground\": true, \"ticks\": \"\", \"zerolinecolor\": \"white\"}}, \"shapedefaults\": {\"line\": {\"color\": \"#2a3f5f\"}}, \"ternary\": {\"aaxis\": {\"gridcolor\": \"white\", \"linecolor\": \"white\", \"ticks\": \"\"}, \"baxis\": {\"gridcolor\": \"white\", \"linecolor\": \"white\", \"ticks\": \"\"}, \"bgcolor\": \"#E5ECF6\", \"caxis\": {\"gridcolor\": \"white\", \"linecolor\": \"white\", \"ticks\": \"\"}}, \"title\": {\"x\": 0.05}, \"xaxis\": {\"automargin\": true, \"gridcolor\": \"white\", \"linecolor\": \"white\", \"ticks\": \"\", \"title\": {\"standoff\": 15}, \"zerolinecolor\": \"white\", \"zerolinewidth\": 2}, \"yaxis\": {\"automargin\": true, \"gridcolor\": \"white\", \"linecolor\": \"white\", \"ticks\": \"\", \"title\": {\"standoff\": 15}, \"zerolinecolor\": \"white\", \"zerolinewidth\": 2}}}, \"title\": {\"font\": {\"color\": \"#4D5663\"}}, \"xaxis\": {\"gridcolor\": \"#E1E5ED\", \"showgrid\": true, \"tickfont\": {\"color\": \"#4D5663\"}, \"title\": {\"font\": {\"color\": \"#4D5663\"}, \"text\": \"\"}, \"zerolinecolor\": \"#E1E5ED\"}, \"yaxis\": {\"gridcolor\": \"#E1E5ED\", \"showgrid\": true, \"tickfont\": {\"color\": \"#4D5663\"}, \"title\": {\"font\": {\"color\": \"#4D5663\"}, \"text\": \"\"}, \"zerolinecolor\": \"#E1E5ED\"}},\n",
              "                        {\"showLink\": true, \"linkText\": \"Export to plot.ly\", \"plotlyServerURL\": \"https://plot.ly\", \"responsive\": true}\n",
              "                    ).then(function(){\n",
              "                            \n",
              "var gd = document.getElementById('84f7109b-dddf-463b-9aff-585330a8476e');\n",
              "var x = new MutationObserver(function (mutations, observer) {{\n",
              "        var display = window.getComputedStyle(gd).display;\n",
              "        if (!display || display === 'none') {{\n",
              "            console.log([gd, 'removed!']);\n",
              "            Plotly.purge(gd);\n",
              "            observer.disconnect();\n",
              "        }}\n",
              "}});\n",
              "\n",
              "// Listen for the removal of the full notebook cells\n",
              "var notebookContainer = gd.closest('#notebook-container');\n",
              "if (notebookContainer) {{\n",
              "    x.observe(notebookContainer, {childList: true});\n",
              "}}\n",
              "\n",
              "// Listen for the clearing of the current output cell\n",
              "var outputEl = gd.closest('.output');\n",
              "if (outputEl) {{\n",
              "    x.observe(outputEl, {childList: true});\n",
              "}}\n",
              "\n",
              "                        })\n",
              "                };\n",
              "                });\n",
              "            </script>\n",
              "        </div>"
            ],
            "application/vnd.plotly.v1+json": {
              "data": [
                {
                  "name": "B",
                  "text": "",
                  "y": [
                    -0.8136759797552139,
                    -0.05485004777981325,
                    -0.7354321015336972,
                    0.2249286743408787,
                    1.042791519448513,
                    -0.18273615906352095,
                    -0.06692170724897374,
                    1.607177305910856,
                    -0.1793710017199522,
                    -0.018194588543706005,
                    0.12316141153047848,
                    0.3680399156648711,
                    -0.5974356495058103,
                    -0.09832813929968391,
                    0.32320235378837736,
                    -0.30785533668697723,
                    1.5758386876787536,
                    1.5225267490392824,
                    0.6163565107520003,
                    -0.016783669433683018,
                    0.3826115635049692,
                    -0.26777625398632077,
                    -1.635750655467563,
                    0.3406422253573746,
                    -0.787959156960995,
                    0.3645487271885021,
                    -0.35577341396159645,
                    0.6490752613997947,
                    -0.8130874975316237,
                    0.47861025390015216,
                    -1.4102850439880745,
                    0.6389802293177309,
                    -1.080070246304188,
                    0.014505110937698303,
                    0.5335163451855318,
                    -0.020432045686978578,
                    -0.32132438112819084,
                    -1.641500057485398,
                    0.5990451502361493,
                    -0.724953471543375,
                    0.8536130491768231,
                    -0.2910271148862159,
                    -0.9111452886490694,
                    -0.720343772877038,
                    0.7823487918924391,
                    -0.8568066719129985,
                    -0.46363014921539397,
                    -0.34993197525826414,
                    1.3838867053010142,
                    -0.1298659550706131,
                    -3.007146529953769,
                    -0.4371479134339112,
                    -1.4987649242344048,
                    -0.05594828278616842,
                    -2.458347801850056,
                    0.6697959465864352,
                    2.638600323779429,
                    -1.4334736453973018,
                    -1.7527544091674543,
                    -2.55126788260544,
                    0.43919616105371667,
                    -0.5396909605551713,
                    0.5871878208303853,
                    -1.772939745598578,
                    -0.602616598198998,
                    -1.1016540891023183,
                    -0.9630877137017885,
                    1.1248381048177714,
                    0.2748240387380922,
                    0.4358776515904015,
                    0.7685860891350906,
                    -0.004574417545520153,
                    2.14357981609164,
                    -1.8892338070965509,
                    -0.6699330789034134,
                    -0.4015884234543682,
                    -0.7132818644409759,
                    0.2326994556677902,
                    0.8536679521702573,
                    -1.2832262558150698,
                    0.5823721324294828,
                    -0.5481622827200686,
                    1.4767962539420714,
                    -0.05182969341053261,
                    -1.64242794344349,
                    1.3758526793671009,
                    -0.06464799276267091,
                    -0.0038963779145905196,
                    0.6762561054044929,
                    -0.7969326503180237,
                    0.9207974519783559,
                    1.0861925805067818,
                    -2.1934441364003576,
                    -0.5292897576555309,
                    1.1117441137860085,
                    -0.13524443733734617,
                    -0.32520926724879606,
                    -0.11781438669767867,
                    -0.06603583569490025,
                    -0.9416595928090823
                  ],
                  "mode": "markers",
                  "marker": {
                    "symbol": "circle",
                    "size": 10
                  },
                  "x": [
                    0.49449272530329047,
                    0.034528001350900256,
                    -0.7946215341312589,
                    1.9028248305238074,
                    0.006168500487285368,
                    -0.646904665314446,
                    0.48255753274079133,
                    -0.7343086288457172,
                    -0.34794321781969817,
                    1.9142109663219973,
                    1.9009810730582737,
                    0.60851843055985,
                    0.7118296524467419,
                    -1.146016055014683,
                    -0.18326960130776676,
                    -0.12060848620152653,
                    0.6279615151556829,
                    2.3972492782457357,
                    0.25352786848048336,
                    0.30340667749886713,
                    1.911779639274964,
                    -0.41634320669644,
                    0.06774707796135956,
                    -0.6969960897231474,
                    -1.1926002276894017,
                    -0.9052079661067426,
                    1.1360267449714567,
                    -0.8071906369875103,
                    1.5973964698699552,
                    0.8548629282365606,
                    0.00805549333156661,
                    -0.1875107634509211,
                    1.860888082553138,
                    0.4491610317689726,
                    -1.1065729004552944,
                    -1.210253649996616,
                    -1.3861184880132484,
                    -0.37859662107129394,
                    0.6744767804346525,
                    -1.0787036830472339,
                    0.09231075314670419,
                    -0.11910687458279542,
                    -0.00932143515294092,
                    0.8237425395388134,
                    -1.2245368744825151,
                    0.765472350926838,
                    1.488814705875263,
                    0.6332138353148433,
                    0.017800676144336905,
                    -0.10641501029678054,
                    -0.2561215983248197,
                    -0.16090710308918565,
                    -0.5629484054684389,
                    0.24499515509043016,
                    -1.0250294042886583,
                    -0.23433780993918485,
                    -0.6235825081087522,
                    -1.0040664888392414,
                    0.4412264639634368,
                    -0.13897635859556548,
                    0.4909861903980702,
                    1.6283087805480077,
                    -0.8157090997355115,
                    0.2591105079595253,
                    1.8061640134274737,
                    -0.26243055062034426,
                    -1.2041654634413208,
                    0.08228734517166987,
                    0.24626482502167044,
                    0.08211455780515052,
                    1.2051798170386212,
                    -1.1799496193151544,
                    -0.526486513684934,
                    -0.25981063949919314,
                    0.3662313414855823,
                    -0.6529890732166655,
                    1.5678515870250003,
                    0.05769126472384962,
                    -1.2569152310660323,
                    -0.6859973308376616,
                    -1.8511519876772007,
                    -0.9653073216056013,
                    1.112894317654417,
                    0.3907391182199121,
                    -0.63850397282398,
                    -0.8403492596202459,
                    0.48223732635132477,
                    -0.2934179114575572,
                    -0.12704325980510536,
                    0.36727881765268805,
                    1.9638666113011793,
                    -1.1639993715176382,
                    1.4742499705754153,
                    -1.3170710454264,
                    2.061406034108948,
                    1.0390809142847595,
                    -0.35994721777590705,
                    0.5822715275002863,
                    0.5780547144122881,
                    -0.7910318664440708
                  ],
                  "line": {
                    "color": "rgba(255, 153, 51, 1.0)",
                    "dash": "solid",
                    "shape": "linear",
                    "width": 1.3
                  },
                  "type": "scatter"
                }
              ],
              "config": {
                "plotlyServerURL": "https://plot.ly",
                "linkText": "Export to plot.ly",
                "showLink": true
              },
              "layout": {
                "template": {
                  "layout": {
                    "shapedefaults": {
                      "line": {
                        "color": "#2a3f5f"
                      }
                    },
                    "polar": {
                      "radialaxis": {
                        "ticks": "",
                        "gridcolor": "white",
                        "linecolor": "white"
                      },
                      "bgcolor": "#E5ECF6",
                      "angularaxis": {
                        "ticks": "",
                        "gridcolor": "white",
                        "linecolor": "white"
                      }
                    },
                    "colorway": [
                      "#636efa",
                      "#EF553B",
                      "#00cc96",
                      "#ab63fa",
                      "#FFA15A",
                      "#19d3f3",
                      "#FF6692",
                      "#B6E880",
                      "#FF97FF",
                      "#FECB52"
                    ],
                    "xaxis": {
                      "automargin": true,
                      "title": {
                        "standoff": 15
                      },
                      "zerolinewidth": 2,
                      "ticks": "",
                      "zerolinecolor": "white",
                      "gridcolor": "white",
                      "linecolor": "white"
                    },
                    "colorscale": {
                      "diverging": [
                        [
                          0,
                          "#8e0152"
                        ],
                        [
                          0.1,
                          "#c51b7d"
                        ],
                        [
                          0.2,
                          "#de77ae"
                        ],
                        [
                          0.3,
                          "#f1b6da"
                        ],
                        [
                          0.4,
                          "#fde0ef"
                        ],
                        [
                          0.5,
                          "#f7f7f7"
                        ],
                        [
                          0.6,
                          "#e6f5d0"
                        ],
                        [
                          0.7,
                          "#b8e186"
                        ],
                        [
                          0.8,
                          "#7fbc41"
                        ],
                        [
                          0.9,
                          "#4d9221"
                        ],
                        [
                          1,
                          "#276419"
                        ]
                      ],
                      "sequential": [
                        [
                          0,
                          "#0d0887"
                        ],
                        [
                          0.1111111111111111,
                          "#46039f"
                        ],
                        [
                          0.2222222222222222,
                          "#7201a8"
                        ],
                        [
                          0.3333333333333333,
                          "#9c179e"
                        ],
                        [
                          0.4444444444444444,
                          "#bd3786"
                        ],
                        [
                          0.5555555555555556,
                          "#d8576b"
                        ],
                        [
                          0.6666666666666666,
                          "#ed7953"
                        ],
                        [
                          0.7777777777777778,
                          "#fb9f3a"
                        ],
                        [
                          0.8888888888888888,
                          "#fdca26"
                        ],
                        [
                          1,
                          "#f0f921"
                        ]
                      ],
                      "sequentialminus": [
                        [
                          0,
                          "#0d0887"
                        ],
                        [
                          0.1111111111111111,
                          "#46039f"
                        ],
                        [
                          0.2222222222222222,
                          "#7201a8"
                        ],
                        [
                          0.3333333333333333,
                          "#9c179e"
                        ],
                        [
                          0.4444444444444444,
                          "#bd3786"
                        ],
                        [
                          0.5555555555555556,
                          "#d8576b"
                        ],
                        [
                          0.6666666666666666,
                          "#ed7953"
                        ],
                        [
                          0.7777777777777778,
                          "#fb9f3a"
                        ],
                        [
                          0.8888888888888888,
                          "#fdca26"
                        ],
                        [
                          1,
                          "#f0f921"
                        ]
                      ]
                    },
                    "paper_bgcolor": "white",
                    "plot_bgcolor": "#E5ECF6",
                    "title": {
                      "x": 0.05
                    },
                    "scene": {
                      "zaxis": {
                        "backgroundcolor": "#E5ECF6",
                        "ticks": "",
                        "gridwidth": 2,
                        "showbackground": true,
                        "zerolinecolor": "white",
                        "gridcolor": "white",
                        "linecolor": "white"
                      },
                      "xaxis": {
                        "backgroundcolor": "#E5ECF6",
                        "ticks": "",
                        "gridwidth": 2,
                        "showbackground": true,
                        "zerolinecolor": "white",
                        "gridcolor": "white",
                        "linecolor": "white"
                      },
                      "yaxis": {
                        "backgroundcolor": "#E5ECF6",
                        "ticks": "",
                        "gridwidth": 2,
                        "showbackground": true,
                        "zerolinecolor": "white",
                        "gridcolor": "white",
                        "linecolor": "white"
                      }
                    },
                    "yaxis": {
                      "automargin": true,
                      "title": {
                        "standoff": 15
                      },
                      "zerolinewidth": 2,
                      "ticks": "",
                      "zerolinecolor": "white",
                      "gridcolor": "white",
                      "linecolor": "white"
                    },
                    "annotationdefaults": {
                      "arrowwidth": 1,
                      "arrowhead": 0,
                      "arrowcolor": "#2a3f5f"
                    },
                    "hoverlabel": {
                      "align": "left"
                    },
                    "ternary": {
                      "bgcolor": "#E5ECF6",
                      "baxis": {
                        "ticks": "",
                        "gridcolor": "white",
                        "linecolor": "white"
                      },
                      "caxis": {
                        "ticks": "",
                        "gridcolor": "white",
                        "linecolor": "white"
                      },
                      "aaxis": {
                        "ticks": "",
                        "gridcolor": "white",
                        "linecolor": "white"
                      }
                    },
                    "mapbox": {
                      "style": "light"
                    },
                    "hovermode": "closest",
                    "font": {
                      "color": "#2a3f5f"
                    },
                    "geo": {
                      "showland": true,
                      "landcolor": "#E5ECF6",
                      "showlakes": true,
                      "bgcolor": "white",
                      "subunitcolor": "white",
                      "lakecolor": "white"
                    },
                    "coloraxis": {
                      "colorbar": {
                        "outlinewidth": 0,
                        "ticks": ""
                      }
                    }
                  },
                  "data": {
                    "mesh3d": [
                      {
                        "colorbar": {
                          "outlinewidth": 0,
                          "ticks": ""
                        },
                        "type": "mesh3d"
                      }
                    ],
                    "scattercarpet": [
                      {
                        "marker": {
                          "colorbar": {
                            "outlinewidth": 0,
                            "ticks": ""
                          }
                        },
                        "type": "scattercarpet"
                      }
                    ],
                    "pie": [
                      {
                        "automargin": true,
                        "type": "pie"
                      }
                    ],
                    "surface": [
                      {
                        "colorbar": {
                          "outlinewidth": 0,
                          "ticks": ""
                        },
                        "type": "surface",
                        "colorscale": [
                          [
                            0,
                            "#0d0887"
                          ],
                          [
                            0.1111111111111111,
                            "#46039f"
                          ],
                          [
                            0.2222222222222222,
                            "#7201a8"
                          ],
                          [
                            0.3333333333333333,
                            "#9c179e"
                          ],
                          [
                            0.4444444444444444,
                            "#bd3786"
                          ],
                          [
                            0.5555555555555556,
                            "#d8576b"
                          ],
                          [
                            0.6666666666666666,
                            "#ed7953"
                          ],
                          [
                            0.7777777777777778,
                            "#fb9f3a"
                          ],
                          [
                            0.8888888888888888,
                            "#fdca26"
                          ],
                          [
                            1,
                            "#f0f921"
                          ]
                        ]
                      }
                    ],
                    "table": [
                      {
                        "header": {
                          "line": {
                            "color": "white"
                          },
                          "fill": {
                            "color": "#C8D4E3"
                          }
                        },
                        "cells": {
                          "line": {
                            "color": "white"
                          },
                          "fill": {
                            "color": "#EBF0F8"
                          }
                        },
                        "type": "table"
                      }
                    ],
                    "scatterpolargl": [
                      {
                        "marker": {
                          "colorbar": {
                            "outlinewidth": 0,
                            "ticks": ""
                          }
                        },
                        "type": "scatterpolargl"
                      }
                    ],
                    "contour": [
                      {
                        "colorbar": {
                          "outlinewidth": 0,
                          "ticks": ""
                        },
                        "type": "contour",
                        "colorscale": [
                          [
                            0,
                            "#0d0887"
                          ],
                          [
                            0.1111111111111111,
                            "#46039f"
                          ],
                          [
                            0.2222222222222222,
                            "#7201a8"
                          ],
                          [
                            0.3333333333333333,
                            "#9c179e"
                          ],
                          [
                            0.4444444444444444,
                            "#bd3786"
                          ],
                          [
                            0.5555555555555556,
                            "#d8576b"
                          ],
                          [
                            0.6666666666666666,
                            "#ed7953"
                          ],
                          [
                            0.7777777777777778,
                            "#fb9f3a"
                          ],
                          [
                            0.8888888888888888,
                            "#fdca26"
                          ],
                          [
                            1,
                            "#f0f921"
                          ]
                        ]
                      }
                    ],
                    "carpet": [
                      {
                        "type": "carpet",
                        "baxis": {
                          "minorgridcolor": "white",
                          "gridcolor": "white",
                          "linecolor": "white",
                          "endlinecolor": "#2a3f5f",
                          "startlinecolor": "#2a3f5f"
                        },
                        "aaxis": {
                          "minorgridcolor": "white",
                          "gridcolor": "white",
                          "linecolor": "white",
                          "endlinecolor": "#2a3f5f",
                          "startlinecolor": "#2a3f5f"
                        }
                      }
                    ],
                    "contourcarpet": [
                      {
                        "colorbar": {
                          "outlinewidth": 0,
                          "ticks": ""
                        },
                        "type": "contourcarpet"
                      }
                    ],
                    "heatmap": [
                      {
                        "colorbar": {
                          "outlinewidth": 0,
                          "ticks": ""
                        },
                        "type": "heatmap",
                        "colorscale": [
                          [
                            0,
                            "#0d0887"
                          ],
                          [
                            0.1111111111111111,
                            "#46039f"
                          ],
                          [
                            0.2222222222222222,
                            "#7201a8"
                          ],
                          [
                            0.3333333333333333,
                            "#9c179e"
                          ],
                          [
                            0.4444444444444444,
                            "#bd3786"
                          ],
                          [
                            0.5555555555555556,
                            "#d8576b"
                          ],
                          [
                            0.6666666666666666,
                            "#ed7953"
                          ],
                          [
                            0.7777777777777778,
                            "#fb9f3a"
                          ],
                          [
                            0.8888888888888888,
                            "#fdca26"
                          ],
                          [
                            1,
                            "#f0f921"
                          ]
                        ]
                      }
                    ],
                    "scattermapbox": [
                      {
                        "marker": {
                          "colorbar": {
                            "outlinewidth": 0,
                            "ticks": ""
                          }
                        },
                        "type": "scattermapbox"
                      }
                    ],
                    "scatter3d": [
                      {
                        "marker": {
                          "colorbar": {
                            "outlinewidth": 0,
                            "ticks": ""
                          }
                        },
                        "line": {
                          "colorbar": {
                            "outlinewidth": 0,
                            "ticks": ""
                          }
                        },
                        "type": "scatter3d"
                      }
                    ],
                    "scattergl": [
                      {
                        "marker": {
                          "colorbar": {
                            "outlinewidth": 0,
                            "ticks": ""
                          }
                        },
                        "type": "scattergl"
                      }
                    ],
                    "scatterternary": [
                      {
                        "marker": {
                          "colorbar": {
                            "outlinewidth": 0,
                            "ticks": ""
                          }
                        },
                        "type": "scatterternary"
                      }
                    ],
                    "histogram": [
                      {
                        "marker": {
                          "colorbar": {
                            "outlinewidth": 0,
                            "ticks": ""
                          }
                        },
                        "type": "histogram"
                      }
                    ],
                    "heatmapgl": [
                      {
                        "colorbar": {
                          "outlinewidth": 0,
                          "ticks": ""
                        },
                        "type": "heatmapgl",
                        "colorscale": [
                          [
                            0,
                            "#0d0887"
                          ],
                          [
                            0.1111111111111111,
                            "#46039f"
                          ],
                          [
                            0.2222222222222222,
                            "#7201a8"
                          ],
                          [
                            0.3333333333333333,
                            "#9c179e"
                          ],
                          [
                            0.4444444444444444,
                            "#bd3786"
                          ],
                          [
                            0.5555555555555556,
                            "#d8576b"
                          ],
                          [
                            0.6666666666666666,
                            "#ed7953"
                          ],
                          [
                            0.7777777777777778,
                            "#fb9f3a"
                          ],
                          [
                            0.8888888888888888,
                            "#fdca26"
                          ],
                          [
                            1,
                            "#f0f921"
                          ]
                        ]
                      }
                    ],
                    "scatterpolar": [
                      {
                        "marker": {
                          "colorbar": {
                            "outlinewidth": 0,
                            "ticks": ""
                          }
                        },
                        "type": "scatterpolar"
                      }
                    ],
                    "histogram2d": [
                      {
                        "colorbar": {
                          "outlinewidth": 0,
                          "ticks": ""
                        },
                        "type": "histogram2d",
                        "colorscale": [
                          [
                            0,
                            "#0d0887"
                          ],
                          [
                            0.1111111111111111,
                            "#46039f"
                          ],
                          [
                            0.2222222222222222,
                            "#7201a8"
                          ],
                          [
                            0.3333333333333333,
                            "#9c179e"
                          ],
                          [
                            0.4444444444444444,
                            "#bd3786"
                          ],
                          [
                            0.5555555555555556,
                            "#d8576b"
                          ],
                          [
                            0.6666666666666666,
                            "#ed7953"
                          ],
                          [
                            0.7777777777777778,
                            "#fb9f3a"
                          ],
                          [
                            0.8888888888888888,
                            "#fdca26"
                          ],
                          [
                            1,
                            "#f0f921"
                          ]
                        ]
                      }
                    ],
                    "scattergeo": [
                      {
                        "marker": {
                          "colorbar": {
                            "outlinewidth": 0,
                            "ticks": ""
                          }
                        },
                        "type": "scattergeo"
                      }
                    ],
                    "bar": [
                      {
                        "marker": {
                          "line": {
                            "color": "#E5ECF6",
                            "width": 0.5
                          }
                        },
                        "type": "bar",
                        "error_x": {
                          "color": "#2a3f5f"
                        },
                        "error_y": {
                          "color": "#2a3f5f"
                        }
                      }
                    ],
                    "choropleth": [
                      {
                        "colorbar": {
                          "outlinewidth": 0,
                          "ticks": ""
                        },
                        "type": "choropleth"
                      }
                    ],
                    "parcoords": [
                      {
                        "line": {
                          "colorbar": {
                            "outlinewidth": 0,
                            "ticks": ""
                          }
                        },
                        "type": "parcoords"
                      }
                    ],
                    "barpolar": [
                      {
                        "marker": {
                          "line": {
                            "color": "#E5ECF6",
                            "width": 0.5
                          }
                        },
                        "type": "barpolar"
                      }
                    ],
                    "histogram2dcontour": [
                      {
                        "colorbar": {
                          "outlinewidth": 0,
                          "ticks": ""
                        },
                        "type": "histogram2dcontour",
                        "colorscale": [
                          [
                            0,
                            "#0d0887"
                          ],
                          [
                            0.1111111111111111,
                            "#46039f"
                          ],
                          [
                            0.2222222222222222,
                            "#7201a8"
                          ],
                          [
                            0.3333333333333333,
                            "#9c179e"
                          ],
                          [
                            0.4444444444444444,
                            "#bd3786"
                          ],
                          [
                            0.5555555555555556,
                            "#d8576b"
                          ],
                          [
                            0.6666666666666666,
                            "#ed7953"
                          ],
                          [
                            0.7777777777777778,
                            "#fb9f3a"
                          ],
                          [
                            0.8888888888888888,
                            "#fdca26"
                          ],
                          [
                            1,
                            "#f0f921"
                          ]
                        ]
                      }
                    ],
                    "scatter": [
                      {
                        "marker": {
                          "colorbar": {
                            "outlinewidth": 0,
                            "ticks": ""
                          }
                        },
                        "type": "scatter"
                      }
                    ]
                  }
                },
                "title": {
                  "font": {
                    "color": "#4D5663"
                  }
                },
                "paper_bgcolor": "#F5F6F9",
                "plot_bgcolor": "#F5F6F9",
                "yaxis": {
                  "tickfont": {
                    "color": "#4D5663"
                  },
                  "zerolinecolor": "#E1E5ED",
                  "title": {
                    "text": "",
                    "font": {
                      "color": "#4D5663"
                    }
                  },
                  "gridcolor": "#E1E5ED",
                  "showgrid": true
                },
                "xaxis": {
                  "tickfont": {
                    "color": "#4D5663"
                  },
                  "zerolinecolor": "#E1E5ED",
                  "title": {
                    "text": "",
                    "font": {
                      "color": "#4D5663"
                    }
                  },
                  "gridcolor": "#E1E5ED",
                  "showgrid": true
                },
                "legend": {
                  "bgcolor": "#F5F6F9",
                  "font": {
                    "color": "#4D5663"
                  }
                }
              }
            }
          },
          "metadata": {
            "tags": []
          }
        }
      ]
    },
    {
      "cell_type": "markdown",
      "metadata": {
        "id": "lHEn6xBYo0LB"
      },
      "source": [
        "## Bar Plots"
      ]
    },
    {
      "cell_type": "code",
      "metadata": {
        "colab": {
          "base_uri": "https://localhost:8080/",
          "height": 542
        },
        "id": "so5vgHQ7o0LB",
        "outputId": "0c694d9c-2253-489c-c816-571dccdee7c3"
      },
      "source": [
        "df2.iplot(kind = 'bar', x = 'Category', y = 'Values')"
      ],
      "execution_count": 20,
      "outputs": [
        {
          "output_type": "display_data",
          "data": {
            "text/html": [
              "<div>\n",
              "        \n",
              "        \n",
              "            <div id=\"8901e891-f4f5-4a92-aaee-9dce13bf81fb\" class=\"plotly-graph-div\" style=\"height:525px; width:100%;\"></div>\n",
              "            <script type=\"text/javascript\">\n",
              "                require([\"plotly\"], function(Plotly) {\n",
              "                    window.PLOTLYENV=window.PLOTLYENV || {};\n",
              "                    window.PLOTLYENV.BASE_URL='https://plot.ly';\n",
              "                    \n",
              "                if (document.getElementById(\"8901e891-f4f5-4a92-aaee-9dce13bf81fb\")) {\n",
              "                    Plotly.newPlot(\n",
              "                        '8901e891-f4f5-4a92-aaee-9dce13bf81fb',\n",
              "                        [{\"marker\": {\"color\": \"rgba(255, 153, 51, 0.6)\", \"line\": {\"color\": \"rgba(255, 153, 51, 1.0)\", \"width\": 1}}, \"name\": \"Values\", \"orientation\": \"v\", \"text\": \"\", \"type\": \"bar\", \"x\": [\"A\", \"B\", \"C\"], \"y\": [32, 43, 50]}],\n",
              "                        {\"legend\": {\"bgcolor\": \"#F5F6F9\", \"font\": {\"color\": \"#4D5663\"}}, \"paper_bgcolor\": \"#F5F6F9\", \"plot_bgcolor\": \"#F5F6F9\", \"template\": {\"data\": {\"bar\": [{\"error_x\": {\"color\": \"#2a3f5f\"}, \"error_y\": {\"color\": \"#2a3f5f\"}, \"marker\": {\"line\": {\"color\": \"#E5ECF6\", \"width\": 0.5}}, \"type\": \"bar\"}], \"barpolar\": [{\"marker\": {\"line\": {\"color\": \"#E5ECF6\", \"width\": 0.5}}, \"type\": \"barpolar\"}], \"carpet\": [{\"aaxis\": {\"endlinecolor\": \"#2a3f5f\", \"gridcolor\": \"white\", \"linecolor\": \"white\", \"minorgridcolor\": \"white\", \"startlinecolor\": \"#2a3f5f\"}, \"baxis\": {\"endlinecolor\": \"#2a3f5f\", \"gridcolor\": \"white\", \"linecolor\": \"white\", \"minorgridcolor\": \"white\", \"startlinecolor\": \"#2a3f5f\"}, \"type\": \"carpet\"}], \"choropleth\": [{\"colorbar\": {\"outlinewidth\": 0, \"ticks\": \"\"}, \"type\": \"choropleth\"}], \"contour\": [{\"colorbar\": {\"outlinewidth\": 0, \"ticks\": \"\"}, \"colorscale\": [[0.0, \"#0d0887\"], [0.1111111111111111, \"#46039f\"], [0.2222222222222222, \"#7201a8\"], [0.3333333333333333, \"#9c179e\"], [0.4444444444444444, \"#bd3786\"], [0.5555555555555556, \"#d8576b\"], [0.6666666666666666, \"#ed7953\"], [0.7777777777777778, \"#fb9f3a\"], [0.8888888888888888, \"#fdca26\"], [1.0, \"#f0f921\"]], \"type\": \"contour\"}], \"contourcarpet\": [{\"colorbar\": {\"outlinewidth\": 0, \"ticks\": \"\"}, \"type\": \"contourcarpet\"}], \"heatmap\": [{\"colorbar\": {\"outlinewidth\": 0, \"ticks\": \"\"}, \"colorscale\": [[0.0, \"#0d0887\"], [0.1111111111111111, \"#46039f\"], [0.2222222222222222, \"#7201a8\"], [0.3333333333333333, \"#9c179e\"], [0.4444444444444444, \"#bd3786\"], [0.5555555555555556, \"#d8576b\"], [0.6666666666666666, \"#ed7953\"], [0.7777777777777778, \"#fb9f3a\"], [0.8888888888888888, \"#fdca26\"], [1.0, \"#f0f921\"]], \"type\": \"heatmap\"}], \"heatmapgl\": [{\"colorbar\": {\"outlinewidth\": 0, \"ticks\": \"\"}, \"colorscale\": [[0.0, \"#0d0887\"], [0.1111111111111111, \"#46039f\"], [0.2222222222222222, \"#7201a8\"], [0.3333333333333333, \"#9c179e\"], [0.4444444444444444, \"#bd3786\"], [0.5555555555555556, \"#d8576b\"], [0.6666666666666666, \"#ed7953\"], [0.7777777777777778, \"#fb9f3a\"], [0.8888888888888888, \"#fdca26\"], [1.0, \"#f0f921\"]], \"type\": \"heatmapgl\"}], \"histogram\": [{\"marker\": {\"colorbar\": {\"outlinewidth\": 0, \"ticks\": \"\"}}, \"type\": \"histogram\"}], \"histogram2d\": [{\"colorbar\": {\"outlinewidth\": 0, \"ticks\": \"\"}, \"colorscale\": [[0.0, \"#0d0887\"], [0.1111111111111111, \"#46039f\"], [0.2222222222222222, \"#7201a8\"], [0.3333333333333333, \"#9c179e\"], [0.4444444444444444, \"#bd3786\"], [0.5555555555555556, \"#d8576b\"], [0.6666666666666666, \"#ed7953\"], [0.7777777777777778, \"#fb9f3a\"], [0.8888888888888888, \"#fdca26\"], [1.0, \"#f0f921\"]], \"type\": \"histogram2d\"}], \"histogram2dcontour\": [{\"colorbar\": {\"outlinewidth\": 0, \"ticks\": \"\"}, \"colorscale\": [[0.0, \"#0d0887\"], [0.1111111111111111, \"#46039f\"], [0.2222222222222222, \"#7201a8\"], [0.3333333333333333, \"#9c179e\"], [0.4444444444444444, \"#bd3786\"], [0.5555555555555556, \"#d8576b\"], [0.6666666666666666, \"#ed7953\"], [0.7777777777777778, \"#fb9f3a\"], [0.8888888888888888, \"#fdca26\"], [1.0, \"#f0f921\"]], \"type\": \"histogram2dcontour\"}], \"mesh3d\": [{\"colorbar\": {\"outlinewidth\": 0, \"ticks\": \"\"}, \"type\": \"mesh3d\"}], \"parcoords\": [{\"line\": {\"colorbar\": {\"outlinewidth\": 0, \"ticks\": \"\"}}, \"type\": \"parcoords\"}], \"pie\": [{\"automargin\": true, \"type\": \"pie\"}], \"scatter\": [{\"marker\": {\"colorbar\": {\"outlinewidth\": 0, \"ticks\": \"\"}}, \"type\": \"scatter\"}], \"scatter3d\": [{\"line\": {\"colorbar\": {\"outlinewidth\": 0, \"ticks\": \"\"}}, \"marker\": {\"colorbar\": {\"outlinewidth\": 0, \"ticks\": \"\"}}, \"type\": \"scatter3d\"}], \"scattercarpet\": [{\"marker\": {\"colorbar\": {\"outlinewidth\": 0, \"ticks\": \"\"}}, \"type\": \"scattercarpet\"}], \"scattergeo\": [{\"marker\": {\"colorbar\": {\"outlinewidth\": 0, \"ticks\": \"\"}}, \"type\": \"scattergeo\"}], \"scattergl\": [{\"marker\": {\"colorbar\": {\"outlinewidth\": 0, \"ticks\": \"\"}}, \"type\": \"scattergl\"}], \"scattermapbox\": [{\"marker\": {\"colorbar\": {\"outlinewidth\": 0, \"ticks\": \"\"}}, \"type\": \"scattermapbox\"}], \"scatterpolar\": [{\"marker\": {\"colorbar\": {\"outlinewidth\": 0, \"ticks\": \"\"}}, \"type\": \"scatterpolar\"}], \"scatterpolargl\": [{\"marker\": {\"colorbar\": {\"outlinewidth\": 0, \"ticks\": \"\"}}, \"type\": \"scatterpolargl\"}], \"scatterternary\": [{\"marker\": {\"colorbar\": {\"outlinewidth\": 0, \"ticks\": \"\"}}, \"type\": \"scatterternary\"}], \"surface\": [{\"colorbar\": {\"outlinewidth\": 0, \"ticks\": \"\"}, \"colorscale\": [[0.0, \"#0d0887\"], [0.1111111111111111, \"#46039f\"], [0.2222222222222222, \"#7201a8\"], [0.3333333333333333, \"#9c179e\"], [0.4444444444444444, \"#bd3786\"], [0.5555555555555556, \"#d8576b\"], [0.6666666666666666, \"#ed7953\"], [0.7777777777777778, \"#fb9f3a\"], [0.8888888888888888, \"#fdca26\"], [1.0, \"#f0f921\"]], \"type\": \"surface\"}], \"table\": [{\"cells\": {\"fill\": {\"color\": \"#EBF0F8\"}, \"line\": {\"color\": \"white\"}}, \"header\": {\"fill\": {\"color\": \"#C8D4E3\"}, \"line\": {\"color\": \"white\"}}, \"type\": \"table\"}]}, \"layout\": {\"annotationdefaults\": {\"arrowcolor\": \"#2a3f5f\", \"arrowhead\": 0, \"arrowwidth\": 1}, \"coloraxis\": {\"colorbar\": {\"outlinewidth\": 0, \"ticks\": \"\"}}, \"colorscale\": {\"diverging\": [[0, \"#8e0152\"], [0.1, \"#c51b7d\"], [0.2, \"#de77ae\"], [0.3, \"#f1b6da\"], [0.4, \"#fde0ef\"], [0.5, \"#f7f7f7\"], [0.6, \"#e6f5d0\"], [0.7, \"#b8e186\"], [0.8, \"#7fbc41\"], [0.9, \"#4d9221\"], [1, \"#276419\"]], \"sequential\": [[0.0, \"#0d0887\"], [0.1111111111111111, \"#46039f\"], [0.2222222222222222, \"#7201a8\"], [0.3333333333333333, \"#9c179e\"], [0.4444444444444444, \"#bd3786\"], [0.5555555555555556, \"#d8576b\"], [0.6666666666666666, \"#ed7953\"], [0.7777777777777778, \"#fb9f3a\"], [0.8888888888888888, \"#fdca26\"], [1.0, \"#f0f921\"]], \"sequentialminus\": [[0.0, \"#0d0887\"], [0.1111111111111111, \"#46039f\"], [0.2222222222222222, \"#7201a8\"], [0.3333333333333333, \"#9c179e\"], [0.4444444444444444, \"#bd3786\"], [0.5555555555555556, \"#d8576b\"], [0.6666666666666666, \"#ed7953\"], [0.7777777777777778, \"#fb9f3a\"], [0.8888888888888888, \"#fdca26\"], [1.0, \"#f0f921\"]]}, \"colorway\": [\"#636efa\", \"#EF553B\", \"#00cc96\", \"#ab63fa\", \"#FFA15A\", \"#19d3f3\", \"#FF6692\", \"#B6E880\", \"#FF97FF\", \"#FECB52\"], \"font\": {\"color\": \"#2a3f5f\"}, \"geo\": {\"bgcolor\": \"white\", \"lakecolor\": \"white\", \"landcolor\": \"#E5ECF6\", \"showlakes\": true, \"showland\": true, \"subunitcolor\": \"white\"}, \"hoverlabel\": {\"align\": \"left\"}, \"hovermode\": \"closest\", \"mapbox\": {\"style\": \"light\"}, \"paper_bgcolor\": \"white\", \"plot_bgcolor\": \"#E5ECF6\", \"polar\": {\"angularaxis\": {\"gridcolor\": \"white\", \"linecolor\": \"white\", \"ticks\": \"\"}, \"bgcolor\": \"#E5ECF6\", \"radialaxis\": {\"gridcolor\": \"white\", \"linecolor\": \"white\", \"ticks\": \"\"}}, \"scene\": {\"xaxis\": {\"backgroundcolor\": \"#E5ECF6\", \"gridcolor\": \"white\", \"gridwidth\": 2, \"linecolor\": \"white\", \"showbackground\": true, \"ticks\": \"\", \"zerolinecolor\": \"white\"}, \"yaxis\": {\"backgroundcolor\": \"#E5ECF6\", \"gridcolor\": \"white\", \"gridwidth\": 2, \"linecolor\": \"white\", \"showbackground\": true, \"ticks\": \"\", \"zerolinecolor\": \"white\"}, \"zaxis\": {\"backgroundcolor\": \"#E5ECF6\", \"gridcolor\": \"white\", \"gridwidth\": 2, \"linecolor\": \"white\", \"showbackground\": true, \"ticks\": \"\", \"zerolinecolor\": \"white\"}}, \"shapedefaults\": {\"line\": {\"color\": \"#2a3f5f\"}}, \"ternary\": {\"aaxis\": {\"gridcolor\": \"white\", \"linecolor\": \"white\", \"ticks\": \"\"}, \"baxis\": {\"gridcolor\": \"white\", \"linecolor\": \"white\", \"ticks\": \"\"}, \"bgcolor\": \"#E5ECF6\", \"caxis\": {\"gridcolor\": \"white\", \"linecolor\": \"white\", \"ticks\": \"\"}}, \"title\": {\"x\": 0.05}, \"xaxis\": {\"automargin\": true, \"gridcolor\": \"white\", \"linecolor\": \"white\", \"ticks\": \"\", \"title\": {\"standoff\": 15}, \"zerolinecolor\": \"white\", \"zerolinewidth\": 2}, \"yaxis\": {\"automargin\": true, \"gridcolor\": \"white\", \"linecolor\": \"white\", \"ticks\": \"\", \"title\": {\"standoff\": 15}, \"zerolinecolor\": \"white\", \"zerolinewidth\": 2}}}, \"title\": {\"font\": {\"color\": \"#4D5663\"}}, \"xaxis\": {\"gridcolor\": \"#E1E5ED\", \"showgrid\": true, \"tickfont\": {\"color\": \"#4D5663\"}, \"title\": {\"font\": {\"color\": \"#4D5663\"}, \"text\": \"\"}, \"zerolinecolor\": \"#E1E5ED\"}, \"yaxis\": {\"gridcolor\": \"#E1E5ED\", \"showgrid\": true, \"tickfont\": {\"color\": \"#4D5663\"}, \"title\": {\"font\": {\"color\": \"#4D5663\"}, \"text\": \"\"}, \"zerolinecolor\": \"#E1E5ED\"}},\n",
              "                        {\"showLink\": true, \"linkText\": \"Export to plot.ly\", \"plotlyServerURL\": \"https://plot.ly\", \"responsive\": true}\n",
              "                    ).then(function(){\n",
              "                            \n",
              "var gd = document.getElementById('8901e891-f4f5-4a92-aaee-9dce13bf81fb');\n",
              "var x = new MutationObserver(function (mutations, observer) {{\n",
              "        var display = window.getComputedStyle(gd).display;\n",
              "        if (!display || display === 'none') {{\n",
              "            console.log([gd, 'removed!']);\n",
              "            Plotly.purge(gd);\n",
              "            observer.disconnect();\n",
              "        }}\n",
              "}});\n",
              "\n",
              "// Listen for the removal of the full notebook cells\n",
              "var notebookContainer = gd.closest('#notebook-container');\n",
              "if (notebookContainer) {{\n",
              "    x.observe(notebookContainer, {childList: true});\n",
              "}}\n",
              "\n",
              "// Listen for the clearing of the current output cell\n",
              "var outputEl = gd.closest('.output');\n",
              "if (outputEl) {{\n",
              "    x.observe(outputEl, {childList: true});\n",
              "}}\n",
              "\n",
              "                        })\n",
              "                };\n",
              "                });\n",
              "            </script>\n",
              "        </div>"
            ],
            "application/vnd.plotly.v1+json": {
              "data": [
                {
                  "name": "Values",
                  "text": "",
                  "y": [
                    32,
                    43,
                    50
                  ],
                  "marker": {
                    "color": "rgba(255, 153, 51, 0.6)",
                    "line": {
                      "color": "rgba(255, 153, 51, 1.0)",
                      "width": 1
                    }
                  },
                  "x": [
                    "A",
                    "B",
                    "C"
                  ],
                  "type": "bar",
                  "orientation": "v"
                }
              ],
              "config": {
                "plotlyServerURL": "https://plot.ly",
                "linkText": "Export to plot.ly",
                "showLink": true
              },
              "layout": {
                "template": {
                  "layout": {
                    "shapedefaults": {
                      "line": {
                        "color": "#2a3f5f"
                      }
                    },
                    "polar": {
                      "radialaxis": {
                        "ticks": "",
                        "gridcolor": "white",
                        "linecolor": "white"
                      },
                      "bgcolor": "#E5ECF6",
                      "angularaxis": {
                        "ticks": "",
                        "gridcolor": "white",
                        "linecolor": "white"
                      }
                    },
                    "colorway": [
                      "#636efa",
                      "#EF553B",
                      "#00cc96",
                      "#ab63fa",
                      "#FFA15A",
                      "#19d3f3",
                      "#FF6692",
                      "#B6E880",
                      "#FF97FF",
                      "#FECB52"
                    ],
                    "xaxis": {
                      "automargin": true,
                      "title": {
                        "standoff": 15
                      },
                      "zerolinewidth": 2,
                      "ticks": "",
                      "zerolinecolor": "white",
                      "gridcolor": "white",
                      "linecolor": "white"
                    },
                    "colorscale": {
                      "diverging": [
                        [
                          0,
                          "#8e0152"
                        ],
                        [
                          0.1,
                          "#c51b7d"
                        ],
                        [
                          0.2,
                          "#de77ae"
                        ],
                        [
                          0.3,
                          "#f1b6da"
                        ],
                        [
                          0.4,
                          "#fde0ef"
                        ],
                        [
                          0.5,
                          "#f7f7f7"
                        ],
                        [
                          0.6,
                          "#e6f5d0"
                        ],
                        [
                          0.7,
                          "#b8e186"
                        ],
                        [
                          0.8,
                          "#7fbc41"
                        ],
                        [
                          0.9,
                          "#4d9221"
                        ],
                        [
                          1,
                          "#276419"
                        ]
                      ],
                      "sequential": [
                        [
                          0,
                          "#0d0887"
                        ],
                        [
                          0.1111111111111111,
                          "#46039f"
                        ],
                        [
                          0.2222222222222222,
                          "#7201a8"
                        ],
                        [
                          0.3333333333333333,
                          "#9c179e"
                        ],
                        [
                          0.4444444444444444,
                          "#bd3786"
                        ],
                        [
                          0.5555555555555556,
                          "#d8576b"
                        ],
                        [
                          0.6666666666666666,
                          "#ed7953"
                        ],
                        [
                          0.7777777777777778,
                          "#fb9f3a"
                        ],
                        [
                          0.8888888888888888,
                          "#fdca26"
                        ],
                        [
                          1,
                          "#f0f921"
                        ]
                      ],
                      "sequentialminus": [
                        [
                          0,
                          "#0d0887"
                        ],
                        [
                          0.1111111111111111,
                          "#46039f"
                        ],
                        [
                          0.2222222222222222,
                          "#7201a8"
                        ],
                        [
                          0.3333333333333333,
                          "#9c179e"
                        ],
                        [
                          0.4444444444444444,
                          "#bd3786"
                        ],
                        [
                          0.5555555555555556,
                          "#d8576b"
                        ],
                        [
                          0.6666666666666666,
                          "#ed7953"
                        ],
                        [
                          0.7777777777777778,
                          "#fb9f3a"
                        ],
                        [
                          0.8888888888888888,
                          "#fdca26"
                        ],
                        [
                          1,
                          "#f0f921"
                        ]
                      ]
                    },
                    "paper_bgcolor": "white",
                    "plot_bgcolor": "#E5ECF6",
                    "title": {
                      "x": 0.05
                    },
                    "scene": {
                      "zaxis": {
                        "backgroundcolor": "#E5ECF6",
                        "ticks": "",
                        "gridwidth": 2,
                        "showbackground": true,
                        "zerolinecolor": "white",
                        "gridcolor": "white",
                        "linecolor": "white"
                      },
                      "xaxis": {
                        "backgroundcolor": "#E5ECF6",
                        "ticks": "",
                        "gridwidth": 2,
                        "showbackground": true,
                        "zerolinecolor": "white",
                        "gridcolor": "white",
                        "linecolor": "white"
                      },
                      "yaxis": {
                        "backgroundcolor": "#E5ECF6",
                        "ticks": "",
                        "gridwidth": 2,
                        "showbackground": true,
                        "zerolinecolor": "white",
                        "gridcolor": "white",
                        "linecolor": "white"
                      }
                    },
                    "yaxis": {
                      "automargin": true,
                      "title": {
                        "standoff": 15
                      },
                      "zerolinewidth": 2,
                      "ticks": "",
                      "zerolinecolor": "white",
                      "gridcolor": "white",
                      "linecolor": "white"
                    },
                    "annotationdefaults": {
                      "arrowwidth": 1,
                      "arrowhead": 0,
                      "arrowcolor": "#2a3f5f"
                    },
                    "hoverlabel": {
                      "align": "left"
                    },
                    "ternary": {
                      "bgcolor": "#E5ECF6",
                      "baxis": {
                        "ticks": "",
                        "gridcolor": "white",
                        "linecolor": "white"
                      },
                      "caxis": {
                        "ticks": "",
                        "gridcolor": "white",
                        "linecolor": "white"
                      },
                      "aaxis": {
                        "ticks": "",
                        "gridcolor": "white",
                        "linecolor": "white"
                      }
                    },
                    "mapbox": {
                      "style": "light"
                    },
                    "hovermode": "closest",
                    "font": {
                      "color": "#2a3f5f"
                    },
                    "geo": {
                      "showland": true,
                      "landcolor": "#E5ECF6",
                      "showlakes": true,
                      "bgcolor": "white",
                      "subunitcolor": "white",
                      "lakecolor": "white"
                    },
                    "coloraxis": {
                      "colorbar": {
                        "outlinewidth": 0,
                        "ticks": ""
                      }
                    }
                  },
                  "data": {
                    "mesh3d": [
                      {
                        "colorbar": {
                          "outlinewidth": 0,
                          "ticks": ""
                        },
                        "type": "mesh3d"
                      }
                    ],
                    "scattercarpet": [
                      {
                        "marker": {
                          "colorbar": {
                            "outlinewidth": 0,
                            "ticks": ""
                          }
                        },
                        "type": "scattercarpet"
                      }
                    ],
                    "pie": [
                      {
                        "automargin": true,
                        "type": "pie"
                      }
                    ],
                    "surface": [
                      {
                        "colorbar": {
                          "outlinewidth": 0,
                          "ticks": ""
                        },
                        "type": "surface",
                        "colorscale": [
                          [
                            0,
                            "#0d0887"
                          ],
                          [
                            0.1111111111111111,
                            "#46039f"
                          ],
                          [
                            0.2222222222222222,
                            "#7201a8"
                          ],
                          [
                            0.3333333333333333,
                            "#9c179e"
                          ],
                          [
                            0.4444444444444444,
                            "#bd3786"
                          ],
                          [
                            0.5555555555555556,
                            "#d8576b"
                          ],
                          [
                            0.6666666666666666,
                            "#ed7953"
                          ],
                          [
                            0.7777777777777778,
                            "#fb9f3a"
                          ],
                          [
                            0.8888888888888888,
                            "#fdca26"
                          ],
                          [
                            1,
                            "#f0f921"
                          ]
                        ]
                      }
                    ],
                    "table": [
                      {
                        "header": {
                          "line": {
                            "color": "white"
                          },
                          "fill": {
                            "color": "#C8D4E3"
                          }
                        },
                        "cells": {
                          "line": {
                            "color": "white"
                          },
                          "fill": {
                            "color": "#EBF0F8"
                          }
                        },
                        "type": "table"
                      }
                    ],
                    "scatterpolargl": [
                      {
                        "marker": {
                          "colorbar": {
                            "outlinewidth": 0,
                            "ticks": ""
                          }
                        },
                        "type": "scatterpolargl"
                      }
                    ],
                    "contour": [
                      {
                        "colorbar": {
                          "outlinewidth": 0,
                          "ticks": ""
                        },
                        "type": "contour",
                        "colorscale": [
                          [
                            0,
                            "#0d0887"
                          ],
                          [
                            0.1111111111111111,
                            "#46039f"
                          ],
                          [
                            0.2222222222222222,
                            "#7201a8"
                          ],
                          [
                            0.3333333333333333,
                            "#9c179e"
                          ],
                          [
                            0.4444444444444444,
                            "#bd3786"
                          ],
                          [
                            0.5555555555555556,
                            "#d8576b"
                          ],
                          [
                            0.6666666666666666,
                            "#ed7953"
                          ],
                          [
                            0.7777777777777778,
                            "#fb9f3a"
                          ],
                          [
                            0.8888888888888888,
                            "#fdca26"
                          ],
                          [
                            1,
                            "#f0f921"
                          ]
                        ]
                      }
                    ],
                    "carpet": [
                      {
                        "type": "carpet",
                        "baxis": {
                          "minorgridcolor": "white",
                          "gridcolor": "white",
                          "linecolor": "white",
                          "endlinecolor": "#2a3f5f",
                          "startlinecolor": "#2a3f5f"
                        },
                        "aaxis": {
                          "minorgridcolor": "white",
                          "gridcolor": "white",
                          "linecolor": "white",
                          "endlinecolor": "#2a3f5f",
                          "startlinecolor": "#2a3f5f"
                        }
                      }
                    ],
                    "contourcarpet": [
                      {
                        "colorbar": {
                          "outlinewidth": 0,
                          "ticks": ""
                        },
                        "type": "contourcarpet"
                      }
                    ],
                    "heatmap": [
                      {
                        "colorbar": {
                          "outlinewidth": 0,
                          "ticks": ""
                        },
                        "type": "heatmap",
                        "colorscale": [
                          [
                            0,
                            "#0d0887"
                          ],
                          [
                            0.1111111111111111,
                            "#46039f"
                          ],
                          [
                            0.2222222222222222,
                            "#7201a8"
                          ],
                          [
                            0.3333333333333333,
                            "#9c179e"
                          ],
                          [
                            0.4444444444444444,
                            "#bd3786"
                          ],
                          [
                            0.5555555555555556,
                            "#d8576b"
                          ],
                          [
                            0.6666666666666666,
                            "#ed7953"
                          ],
                          [
                            0.7777777777777778,
                            "#fb9f3a"
                          ],
                          [
                            0.8888888888888888,
                            "#fdca26"
                          ],
                          [
                            1,
                            "#f0f921"
                          ]
                        ]
                      }
                    ],
                    "scattermapbox": [
                      {
                        "marker": {
                          "colorbar": {
                            "outlinewidth": 0,
                            "ticks": ""
                          }
                        },
                        "type": "scattermapbox"
                      }
                    ],
                    "scatter3d": [
                      {
                        "marker": {
                          "colorbar": {
                            "outlinewidth": 0,
                            "ticks": ""
                          }
                        },
                        "line": {
                          "colorbar": {
                            "outlinewidth": 0,
                            "ticks": ""
                          }
                        },
                        "type": "scatter3d"
                      }
                    ],
                    "scattergl": [
                      {
                        "marker": {
                          "colorbar": {
                            "outlinewidth": 0,
                            "ticks": ""
                          }
                        },
                        "type": "scattergl"
                      }
                    ],
                    "scatterternary": [
                      {
                        "marker": {
                          "colorbar": {
                            "outlinewidth": 0,
                            "ticks": ""
                          }
                        },
                        "type": "scatterternary"
                      }
                    ],
                    "histogram": [
                      {
                        "marker": {
                          "colorbar": {
                            "outlinewidth": 0,
                            "ticks": ""
                          }
                        },
                        "type": "histogram"
                      }
                    ],
                    "heatmapgl": [
                      {
                        "colorbar": {
                          "outlinewidth": 0,
                          "ticks": ""
                        },
                        "type": "heatmapgl",
                        "colorscale": [
                          [
                            0,
                            "#0d0887"
                          ],
                          [
                            0.1111111111111111,
                            "#46039f"
                          ],
                          [
                            0.2222222222222222,
                            "#7201a8"
                          ],
                          [
                            0.3333333333333333,
                            "#9c179e"
                          ],
                          [
                            0.4444444444444444,
                            "#bd3786"
                          ],
                          [
                            0.5555555555555556,
                            "#d8576b"
                          ],
                          [
                            0.6666666666666666,
                            "#ed7953"
                          ],
                          [
                            0.7777777777777778,
                            "#fb9f3a"
                          ],
                          [
                            0.8888888888888888,
                            "#fdca26"
                          ],
                          [
                            1,
                            "#f0f921"
                          ]
                        ]
                      }
                    ],
                    "scatterpolar": [
                      {
                        "marker": {
                          "colorbar": {
                            "outlinewidth": 0,
                            "ticks": ""
                          }
                        },
                        "type": "scatterpolar"
                      }
                    ],
                    "histogram2d": [
                      {
                        "colorbar": {
                          "outlinewidth": 0,
                          "ticks": ""
                        },
                        "type": "histogram2d",
                        "colorscale": [
                          [
                            0,
                            "#0d0887"
                          ],
                          [
                            0.1111111111111111,
                            "#46039f"
                          ],
                          [
                            0.2222222222222222,
                            "#7201a8"
                          ],
                          [
                            0.3333333333333333,
                            "#9c179e"
                          ],
                          [
                            0.4444444444444444,
                            "#bd3786"
                          ],
                          [
                            0.5555555555555556,
                            "#d8576b"
                          ],
                          [
                            0.6666666666666666,
                            "#ed7953"
                          ],
                          [
                            0.7777777777777778,
                            "#fb9f3a"
                          ],
                          [
                            0.8888888888888888,
                            "#fdca26"
                          ],
                          [
                            1,
                            "#f0f921"
                          ]
                        ]
                      }
                    ],
                    "scattergeo": [
                      {
                        "marker": {
                          "colorbar": {
                            "outlinewidth": 0,
                            "ticks": ""
                          }
                        },
                        "type": "scattergeo"
                      }
                    ],
                    "bar": [
                      {
                        "marker": {
                          "line": {
                            "color": "#E5ECF6",
                            "width": 0.5
                          }
                        },
                        "type": "bar",
                        "error_x": {
                          "color": "#2a3f5f"
                        },
                        "error_y": {
                          "color": "#2a3f5f"
                        }
                      }
                    ],
                    "choropleth": [
                      {
                        "colorbar": {
                          "outlinewidth": 0,
                          "ticks": ""
                        },
                        "type": "choropleth"
                      }
                    ],
                    "parcoords": [
                      {
                        "line": {
                          "colorbar": {
                            "outlinewidth": 0,
                            "ticks": ""
                          }
                        },
                        "type": "parcoords"
                      }
                    ],
                    "barpolar": [
                      {
                        "marker": {
                          "line": {
                            "color": "#E5ECF6",
                            "width": 0.5
                          }
                        },
                        "type": "barpolar"
                      }
                    ],
                    "histogram2dcontour": [
                      {
                        "colorbar": {
                          "outlinewidth": 0,
                          "ticks": ""
                        },
                        "type": "histogram2dcontour",
                        "colorscale": [
                          [
                            0,
                            "#0d0887"
                          ],
                          [
                            0.1111111111111111,
                            "#46039f"
                          ],
                          [
                            0.2222222222222222,
                            "#7201a8"
                          ],
                          [
                            0.3333333333333333,
                            "#9c179e"
                          ],
                          [
                            0.4444444444444444,
                            "#bd3786"
                          ],
                          [
                            0.5555555555555556,
                            "#d8576b"
                          ],
                          [
                            0.6666666666666666,
                            "#ed7953"
                          ],
                          [
                            0.7777777777777778,
                            "#fb9f3a"
                          ],
                          [
                            0.8888888888888888,
                            "#fdca26"
                          ],
                          [
                            1,
                            "#f0f921"
                          ]
                        ]
                      }
                    ],
                    "scatter": [
                      {
                        "marker": {
                          "colorbar": {
                            "outlinewidth": 0,
                            "ticks": ""
                          }
                        },
                        "type": "scatter"
                      }
                    ]
                  }
                },
                "title": {
                  "font": {
                    "color": "#4D5663"
                  }
                },
                "paper_bgcolor": "#F5F6F9",
                "plot_bgcolor": "#F5F6F9",
                "yaxis": {
                  "tickfont": {
                    "color": "#4D5663"
                  },
                  "zerolinecolor": "#E1E5ED",
                  "title": {
                    "text": "",
                    "font": {
                      "color": "#4D5663"
                    }
                  },
                  "gridcolor": "#E1E5ED",
                  "showgrid": true
                },
                "xaxis": {
                  "tickfont": {
                    "color": "#4D5663"
                  },
                  "zerolinecolor": "#E1E5ED",
                  "title": {
                    "text": "",
                    "font": {
                      "color": "#4D5663"
                    }
                  },
                  "gridcolor": "#E1E5ED",
                  "showgrid": true
                },
                "legend": {
                  "bgcolor": "#F5F6F9",
                  "font": {
                    "color": "#4D5663"
                  }
                }
              }
            }
          },
          "metadata": {
            "tags": []
          }
        }
      ]
    },
    {
      "cell_type": "code",
      "metadata": {
        "colab": {
          "base_uri": "https://localhost:8080/",
          "height": 542
        },
        "id": "8vRyG1Tgo0LC",
        "outputId": "a4358408-7239-4c5d-f0b6-96655063b879"
      },
      "source": [
        "df.count().iplot(kind = 'bar')"
      ],
      "execution_count": 21,
      "outputs": [
        {
          "output_type": "display_data",
          "data": {
            "text/html": [
              "<div>\n",
              "        \n",
              "        \n",
              "            <div id=\"65b375c5-d792-4078-96e1-2e1be75d1769\" class=\"plotly-graph-div\" style=\"height:525px; width:100%;\"></div>\n",
              "            <script type=\"text/javascript\">\n",
              "                require([\"plotly\"], function(Plotly) {\n",
              "                    window.PLOTLYENV=window.PLOTLYENV || {};\n",
              "                    window.PLOTLYENV.BASE_URL='https://plot.ly';\n",
              "                    \n",
              "                if (document.getElementById(\"65b375c5-d792-4078-96e1-2e1be75d1769\")) {\n",
              "                    Plotly.newPlot(\n",
              "                        '65b375c5-d792-4078-96e1-2e1be75d1769',\n",
              "                        [{\"marker\": {\"color\": \"rgba(255, 153, 51, 0.6)\", \"line\": {\"color\": \"rgba(255, 153, 51, 1.0)\", \"width\": 1}}, \"name\": \"None\", \"orientation\": \"v\", \"text\": \"\", \"type\": \"bar\", \"x\": [\"A\", \"B\", \"C\", \"D\"], \"y\": [100, 100, 100, 100]}],\n",
              "                        {\"legend\": {\"bgcolor\": \"#F5F6F9\", \"font\": {\"color\": \"#4D5663\"}}, \"paper_bgcolor\": \"#F5F6F9\", \"plot_bgcolor\": \"#F5F6F9\", \"template\": {\"data\": {\"bar\": [{\"error_x\": {\"color\": \"#2a3f5f\"}, \"error_y\": {\"color\": \"#2a3f5f\"}, \"marker\": {\"line\": {\"color\": \"#E5ECF6\", \"width\": 0.5}}, \"type\": \"bar\"}], \"barpolar\": [{\"marker\": {\"line\": {\"color\": \"#E5ECF6\", \"width\": 0.5}}, \"type\": \"barpolar\"}], \"carpet\": [{\"aaxis\": {\"endlinecolor\": \"#2a3f5f\", \"gridcolor\": \"white\", \"linecolor\": \"white\", \"minorgridcolor\": \"white\", \"startlinecolor\": \"#2a3f5f\"}, \"baxis\": {\"endlinecolor\": \"#2a3f5f\", \"gridcolor\": \"white\", \"linecolor\": \"white\", \"minorgridcolor\": \"white\", \"startlinecolor\": \"#2a3f5f\"}, \"type\": \"carpet\"}], \"choropleth\": [{\"colorbar\": {\"outlinewidth\": 0, \"ticks\": \"\"}, \"type\": \"choropleth\"}], \"contour\": [{\"colorbar\": {\"outlinewidth\": 0, \"ticks\": \"\"}, \"colorscale\": [[0.0, \"#0d0887\"], [0.1111111111111111, \"#46039f\"], [0.2222222222222222, \"#7201a8\"], [0.3333333333333333, \"#9c179e\"], [0.4444444444444444, \"#bd3786\"], [0.5555555555555556, \"#d8576b\"], [0.6666666666666666, \"#ed7953\"], [0.7777777777777778, \"#fb9f3a\"], [0.8888888888888888, \"#fdca26\"], [1.0, \"#f0f921\"]], \"type\": \"contour\"}], \"contourcarpet\": [{\"colorbar\": {\"outlinewidth\": 0, \"ticks\": \"\"}, \"type\": \"contourcarpet\"}], \"heatmap\": [{\"colorbar\": {\"outlinewidth\": 0, \"ticks\": \"\"}, \"colorscale\": [[0.0, \"#0d0887\"], [0.1111111111111111, \"#46039f\"], [0.2222222222222222, \"#7201a8\"], [0.3333333333333333, \"#9c179e\"], [0.4444444444444444, \"#bd3786\"], [0.5555555555555556, \"#d8576b\"], [0.6666666666666666, \"#ed7953\"], [0.7777777777777778, \"#fb9f3a\"], [0.8888888888888888, \"#fdca26\"], [1.0, \"#f0f921\"]], \"type\": \"heatmap\"}], \"heatmapgl\": [{\"colorbar\": {\"outlinewidth\": 0, \"ticks\": \"\"}, \"colorscale\": [[0.0, \"#0d0887\"], [0.1111111111111111, \"#46039f\"], [0.2222222222222222, \"#7201a8\"], [0.3333333333333333, \"#9c179e\"], [0.4444444444444444, \"#bd3786\"], [0.5555555555555556, \"#d8576b\"], [0.6666666666666666, \"#ed7953\"], [0.7777777777777778, \"#fb9f3a\"], [0.8888888888888888, \"#fdca26\"], [1.0, \"#f0f921\"]], \"type\": \"heatmapgl\"}], \"histogram\": [{\"marker\": {\"colorbar\": {\"outlinewidth\": 0, \"ticks\": \"\"}}, \"type\": \"histogram\"}], \"histogram2d\": [{\"colorbar\": {\"outlinewidth\": 0, \"ticks\": \"\"}, \"colorscale\": [[0.0, \"#0d0887\"], [0.1111111111111111, \"#46039f\"], [0.2222222222222222, \"#7201a8\"], [0.3333333333333333, \"#9c179e\"], [0.4444444444444444, \"#bd3786\"], [0.5555555555555556, \"#d8576b\"], [0.6666666666666666, \"#ed7953\"], [0.7777777777777778, \"#fb9f3a\"], [0.8888888888888888, \"#fdca26\"], [1.0, \"#f0f921\"]], \"type\": \"histogram2d\"}], \"histogram2dcontour\": [{\"colorbar\": {\"outlinewidth\": 0, \"ticks\": \"\"}, \"colorscale\": [[0.0, \"#0d0887\"], [0.1111111111111111, \"#46039f\"], [0.2222222222222222, \"#7201a8\"], [0.3333333333333333, \"#9c179e\"], [0.4444444444444444, \"#bd3786\"], [0.5555555555555556, \"#d8576b\"], [0.6666666666666666, \"#ed7953\"], [0.7777777777777778, \"#fb9f3a\"], [0.8888888888888888, \"#fdca26\"], [1.0, \"#f0f921\"]], \"type\": \"histogram2dcontour\"}], \"mesh3d\": [{\"colorbar\": {\"outlinewidth\": 0, \"ticks\": \"\"}, \"type\": \"mesh3d\"}], \"parcoords\": [{\"line\": {\"colorbar\": {\"outlinewidth\": 0, \"ticks\": \"\"}}, \"type\": \"parcoords\"}], \"pie\": [{\"automargin\": true, \"type\": \"pie\"}], \"scatter\": [{\"marker\": {\"colorbar\": {\"outlinewidth\": 0, \"ticks\": \"\"}}, \"type\": \"scatter\"}], \"scatter3d\": [{\"line\": {\"colorbar\": {\"outlinewidth\": 0, \"ticks\": \"\"}}, \"marker\": {\"colorbar\": {\"outlinewidth\": 0, \"ticks\": \"\"}}, \"type\": \"scatter3d\"}], \"scattercarpet\": [{\"marker\": {\"colorbar\": {\"outlinewidth\": 0, \"ticks\": \"\"}}, \"type\": \"scattercarpet\"}], \"scattergeo\": [{\"marker\": {\"colorbar\": {\"outlinewidth\": 0, \"ticks\": \"\"}}, \"type\": \"scattergeo\"}], \"scattergl\": [{\"marker\": {\"colorbar\": {\"outlinewidth\": 0, \"ticks\": \"\"}}, \"type\": \"scattergl\"}], \"scattermapbox\": [{\"marker\": {\"colorbar\": {\"outlinewidth\": 0, \"ticks\": \"\"}}, \"type\": \"scattermapbox\"}], \"scatterpolar\": [{\"marker\": {\"colorbar\": {\"outlinewidth\": 0, \"ticks\": \"\"}}, \"type\": \"scatterpolar\"}], \"scatterpolargl\": [{\"marker\": {\"colorbar\": {\"outlinewidth\": 0, \"ticks\": \"\"}}, \"type\": \"scatterpolargl\"}], \"scatterternary\": [{\"marker\": {\"colorbar\": {\"outlinewidth\": 0, \"ticks\": \"\"}}, \"type\": \"scatterternary\"}], \"surface\": [{\"colorbar\": {\"outlinewidth\": 0, \"ticks\": \"\"}, \"colorscale\": [[0.0, \"#0d0887\"], [0.1111111111111111, \"#46039f\"], [0.2222222222222222, \"#7201a8\"], [0.3333333333333333, \"#9c179e\"], [0.4444444444444444, \"#bd3786\"], [0.5555555555555556, \"#d8576b\"], [0.6666666666666666, \"#ed7953\"], [0.7777777777777778, \"#fb9f3a\"], [0.8888888888888888, \"#fdca26\"], [1.0, \"#f0f921\"]], \"type\": \"surface\"}], \"table\": [{\"cells\": {\"fill\": {\"color\": \"#EBF0F8\"}, \"line\": {\"color\": \"white\"}}, \"header\": {\"fill\": {\"color\": \"#C8D4E3\"}, \"line\": {\"color\": \"white\"}}, \"type\": \"table\"}]}, \"layout\": {\"annotationdefaults\": {\"arrowcolor\": \"#2a3f5f\", \"arrowhead\": 0, \"arrowwidth\": 1}, \"coloraxis\": {\"colorbar\": {\"outlinewidth\": 0, \"ticks\": \"\"}}, \"colorscale\": {\"diverging\": [[0, \"#8e0152\"], [0.1, \"#c51b7d\"], [0.2, \"#de77ae\"], [0.3, \"#f1b6da\"], [0.4, \"#fde0ef\"], [0.5, \"#f7f7f7\"], [0.6, \"#e6f5d0\"], [0.7, \"#b8e186\"], [0.8, \"#7fbc41\"], [0.9, \"#4d9221\"], [1, \"#276419\"]], \"sequential\": [[0.0, \"#0d0887\"], [0.1111111111111111, \"#46039f\"], [0.2222222222222222, \"#7201a8\"], [0.3333333333333333, \"#9c179e\"], [0.4444444444444444, \"#bd3786\"], [0.5555555555555556, \"#d8576b\"], [0.6666666666666666, \"#ed7953\"], [0.7777777777777778, \"#fb9f3a\"], [0.8888888888888888, \"#fdca26\"], [1.0, \"#f0f921\"]], \"sequentialminus\": [[0.0, \"#0d0887\"], [0.1111111111111111, \"#46039f\"], [0.2222222222222222, \"#7201a8\"], [0.3333333333333333, \"#9c179e\"], [0.4444444444444444, \"#bd3786\"], [0.5555555555555556, \"#d8576b\"], [0.6666666666666666, \"#ed7953\"], [0.7777777777777778, \"#fb9f3a\"], [0.8888888888888888, \"#fdca26\"], [1.0, \"#f0f921\"]]}, \"colorway\": [\"#636efa\", \"#EF553B\", \"#00cc96\", \"#ab63fa\", \"#FFA15A\", \"#19d3f3\", \"#FF6692\", \"#B6E880\", \"#FF97FF\", \"#FECB52\"], \"font\": {\"color\": \"#2a3f5f\"}, \"geo\": {\"bgcolor\": \"white\", \"lakecolor\": \"white\", \"landcolor\": \"#E5ECF6\", \"showlakes\": true, \"showland\": true, \"subunitcolor\": \"white\"}, \"hoverlabel\": {\"align\": \"left\"}, \"hovermode\": \"closest\", \"mapbox\": {\"style\": \"light\"}, \"paper_bgcolor\": \"white\", \"plot_bgcolor\": \"#E5ECF6\", \"polar\": {\"angularaxis\": {\"gridcolor\": \"white\", \"linecolor\": \"white\", \"ticks\": \"\"}, \"bgcolor\": \"#E5ECF6\", \"radialaxis\": {\"gridcolor\": \"white\", \"linecolor\": \"white\", \"ticks\": \"\"}}, \"scene\": {\"xaxis\": {\"backgroundcolor\": \"#E5ECF6\", \"gridcolor\": \"white\", \"gridwidth\": 2, \"linecolor\": \"white\", \"showbackground\": true, \"ticks\": \"\", \"zerolinecolor\": \"white\"}, \"yaxis\": {\"backgroundcolor\": \"#E5ECF6\", \"gridcolor\": \"white\", \"gridwidth\": 2, \"linecolor\": \"white\", \"showbackground\": true, \"ticks\": \"\", \"zerolinecolor\": \"white\"}, \"zaxis\": {\"backgroundcolor\": \"#E5ECF6\", \"gridcolor\": \"white\", \"gridwidth\": 2, \"linecolor\": \"white\", \"showbackground\": true, \"ticks\": \"\", \"zerolinecolor\": \"white\"}}, \"shapedefaults\": {\"line\": {\"color\": \"#2a3f5f\"}}, \"ternary\": {\"aaxis\": {\"gridcolor\": \"white\", \"linecolor\": \"white\", \"ticks\": \"\"}, \"baxis\": {\"gridcolor\": \"white\", \"linecolor\": \"white\", \"ticks\": \"\"}, \"bgcolor\": \"#E5ECF6\", \"caxis\": {\"gridcolor\": \"white\", \"linecolor\": \"white\", \"ticks\": \"\"}}, \"title\": {\"x\": 0.05}, \"xaxis\": {\"automargin\": true, \"gridcolor\": \"white\", \"linecolor\": \"white\", \"ticks\": \"\", \"title\": {\"standoff\": 15}, \"zerolinecolor\": \"white\", \"zerolinewidth\": 2}, \"yaxis\": {\"automargin\": true, \"gridcolor\": \"white\", \"linecolor\": \"white\", \"ticks\": \"\", \"title\": {\"standoff\": 15}, \"zerolinecolor\": \"white\", \"zerolinewidth\": 2}}}, \"title\": {\"font\": {\"color\": \"#4D5663\"}}, \"xaxis\": {\"gridcolor\": \"#E1E5ED\", \"showgrid\": true, \"tickfont\": {\"color\": \"#4D5663\"}, \"title\": {\"font\": {\"color\": \"#4D5663\"}, \"text\": \"\"}, \"zerolinecolor\": \"#E1E5ED\"}, \"yaxis\": {\"gridcolor\": \"#E1E5ED\", \"showgrid\": true, \"tickfont\": {\"color\": \"#4D5663\"}, \"title\": {\"font\": {\"color\": \"#4D5663\"}, \"text\": \"\"}, \"zerolinecolor\": \"#E1E5ED\"}},\n",
              "                        {\"showLink\": true, \"linkText\": \"Export to plot.ly\", \"plotlyServerURL\": \"https://plot.ly\", \"responsive\": true}\n",
              "                    ).then(function(){\n",
              "                            \n",
              "var gd = document.getElementById('65b375c5-d792-4078-96e1-2e1be75d1769');\n",
              "var x = new MutationObserver(function (mutations, observer) {{\n",
              "        var display = window.getComputedStyle(gd).display;\n",
              "        if (!display || display === 'none') {{\n",
              "            console.log([gd, 'removed!']);\n",
              "            Plotly.purge(gd);\n",
              "            observer.disconnect();\n",
              "        }}\n",
              "}});\n",
              "\n",
              "// Listen for the removal of the full notebook cells\n",
              "var notebookContainer = gd.closest('#notebook-container');\n",
              "if (notebookContainer) {{\n",
              "    x.observe(notebookContainer, {childList: true});\n",
              "}}\n",
              "\n",
              "// Listen for the clearing of the current output cell\n",
              "var outputEl = gd.closest('.output');\n",
              "if (outputEl) {{\n",
              "    x.observe(outputEl, {childList: true});\n",
              "}}\n",
              "\n",
              "                        })\n",
              "                };\n",
              "                });\n",
              "            </script>\n",
              "        </div>"
            ],
            "application/vnd.plotly.v1+json": {
              "data": [
                {
                  "name": "None",
                  "text": "",
                  "y": [
                    100,
                    100,
                    100,
                    100
                  ],
                  "marker": {
                    "color": "rgba(255, 153, 51, 0.6)",
                    "line": {
                      "color": "rgba(255, 153, 51, 1.0)",
                      "width": 1
                    }
                  },
                  "x": [
                    "A",
                    "B",
                    "C",
                    "D"
                  ],
                  "type": "bar",
                  "orientation": "v"
                }
              ],
              "config": {
                "plotlyServerURL": "https://plot.ly",
                "linkText": "Export to plot.ly",
                "showLink": true
              },
              "layout": {
                "template": {
                  "layout": {
                    "shapedefaults": {
                      "line": {
                        "color": "#2a3f5f"
                      }
                    },
                    "polar": {
                      "radialaxis": {
                        "ticks": "",
                        "gridcolor": "white",
                        "linecolor": "white"
                      },
                      "bgcolor": "#E5ECF6",
                      "angularaxis": {
                        "ticks": "",
                        "gridcolor": "white",
                        "linecolor": "white"
                      }
                    },
                    "colorway": [
                      "#636efa",
                      "#EF553B",
                      "#00cc96",
                      "#ab63fa",
                      "#FFA15A",
                      "#19d3f3",
                      "#FF6692",
                      "#B6E880",
                      "#FF97FF",
                      "#FECB52"
                    ],
                    "xaxis": {
                      "automargin": true,
                      "title": {
                        "standoff": 15
                      },
                      "zerolinewidth": 2,
                      "ticks": "",
                      "zerolinecolor": "white",
                      "gridcolor": "white",
                      "linecolor": "white"
                    },
                    "colorscale": {
                      "diverging": [
                        [
                          0,
                          "#8e0152"
                        ],
                        [
                          0.1,
                          "#c51b7d"
                        ],
                        [
                          0.2,
                          "#de77ae"
                        ],
                        [
                          0.3,
                          "#f1b6da"
                        ],
                        [
                          0.4,
                          "#fde0ef"
                        ],
                        [
                          0.5,
                          "#f7f7f7"
                        ],
                        [
                          0.6,
                          "#e6f5d0"
                        ],
                        [
                          0.7,
                          "#b8e186"
                        ],
                        [
                          0.8,
                          "#7fbc41"
                        ],
                        [
                          0.9,
                          "#4d9221"
                        ],
                        [
                          1,
                          "#276419"
                        ]
                      ],
                      "sequential": [
                        [
                          0,
                          "#0d0887"
                        ],
                        [
                          0.1111111111111111,
                          "#46039f"
                        ],
                        [
                          0.2222222222222222,
                          "#7201a8"
                        ],
                        [
                          0.3333333333333333,
                          "#9c179e"
                        ],
                        [
                          0.4444444444444444,
                          "#bd3786"
                        ],
                        [
                          0.5555555555555556,
                          "#d8576b"
                        ],
                        [
                          0.6666666666666666,
                          "#ed7953"
                        ],
                        [
                          0.7777777777777778,
                          "#fb9f3a"
                        ],
                        [
                          0.8888888888888888,
                          "#fdca26"
                        ],
                        [
                          1,
                          "#f0f921"
                        ]
                      ],
                      "sequentialminus": [
                        [
                          0,
                          "#0d0887"
                        ],
                        [
                          0.1111111111111111,
                          "#46039f"
                        ],
                        [
                          0.2222222222222222,
                          "#7201a8"
                        ],
                        [
                          0.3333333333333333,
                          "#9c179e"
                        ],
                        [
                          0.4444444444444444,
                          "#bd3786"
                        ],
                        [
                          0.5555555555555556,
                          "#d8576b"
                        ],
                        [
                          0.6666666666666666,
                          "#ed7953"
                        ],
                        [
                          0.7777777777777778,
                          "#fb9f3a"
                        ],
                        [
                          0.8888888888888888,
                          "#fdca26"
                        ],
                        [
                          1,
                          "#f0f921"
                        ]
                      ]
                    },
                    "paper_bgcolor": "white",
                    "plot_bgcolor": "#E5ECF6",
                    "title": {
                      "x": 0.05
                    },
                    "scene": {
                      "zaxis": {
                        "backgroundcolor": "#E5ECF6",
                        "ticks": "",
                        "gridwidth": 2,
                        "showbackground": true,
                        "zerolinecolor": "white",
                        "gridcolor": "white",
                        "linecolor": "white"
                      },
                      "xaxis": {
                        "backgroundcolor": "#E5ECF6",
                        "ticks": "",
                        "gridwidth": 2,
                        "showbackground": true,
                        "zerolinecolor": "white",
                        "gridcolor": "white",
                        "linecolor": "white"
                      },
                      "yaxis": {
                        "backgroundcolor": "#E5ECF6",
                        "ticks": "",
                        "gridwidth": 2,
                        "showbackground": true,
                        "zerolinecolor": "white",
                        "gridcolor": "white",
                        "linecolor": "white"
                      }
                    },
                    "yaxis": {
                      "automargin": true,
                      "title": {
                        "standoff": 15
                      },
                      "zerolinewidth": 2,
                      "ticks": "",
                      "zerolinecolor": "white",
                      "gridcolor": "white",
                      "linecolor": "white"
                    },
                    "annotationdefaults": {
                      "arrowwidth": 1,
                      "arrowhead": 0,
                      "arrowcolor": "#2a3f5f"
                    },
                    "hoverlabel": {
                      "align": "left"
                    },
                    "ternary": {
                      "bgcolor": "#E5ECF6",
                      "baxis": {
                        "ticks": "",
                        "gridcolor": "white",
                        "linecolor": "white"
                      },
                      "caxis": {
                        "ticks": "",
                        "gridcolor": "white",
                        "linecolor": "white"
                      },
                      "aaxis": {
                        "ticks": "",
                        "gridcolor": "white",
                        "linecolor": "white"
                      }
                    },
                    "mapbox": {
                      "style": "light"
                    },
                    "hovermode": "closest",
                    "font": {
                      "color": "#2a3f5f"
                    },
                    "geo": {
                      "showland": true,
                      "landcolor": "#E5ECF6",
                      "showlakes": true,
                      "bgcolor": "white",
                      "subunitcolor": "white",
                      "lakecolor": "white"
                    },
                    "coloraxis": {
                      "colorbar": {
                        "outlinewidth": 0,
                        "ticks": ""
                      }
                    }
                  },
                  "data": {
                    "mesh3d": [
                      {
                        "colorbar": {
                          "outlinewidth": 0,
                          "ticks": ""
                        },
                        "type": "mesh3d"
                      }
                    ],
                    "scattercarpet": [
                      {
                        "marker": {
                          "colorbar": {
                            "outlinewidth": 0,
                            "ticks": ""
                          }
                        },
                        "type": "scattercarpet"
                      }
                    ],
                    "pie": [
                      {
                        "automargin": true,
                        "type": "pie"
                      }
                    ],
                    "surface": [
                      {
                        "colorbar": {
                          "outlinewidth": 0,
                          "ticks": ""
                        },
                        "type": "surface",
                        "colorscale": [
                          [
                            0,
                            "#0d0887"
                          ],
                          [
                            0.1111111111111111,
                            "#46039f"
                          ],
                          [
                            0.2222222222222222,
                            "#7201a8"
                          ],
                          [
                            0.3333333333333333,
                            "#9c179e"
                          ],
                          [
                            0.4444444444444444,
                            "#bd3786"
                          ],
                          [
                            0.5555555555555556,
                            "#d8576b"
                          ],
                          [
                            0.6666666666666666,
                            "#ed7953"
                          ],
                          [
                            0.7777777777777778,
                            "#fb9f3a"
                          ],
                          [
                            0.8888888888888888,
                            "#fdca26"
                          ],
                          [
                            1,
                            "#f0f921"
                          ]
                        ]
                      }
                    ],
                    "table": [
                      {
                        "header": {
                          "line": {
                            "color": "white"
                          },
                          "fill": {
                            "color": "#C8D4E3"
                          }
                        },
                        "cells": {
                          "line": {
                            "color": "white"
                          },
                          "fill": {
                            "color": "#EBF0F8"
                          }
                        },
                        "type": "table"
                      }
                    ],
                    "scatterpolargl": [
                      {
                        "marker": {
                          "colorbar": {
                            "outlinewidth": 0,
                            "ticks": ""
                          }
                        },
                        "type": "scatterpolargl"
                      }
                    ],
                    "contour": [
                      {
                        "colorbar": {
                          "outlinewidth": 0,
                          "ticks": ""
                        },
                        "type": "contour",
                        "colorscale": [
                          [
                            0,
                            "#0d0887"
                          ],
                          [
                            0.1111111111111111,
                            "#46039f"
                          ],
                          [
                            0.2222222222222222,
                            "#7201a8"
                          ],
                          [
                            0.3333333333333333,
                            "#9c179e"
                          ],
                          [
                            0.4444444444444444,
                            "#bd3786"
                          ],
                          [
                            0.5555555555555556,
                            "#d8576b"
                          ],
                          [
                            0.6666666666666666,
                            "#ed7953"
                          ],
                          [
                            0.7777777777777778,
                            "#fb9f3a"
                          ],
                          [
                            0.8888888888888888,
                            "#fdca26"
                          ],
                          [
                            1,
                            "#f0f921"
                          ]
                        ]
                      }
                    ],
                    "carpet": [
                      {
                        "type": "carpet",
                        "baxis": {
                          "minorgridcolor": "white",
                          "gridcolor": "white",
                          "linecolor": "white",
                          "endlinecolor": "#2a3f5f",
                          "startlinecolor": "#2a3f5f"
                        },
                        "aaxis": {
                          "minorgridcolor": "white",
                          "gridcolor": "white",
                          "linecolor": "white",
                          "endlinecolor": "#2a3f5f",
                          "startlinecolor": "#2a3f5f"
                        }
                      }
                    ],
                    "contourcarpet": [
                      {
                        "colorbar": {
                          "outlinewidth": 0,
                          "ticks": ""
                        },
                        "type": "contourcarpet"
                      }
                    ],
                    "heatmap": [
                      {
                        "colorbar": {
                          "outlinewidth": 0,
                          "ticks": ""
                        },
                        "type": "heatmap",
                        "colorscale": [
                          [
                            0,
                            "#0d0887"
                          ],
                          [
                            0.1111111111111111,
                            "#46039f"
                          ],
                          [
                            0.2222222222222222,
                            "#7201a8"
                          ],
                          [
                            0.3333333333333333,
                            "#9c179e"
                          ],
                          [
                            0.4444444444444444,
                            "#bd3786"
                          ],
                          [
                            0.5555555555555556,
                            "#d8576b"
                          ],
                          [
                            0.6666666666666666,
                            "#ed7953"
                          ],
                          [
                            0.7777777777777778,
                            "#fb9f3a"
                          ],
                          [
                            0.8888888888888888,
                            "#fdca26"
                          ],
                          [
                            1,
                            "#f0f921"
                          ]
                        ]
                      }
                    ],
                    "scattermapbox": [
                      {
                        "marker": {
                          "colorbar": {
                            "outlinewidth": 0,
                            "ticks": ""
                          }
                        },
                        "type": "scattermapbox"
                      }
                    ],
                    "scatter3d": [
                      {
                        "marker": {
                          "colorbar": {
                            "outlinewidth": 0,
                            "ticks": ""
                          }
                        },
                        "line": {
                          "colorbar": {
                            "outlinewidth": 0,
                            "ticks": ""
                          }
                        },
                        "type": "scatter3d"
                      }
                    ],
                    "scattergl": [
                      {
                        "marker": {
                          "colorbar": {
                            "outlinewidth": 0,
                            "ticks": ""
                          }
                        },
                        "type": "scattergl"
                      }
                    ],
                    "scatterternary": [
                      {
                        "marker": {
                          "colorbar": {
                            "outlinewidth": 0,
                            "ticks": ""
                          }
                        },
                        "type": "scatterternary"
                      }
                    ],
                    "histogram": [
                      {
                        "marker": {
                          "colorbar": {
                            "outlinewidth": 0,
                            "ticks": ""
                          }
                        },
                        "type": "histogram"
                      }
                    ],
                    "heatmapgl": [
                      {
                        "colorbar": {
                          "outlinewidth": 0,
                          "ticks": ""
                        },
                        "type": "heatmapgl",
                        "colorscale": [
                          [
                            0,
                            "#0d0887"
                          ],
                          [
                            0.1111111111111111,
                            "#46039f"
                          ],
                          [
                            0.2222222222222222,
                            "#7201a8"
                          ],
                          [
                            0.3333333333333333,
                            "#9c179e"
                          ],
                          [
                            0.4444444444444444,
                            "#bd3786"
                          ],
                          [
                            0.5555555555555556,
                            "#d8576b"
                          ],
                          [
                            0.6666666666666666,
                            "#ed7953"
                          ],
                          [
                            0.7777777777777778,
                            "#fb9f3a"
                          ],
                          [
                            0.8888888888888888,
                            "#fdca26"
                          ],
                          [
                            1,
                            "#f0f921"
                          ]
                        ]
                      }
                    ],
                    "scatterpolar": [
                      {
                        "marker": {
                          "colorbar": {
                            "outlinewidth": 0,
                            "ticks": ""
                          }
                        },
                        "type": "scatterpolar"
                      }
                    ],
                    "histogram2d": [
                      {
                        "colorbar": {
                          "outlinewidth": 0,
                          "ticks": ""
                        },
                        "type": "histogram2d",
                        "colorscale": [
                          [
                            0,
                            "#0d0887"
                          ],
                          [
                            0.1111111111111111,
                            "#46039f"
                          ],
                          [
                            0.2222222222222222,
                            "#7201a8"
                          ],
                          [
                            0.3333333333333333,
                            "#9c179e"
                          ],
                          [
                            0.4444444444444444,
                            "#bd3786"
                          ],
                          [
                            0.5555555555555556,
                            "#d8576b"
                          ],
                          [
                            0.6666666666666666,
                            "#ed7953"
                          ],
                          [
                            0.7777777777777778,
                            "#fb9f3a"
                          ],
                          [
                            0.8888888888888888,
                            "#fdca26"
                          ],
                          [
                            1,
                            "#f0f921"
                          ]
                        ]
                      }
                    ],
                    "scattergeo": [
                      {
                        "marker": {
                          "colorbar": {
                            "outlinewidth": 0,
                            "ticks": ""
                          }
                        },
                        "type": "scattergeo"
                      }
                    ],
                    "bar": [
                      {
                        "marker": {
                          "line": {
                            "color": "#E5ECF6",
                            "width": 0.5
                          }
                        },
                        "type": "bar",
                        "error_x": {
                          "color": "#2a3f5f"
                        },
                        "error_y": {
                          "color": "#2a3f5f"
                        }
                      }
                    ],
                    "choropleth": [
                      {
                        "colorbar": {
                          "outlinewidth": 0,
                          "ticks": ""
                        },
                        "type": "choropleth"
                      }
                    ],
                    "parcoords": [
                      {
                        "line": {
                          "colorbar": {
                            "outlinewidth": 0,
                            "ticks": ""
                          }
                        },
                        "type": "parcoords"
                      }
                    ],
                    "barpolar": [
                      {
                        "marker": {
                          "line": {
                            "color": "#E5ECF6",
                            "width": 0.5
                          }
                        },
                        "type": "barpolar"
                      }
                    ],
                    "histogram2dcontour": [
                      {
                        "colorbar": {
                          "outlinewidth": 0,
                          "ticks": ""
                        },
                        "type": "histogram2dcontour",
                        "colorscale": [
                          [
                            0,
                            "#0d0887"
                          ],
                          [
                            0.1111111111111111,
                            "#46039f"
                          ],
                          [
                            0.2222222222222222,
                            "#7201a8"
                          ],
                          [
                            0.3333333333333333,
                            "#9c179e"
                          ],
                          [
                            0.4444444444444444,
                            "#bd3786"
                          ],
                          [
                            0.5555555555555556,
                            "#d8576b"
                          ],
                          [
                            0.6666666666666666,
                            "#ed7953"
                          ],
                          [
                            0.7777777777777778,
                            "#fb9f3a"
                          ],
                          [
                            0.8888888888888888,
                            "#fdca26"
                          ],
                          [
                            1,
                            "#f0f921"
                          ]
                        ]
                      }
                    ],
                    "scatter": [
                      {
                        "marker": {
                          "colorbar": {
                            "outlinewidth": 0,
                            "ticks": ""
                          }
                        },
                        "type": "scatter"
                      }
                    ]
                  }
                },
                "title": {
                  "font": {
                    "color": "#4D5663"
                  }
                },
                "paper_bgcolor": "#F5F6F9",
                "plot_bgcolor": "#F5F6F9",
                "yaxis": {
                  "tickfont": {
                    "color": "#4D5663"
                  },
                  "zerolinecolor": "#E1E5ED",
                  "title": {
                    "text": "",
                    "font": {
                      "color": "#4D5663"
                    }
                  },
                  "gridcolor": "#E1E5ED",
                  "showgrid": true
                },
                "xaxis": {
                  "tickfont": {
                    "color": "#4D5663"
                  },
                  "zerolinecolor": "#E1E5ED",
                  "title": {
                    "text": "",
                    "font": {
                      "color": "#4D5663"
                    }
                  },
                  "gridcolor": "#E1E5ED",
                  "showgrid": true
                },
                "legend": {
                  "bgcolor": "#F5F6F9",
                  "font": {
                    "color": "#4D5663"
                  }
                }
              }
            }
          },
          "metadata": {
            "tags": []
          }
        }
      ]
    },
    {
      "cell_type": "markdown",
      "metadata": {
        "id": "AtGq2V1wo0LC"
      },
      "source": [
        "## Boxplots"
      ]
    },
    {
      "cell_type": "code",
      "metadata": {
        "colab": {
          "base_uri": "https://localhost:8080/",
          "height": 542
        },
        "id": "NLWo1cKZo0LC",
        "outputId": "3a605f0d-0538-4d45-8858-d6e6560b74bf"
      },
      "source": [
        "df.iplot(kind = 'box')"
      ],
      "execution_count": 22,
      "outputs": [
        {
          "output_type": "display_data",
          "data": {
            "text/html": [
              "<div>\n",
              "        \n",
              "        \n",
              "            <div id=\"b8638763-f533-4021-a962-d280d7823d41\" class=\"plotly-graph-div\" style=\"height:525px; width:100%;\"></div>\n",
              "            <script type=\"text/javascript\">\n",
              "                require([\"plotly\"], function(Plotly) {\n",
              "                    window.PLOTLYENV=window.PLOTLYENV || {};\n",
              "                    window.PLOTLYENV.BASE_URL='https://plot.ly';\n",
              "                    \n",
              "                if (document.getElementById(\"b8638763-f533-4021-a962-d280d7823d41\")) {\n",
              "                    Plotly.newPlot(\n",
              "                        'b8638763-f533-4021-a962-d280d7823d41',\n",
              "                        [{\"boxpoints\": false, \"line\": {\"width\": 1.3}, \"marker\": {\"color\": \"rgba(255, 153, 51, 1.0)\"}, \"name\": \"A\", \"orientation\": \"v\", \"type\": \"box\", \"y\": [0.49449272530329047, 0.034528001350900256, -0.7946215341312589, 1.9028248305238074, 0.006168500487285368, -0.646904665314446, 0.48255753274079133, -0.7343086288457172, -0.34794321781969817, 1.9142109663219973, 1.9009810730582737, 0.60851843055985, 0.7118296524467419, -1.146016055014683, -0.18326960130776676, -0.12060848620152653, 0.6279615151556829, 2.3972492782457357, 0.25352786848048336, 0.30340667749886713, 1.911779639274964, -0.41634320669644, 0.06774707796135956, -0.6969960897231474, -1.1926002276894017, -0.9052079661067426, 1.1360267449714567, -0.8071906369875103, 1.5973964698699552, 0.8548629282365606, 0.00805549333156661, -0.1875107634509211, 1.860888082553138, 0.4491610317689726, -1.1065729004552944, -1.210253649996616, -1.3861184880132484, -0.37859662107129394, 0.6744767804346525, -1.0787036830472339, 0.09231075314670419, -0.11910687458279542, -0.00932143515294092, 0.8237425395388134, -1.2245368744825151, 0.765472350926838, 1.488814705875263, 0.6332138353148433, 0.017800676144336905, -0.10641501029678054, -0.2561215983248197, -0.16090710308918565, -0.5629484054684389, 0.24499515509043016, -1.0250294042886583, -0.23433780993918485, -0.6235825081087522, -1.0040664888392414, 0.4412264639634368, -0.13897635859556548, 0.4909861903980702, 1.6283087805480077, -0.8157090997355115, 0.2591105079595253, 1.8061640134274737, -0.26243055062034426, -1.2041654634413208, 0.08228734517166987, 0.24626482502167044, 0.08211455780515052, 1.2051798170386212, -1.1799496193151544, -0.526486513684934, -0.25981063949919314, 0.3662313414855823, -0.6529890732166655, 1.5678515870250003, 0.05769126472384962, -1.2569152310660323, -0.6859973308376616, -1.8511519876772007, -0.9653073216056013, 1.112894317654417, 0.3907391182199121, -0.63850397282398, -0.8403492596202459, 0.48223732635132477, -0.2934179114575572, -0.12704325980510536, 0.36727881765268805, 1.9638666113011793, -1.1639993715176382, 1.4742499705754153, -1.3170710454264, 2.061406034108948, 1.0390809142847595, -0.35994721777590705, 0.5822715275002863, 0.5780547144122881, -0.7910318664440708]}, {\"boxpoints\": false, \"line\": {\"width\": 1.3}, \"marker\": {\"color\": \"rgba(55, 128, 191, 1.0)\"}, \"name\": \"B\", \"orientation\": \"v\", \"type\": \"box\", \"y\": [-0.8136759797552139, -0.05485004777981325, -0.7354321015336972, 0.2249286743408787, 1.042791519448513, -0.18273615906352095, -0.06692170724897374, 1.607177305910856, -0.1793710017199522, -0.018194588543706005, 0.12316141153047848, 0.3680399156648711, -0.5974356495058103, -0.09832813929968391, 0.32320235378837736, -0.30785533668697723, 1.5758386876787536, 1.5225267490392824, 0.6163565107520003, -0.016783669433683018, 0.3826115635049692, -0.26777625398632077, -1.635750655467563, 0.3406422253573746, -0.787959156960995, 0.3645487271885021, -0.35577341396159645, 0.6490752613997947, -0.8130874975316237, 0.47861025390015216, -1.4102850439880745, 0.6389802293177309, -1.080070246304188, 0.014505110937698303, 0.5335163451855318, -0.020432045686978578, -0.32132438112819084, -1.641500057485398, 0.5990451502361493, -0.724953471543375, 0.8536130491768231, -0.2910271148862159, -0.9111452886490694, -0.720343772877038, 0.7823487918924391, -0.8568066719129985, -0.46363014921539397, -0.34993197525826414, 1.3838867053010142, -0.1298659550706131, -3.007146529953769, -0.4371479134339112, -1.4987649242344048, -0.05594828278616842, -2.458347801850056, 0.6697959465864352, 2.638600323779429, -1.4334736453973018, -1.7527544091674543, -2.55126788260544, 0.43919616105371667, -0.5396909605551713, 0.5871878208303853, -1.772939745598578, -0.602616598198998, -1.1016540891023183, -0.9630877137017885, 1.1248381048177714, 0.2748240387380922, 0.4358776515904015, 0.7685860891350906, -0.004574417545520153, 2.14357981609164, -1.8892338070965509, -0.6699330789034134, -0.4015884234543682, -0.7132818644409759, 0.2326994556677902, 0.8536679521702573, -1.2832262558150698, 0.5823721324294828, -0.5481622827200686, 1.4767962539420714, -0.05182969341053261, -1.64242794344349, 1.3758526793671009, -0.06464799276267091, -0.0038963779145905196, 0.6762561054044929, -0.7969326503180237, 0.9207974519783559, 1.0861925805067818, -2.1934441364003576, -0.5292897576555309, 1.1117441137860085, -0.13524443733734617, -0.32520926724879606, -0.11781438669767867, -0.06603583569490025, -0.9416595928090823]}, {\"boxpoints\": false, \"line\": {\"width\": 1.3}, \"marker\": {\"color\": \"rgba(50, 171, 96, 1.0)\"}, \"name\": \"C\", \"orientation\": \"v\", \"type\": \"box\", \"y\": [-1.310690252440048, -1.0016639097981894, -0.41642088116897713, -1.7550639732151119, -0.2226778514116316, 0.23914971590826037, -1.0750014537256962, 0.7793484950989243, 1.0373619053602594, -0.3478572473188221, -1.096319830061799, -0.23679994530654408, 0.8624387834327595, -0.04885765547364744, -0.1793268858240769, -1.5781170700429645, 0.2825081976274687, 0.9209397871315534, 0.2621300064555339, 0.2724996898989235, -1.1368491934786962, 0.9003625922768816, -0.13431631567823177, 0.9920743359639713, -0.6584359514467756, -0.9423231650816679, -0.45739119432055747, 0.4890037820101285, 0.31802368109812984, 1.5506504126217866, -1.9329682877543066, 0.2131731694266834, 2.0613359524605137, 1.0590402039924574, 2.4093078538137673, 1.2496314878999002, -1.63184777201933, -0.026500697866007724, 0.892292585316659, 2.7481840888166817, -0.9174748872341176, 1.2173088850793061, -0.755318195125809, 0.24541712775521726, 0.1954851823130636, -1.2749395359716156, 0.0693579563756177, 0.8369194145379346, 1.2897940280700224, -0.9215839409576956, -0.298051090785431, 1.2105883602755476, 1.4864483357968963, 1.254140425573467, -0.6674301504233613, 0.6115464292486142, -0.7408458102254861, -0.256478721369443, -1.6066840440240275, -0.7341937458045557, -1.7475583125075766, -0.09265375180489084, -0.28401485744056926, -0.3040640351872021, 2.3594592466737465, -0.31699561375963153, -2.0445712227727206, 1.7110030149073199, -0.24988710852099302, 0.02442585394746932, 0.27995346672427457, -0.49094402256524783, 0.6593431856088066, 0.4691695169897422, -0.0226169882873906, -0.0161375807369831, -0.17390749960001475, 0.5935786825750609, -0.002887692043964249, 1.4525455124091755, 0.46974533283528147, 1.0558861103001775, 2.4556250439294582, -0.5072269246546878, -0.23070366004823475, -0.7514317490000312, 1.7243807656390517, 0.7506400344801331, 0.5615666496113562, 0.606974889270539, -1.2427417303014325, -0.7841558970428817, 0.8071819910433602, 0.08434711220247389, -0.28189543503859094, -1.2363924276835345, -0.6818873922016349, -0.1780216771073922, -1.22670896499483, 0.6530457439101603]}, {\"boxpoints\": false, \"line\": {\"width\": 1.3}, \"marker\": {\"color\": \"rgba(128, 0, 128, 1.0)\"}, \"name\": \"D\", \"orientation\": \"v\", \"type\": \"box\", \"y\": [-0.5586526736249071, 2.5648378161597214, 1.3344146941476993, 1.254354577490153, 0.16357134953986177, -0.9960938884592154, 0.13793117385325948, -1.2449787517374886, 0.7905569069667446, -0.47189843625849925, 1.760083403161101, 0.7702342858963125, 0.2697744516104289, -0.3957419259082303, -0.65073164328824, 1.200082438964805, -1.3384025367746317, 0.0850331086823893, 1.4780241829910779, -1.2114542784311022, -1.0618230206281567, 0.6447217677760896, -1.0349038148035064, -1.4657058306146857, -1.017106448859101, 0.6140089693132623, 0.44188301079672027, 1.0922550023780713, 1.7014083913907552, -0.3117596043335442, 2.09855568078052, 0.977899693543391, -1.0446629832424001, 1.8398144196070627, -1.0381798429862215, 1.386861108917373, 0.9636362602276877, 0.9202524368962468, -0.9748531629107791, 0.024610466008356827, 0.32812732151482943, -0.8789750779745303, 0.9011141580879979, 0.6879328203279454, -1.3525916616180822, -1.0699882538566368, -0.9645653684430997, -0.8324991511440036, -1.1577494401855701, -0.48500127580568525, 0.20555864863386705, 1.3455123592229001, -0.4384968657387519, 0.7962431896578012, 1.3808045347045983, 0.057946893201123485, -1.1924462650279564, -0.6443360195741673, 0.8158471858962739, -1.1165422679830348, -1.6174056572146196, -0.48200788866862027, -1.3806750452721406, 0.307668980125605, 0.8008344626421596, -0.3858147783951234, -1.6138348349914224, 0.5693639400111072, 0.3597726601090242, 1.4976770180954566, -0.22677223889894424, -0.639424471179971, 0.8137989877267898, -2.1681373219069924, -1.8416815842472938, 2.022587975603228, -0.1434116534262859, 0.14450424350839192, 0.1531220183412497, -1.1146261432345768, 0.5339641224227574, -0.4161067384024961, 0.5621537536849726, 0.8442442731778624, -0.9665262698553451, 0.8474770363065303, 1.5941001583678718, 1.1285820590845328, -1.489469537854431, -0.6036481917882937, 0.3007949292001437, 0.3904157077266811, -0.07161375607841475, -0.48174246009706273, -0.48901515104489596, 0.8097689417719991, 1.139437441228571, 0.05333200288744596, -0.6753749933549216, -0.42302442124398776]}],\n",
              "                        {\"legend\": {\"bgcolor\": \"#F5F6F9\", \"font\": {\"color\": \"#4D5663\"}}, \"paper_bgcolor\": \"#F5F6F9\", \"plot_bgcolor\": \"#F5F6F9\", \"template\": {\"data\": {\"bar\": [{\"error_x\": {\"color\": \"#2a3f5f\"}, \"error_y\": {\"color\": \"#2a3f5f\"}, \"marker\": {\"line\": {\"color\": \"#E5ECF6\", \"width\": 0.5}}, \"type\": \"bar\"}], \"barpolar\": [{\"marker\": {\"line\": {\"color\": \"#E5ECF6\", \"width\": 0.5}}, \"type\": \"barpolar\"}], \"carpet\": [{\"aaxis\": {\"endlinecolor\": \"#2a3f5f\", \"gridcolor\": \"white\", \"linecolor\": \"white\", \"minorgridcolor\": \"white\", \"startlinecolor\": \"#2a3f5f\"}, \"baxis\": {\"endlinecolor\": \"#2a3f5f\", \"gridcolor\": \"white\", \"linecolor\": \"white\", \"minorgridcolor\": \"white\", \"startlinecolor\": \"#2a3f5f\"}, \"type\": \"carpet\"}], \"choropleth\": [{\"colorbar\": {\"outlinewidth\": 0, \"ticks\": \"\"}, \"type\": \"choropleth\"}], \"contour\": [{\"colorbar\": {\"outlinewidth\": 0, \"ticks\": \"\"}, \"colorscale\": [[0.0, \"#0d0887\"], [0.1111111111111111, \"#46039f\"], [0.2222222222222222, \"#7201a8\"], [0.3333333333333333, \"#9c179e\"], [0.4444444444444444, \"#bd3786\"], [0.5555555555555556, \"#d8576b\"], [0.6666666666666666, \"#ed7953\"], [0.7777777777777778, \"#fb9f3a\"], [0.8888888888888888, \"#fdca26\"], [1.0, \"#f0f921\"]], \"type\": \"contour\"}], \"contourcarpet\": [{\"colorbar\": {\"outlinewidth\": 0, \"ticks\": \"\"}, \"type\": \"contourcarpet\"}], \"heatmap\": [{\"colorbar\": {\"outlinewidth\": 0, \"ticks\": \"\"}, \"colorscale\": [[0.0, \"#0d0887\"], [0.1111111111111111, \"#46039f\"], [0.2222222222222222, \"#7201a8\"], [0.3333333333333333, \"#9c179e\"], [0.4444444444444444, \"#bd3786\"], [0.5555555555555556, \"#d8576b\"], [0.6666666666666666, \"#ed7953\"], [0.7777777777777778, \"#fb9f3a\"], [0.8888888888888888, \"#fdca26\"], [1.0, \"#f0f921\"]], \"type\": \"heatmap\"}], \"heatmapgl\": [{\"colorbar\": {\"outlinewidth\": 0, \"ticks\": \"\"}, \"colorscale\": [[0.0, \"#0d0887\"], [0.1111111111111111, \"#46039f\"], [0.2222222222222222, \"#7201a8\"], [0.3333333333333333, \"#9c179e\"], [0.4444444444444444, \"#bd3786\"], [0.5555555555555556, \"#d8576b\"], [0.6666666666666666, \"#ed7953\"], [0.7777777777777778, \"#fb9f3a\"], [0.8888888888888888, \"#fdca26\"], [1.0, \"#f0f921\"]], \"type\": \"heatmapgl\"}], \"histogram\": [{\"marker\": {\"colorbar\": {\"outlinewidth\": 0, \"ticks\": \"\"}}, \"type\": \"histogram\"}], \"histogram2d\": [{\"colorbar\": {\"outlinewidth\": 0, \"ticks\": \"\"}, \"colorscale\": [[0.0, \"#0d0887\"], [0.1111111111111111, \"#46039f\"], [0.2222222222222222, \"#7201a8\"], [0.3333333333333333, \"#9c179e\"], [0.4444444444444444, \"#bd3786\"], [0.5555555555555556, \"#d8576b\"], [0.6666666666666666, \"#ed7953\"], [0.7777777777777778, \"#fb9f3a\"], [0.8888888888888888, \"#fdca26\"], [1.0, \"#f0f921\"]], \"type\": \"histogram2d\"}], \"histogram2dcontour\": [{\"colorbar\": {\"outlinewidth\": 0, \"ticks\": \"\"}, \"colorscale\": [[0.0, \"#0d0887\"], [0.1111111111111111, \"#46039f\"], [0.2222222222222222, \"#7201a8\"], [0.3333333333333333, \"#9c179e\"], [0.4444444444444444, \"#bd3786\"], [0.5555555555555556, \"#d8576b\"], [0.6666666666666666, \"#ed7953\"], [0.7777777777777778, \"#fb9f3a\"], [0.8888888888888888, \"#fdca26\"], [1.0, \"#f0f921\"]], \"type\": \"histogram2dcontour\"}], \"mesh3d\": [{\"colorbar\": {\"outlinewidth\": 0, \"ticks\": \"\"}, \"type\": \"mesh3d\"}], \"parcoords\": [{\"line\": {\"colorbar\": {\"outlinewidth\": 0, \"ticks\": \"\"}}, \"type\": \"parcoords\"}], \"pie\": [{\"automargin\": true, \"type\": \"pie\"}], \"scatter\": [{\"marker\": {\"colorbar\": {\"outlinewidth\": 0, \"ticks\": \"\"}}, \"type\": \"scatter\"}], \"scatter3d\": [{\"line\": {\"colorbar\": {\"outlinewidth\": 0, \"ticks\": \"\"}}, \"marker\": {\"colorbar\": {\"outlinewidth\": 0, \"ticks\": \"\"}}, \"type\": \"scatter3d\"}], \"scattercarpet\": [{\"marker\": {\"colorbar\": {\"outlinewidth\": 0, \"ticks\": \"\"}}, \"type\": \"scattercarpet\"}], \"scattergeo\": [{\"marker\": {\"colorbar\": {\"outlinewidth\": 0, \"ticks\": \"\"}}, \"type\": \"scattergeo\"}], \"scattergl\": [{\"marker\": {\"colorbar\": {\"outlinewidth\": 0, \"ticks\": \"\"}}, \"type\": \"scattergl\"}], \"scattermapbox\": [{\"marker\": {\"colorbar\": {\"outlinewidth\": 0, \"ticks\": \"\"}}, \"type\": \"scattermapbox\"}], \"scatterpolar\": [{\"marker\": {\"colorbar\": {\"outlinewidth\": 0, \"ticks\": \"\"}}, \"type\": \"scatterpolar\"}], \"scatterpolargl\": [{\"marker\": {\"colorbar\": {\"outlinewidth\": 0, \"ticks\": \"\"}}, \"type\": \"scatterpolargl\"}], \"scatterternary\": [{\"marker\": {\"colorbar\": {\"outlinewidth\": 0, \"ticks\": \"\"}}, \"type\": \"scatterternary\"}], \"surface\": [{\"colorbar\": {\"outlinewidth\": 0, \"ticks\": \"\"}, \"colorscale\": [[0.0, \"#0d0887\"], [0.1111111111111111, \"#46039f\"], [0.2222222222222222, \"#7201a8\"], [0.3333333333333333, \"#9c179e\"], [0.4444444444444444, \"#bd3786\"], [0.5555555555555556, \"#d8576b\"], [0.6666666666666666, \"#ed7953\"], [0.7777777777777778, \"#fb9f3a\"], [0.8888888888888888, \"#fdca26\"], [1.0, \"#f0f921\"]], \"type\": \"surface\"}], \"table\": [{\"cells\": {\"fill\": {\"color\": \"#EBF0F8\"}, \"line\": {\"color\": \"white\"}}, \"header\": {\"fill\": {\"color\": \"#C8D4E3\"}, \"line\": {\"color\": \"white\"}}, \"type\": \"table\"}]}, \"layout\": {\"annotationdefaults\": {\"arrowcolor\": \"#2a3f5f\", \"arrowhead\": 0, \"arrowwidth\": 1}, \"coloraxis\": {\"colorbar\": {\"outlinewidth\": 0, \"ticks\": \"\"}}, \"colorscale\": {\"diverging\": [[0, \"#8e0152\"], [0.1, \"#c51b7d\"], [0.2, \"#de77ae\"], [0.3, \"#f1b6da\"], [0.4, \"#fde0ef\"], [0.5, \"#f7f7f7\"], [0.6, \"#e6f5d0\"], [0.7, \"#b8e186\"], [0.8, \"#7fbc41\"], [0.9, \"#4d9221\"], [1, \"#276419\"]], \"sequential\": [[0.0, \"#0d0887\"], [0.1111111111111111, \"#46039f\"], [0.2222222222222222, \"#7201a8\"], [0.3333333333333333, \"#9c179e\"], [0.4444444444444444, \"#bd3786\"], [0.5555555555555556, \"#d8576b\"], [0.6666666666666666, \"#ed7953\"], [0.7777777777777778, \"#fb9f3a\"], [0.8888888888888888, \"#fdca26\"], [1.0, \"#f0f921\"]], \"sequentialminus\": [[0.0, \"#0d0887\"], [0.1111111111111111, \"#46039f\"], [0.2222222222222222, \"#7201a8\"], [0.3333333333333333, \"#9c179e\"], [0.4444444444444444, \"#bd3786\"], [0.5555555555555556, \"#d8576b\"], [0.6666666666666666, \"#ed7953\"], [0.7777777777777778, \"#fb9f3a\"], [0.8888888888888888, \"#fdca26\"], [1.0, \"#f0f921\"]]}, \"colorway\": [\"#636efa\", \"#EF553B\", \"#00cc96\", \"#ab63fa\", \"#FFA15A\", \"#19d3f3\", \"#FF6692\", \"#B6E880\", \"#FF97FF\", \"#FECB52\"], \"font\": {\"color\": \"#2a3f5f\"}, \"geo\": {\"bgcolor\": \"white\", \"lakecolor\": \"white\", \"landcolor\": \"#E5ECF6\", \"showlakes\": true, \"showland\": true, \"subunitcolor\": \"white\"}, \"hoverlabel\": {\"align\": \"left\"}, \"hovermode\": \"closest\", \"mapbox\": {\"style\": \"light\"}, \"paper_bgcolor\": \"white\", \"plot_bgcolor\": \"#E5ECF6\", \"polar\": {\"angularaxis\": {\"gridcolor\": \"white\", \"linecolor\": \"white\", \"ticks\": \"\"}, \"bgcolor\": \"#E5ECF6\", \"radialaxis\": {\"gridcolor\": \"white\", \"linecolor\": \"white\", \"ticks\": \"\"}}, \"scene\": {\"xaxis\": {\"backgroundcolor\": \"#E5ECF6\", \"gridcolor\": \"white\", \"gridwidth\": 2, \"linecolor\": \"white\", \"showbackground\": true, \"ticks\": \"\", \"zerolinecolor\": \"white\"}, \"yaxis\": {\"backgroundcolor\": \"#E5ECF6\", \"gridcolor\": \"white\", \"gridwidth\": 2, \"linecolor\": \"white\", \"showbackground\": true, \"ticks\": \"\", \"zerolinecolor\": \"white\"}, \"zaxis\": {\"backgroundcolor\": \"#E5ECF6\", \"gridcolor\": \"white\", \"gridwidth\": 2, \"linecolor\": \"white\", \"showbackground\": true, \"ticks\": \"\", \"zerolinecolor\": \"white\"}}, \"shapedefaults\": {\"line\": {\"color\": \"#2a3f5f\"}}, \"ternary\": {\"aaxis\": {\"gridcolor\": \"white\", \"linecolor\": \"white\", \"ticks\": \"\"}, \"baxis\": {\"gridcolor\": \"white\", \"linecolor\": \"white\", \"ticks\": \"\"}, \"bgcolor\": \"#E5ECF6\", \"caxis\": {\"gridcolor\": \"white\", \"linecolor\": \"white\", \"ticks\": \"\"}}, \"title\": {\"x\": 0.05}, \"xaxis\": {\"automargin\": true, \"gridcolor\": \"white\", \"linecolor\": \"white\", \"ticks\": \"\", \"title\": {\"standoff\": 15}, \"zerolinecolor\": \"white\", \"zerolinewidth\": 2}, \"yaxis\": {\"automargin\": true, \"gridcolor\": \"white\", \"linecolor\": \"white\", \"ticks\": \"\", \"title\": {\"standoff\": 15}, \"zerolinecolor\": \"white\", \"zerolinewidth\": 2}}}, \"title\": {\"font\": {\"color\": \"#4D5663\"}}, \"xaxis\": {\"gridcolor\": \"#E1E5ED\", \"showgrid\": true, \"tickfont\": {\"color\": \"#4D5663\"}, \"title\": {\"font\": {\"color\": \"#4D5663\"}, \"text\": \"\"}, \"zerolinecolor\": \"#E1E5ED\"}, \"yaxis\": {\"gridcolor\": \"#E1E5ED\", \"showgrid\": true, \"tickfont\": {\"color\": \"#4D5663\"}, \"title\": {\"font\": {\"color\": \"#4D5663\"}, \"text\": \"\"}, \"zerolinecolor\": \"#E1E5ED\"}},\n",
              "                        {\"showLink\": true, \"linkText\": \"Export to plot.ly\", \"plotlyServerURL\": \"https://plot.ly\", \"responsive\": true}\n",
              "                    ).then(function(){\n",
              "                            \n",
              "var gd = document.getElementById('b8638763-f533-4021-a962-d280d7823d41');\n",
              "var x = new MutationObserver(function (mutations, observer) {{\n",
              "        var display = window.getComputedStyle(gd).display;\n",
              "        if (!display || display === 'none') {{\n",
              "            console.log([gd, 'removed!']);\n",
              "            Plotly.purge(gd);\n",
              "            observer.disconnect();\n",
              "        }}\n",
              "}});\n",
              "\n",
              "// Listen for the removal of the full notebook cells\n",
              "var notebookContainer = gd.closest('#notebook-container');\n",
              "if (notebookContainer) {{\n",
              "    x.observe(notebookContainer, {childList: true});\n",
              "}}\n",
              "\n",
              "// Listen for the clearing of the current output cell\n",
              "var outputEl = gd.closest('.output');\n",
              "if (outputEl) {{\n",
              "    x.observe(outputEl, {childList: true});\n",
              "}}\n",
              "\n",
              "                        })\n",
              "                };\n",
              "                });\n",
              "            </script>\n",
              "        </div>"
            ],
            "application/vnd.plotly.v1+json": {
              "data": [
                {
                  "orientation": "v",
                  "y": [
                    0.49449272530329047,
                    0.034528001350900256,
                    -0.7946215341312589,
                    1.9028248305238074,
                    0.006168500487285368,
                    -0.646904665314446,
                    0.48255753274079133,
                    -0.7343086288457172,
                    -0.34794321781969817,
                    1.9142109663219973,
                    1.9009810730582737,
                    0.60851843055985,
                    0.7118296524467419,
                    -1.146016055014683,
                    -0.18326960130776676,
                    -0.12060848620152653,
                    0.6279615151556829,
                    2.3972492782457357,
                    0.25352786848048336,
                    0.30340667749886713,
                    1.911779639274964,
                    -0.41634320669644,
                    0.06774707796135956,
                    -0.6969960897231474,
                    -1.1926002276894017,
                    -0.9052079661067426,
                    1.1360267449714567,
                    -0.8071906369875103,
                    1.5973964698699552,
                    0.8548629282365606,
                    0.00805549333156661,
                    -0.1875107634509211,
                    1.860888082553138,
                    0.4491610317689726,
                    -1.1065729004552944,
                    -1.210253649996616,
                    -1.3861184880132484,
                    -0.37859662107129394,
                    0.6744767804346525,
                    -1.0787036830472339,
                    0.09231075314670419,
                    -0.11910687458279542,
                    -0.00932143515294092,
                    0.8237425395388134,
                    -1.2245368744825151,
                    0.765472350926838,
                    1.488814705875263,
                    0.6332138353148433,
                    0.017800676144336905,
                    -0.10641501029678054,
                    -0.2561215983248197,
                    -0.16090710308918565,
                    -0.5629484054684389,
                    0.24499515509043016,
                    -1.0250294042886583,
                    -0.23433780993918485,
                    -0.6235825081087522,
                    -1.0040664888392414,
                    0.4412264639634368,
                    -0.13897635859556548,
                    0.4909861903980702,
                    1.6283087805480077,
                    -0.8157090997355115,
                    0.2591105079595253,
                    1.8061640134274737,
                    -0.26243055062034426,
                    -1.2041654634413208,
                    0.08228734517166987,
                    0.24626482502167044,
                    0.08211455780515052,
                    1.2051798170386212,
                    -1.1799496193151544,
                    -0.526486513684934,
                    -0.25981063949919314,
                    0.3662313414855823,
                    -0.6529890732166655,
                    1.5678515870250003,
                    0.05769126472384962,
                    -1.2569152310660323,
                    -0.6859973308376616,
                    -1.8511519876772007,
                    -0.9653073216056013,
                    1.112894317654417,
                    0.3907391182199121,
                    -0.63850397282398,
                    -0.8403492596202459,
                    0.48223732635132477,
                    -0.2934179114575572,
                    -0.12704325980510536,
                    0.36727881765268805,
                    1.9638666113011793,
                    -1.1639993715176382,
                    1.4742499705754153,
                    -1.3170710454264,
                    2.061406034108948,
                    1.0390809142847595,
                    -0.35994721777590705,
                    0.5822715275002863,
                    0.5780547144122881,
                    -0.7910318664440708
                  ],
                  "marker": {
                    "color": "rgba(255, 153, 51, 1.0)"
                  },
                  "line": {
                    "width": 1.3
                  },
                  "boxpoints": false,
                  "type": "box",
                  "name": "A"
                },
                {
                  "orientation": "v",
                  "y": [
                    -0.8136759797552139,
                    -0.05485004777981325,
                    -0.7354321015336972,
                    0.2249286743408787,
                    1.042791519448513,
                    -0.18273615906352095,
                    -0.06692170724897374,
                    1.607177305910856,
                    -0.1793710017199522,
                    -0.018194588543706005,
                    0.12316141153047848,
                    0.3680399156648711,
                    -0.5974356495058103,
                    -0.09832813929968391,
                    0.32320235378837736,
                    -0.30785533668697723,
                    1.5758386876787536,
                    1.5225267490392824,
                    0.6163565107520003,
                    -0.016783669433683018,
                    0.3826115635049692,
                    -0.26777625398632077,
                    -1.635750655467563,
                    0.3406422253573746,
                    -0.787959156960995,
                    0.3645487271885021,
                    -0.35577341396159645,
                    0.6490752613997947,
                    -0.8130874975316237,
                    0.47861025390015216,
                    -1.4102850439880745,
                    0.6389802293177309,
                    -1.080070246304188,
                    0.014505110937698303,
                    0.5335163451855318,
                    -0.020432045686978578,
                    -0.32132438112819084,
                    -1.641500057485398,
                    0.5990451502361493,
                    -0.724953471543375,
                    0.8536130491768231,
                    -0.2910271148862159,
                    -0.9111452886490694,
                    -0.720343772877038,
                    0.7823487918924391,
                    -0.8568066719129985,
                    -0.46363014921539397,
                    -0.34993197525826414,
                    1.3838867053010142,
                    -0.1298659550706131,
                    -3.007146529953769,
                    -0.4371479134339112,
                    -1.4987649242344048,
                    -0.05594828278616842,
                    -2.458347801850056,
                    0.6697959465864352,
                    2.638600323779429,
                    -1.4334736453973018,
                    -1.7527544091674543,
                    -2.55126788260544,
                    0.43919616105371667,
                    -0.5396909605551713,
                    0.5871878208303853,
                    -1.772939745598578,
                    -0.602616598198998,
                    -1.1016540891023183,
                    -0.9630877137017885,
                    1.1248381048177714,
                    0.2748240387380922,
                    0.4358776515904015,
                    0.7685860891350906,
                    -0.004574417545520153,
                    2.14357981609164,
                    -1.8892338070965509,
                    -0.6699330789034134,
                    -0.4015884234543682,
                    -0.7132818644409759,
                    0.2326994556677902,
                    0.8536679521702573,
                    -1.2832262558150698,
                    0.5823721324294828,
                    -0.5481622827200686,
                    1.4767962539420714,
                    -0.05182969341053261,
                    -1.64242794344349,
                    1.3758526793671009,
                    -0.06464799276267091,
                    -0.0038963779145905196,
                    0.6762561054044929,
                    -0.7969326503180237,
                    0.9207974519783559,
                    1.0861925805067818,
                    -2.1934441364003576,
                    -0.5292897576555309,
                    1.1117441137860085,
                    -0.13524443733734617,
                    -0.32520926724879606,
                    -0.11781438669767867,
                    -0.06603583569490025,
                    -0.9416595928090823
                  ],
                  "marker": {
                    "color": "rgba(55, 128, 191, 1.0)"
                  },
                  "line": {
                    "width": 1.3
                  },
                  "boxpoints": false,
                  "type": "box",
                  "name": "B"
                },
                {
                  "orientation": "v",
                  "y": [
                    -1.310690252440048,
                    -1.0016639097981894,
                    -0.41642088116897713,
                    -1.7550639732151119,
                    -0.2226778514116316,
                    0.23914971590826037,
                    -1.0750014537256962,
                    0.7793484950989243,
                    1.0373619053602594,
                    -0.3478572473188221,
                    -1.096319830061799,
                    -0.23679994530654408,
                    0.8624387834327595,
                    -0.04885765547364744,
                    -0.1793268858240769,
                    -1.5781170700429645,
                    0.2825081976274687,
                    0.9209397871315534,
                    0.2621300064555339,
                    0.2724996898989235,
                    -1.1368491934786962,
                    0.9003625922768816,
                    -0.13431631567823177,
                    0.9920743359639713,
                    -0.6584359514467756,
                    -0.9423231650816679,
                    -0.45739119432055747,
                    0.4890037820101285,
                    0.31802368109812984,
                    1.5506504126217866,
                    -1.9329682877543066,
                    0.2131731694266834,
                    2.0613359524605137,
                    1.0590402039924574,
                    2.4093078538137673,
                    1.2496314878999002,
                    -1.63184777201933,
                    -0.026500697866007724,
                    0.892292585316659,
                    2.7481840888166817,
                    -0.9174748872341176,
                    1.2173088850793061,
                    -0.755318195125809,
                    0.24541712775521726,
                    0.1954851823130636,
                    -1.2749395359716156,
                    0.0693579563756177,
                    0.8369194145379346,
                    1.2897940280700224,
                    -0.9215839409576956,
                    -0.298051090785431,
                    1.2105883602755476,
                    1.4864483357968963,
                    1.254140425573467,
                    -0.6674301504233613,
                    0.6115464292486142,
                    -0.7408458102254861,
                    -0.256478721369443,
                    -1.6066840440240275,
                    -0.7341937458045557,
                    -1.7475583125075766,
                    -0.09265375180489084,
                    -0.28401485744056926,
                    -0.3040640351872021,
                    2.3594592466737465,
                    -0.31699561375963153,
                    -2.0445712227727206,
                    1.7110030149073199,
                    -0.24988710852099302,
                    0.02442585394746932,
                    0.27995346672427457,
                    -0.49094402256524783,
                    0.6593431856088066,
                    0.4691695169897422,
                    -0.0226169882873906,
                    -0.0161375807369831,
                    -0.17390749960001475,
                    0.5935786825750609,
                    -0.002887692043964249,
                    1.4525455124091755,
                    0.46974533283528147,
                    1.0558861103001775,
                    2.4556250439294582,
                    -0.5072269246546878,
                    -0.23070366004823475,
                    -0.7514317490000312,
                    1.7243807656390517,
                    0.7506400344801331,
                    0.5615666496113562,
                    0.606974889270539,
                    -1.2427417303014325,
                    -0.7841558970428817,
                    0.8071819910433602,
                    0.08434711220247389,
                    -0.28189543503859094,
                    -1.2363924276835345,
                    -0.6818873922016349,
                    -0.1780216771073922,
                    -1.22670896499483,
                    0.6530457439101603
                  ],
                  "marker": {
                    "color": "rgba(50, 171, 96, 1.0)"
                  },
                  "line": {
                    "width": 1.3
                  },
                  "boxpoints": false,
                  "type": "box",
                  "name": "C"
                },
                {
                  "orientation": "v",
                  "y": [
                    -0.5586526736249071,
                    2.5648378161597214,
                    1.3344146941476993,
                    1.254354577490153,
                    0.16357134953986177,
                    -0.9960938884592154,
                    0.13793117385325948,
                    -1.2449787517374886,
                    0.7905569069667446,
                    -0.47189843625849925,
                    1.760083403161101,
                    0.7702342858963125,
                    0.2697744516104289,
                    -0.3957419259082303,
                    -0.65073164328824,
                    1.200082438964805,
                    -1.3384025367746317,
                    0.0850331086823893,
                    1.4780241829910779,
                    -1.2114542784311022,
                    -1.0618230206281567,
                    0.6447217677760896,
                    -1.0349038148035064,
                    -1.4657058306146857,
                    -1.017106448859101,
                    0.6140089693132623,
                    0.44188301079672027,
                    1.0922550023780713,
                    1.7014083913907552,
                    -0.3117596043335442,
                    2.09855568078052,
                    0.977899693543391,
                    -1.0446629832424001,
                    1.8398144196070627,
                    -1.0381798429862215,
                    1.386861108917373,
                    0.9636362602276877,
                    0.9202524368962468,
                    -0.9748531629107791,
                    0.024610466008356827,
                    0.32812732151482943,
                    -0.8789750779745303,
                    0.9011141580879979,
                    0.6879328203279454,
                    -1.3525916616180822,
                    -1.0699882538566368,
                    -0.9645653684430997,
                    -0.8324991511440036,
                    -1.1577494401855701,
                    -0.48500127580568525,
                    0.20555864863386705,
                    1.3455123592229001,
                    -0.4384968657387519,
                    0.7962431896578012,
                    1.3808045347045983,
                    0.057946893201123485,
                    -1.1924462650279564,
                    -0.6443360195741673,
                    0.8158471858962739,
                    -1.1165422679830348,
                    -1.6174056572146196,
                    -0.48200788866862027,
                    -1.3806750452721406,
                    0.307668980125605,
                    0.8008344626421596,
                    -0.3858147783951234,
                    -1.6138348349914224,
                    0.5693639400111072,
                    0.3597726601090242,
                    1.4976770180954566,
                    -0.22677223889894424,
                    -0.639424471179971,
                    0.8137989877267898,
                    -2.1681373219069924,
                    -1.8416815842472938,
                    2.022587975603228,
                    -0.1434116534262859,
                    0.14450424350839192,
                    0.1531220183412497,
                    -1.1146261432345768,
                    0.5339641224227574,
                    -0.4161067384024961,
                    0.5621537536849726,
                    0.8442442731778624,
                    -0.9665262698553451,
                    0.8474770363065303,
                    1.5941001583678718,
                    1.1285820590845328,
                    -1.489469537854431,
                    -0.6036481917882937,
                    0.3007949292001437,
                    0.3904157077266811,
                    -0.07161375607841475,
                    -0.48174246009706273,
                    -0.48901515104489596,
                    0.8097689417719991,
                    1.139437441228571,
                    0.05333200288744596,
                    -0.6753749933549216,
                    -0.42302442124398776
                  ],
                  "marker": {
                    "color": "rgba(128, 0, 128, 1.0)"
                  },
                  "line": {
                    "width": 1.3
                  },
                  "boxpoints": false,
                  "type": "box",
                  "name": "D"
                }
              ],
              "config": {
                "plotlyServerURL": "https://plot.ly",
                "linkText": "Export to plot.ly",
                "showLink": true
              },
              "layout": {
                "template": {
                  "layout": {
                    "shapedefaults": {
                      "line": {
                        "color": "#2a3f5f"
                      }
                    },
                    "polar": {
                      "radialaxis": {
                        "ticks": "",
                        "gridcolor": "white",
                        "linecolor": "white"
                      },
                      "bgcolor": "#E5ECF6",
                      "angularaxis": {
                        "ticks": "",
                        "gridcolor": "white",
                        "linecolor": "white"
                      }
                    },
                    "colorway": [
                      "#636efa",
                      "#EF553B",
                      "#00cc96",
                      "#ab63fa",
                      "#FFA15A",
                      "#19d3f3",
                      "#FF6692",
                      "#B6E880",
                      "#FF97FF",
                      "#FECB52"
                    ],
                    "xaxis": {
                      "automargin": true,
                      "title": {
                        "standoff": 15
                      },
                      "zerolinewidth": 2,
                      "ticks": "",
                      "zerolinecolor": "white",
                      "gridcolor": "white",
                      "linecolor": "white"
                    },
                    "colorscale": {
                      "diverging": [
                        [
                          0,
                          "#8e0152"
                        ],
                        [
                          0.1,
                          "#c51b7d"
                        ],
                        [
                          0.2,
                          "#de77ae"
                        ],
                        [
                          0.3,
                          "#f1b6da"
                        ],
                        [
                          0.4,
                          "#fde0ef"
                        ],
                        [
                          0.5,
                          "#f7f7f7"
                        ],
                        [
                          0.6,
                          "#e6f5d0"
                        ],
                        [
                          0.7,
                          "#b8e186"
                        ],
                        [
                          0.8,
                          "#7fbc41"
                        ],
                        [
                          0.9,
                          "#4d9221"
                        ],
                        [
                          1,
                          "#276419"
                        ]
                      ],
                      "sequential": [
                        [
                          0,
                          "#0d0887"
                        ],
                        [
                          0.1111111111111111,
                          "#46039f"
                        ],
                        [
                          0.2222222222222222,
                          "#7201a8"
                        ],
                        [
                          0.3333333333333333,
                          "#9c179e"
                        ],
                        [
                          0.4444444444444444,
                          "#bd3786"
                        ],
                        [
                          0.5555555555555556,
                          "#d8576b"
                        ],
                        [
                          0.6666666666666666,
                          "#ed7953"
                        ],
                        [
                          0.7777777777777778,
                          "#fb9f3a"
                        ],
                        [
                          0.8888888888888888,
                          "#fdca26"
                        ],
                        [
                          1,
                          "#f0f921"
                        ]
                      ],
                      "sequentialminus": [
                        [
                          0,
                          "#0d0887"
                        ],
                        [
                          0.1111111111111111,
                          "#46039f"
                        ],
                        [
                          0.2222222222222222,
                          "#7201a8"
                        ],
                        [
                          0.3333333333333333,
                          "#9c179e"
                        ],
                        [
                          0.4444444444444444,
                          "#bd3786"
                        ],
                        [
                          0.5555555555555556,
                          "#d8576b"
                        ],
                        [
                          0.6666666666666666,
                          "#ed7953"
                        ],
                        [
                          0.7777777777777778,
                          "#fb9f3a"
                        ],
                        [
                          0.8888888888888888,
                          "#fdca26"
                        ],
                        [
                          1,
                          "#f0f921"
                        ]
                      ]
                    },
                    "paper_bgcolor": "white",
                    "plot_bgcolor": "#E5ECF6",
                    "title": {
                      "x": 0.05
                    },
                    "scene": {
                      "zaxis": {
                        "backgroundcolor": "#E5ECF6",
                        "ticks": "",
                        "gridwidth": 2,
                        "showbackground": true,
                        "zerolinecolor": "white",
                        "gridcolor": "white",
                        "linecolor": "white"
                      },
                      "xaxis": {
                        "backgroundcolor": "#E5ECF6",
                        "ticks": "",
                        "gridwidth": 2,
                        "showbackground": true,
                        "zerolinecolor": "white",
                        "gridcolor": "white",
                        "linecolor": "white"
                      },
                      "yaxis": {
                        "backgroundcolor": "#E5ECF6",
                        "ticks": "",
                        "gridwidth": 2,
                        "showbackground": true,
                        "zerolinecolor": "white",
                        "gridcolor": "white",
                        "linecolor": "white"
                      }
                    },
                    "yaxis": {
                      "automargin": true,
                      "title": {
                        "standoff": 15
                      },
                      "zerolinewidth": 2,
                      "ticks": "",
                      "zerolinecolor": "white",
                      "gridcolor": "white",
                      "linecolor": "white"
                    },
                    "annotationdefaults": {
                      "arrowwidth": 1,
                      "arrowhead": 0,
                      "arrowcolor": "#2a3f5f"
                    },
                    "hoverlabel": {
                      "align": "left"
                    },
                    "ternary": {
                      "bgcolor": "#E5ECF6",
                      "baxis": {
                        "ticks": "",
                        "gridcolor": "white",
                        "linecolor": "white"
                      },
                      "caxis": {
                        "ticks": "",
                        "gridcolor": "white",
                        "linecolor": "white"
                      },
                      "aaxis": {
                        "ticks": "",
                        "gridcolor": "white",
                        "linecolor": "white"
                      }
                    },
                    "mapbox": {
                      "style": "light"
                    },
                    "hovermode": "closest",
                    "font": {
                      "color": "#2a3f5f"
                    },
                    "geo": {
                      "showland": true,
                      "landcolor": "#E5ECF6",
                      "showlakes": true,
                      "bgcolor": "white",
                      "subunitcolor": "white",
                      "lakecolor": "white"
                    },
                    "coloraxis": {
                      "colorbar": {
                        "outlinewidth": 0,
                        "ticks": ""
                      }
                    }
                  },
                  "data": {
                    "mesh3d": [
                      {
                        "colorbar": {
                          "outlinewidth": 0,
                          "ticks": ""
                        },
                        "type": "mesh3d"
                      }
                    ],
                    "scattercarpet": [
                      {
                        "marker": {
                          "colorbar": {
                            "outlinewidth": 0,
                            "ticks": ""
                          }
                        },
                        "type": "scattercarpet"
                      }
                    ],
                    "pie": [
                      {
                        "automargin": true,
                        "type": "pie"
                      }
                    ],
                    "surface": [
                      {
                        "colorbar": {
                          "outlinewidth": 0,
                          "ticks": ""
                        },
                        "type": "surface",
                        "colorscale": [
                          [
                            0,
                            "#0d0887"
                          ],
                          [
                            0.1111111111111111,
                            "#46039f"
                          ],
                          [
                            0.2222222222222222,
                            "#7201a8"
                          ],
                          [
                            0.3333333333333333,
                            "#9c179e"
                          ],
                          [
                            0.4444444444444444,
                            "#bd3786"
                          ],
                          [
                            0.5555555555555556,
                            "#d8576b"
                          ],
                          [
                            0.6666666666666666,
                            "#ed7953"
                          ],
                          [
                            0.7777777777777778,
                            "#fb9f3a"
                          ],
                          [
                            0.8888888888888888,
                            "#fdca26"
                          ],
                          [
                            1,
                            "#f0f921"
                          ]
                        ]
                      }
                    ],
                    "table": [
                      {
                        "header": {
                          "line": {
                            "color": "white"
                          },
                          "fill": {
                            "color": "#C8D4E3"
                          }
                        },
                        "cells": {
                          "line": {
                            "color": "white"
                          },
                          "fill": {
                            "color": "#EBF0F8"
                          }
                        },
                        "type": "table"
                      }
                    ],
                    "scatterpolargl": [
                      {
                        "marker": {
                          "colorbar": {
                            "outlinewidth": 0,
                            "ticks": ""
                          }
                        },
                        "type": "scatterpolargl"
                      }
                    ],
                    "contour": [
                      {
                        "colorbar": {
                          "outlinewidth": 0,
                          "ticks": ""
                        },
                        "type": "contour",
                        "colorscale": [
                          [
                            0,
                            "#0d0887"
                          ],
                          [
                            0.1111111111111111,
                            "#46039f"
                          ],
                          [
                            0.2222222222222222,
                            "#7201a8"
                          ],
                          [
                            0.3333333333333333,
                            "#9c179e"
                          ],
                          [
                            0.4444444444444444,
                            "#bd3786"
                          ],
                          [
                            0.5555555555555556,
                            "#d8576b"
                          ],
                          [
                            0.6666666666666666,
                            "#ed7953"
                          ],
                          [
                            0.7777777777777778,
                            "#fb9f3a"
                          ],
                          [
                            0.8888888888888888,
                            "#fdca26"
                          ],
                          [
                            1,
                            "#f0f921"
                          ]
                        ]
                      }
                    ],
                    "carpet": [
                      {
                        "type": "carpet",
                        "baxis": {
                          "minorgridcolor": "white",
                          "gridcolor": "white",
                          "linecolor": "white",
                          "endlinecolor": "#2a3f5f",
                          "startlinecolor": "#2a3f5f"
                        },
                        "aaxis": {
                          "minorgridcolor": "white",
                          "gridcolor": "white",
                          "linecolor": "white",
                          "endlinecolor": "#2a3f5f",
                          "startlinecolor": "#2a3f5f"
                        }
                      }
                    ],
                    "contourcarpet": [
                      {
                        "colorbar": {
                          "outlinewidth": 0,
                          "ticks": ""
                        },
                        "type": "contourcarpet"
                      }
                    ],
                    "heatmap": [
                      {
                        "colorbar": {
                          "outlinewidth": 0,
                          "ticks": ""
                        },
                        "type": "heatmap",
                        "colorscale": [
                          [
                            0,
                            "#0d0887"
                          ],
                          [
                            0.1111111111111111,
                            "#46039f"
                          ],
                          [
                            0.2222222222222222,
                            "#7201a8"
                          ],
                          [
                            0.3333333333333333,
                            "#9c179e"
                          ],
                          [
                            0.4444444444444444,
                            "#bd3786"
                          ],
                          [
                            0.5555555555555556,
                            "#d8576b"
                          ],
                          [
                            0.6666666666666666,
                            "#ed7953"
                          ],
                          [
                            0.7777777777777778,
                            "#fb9f3a"
                          ],
                          [
                            0.8888888888888888,
                            "#fdca26"
                          ],
                          [
                            1,
                            "#f0f921"
                          ]
                        ]
                      }
                    ],
                    "scattermapbox": [
                      {
                        "marker": {
                          "colorbar": {
                            "outlinewidth": 0,
                            "ticks": ""
                          }
                        },
                        "type": "scattermapbox"
                      }
                    ],
                    "scatter3d": [
                      {
                        "marker": {
                          "colorbar": {
                            "outlinewidth": 0,
                            "ticks": ""
                          }
                        },
                        "line": {
                          "colorbar": {
                            "outlinewidth": 0,
                            "ticks": ""
                          }
                        },
                        "type": "scatter3d"
                      }
                    ],
                    "scattergl": [
                      {
                        "marker": {
                          "colorbar": {
                            "outlinewidth": 0,
                            "ticks": ""
                          }
                        },
                        "type": "scattergl"
                      }
                    ],
                    "scatterternary": [
                      {
                        "marker": {
                          "colorbar": {
                            "outlinewidth": 0,
                            "ticks": ""
                          }
                        },
                        "type": "scatterternary"
                      }
                    ],
                    "histogram": [
                      {
                        "marker": {
                          "colorbar": {
                            "outlinewidth": 0,
                            "ticks": ""
                          }
                        },
                        "type": "histogram"
                      }
                    ],
                    "heatmapgl": [
                      {
                        "colorbar": {
                          "outlinewidth": 0,
                          "ticks": ""
                        },
                        "type": "heatmapgl",
                        "colorscale": [
                          [
                            0,
                            "#0d0887"
                          ],
                          [
                            0.1111111111111111,
                            "#46039f"
                          ],
                          [
                            0.2222222222222222,
                            "#7201a8"
                          ],
                          [
                            0.3333333333333333,
                            "#9c179e"
                          ],
                          [
                            0.4444444444444444,
                            "#bd3786"
                          ],
                          [
                            0.5555555555555556,
                            "#d8576b"
                          ],
                          [
                            0.6666666666666666,
                            "#ed7953"
                          ],
                          [
                            0.7777777777777778,
                            "#fb9f3a"
                          ],
                          [
                            0.8888888888888888,
                            "#fdca26"
                          ],
                          [
                            1,
                            "#f0f921"
                          ]
                        ]
                      }
                    ],
                    "scatterpolar": [
                      {
                        "marker": {
                          "colorbar": {
                            "outlinewidth": 0,
                            "ticks": ""
                          }
                        },
                        "type": "scatterpolar"
                      }
                    ],
                    "histogram2d": [
                      {
                        "colorbar": {
                          "outlinewidth": 0,
                          "ticks": ""
                        },
                        "type": "histogram2d",
                        "colorscale": [
                          [
                            0,
                            "#0d0887"
                          ],
                          [
                            0.1111111111111111,
                            "#46039f"
                          ],
                          [
                            0.2222222222222222,
                            "#7201a8"
                          ],
                          [
                            0.3333333333333333,
                            "#9c179e"
                          ],
                          [
                            0.4444444444444444,
                            "#bd3786"
                          ],
                          [
                            0.5555555555555556,
                            "#d8576b"
                          ],
                          [
                            0.6666666666666666,
                            "#ed7953"
                          ],
                          [
                            0.7777777777777778,
                            "#fb9f3a"
                          ],
                          [
                            0.8888888888888888,
                            "#fdca26"
                          ],
                          [
                            1,
                            "#f0f921"
                          ]
                        ]
                      }
                    ],
                    "scattergeo": [
                      {
                        "marker": {
                          "colorbar": {
                            "outlinewidth": 0,
                            "ticks": ""
                          }
                        },
                        "type": "scattergeo"
                      }
                    ],
                    "bar": [
                      {
                        "marker": {
                          "line": {
                            "color": "#E5ECF6",
                            "width": 0.5
                          }
                        },
                        "type": "bar",
                        "error_x": {
                          "color": "#2a3f5f"
                        },
                        "error_y": {
                          "color": "#2a3f5f"
                        }
                      }
                    ],
                    "choropleth": [
                      {
                        "colorbar": {
                          "outlinewidth": 0,
                          "ticks": ""
                        },
                        "type": "choropleth"
                      }
                    ],
                    "parcoords": [
                      {
                        "line": {
                          "colorbar": {
                            "outlinewidth": 0,
                            "ticks": ""
                          }
                        },
                        "type": "parcoords"
                      }
                    ],
                    "barpolar": [
                      {
                        "marker": {
                          "line": {
                            "color": "#E5ECF6",
                            "width": 0.5
                          }
                        },
                        "type": "barpolar"
                      }
                    ],
                    "histogram2dcontour": [
                      {
                        "colorbar": {
                          "outlinewidth": 0,
                          "ticks": ""
                        },
                        "type": "histogram2dcontour",
                        "colorscale": [
                          [
                            0,
                            "#0d0887"
                          ],
                          [
                            0.1111111111111111,
                            "#46039f"
                          ],
                          [
                            0.2222222222222222,
                            "#7201a8"
                          ],
                          [
                            0.3333333333333333,
                            "#9c179e"
                          ],
                          [
                            0.4444444444444444,
                            "#bd3786"
                          ],
                          [
                            0.5555555555555556,
                            "#d8576b"
                          ],
                          [
                            0.6666666666666666,
                            "#ed7953"
                          ],
                          [
                            0.7777777777777778,
                            "#fb9f3a"
                          ],
                          [
                            0.8888888888888888,
                            "#fdca26"
                          ],
                          [
                            1,
                            "#f0f921"
                          ]
                        ]
                      }
                    ],
                    "scatter": [
                      {
                        "marker": {
                          "colorbar": {
                            "outlinewidth": 0,
                            "ticks": ""
                          }
                        },
                        "type": "scatter"
                      }
                    ]
                  }
                },
                "title": {
                  "font": {
                    "color": "#4D5663"
                  }
                },
                "paper_bgcolor": "#F5F6F9",
                "plot_bgcolor": "#F5F6F9",
                "yaxis": {
                  "tickfont": {
                    "color": "#4D5663"
                  },
                  "zerolinecolor": "#E1E5ED",
                  "title": {
                    "text": "",
                    "font": {
                      "color": "#4D5663"
                    }
                  },
                  "gridcolor": "#E1E5ED",
                  "showgrid": true
                },
                "xaxis": {
                  "tickfont": {
                    "color": "#4D5663"
                  },
                  "zerolinecolor": "#E1E5ED",
                  "title": {
                    "text": "",
                    "font": {
                      "color": "#4D5663"
                    }
                  },
                  "gridcolor": "#E1E5ED",
                  "showgrid": true
                },
                "legend": {
                  "bgcolor": "#F5F6F9",
                  "font": {
                    "color": "#4D5663"
                  }
                }
              }
            }
          },
          "metadata": {
            "tags": []
          }
        }
      ]
    },
    {
      "cell_type": "markdown",
      "metadata": {
        "id": "IfwLS8TWo0LC"
      },
      "source": [
        "## 3d Surface"
      ]
    },
    {
      "cell_type": "code",
      "metadata": {
        "colab": {
          "base_uri": "https://localhost:8080/",
          "height": 542
        },
        "id": "85Hz_k5to0LD",
        "outputId": "a886e8b0-5f92-481a-bf46-05a76883c1ba"
      },
      "source": [
        "df3 = pd.DataFrame({'x':[1,2,3,4,5],'y':[10,20,30,20,10], 'z':[5,4,3,2,1]})\n",
        "df3.iplot(kind = 'surface',colorscale = 'rdylbu')"
      ],
      "execution_count": 23,
      "outputs": [
        {
          "output_type": "display_data",
          "data": {
            "text/html": [
              "<div>\n",
              "        \n",
              "        \n",
              "            <div id=\"f1c1bd16-29a2-45ce-9916-871542e0ea08\" class=\"plotly-graph-div\" style=\"height:525px; width:100%;\"></div>\n",
              "            <script type=\"text/javascript\">\n",
              "                require([\"plotly\"], function(Plotly) {\n",
              "                    window.PLOTLYENV=window.PLOTLYENV || {};\n",
              "                    window.PLOTLYENV.BASE_URL='https://plot.ly';\n",
              "                    \n",
              "                if (document.getElementById(\"f1c1bd16-29a2-45ce-9916-871542e0ea08\")) {\n",
              "                    Plotly.newPlot(\n",
              "                        'f1c1bd16-29a2-45ce-9916-871542e0ea08',\n",
              "                        [{\"colorscale\": [[0.0, \"rgb(165,0,38)\"], [0.1, \"rgb(215,48,39)\"], [0.2, \"rgb(244,109,67)\"], [0.3, \"rgb(253,174,97)\"], [0.4, \"rgb(254,224,144)\"], [0.5, \"rgb(255,255,191)\"], [0.6, \"rgb(224,243,248)\"], [0.7, \"rgb(171,217,233)\"], [0.8, \"rgb(116,173,209)\"], [0.9, \"rgb(69,117,180)\"], [1.0, \"rgb(49,54,149)\"]], \"type\": \"surface\", \"x\": [0, 1, 2, 3, 4], \"y\": [\"x\", \"y\", \"z\"], \"z\": [[1, 2, 3, 4, 5], [10, 20, 30, 20, 10], [5, 4, 3, 2, 1]]}],\n",
              "                        {\"legend\": {\"bgcolor\": \"#F5F6F9\", \"font\": {\"color\": \"#4D5663\"}}, \"paper_bgcolor\": \"#F5F6F9\", \"plot_bgcolor\": \"#F5F6F9\", \"template\": {\"data\": {\"bar\": [{\"error_x\": {\"color\": \"#2a3f5f\"}, \"error_y\": {\"color\": \"#2a3f5f\"}, \"marker\": {\"line\": {\"color\": \"#E5ECF6\", \"width\": 0.5}}, \"type\": \"bar\"}], \"barpolar\": [{\"marker\": {\"line\": {\"color\": \"#E5ECF6\", \"width\": 0.5}}, \"type\": \"barpolar\"}], \"carpet\": [{\"aaxis\": {\"endlinecolor\": \"#2a3f5f\", \"gridcolor\": \"white\", \"linecolor\": \"white\", \"minorgridcolor\": \"white\", \"startlinecolor\": \"#2a3f5f\"}, \"baxis\": {\"endlinecolor\": \"#2a3f5f\", \"gridcolor\": \"white\", \"linecolor\": \"white\", \"minorgridcolor\": \"white\", \"startlinecolor\": \"#2a3f5f\"}, \"type\": \"carpet\"}], \"choropleth\": [{\"colorbar\": {\"outlinewidth\": 0, \"ticks\": \"\"}, \"type\": \"choropleth\"}], \"contour\": [{\"colorbar\": {\"outlinewidth\": 0, \"ticks\": \"\"}, \"colorscale\": [[0.0, \"#0d0887\"], [0.1111111111111111, \"#46039f\"], [0.2222222222222222, \"#7201a8\"], [0.3333333333333333, \"#9c179e\"], [0.4444444444444444, \"#bd3786\"], [0.5555555555555556, \"#d8576b\"], [0.6666666666666666, \"#ed7953\"], [0.7777777777777778, \"#fb9f3a\"], [0.8888888888888888, \"#fdca26\"], [1.0, \"#f0f921\"]], \"type\": \"contour\"}], \"contourcarpet\": [{\"colorbar\": {\"outlinewidth\": 0, \"ticks\": \"\"}, \"type\": \"contourcarpet\"}], \"heatmap\": [{\"colorbar\": {\"outlinewidth\": 0, \"ticks\": \"\"}, \"colorscale\": [[0.0, \"#0d0887\"], [0.1111111111111111, \"#46039f\"], [0.2222222222222222, \"#7201a8\"], [0.3333333333333333, \"#9c179e\"], [0.4444444444444444, \"#bd3786\"], [0.5555555555555556, \"#d8576b\"], [0.6666666666666666, \"#ed7953\"], [0.7777777777777778, \"#fb9f3a\"], [0.8888888888888888, \"#fdca26\"], [1.0, \"#f0f921\"]], \"type\": \"heatmap\"}], \"heatmapgl\": [{\"colorbar\": {\"outlinewidth\": 0, \"ticks\": \"\"}, \"colorscale\": [[0.0, \"#0d0887\"], [0.1111111111111111, \"#46039f\"], [0.2222222222222222, \"#7201a8\"], [0.3333333333333333, \"#9c179e\"], [0.4444444444444444, \"#bd3786\"], [0.5555555555555556, \"#d8576b\"], [0.6666666666666666, \"#ed7953\"], [0.7777777777777778, \"#fb9f3a\"], [0.8888888888888888, \"#fdca26\"], [1.0, \"#f0f921\"]], \"type\": \"heatmapgl\"}], \"histogram\": [{\"marker\": {\"colorbar\": {\"outlinewidth\": 0, \"ticks\": \"\"}}, \"type\": \"histogram\"}], \"histogram2d\": [{\"colorbar\": {\"outlinewidth\": 0, \"ticks\": \"\"}, \"colorscale\": [[0.0, \"#0d0887\"], [0.1111111111111111, \"#46039f\"], [0.2222222222222222, \"#7201a8\"], [0.3333333333333333, \"#9c179e\"], [0.4444444444444444, \"#bd3786\"], [0.5555555555555556, \"#d8576b\"], [0.6666666666666666, \"#ed7953\"], [0.7777777777777778, \"#fb9f3a\"], [0.8888888888888888, \"#fdca26\"], [1.0, \"#f0f921\"]], \"type\": \"histogram2d\"}], \"histogram2dcontour\": [{\"colorbar\": {\"outlinewidth\": 0, \"ticks\": \"\"}, \"colorscale\": [[0.0, \"#0d0887\"], [0.1111111111111111, \"#46039f\"], [0.2222222222222222, \"#7201a8\"], [0.3333333333333333, \"#9c179e\"], [0.4444444444444444, \"#bd3786\"], [0.5555555555555556, \"#d8576b\"], [0.6666666666666666, \"#ed7953\"], [0.7777777777777778, \"#fb9f3a\"], [0.8888888888888888, \"#fdca26\"], [1.0, \"#f0f921\"]], \"type\": \"histogram2dcontour\"}], \"mesh3d\": [{\"colorbar\": {\"outlinewidth\": 0, \"ticks\": \"\"}, \"type\": \"mesh3d\"}], \"parcoords\": [{\"line\": {\"colorbar\": {\"outlinewidth\": 0, \"ticks\": \"\"}}, \"type\": \"parcoords\"}], \"pie\": [{\"automargin\": true, \"type\": \"pie\"}], \"scatter\": [{\"marker\": {\"colorbar\": {\"outlinewidth\": 0, \"ticks\": \"\"}}, \"type\": \"scatter\"}], \"scatter3d\": [{\"line\": {\"colorbar\": {\"outlinewidth\": 0, \"ticks\": \"\"}}, \"marker\": {\"colorbar\": {\"outlinewidth\": 0, \"ticks\": \"\"}}, \"type\": \"scatter3d\"}], \"scattercarpet\": [{\"marker\": {\"colorbar\": {\"outlinewidth\": 0, \"ticks\": \"\"}}, \"type\": \"scattercarpet\"}], \"scattergeo\": [{\"marker\": {\"colorbar\": {\"outlinewidth\": 0, \"ticks\": \"\"}}, \"type\": \"scattergeo\"}], \"scattergl\": [{\"marker\": {\"colorbar\": {\"outlinewidth\": 0, \"ticks\": \"\"}}, \"type\": \"scattergl\"}], \"scattermapbox\": [{\"marker\": {\"colorbar\": {\"outlinewidth\": 0, \"ticks\": \"\"}}, \"type\": \"scattermapbox\"}], \"scatterpolar\": [{\"marker\": {\"colorbar\": {\"outlinewidth\": 0, \"ticks\": \"\"}}, \"type\": \"scatterpolar\"}], \"scatterpolargl\": [{\"marker\": {\"colorbar\": {\"outlinewidth\": 0, \"ticks\": \"\"}}, \"type\": \"scatterpolargl\"}], \"scatterternary\": [{\"marker\": {\"colorbar\": {\"outlinewidth\": 0, \"ticks\": \"\"}}, \"type\": \"scatterternary\"}], \"surface\": [{\"colorbar\": {\"outlinewidth\": 0, \"ticks\": \"\"}, \"colorscale\": [[0.0, \"#0d0887\"], [0.1111111111111111, \"#46039f\"], [0.2222222222222222, \"#7201a8\"], [0.3333333333333333, \"#9c179e\"], [0.4444444444444444, \"#bd3786\"], [0.5555555555555556, \"#d8576b\"], [0.6666666666666666, \"#ed7953\"], [0.7777777777777778, \"#fb9f3a\"], [0.8888888888888888, \"#fdca26\"], [1.0, \"#f0f921\"]], \"type\": \"surface\"}], \"table\": [{\"cells\": {\"fill\": {\"color\": \"#EBF0F8\"}, \"line\": {\"color\": \"white\"}}, \"header\": {\"fill\": {\"color\": \"#C8D4E3\"}, \"line\": {\"color\": \"white\"}}, \"type\": \"table\"}]}, \"layout\": {\"annotationdefaults\": {\"arrowcolor\": \"#2a3f5f\", \"arrowhead\": 0, \"arrowwidth\": 1}, \"coloraxis\": {\"colorbar\": {\"outlinewidth\": 0, \"ticks\": \"\"}}, \"colorscale\": {\"diverging\": [[0, \"#8e0152\"], [0.1, \"#c51b7d\"], [0.2, \"#de77ae\"], [0.3, \"#f1b6da\"], [0.4, \"#fde0ef\"], [0.5, \"#f7f7f7\"], [0.6, \"#e6f5d0\"], [0.7, \"#b8e186\"], [0.8, \"#7fbc41\"], [0.9, \"#4d9221\"], [1, \"#276419\"]], \"sequential\": [[0.0, \"#0d0887\"], [0.1111111111111111, \"#46039f\"], [0.2222222222222222, \"#7201a8\"], [0.3333333333333333, \"#9c179e\"], [0.4444444444444444, \"#bd3786\"], [0.5555555555555556, \"#d8576b\"], [0.6666666666666666, \"#ed7953\"], [0.7777777777777778, \"#fb9f3a\"], [0.8888888888888888, \"#fdca26\"], [1.0, \"#f0f921\"]], \"sequentialminus\": [[0.0, \"#0d0887\"], [0.1111111111111111, \"#46039f\"], [0.2222222222222222, \"#7201a8\"], [0.3333333333333333, \"#9c179e\"], [0.4444444444444444, \"#bd3786\"], [0.5555555555555556, \"#d8576b\"], [0.6666666666666666, \"#ed7953\"], [0.7777777777777778, \"#fb9f3a\"], [0.8888888888888888, \"#fdca26\"], [1.0, \"#f0f921\"]]}, \"colorway\": [\"#636efa\", \"#EF553B\", \"#00cc96\", \"#ab63fa\", \"#FFA15A\", \"#19d3f3\", \"#FF6692\", \"#B6E880\", \"#FF97FF\", \"#FECB52\"], \"font\": {\"color\": \"#2a3f5f\"}, \"geo\": {\"bgcolor\": \"white\", \"lakecolor\": \"white\", \"landcolor\": \"#E5ECF6\", \"showlakes\": true, \"showland\": true, \"subunitcolor\": \"white\"}, \"hoverlabel\": {\"align\": \"left\"}, \"hovermode\": \"closest\", \"mapbox\": {\"style\": \"light\"}, \"paper_bgcolor\": \"white\", \"plot_bgcolor\": \"#E5ECF6\", \"polar\": {\"angularaxis\": {\"gridcolor\": \"white\", \"linecolor\": \"white\", \"ticks\": \"\"}, \"bgcolor\": \"#E5ECF6\", \"radialaxis\": {\"gridcolor\": \"white\", \"linecolor\": \"white\", \"ticks\": \"\"}}, \"scene\": {\"xaxis\": {\"backgroundcolor\": \"#E5ECF6\", \"gridcolor\": \"white\", \"gridwidth\": 2, \"linecolor\": \"white\", \"showbackground\": true, \"ticks\": \"\", \"zerolinecolor\": \"white\"}, \"yaxis\": {\"backgroundcolor\": \"#E5ECF6\", \"gridcolor\": \"white\", \"gridwidth\": 2, \"linecolor\": \"white\", \"showbackground\": true, \"ticks\": \"\", \"zerolinecolor\": \"white\"}, \"zaxis\": {\"backgroundcolor\": \"#E5ECF6\", \"gridcolor\": \"white\", \"gridwidth\": 2, \"linecolor\": \"white\", \"showbackground\": true, \"ticks\": \"\", \"zerolinecolor\": \"white\"}}, \"shapedefaults\": {\"line\": {\"color\": \"#2a3f5f\"}}, \"ternary\": {\"aaxis\": {\"gridcolor\": \"white\", \"linecolor\": \"white\", \"ticks\": \"\"}, \"baxis\": {\"gridcolor\": \"white\", \"linecolor\": \"white\", \"ticks\": \"\"}, \"bgcolor\": \"#E5ECF6\", \"caxis\": {\"gridcolor\": \"white\", \"linecolor\": \"white\", \"ticks\": \"\"}}, \"title\": {\"x\": 0.05}, \"xaxis\": {\"automargin\": true, \"gridcolor\": \"white\", \"linecolor\": \"white\", \"ticks\": \"\", \"title\": {\"standoff\": 15}, \"zerolinecolor\": \"white\", \"zerolinewidth\": 2}, \"yaxis\": {\"automargin\": true, \"gridcolor\": \"white\", \"linecolor\": \"white\", \"ticks\": \"\", \"title\": {\"standoff\": 15}, \"zerolinecolor\": \"white\", \"zerolinewidth\": 2}}}, \"title\": {\"font\": {\"color\": \"#4D5663\"}}, \"xaxis\": {\"gridcolor\": \"#E1E5ED\", \"showgrid\": true, \"tickfont\": {\"color\": \"#4D5663\"}, \"title\": {\"font\": {\"color\": \"#4D5663\"}, \"text\": \"\"}, \"zerolinecolor\": \"#E1E5ED\"}, \"yaxis\": {\"gridcolor\": \"#E1E5ED\", \"showgrid\": true, \"tickfont\": {\"color\": \"#4D5663\"}, \"title\": {\"font\": {\"color\": \"#4D5663\"}, \"text\": \"\"}, \"zerolinecolor\": \"#E1E5ED\"}},\n",
              "                        {\"showLink\": true, \"linkText\": \"Export to plot.ly\", \"plotlyServerURL\": \"https://plot.ly\", \"responsive\": true}\n",
              "                    ).then(function(){\n",
              "                            \n",
              "var gd = document.getElementById('f1c1bd16-29a2-45ce-9916-871542e0ea08');\n",
              "var x = new MutationObserver(function (mutations, observer) {{\n",
              "        var display = window.getComputedStyle(gd).display;\n",
              "        if (!display || display === 'none') {{\n",
              "            console.log([gd, 'removed!']);\n",
              "            Plotly.purge(gd);\n",
              "            observer.disconnect();\n",
              "        }}\n",
              "}});\n",
              "\n",
              "// Listen for the removal of the full notebook cells\n",
              "var notebookContainer = gd.closest('#notebook-container');\n",
              "if (notebookContainer) {{\n",
              "    x.observe(notebookContainer, {childList: true});\n",
              "}}\n",
              "\n",
              "// Listen for the clearing of the current output cell\n",
              "var outputEl = gd.closest('.output');\n",
              "if (outputEl) {{\n",
              "    x.observe(outputEl, {childList: true});\n",
              "}}\n",
              "\n",
              "                        })\n",
              "                };\n",
              "                });\n",
              "            </script>\n",
              "        </div>"
            ],
            "application/vnd.plotly.v1+json": {
              "data": [
                {
                  "y": [
                    "x",
                    "y",
                    "z"
                  ],
                  "x": [
                    0,
                    1,
                    2,
                    3,
                    4
                  ],
                  "z": [
                    [
                      1,
                      2,
                      3,
                      4,
                      5
                    ],
                    [
                      10,
                      20,
                      30,
                      20,
                      10
                    ],
                    [
                      5,
                      4,
                      3,
                      2,
                      1
                    ]
                  ],
                  "type": "surface",
                  "colorscale": [
                    [
                      0,
                      "rgb(165,0,38)"
                    ],
                    [
                      0.1,
                      "rgb(215,48,39)"
                    ],
                    [
                      0.2,
                      "rgb(244,109,67)"
                    ],
                    [
                      0.3,
                      "rgb(253,174,97)"
                    ],
                    [
                      0.4,
                      "rgb(254,224,144)"
                    ],
                    [
                      0.5,
                      "rgb(255,255,191)"
                    ],
                    [
                      0.6,
                      "rgb(224,243,248)"
                    ],
                    [
                      0.7,
                      "rgb(171,217,233)"
                    ],
                    [
                      0.8,
                      "rgb(116,173,209)"
                    ],
                    [
                      0.9,
                      "rgb(69,117,180)"
                    ],
                    [
                      1,
                      "rgb(49,54,149)"
                    ]
                  ]
                }
              ],
              "config": {
                "plotlyServerURL": "https://plot.ly",
                "linkText": "Export to plot.ly",
                "showLink": true
              },
              "layout": {
                "template": {
                  "layout": {
                    "shapedefaults": {
                      "line": {
                        "color": "#2a3f5f"
                      }
                    },
                    "polar": {
                      "radialaxis": {
                        "ticks": "",
                        "gridcolor": "white",
                        "linecolor": "white"
                      },
                      "bgcolor": "#E5ECF6",
                      "angularaxis": {
                        "ticks": "",
                        "gridcolor": "white",
                        "linecolor": "white"
                      }
                    },
                    "colorway": [
                      "#636efa",
                      "#EF553B",
                      "#00cc96",
                      "#ab63fa",
                      "#FFA15A",
                      "#19d3f3",
                      "#FF6692",
                      "#B6E880",
                      "#FF97FF",
                      "#FECB52"
                    ],
                    "xaxis": {
                      "automargin": true,
                      "title": {
                        "standoff": 15
                      },
                      "zerolinewidth": 2,
                      "ticks": "",
                      "zerolinecolor": "white",
                      "gridcolor": "white",
                      "linecolor": "white"
                    },
                    "colorscale": {
                      "diverging": [
                        [
                          0,
                          "#8e0152"
                        ],
                        [
                          0.1,
                          "#c51b7d"
                        ],
                        [
                          0.2,
                          "#de77ae"
                        ],
                        [
                          0.3,
                          "#f1b6da"
                        ],
                        [
                          0.4,
                          "#fde0ef"
                        ],
                        [
                          0.5,
                          "#f7f7f7"
                        ],
                        [
                          0.6,
                          "#e6f5d0"
                        ],
                        [
                          0.7,
                          "#b8e186"
                        ],
                        [
                          0.8,
                          "#7fbc41"
                        ],
                        [
                          0.9,
                          "#4d9221"
                        ],
                        [
                          1,
                          "#276419"
                        ]
                      ],
                      "sequential": [
                        [
                          0,
                          "#0d0887"
                        ],
                        [
                          0.1111111111111111,
                          "#46039f"
                        ],
                        [
                          0.2222222222222222,
                          "#7201a8"
                        ],
                        [
                          0.3333333333333333,
                          "#9c179e"
                        ],
                        [
                          0.4444444444444444,
                          "#bd3786"
                        ],
                        [
                          0.5555555555555556,
                          "#d8576b"
                        ],
                        [
                          0.6666666666666666,
                          "#ed7953"
                        ],
                        [
                          0.7777777777777778,
                          "#fb9f3a"
                        ],
                        [
                          0.8888888888888888,
                          "#fdca26"
                        ],
                        [
                          1,
                          "#f0f921"
                        ]
                      ],
                      "sequentialminus": [
                        [
                          0,
                          "#0d0887"
                        ],
                        [
                          0.1111111111111111,
                          "#46039f"
                        ],
                        [
                          0.2222222222222222,
                          "#7201a8"
                        ],
                        [
                          0.3333333333333333,
                          "#9c179e"
                        ],
                        [
                          0.4444444444444444,
                          "#bd3786"
                        ],
                        [
                          0.5555555555555556,
                          "#d8576b"
                        ],
                        [
                          0.6666666666666666,
                          "#ed7953"
                        ],
                        [
                          0.7777777777777778,
                          "#fb9f3a"
                        ],
                        [
                          0.8888888888888888,
                          "#fdca26"
                        ],
                        [
                          1,
                          "#f0f921"
                        ]
                      ]
                    },
                    "paper_bgcolor": "white",
                    "plot_bgcolor": "#E5ECF6",
                    "title": {
                      "x": 0.05
                    },
                    "scene": {
                      "zaxis": {
                        "backgroundcolor": "#E5ECF6",
                        "ticks": "",
                        "gridwidth": 2,
                        "showbackground": true,
                        "zerolinecolor": "white",
                        "gridcolor": "white",
                        "linecolor": "white"
                      },
                      "xaxis": {
                        "backgroundcolor": "#E5ECF6",
                        "ticks": "",
                        "gridwidth": 2,
                        "showbackground": true,
                        "zerolinecolor": "white",
                        "gridcolor": "white",
                        "linecolor": "white"
                      },
                      "yaxis": {
                        "backgroundcolor": "#E5ECF6",
                        "ticks": "",
                        "gridwidth": 2,
                        "showbackground": true,
                        "zerolinecolor": "white",
                        "gridcolor": "white",
                        "linecolor": "white"
                      }
                    },
                    "yaxis": {
                      "automargin": true,
                      "title": {
                        "standoff": 15
                      },
                      "zerolinewidth": 2,
                      "ticks": "",
                      "zerolinecolor": "white",
                      "gridcolor": "white",
                      "linecolor": "white"
                    },
                    "annotationdefaults": {
                      "arrowwidth": 1,
                      "arrowhead": 0,
                      "arrowcolor": "#2a3f5f"
                    },
                    "hoverlabel": {
                      "align": "left"
                    },
                    "ternary": {
                      "bgcolor": "#E5ECF6",
                      "baxis": {
                        "ticks": "",
                        "gridcolor": "white",
                        "linecolor": "white"
                      },
                      "caxis": {
                        "ticks": "",
                        "gridcolor": "white",
                        "linecolor": "white"
                      },
                      "aaxis": {
                        "ticks": "",
                        "gridcolor": "white",
                        "linecolor": "white"
                      }
                    },
                    "mapbox": {
                      "style": "light"
                    },
                    "hovermode": "closest",
                    "font": {
                      "color": "#2a3f5f"
                    },
                    "geo": {
                      "showland": true,
                      "landcolor": "#E5ECF6",
                      "showlakes": true,
                      "bgcolor": "white",
                      "subunitcolor": "white",
                      "lakecolor": "white"
                    },
                    "coloraxis": {
                      "colorbar": {
                        "outlinewidth": 0,
                        "ticks": ""
                      }
                    }
                  },
                  "data": {
                    "mesh3d": [
                      {
                        "colorbar": {
                          "outlinewidth": 0,
                          "ticks": ""
                        },
                        "type": "mesh3d"
                      }
                    ],
                    "scattercarpet": [
                      {
                        "marker": {
                          "colorbar": {
                            "outlinewidth": 0,
                            "ticks": ""
                          }
                        },
                        "type": "scattercarpet"
                      }
                    ],
                    "pie": [
                      {
                        "automargin": true,
                        "type": "pie"
                      }
                    ],
                    "surface": [
                      {
                        "colorbar": {
                          "outlinewidth": 0,
                          "ticks": ""
                        },
                        "type": "surface",
                        "colorscale": [
                          [
                            0,
                            "#0d0887"
                          ],
                          [
                            0.1111111111111111,
                            "#46039f"
                          ],
                          [
                            0.2222222222222222,
                            "#7201a8"
                          ],
                          [
                            0.3333333333333333,
                            "#9c179e"
                          ],
                          [
                            0.4444444444444444,
                            "#bd3786"
                          ],
                          [
                            0.5555555555555556,
                            "#d8576b"
                          ],
                          [
                            0.6666666666666666,
                            "#ed7953"
                          ],
                          [
                            0.7777777777777778,
                            "#fb9f3a"
                          ],
                          [
                            0.8888888888888888,
                            "#fdca26"
                          ],
                          [
                            1,
                            "#f0f921"
                          ]
                        ]
                      }
                    ],
                    "table": [
                      {
                        "header": {
                          "line": {
                            "color": "white"
                          },
                          "fill": {
                            "color": "#C8D4E3"
                          }
                        },
                        "cells": {
                          "line": {
                            "color": "white"
                          },
                          "fill": {
                            "color": "#EBF0F8"
                          }
                        },
                        "type": "table"
                      }
                    ],
                    "scatterpolargl": [
                      {
                        "marker": {
                          "colorbar": {
                            "outlinewidth": 0,
                            "ticks": ""
                          }
                        },
                        "type": "scatterpolargl"
                      }
                    ],
                    "contour": [
                      {
                        "colorbar": {
                          "outlinewidth": 0,
                          "ticks": ""
                        },
                        "type": "contour",
                        "colorscale": [
                          [
                            0,
                            "#0d0887"
                          ],
                          [
                            0.1111111111111111,
                            "#46039f"
                          ],
                          [
                            0.2222222222222222,
                            "#7201a8"
                          ],
                          [
                            0.3333333333333333,
                            "#9c179e"
                          ],
                          [
                            0.4444444444444444,
                            "#bd3786"
                          ],
                          [
                            0.5555555555555556,
                            "#d8576b"
                          ],
                          [
                            0.6666666666666666,
                            "#ed7953"
                          ],
                          [
                            0.7777777777777778,
                            "#fb9f3a"
                          ],
                          [
                            0.8888888888888888,
                            "#fdca26"
                          ],
                          [
                            1,
                            "#f0f921"
                          ]
                        ]
                      }
                    ],
                    "carpet": [
                      {
                        "type": "carpet",
                        "baxis": {
                          "minorgridcolor": "white",
                          "gridcolor": "white",
                          "linecolor": "white",
                          "endlinecolor": "#2a3f5f",
                          "startlinecolor": "#2a3f5f"
                        },
                        "aaxis": {
                          "minorgridcolor": "white",
                          "gridcolor": "white",
                          "linecolor": "white",
                          "endlinecolor": "#2a3f5f",
                          "startlinecolor": "#2a3f5f"
                        }
                      }
                    ],
                    "contourcarpet": [
                      {
                        "colorbar": {
                          "outlinewidth": 0,
                          "ticks": ""
                        },
                        "type": "contourcarpet"
                      }
                    ],
                    "heatmap": [
                      {
                        "colorbar": {
                          "outlinewidth": 0,
                          "ticks": ""
                        },
                        "type": "heatmap",
                        "colorscale": [
                          [
                            0,
                            "#0d0887"
                          ],
                          [
                            0.1111111111111111,
                            "#46039f"
                          ],
                          [
                            0.2222222222222222,
                            "#7201a8"
                          ],
                          [
                            0.3333333333333333,
                            "#9c179e"
                          ],
                          [
                            0.4444444444444444,
                            "#bd3786"
                          ],
                          [
                            0.5555555555555556,
                            "#d8576b"
                          ],
                          [
                            0.6666666666666666,
                            "#ed7953"
                          ],
                          [
                            0.7777777777777778,
                            "#fb9f3a"
                          ],
                          [
                            0.8888888888888888,
                            "#fdca26"
                          ],
                          [
                            1,
                            "#f0f921"
                          ]
                        ]
                      }
                    ],
                    "scattermapbox": [
                      {
                        "marker": {
                          "colorbar": {
                            "outlinewidth": 0,
                            "ticks": ""
                          }
                        },
                        "type": "scattermapbox"
                      }
                    ],
                    "scatter3d": [
                      {
                        "marker": {
                          "colorbar": {
                            "outlinewidth": 0,
                            "ticks": ""
                          }
                        },
                        "line": {
                          "colorbar": {
                            "outlinewidth": 0,
                            "ticks": ""
                          }
                        },
                        "type": "scatter3d"
                      }
                    ],
                    "scattergl": [
                      {
                        "marker": {
                          "colorbar": {
                            "outlinewidth": 0,
                            "ticks": ""
                          }
                        },
                        "type": "scattergl"
                      }
                    ],
                    "scatterternary": [
                      {
                        "marker": {
                          "colorbar": {
                            "outlinewidth": 0,
                            "ticks": ""
                          }
                        },
                        "type": "scatterternary"
                      }
                    ],
                    "histogram": [
                      {
                        "marker": {
                          "colorbar": {
                            "outlinewidth": 0,
                            "ticks": ""
                          }
                        },
                        "type": "histogram"
                      }
                    ],
                    "heatmapgl": [
                      {
                        "colorbar": {
                          "outlinewidth": 0,
                          "ticks": ""
                        },
                        "type": "heatmapgl",
                        "colorscale": [
                          [
                            0,
                            "#0d0887"
                          ],
                          [
                            0.1111111111111111,
                            "#46039f"
                          ],
                          [
                            0.2222222222222222,
                            "#7201a8"
                          ],
                          [
                            0.3333333333333333,
                            "#9c179e"
                          ],
                          [
                            0.4444444444444444,
                            "#bd3786"
                          ],
                          [
                            0.5555555555555556,
                            "#d8576b"
                          ],
                          [
                            0.6666666666666666,
                            "#ed7953"
                          ],
                          [
                            0.7777777777777778,
                            "#fb9f3a"
                          ],
                          [
                            0.8888888888888888,
                            "#fdca26"
                          ],
                          [
                            1,
                            "#f0f921"
                          ]
                        ]
                      }
                    ],
                    "scatterpolar": [
                      {
                        "marker": {
                          "colorbar": {
                            "outlinewidth": 0,
                            "ticks": ""
                          }
                        },
                        "type": "scatterpolar"
                      }
                    ],
                    "histogram2d": [
                      {
                        "colorbar": {
                          "outlinewidth": 0,
                          "ticks": ""
                        },
                        "type": "histogram2d",
                        "colorscale": [
                          [
                            0,
                            "#0d0887"
                          ],
                          [
                            0.1111111111111111,
                            "#46039f"
                          ],
                          [
                            0.2222222222222222,
                            "#7201a8"
                          ],
                          [
                            0.3333333333333333,
                            "#9c179e"
                          ],
                          [
                            0.4444444444444444,
                            "#bd3786"
                          ],
                          [
                            0.5555555555555556,
                            "#d8576b"
                          ],
                          [
                            0.6666666666666666,
                            "#ed7953"
                          ],
                          [
                            0.7777777777777778,
                            "#fb9f3a"
                          ],
                          [
                            0.8888888888888888,
                            "#fdca26"
                          ],
                          [
                            1,
                            "#f0f921"
                          ]
                        ]
                      }
                    ],
                    "scattergeo": [
                      {
                        "marker": {
                          "colorbar": {
                            "outlinewidth": 0,
                            "ticks": ""
                          }
                        },
                        "type": "scattergeo"
                      }
                    ],
                    "bar": [
                      {
                        "marker": {
                          "line": {
                            "color": "#E5ECF6",
                            "width": 0.5
                          }
                        },
                        "type": "bar",
                        "error_x": {
                          "color": "#2a3f5f"
                        },
                        "error_y": {
                          "color": "#2a3f5f"
                        }
                      }
                    ],
                    "choropleth": [
                      {
                        "colorbar": {
                          "outlinewidth": 0,
                          "ticks": ""
                        },
                        "type": "choropleth"
                      }
                    ],
                    "parcoords": [
                      {
                        "line": {
                          "colorbar": {
                            "outlinewidth": 0,
                            "ticks": ""
                          }
                        },
                        "type": "parcoords"
                      }
                    ],
                    "barpolar": [
                      {
                        "marker": {
                          "line": {
                            "color": "#E5ECF6",
                            "width": 0.5
                          }
                        },
                        "type": "barpolar"
                      }
                    ],
                    "histogram2dcontour": [
                      {
                        "colorbar": {
                          "outlinewidth": 0,
                          "ticks": ""
                        },
                        "type": "histogram2dcontour",
                        "colorscale": [
                          [
                            0,
                            "#0d0887"
                          ],
                          [
                            0.1111111111111111,
                            "#46039f"
                          ],
                          [
                            0.2222222222222222,
                            "#7201a8"
                          ],
                          [
                            0.3333333333333333,
                            "#9c179e"
                          ],
                          [
                            0.4444444444444444,
                            "#bd3786"
                          ],
                          [
                            0.5555555555555556,
                            "#d8576b"
                          ],
                          [
                            0.6666666666666666,
                            "#ed7953"
                          ],
                          [
                            0.7777777777777778,
                            "#fb9f3a"
                          ],
                          [
                            0.8888888888888888,
                            "#fdca26"
                          ],
                          [
                            1,
                            "#f0f921"
                          ]
                        ]
                      }
                    ],
                    "scatter": [
                      {
                        "marker": {
                          "colorbar": {
                            "outlinewidth": 0,
                            "ticks": ""
                          }
                        },
                        "type": "scatter"
                      }
                    ]
                  }
                },
                "title": {
                  "font": {
                    "color": "#4D5663"
                  }
                },
                "paper_bgcolor": "#F5F6F9",
                "plot_bgcolor": "#F5F6F9",
                "yaxis": {
                  "tickfont": {
                    "color": "#4D5663"
                  },
                  "zerolinecolor": "#E1E5ED",
                  "title": {
                    "text": "",
                    "font": {
                      "color": "#4D5663"
                    }
                  },
                  "gridcolor": "#E1E5ED",
                  "showgrid": true
                },
                "xaxis": {
                  "tickfont": {
                    "color": "#4D5663"
                  },
                  "zerolinecolor": "#E1E5ED",
                  "title": {
                    "text": "",
                    "font": {
                      "color": "#4D5663"
                    }
                  },
                  "gridcolor": "#E1E5ED",
                  "showgrid": true
                },
                "legend": {
                  "bgcolor": "#F5F6F9",
                  "font": {
                    "color": "#4D5663"
                  }
                }
              }
            }
          },
          "metadata": {
            "tags": []
          }
        }
      ]
    },
    {
      "cell_type": "markdown",
      "metadata": {
        "id": "t2_bKj3jo0LD"
      },
      "source": [
        "## Spread"
      ]
    },
    {
      "cell_type": "code",
      "metadata": {
        "colab": {
          "base_uri": "https://localhost:8080/",
          "height": 677
        },
        "id": "0eqSrGpAo0LD",
        "outputId": "f4228927-c9c6-4133-d950-b720950d865c"
      },
      "source": [
        "df[['A','B']].iplot(kind = 'spread')"
      ],
      "execution_count": 15,
      "outputs": [
        {
          "output_type": "stream",
          "text": [
            "/usr/local/lib/python3.6/dist-packages/cufflinks/plotlytools.py:849: FutureWarning:\n",
            "\n",
            "The pandas.np module is deprecated and will be removed from pandas in a future version. Import numpy directly instead\n",
            "\n",
            "/usr/local/lib/python3.6/dist-packages/cufflinks/plotlytools.py:850: FutureWarning:\n",
            "\n",
            "The pandas.np module is deprecated and will be removed from pandas in a future version. Import numpy directly instead\n",
            "\n"
          ],
          "name": "stderr"
        },
        {
          "output_type": "display_data",
          "data": {
            "text/html": [
              "<div>\n",
              "        \n",
              "        \n",
              "            <div id=\"39ac2e24-6880-428a-91a8-03fe3f5d93ad\" class=\"plotly-graph-div\" style=\"height:525px; width:100%;\"></div>\n",
              "            <script type=\"text/javascript\">\n",
              "                require([\"plotly\"], function(Plotly) {\n",
              "                    window.PLOTLYENV=window.PLOTLYENV || {};\n",
              "                    window.PLOTLYENV.BASE_URL='https://plot.ly';\n",
              "                    \n",
              "                if (document.getElementById(\"39ac2e24-6880-428a-91a8-03fe3f5d93ad\")) {\n",
              "                    Plotly.newPlot(\n",
              "                        '39ac2e24-6880-428a-91a8-03fe3f5d93ad',\n",
              "                        [{\"line\": {\"color\": \"rgba(255, 153, 51, 1.0)\", \"dash\": \"solid\", \"shape\": \"linear\", \"width\": 1.3}, \"mode\": \"lines\", \"name\": \"A\", \"text\": \"\", \"type\": \"scatter\", \"x\": [0, 1, 2, 3, 4, 5, 6, 7, 8, 9, 10, 11, 12, 13, 14, 15, 16, 17, 18, 19, 20, 21, 22, 23, 24, 25, 26, 27, 28, 29, 30, 31, 32, 33, 34, 35, 36, 37, 38, 39, 40, 41, 42, 43, 44, 45, 46, 47, 48, 49, 50, 51, 52, 53, 54, 55, 56, 57, 58, 59, 60, 61, 62, 63, 64, 65, 66, 67, 68, 69, 70, 71, 72, 73, 74, 75, 76, 77, 78, 79, 80, 81, 82, 83, 84, 85, 86, 87, 88, 89, 90, 91, 92, 93, 94, 95, 96, 97, 98, 99], \"y\": [0.49449272530329047, 0.034528001350900256, -0.7946215341312589, 1.9028248305238074, 0.006168500487285368, -0.646904665314446, 0.48255753274079133, -0.7343086288457172, -0.34794321781969817, 1.9142109663219973, 1.9009810730582737, 0.60851843055985, 0.7118296524467419, -1.146016055014683, -0.18326960130776676, -0.12060848620152653, 0.6279615151556829, 2.3972492782457357, 0.25352786848048336, 0.30340667749886713, 1.911779639274964, -0.41634320669644, 0.06774707796135956, -0.6969960897231474, -1.1926002276894017, -0.9052079661067426, 1.1360267449714567, -0.8071906369875103, 1.5973964698699552, 0.8548629282365606, 0.00805549333156661, -0.1875107634509211, 1.860888082553138, 0.4491610317689726, -1.1065729004552944, -1.210253649996616, -1.3861184880132484, -0.37859662107129394, 0.6744767804346525, -1.0787036830472339, 0.09231075314670419, -0.11910687458279542, -0.00932143515294092, 0.8237425395388134, -1.2245368744825151, 0.765472350926838, 1.488814705875263, 0.6332138353148433, 0.017800676144336905, -0.10641501029678054, -0.2561215983248197, -0.16090710308918565, -0.5629484054684389, 0.24499515509043016, -1.0250294042886583, -0.23433780993918485, -0.6235825081087522, -1.0040664888392414, 0.4412264639634368, -0.13897635859556548, 0.4909861903980702, 1.6283087805480077, -0.8157090997355115, 0.2591105079595253, 1.8061640134274737, -0.26243055062034426, -1.2041654634413208, 0.08228734517166987, 0.24626482502167044, 0.08211455780515052, 1.2051798170386212, -1.1799496193151544, -0.526486513684934, -0.25981063949919314, 0.3662313414855823, -0.6529890732166655, 1.5678515870250003, 0.05769126472384962, -1.2569152310660323, -0.6859973308376616, -1.8511519876772007, -0.9653073216056013, 1.112894317654417, 0.3907391182199121, -0.63850397282398, -0.8403492596202459, 0.48223732635132477, -0.2934179114575572, -0.12704325980510536, 0.36727881765268805, 1.9638666113011793, -1.1639993715176382, 1.4742499705754153, -1.3170710454264, 2.061406034108948, 1.0390809142847595, -0.35994721777590705, 0.5822715275002863, 0.5780547144122881, -0.7910318664440708]}, {\"line\": {\"color\": \"rgba(55, 128, 191, 1.0)\", \"dash\": \"solid\", \"shape\": \"linear\", \"width\": 1.3}, \"mode\": \"lines\", \"name\": \"B\", \"text\": \"\", \"type\": \"scatter\", \"x\": [0, 1, 2, 3, 4, 5, 6, 7, 8, 9, 10, 11, 12, 13, 14, 15, 16, 17, 18, 19, 20, 21, 22, 23, 24, 25, 26, 27, 28, 29, 30, 31, 32, 33, 34, 35, 36, 37, 38, 39, 40, 41, 42, 43, 44, 45, 46, 47, 48, 49, 50, 51, 52, 53, 54, 55, 56, 57, 58, 59, 60, 61, 62, 63, 64, 65, 66, 67, 68, 69, 70, 71, 72, 73, 74, 75, 76, 77, 78, 79, 80, 81, 82, 83, 84, 85, 86, 87, 88, 89, 90, 91, 92, 93, 94, 95, 96, 97, 98, 99], \"y\": [-0.8136759797552139, -0.05485004777981325, -0.7354321015336972, 0.2249286743408787, 1.042791519448513, -0.18273615906352095, -0.06692170724897374, 1.607177305910856, -0.1793710017199522, -0.018194588543706005, 0.12316141153047848, 0.3680399156648711, -0.5974356495058103, -0.09832813929968391, 0.32320235378837736, -0.30785533668697723, 1.5758386876787536, 1.5225267490392824, 0.6163565107520003, -0.016783669433683018, 0.3826115635049692, -0.26777625398632077, -1.635750655467563, 0.3406422253573746, -0.787959156960995, 0.3645487271885021, -0.35577341396159645, 0.6490752613997947, -0.8130874975316237, 0.47861025390015216, -1.4102850439880745, 0.6389802293177309, -1.080070246304188, 0.014505110937698303, 0.5335163451855318, -0.020432045686978578, -0.32132438112819084, -1.641500057485398, 0.5990451502361493, -0.724953471543375, 0.8536130491768231, -0.2910271148862159, -0.9111452886490694, -0.720343772877038, 0.7823487918924391, -0.8568066719129985, -0.46363014921539397, -0.34993197525826414, 1.3838867053010142, -0.1298659550706131, -3.007146529953769, -0.4371479134339112, -1.4987649242344048, -0.05594828278616842, -2.458347801850056, 0.6697959465864352, 2.638600323779429, -1.4334736453973018, -1.7527544091674543, -2.55126788260544, 0.43919616105371667, -0.5396909605551713, 0.5871878208303853, -1.772939745598578, -0.602616598198998, -1.1016540891023183, -0.9630877137017885, 1.1248381048177714, 0.2748240387380922, 0.4358776515904015, 0.7685860891350906, -0.004574417545520153, 2.14357981609164, -1.8892338070965509, -0.6699330789034134, -0.4015884234543682, -0.7132818644409759, 0.2326994556677902, 0.8536679521702573, -1.2832262558150698, 0.5823721324294828, -0.5481622827200686, 1.4767962539420714, -0.05182969341053261, -1.64242794344349, 1.3758526793671009, -0.06464799276267091, -0.0038963779145905196, 0.6762561054044929, -0.7969326503180237, 0.9207974519783559, 1.0861925805067818, -2.1934441364003576, -0.5292897576555309, 1.1117441137860085, -0.13524443733734617, -0.32520926724879606, -0.11781438669767867, -0.06603583569490025, -0.9416595928090823]}, {\"connectgaps\": false, \"fill\": \"tozeroy\", \"line\": {\"color\": \"green\", \"dash\": \"solid\", \"shape\": \"linear\", \"width\": 0.5}, \"mode\": \"lines\", \"name\": \"Spread\", \"showlegend\": false, \"type\": \"scatter\", \"x\": [0, 1, 2, 3, 4, 5, 6, 7, 8, 9, 10, 11, 12, 13, 14, 15, 16, 17, 18, 19, 20, 21, 22, 23, 24, 25, 26, 27, 28, 29, 30, 31, 32, 33, 34, 35, 36, 37, 38, 39, 40, 41, 42, 43, 44, 45, 46, 47, 48, 49, 50, 51, 52, 53, 54, 55, 56, 57, 58, 59, 60, 61, 62, 63, 64, 65, 66, 67, 68, 69, 70, 71, 72, 73, 74, 75, 76, 77, 78, 79, 80, 81, 82, 83, 84, 85, 86, 87, 88, 89, 90, 91, 92, 93, 94, 95, 96, 97, 98, 99], \"xaxis\": \"x2\", \"y\": [1.3081687050585042, 0.08937804913071351, \"\", 1.6778961561829286, \"\", \"\", 0.5494792399897651, \"\", \"\", 1.9324055548657033, 1.7778196615277952, 0.2404785148949789, 1.3092653019525522, \"\", \"\", 0.1872468504854507, \"\", 0.8747225292064533, \"\", 0.32019034693255016, 1.5291680757699948, \"\", 1.7034977334289225, \"\", \"\", \"\", 1.4918001589330532, \"\", 2.410483967401579, 0.37625267433640847, 1.4183405373196412, \"\", 2.940958328857326, 0.4346559208312743, \"\", \"\", \"\", 1.262903436414104, 0.07543163019850319, \"\", \"\", 0.17192024030342049, 0.9018238534961285, 1.5440863124158515, \"\", 1.6222790228398365, 1.952444855090657, 0.9831458105731075, \"\", 0.02345094477383257, 2.7510249316289492, 0.27624081034472553, 0.9358165187659658, 0.30094343787659855, 1.4333183975613977, \"\", \"\", 0.4294071565580604, 2.193980873130891, 2.4122915240098743, 0.051790029344353505, 2.167999741103179, \"\", 2.0320502535581033, 2.408780611626472, 0.8392235384819741, \"\", \"\", \"\", \"\", 0.43659372790353057, \"\", \"\", 1.6294231675973578, 1.0361644203889957, \"\", 2.2811334514659762, \"\", \"\", 0.5972289249774082, \"\", \"\", \"\", 0.4425688116304447, 1.00392397061951, \"\", 0.5468853191139957, \"\", \"\", 1.1642114679707118, 1.0430691593228234, \"\", 3.667694106975773, \"\", 0.9496619203229395, 1.1743253516221057, \"\", 0.700085914197965, 0.6440905501071883, 0.15062772636501154], \"yaxis\": \"y2\"}, {\"connectgaps\": false, \"fill\": \"tozeroy\", \"line\": {\"color\": \"red\", \"dash\": \"solid\", \"shape\": \"linear\", \"width\": 0.5}, \"mode\": \"lines\", \"name\": \"Spread\", \"showlegend\": false, \"type\": \"scatter\", \"x\": [0, 1, 2, 3, 4, 5, 6, 7, 8, 9, 10, 11, 12, 13, 14, 15, 16, 17, 18, 19, 20, 21, 22, 23, 24, 25, 26, 27, 28, 29, 30, 31, 32, 33, 34, 35, 36, 37, 38, 39, 40, 41, 42, 43, 44, 45, 46, 47, 48, 49, 50, 51, 52, 53, 54, 55, 56, 57, 58, 59, 60, 61, 62, 63, 64, 65, 66, 67, 68, 69, 70, 71, 72, 73, 74, 75, 76, 77, 78, 79, 80, 81, 82, 83, 84, 85, 86, 87, 88, 89, 90, 91, 92, 93, 94, 95, 96, 97, 98, 99], \"xaxis\": \"x2\", \"y\": [\"\", \"\", -0.05918943259756171, \"\", -1.0366230189612275, -0.4641685062509251, \"\", -2.341485934756573, -0.16857221609974596, \"\", \"\", \"\", \"\", -1.047687915714999, -0.5064719550961441, \"\", -0.9478771725230707, \"\", -0.3628286422715169, \"\", \"\", -0.14856695271011922, \"\", -1.037638315080522, -0.4046410707284066, -1.2697566932952447, \"\", -1.456265898387305, \"\", \"\", \"\", -0.826490992768652, \"\", \"\", -1.6400892456408263, -1.1898216043096375, -1.0647941068850577, \"\", \"\", -0.3537502115038589, -0.7613022960301189, \"\", \"\", \"\", -2.0068856663749544, \"\", \"\", \"\", -1.3660860291566772, \"\", \"\", \"\", \"\", \"\", \"\", -0.90413375652562, -3.262182831888181, \"\", \"\", \"\", \"\", \"\", -1.402896920565897, \"\", \"\", \"\", -0.24107774973953233, -1.0425507596461014, -0.028559213716421755, -0.35376309378525095, \"\", -1.1753752017696342, -2.670066329776574, \"\", \"\", -0.25140064976229737, \"\", -0.1750081909439406, -2.1105831832362894, \"\", -2.4335241201066835, -0.41714503888553267, -0.3639019362876543, \"\", \"\", -2.216201938987347, \"\", -0.28952153354296667, -0.8032993652095982, \"\", \"\", -2.2501919520244202, \"\", -0.7877812877708692, \"\", \"\", -0.03473795052711098, \"\", \"\", \"\"], \"yaxis\": \"y2\"}],\n",
              "                        {\"hovermode\": \"x\", \"legend\": {\"bgcolor\": \"#F5F6F9\", \"font\": {\"color\": \"#4D5663\"}}, \"paper_bgcolor\": \"#F5F6F9\", \"plot_bgcolor\": \"#F5F6F9\", \"template\": {\"data\": {\"bar\": [{\"error_x\": {\"color\": \"#2a3f5f\"}, \"error_y\": {\"color\": \"#2a3f5f\"}, \"marker\": {\"line\": {\"color\": \"#E5ECF6\", \"width\": 0.5}}, \"type\": \"bar\"}], \"barpolar\": [{\"marker\": {\"line\": {\"color\": \"#E5ECF6\", \"width\": 0.5}}, \"type\": \"barpolar\"}], \"carpet\": [{\"aaxis\": {\"endlinecolor\": \"#2a3f5f\", \"gridcolor\": \"white\", \"linecolor\": \"white\", \"minorgridcolor\": \"white\", \"startlinecolor\": \"#2a3f5f\"}, \"baxis\": {\"endlinecolor\": \"#2a3f5f\", \"gridcolor\": \"white\", \"linecolor\": \"white\", \"minorgridcolor\": \"white\", \"startlinecolor\": \"#2a3f5f\"}, \"type\": \"carpet\"}], \"choropleth\": [{\"colorbar\": {\"outlinewidth\": 0, \"ticks\": \"\"}, \"type\": \"choropleth\"}], \"contour\": [{\"colorbar\": {\"outlinewidth\": 0, \"ticks\": \"\"}, \"colorscale\": [[0.0, \"#0d0887\"], [0.1111111111111111, \"#46039f\"], [0.2222222222222222, \"#7201a8\"], [0.3333333333333333, \"#9c179e\"], [0.4444444444444444, \"#bd3786\"], [0.5555555555555556, \"#d8576b\"], [0.6666666666666666, \"#ed7953\"], [0.7777777777777778, \"#fb9f3a\"], [0.8888888888888888, \"#fdca26\"], [1.0, \"#f0f921\"]], \"type\": \"contour\"}], \"contourcarpet\": [{\"colorbar\": {\"outlinewidth\": 0, \"ticks\": \"\"}, \"type\": \"contourcarpet\"}], \"heatmap\": [{\"colorbar\": {\"outlinewidth\": 0, \"ticks\": \"\"}, \"colorscale\": [[0.0, \"#0d0887\"], [0.1111111111111111, \"#46039f\"], [0.2222222222222222, \"#7201a8\"], [0.3333333333333333, \"#9c179e\"], [0.4444444444444444, \"#bd3786\"], [0.5555555555555556, \"#d8576b\"], [0.6666666666666666, \"#ed7953\"], [0.7777777777777778, \"#fb9f3a\"], [0.8888888888888888, \"#fdca26\"], [1.0, \"#f0f921\"]], \"type\": \"heatmap\"}], \"heatmapgl\": [{\"colorbar\": {\"outlinewidth\": 0, \"ticks\": \"\"}, \"colorscale\": [[0.0, \"#0d0887\"], [0.1111111111111111, \"#46039f\"], [0.2222222222222222, \"#7201a8\"], [0.3333333333333333, \"#9c179e\"], [0.4444444444444444, \"#bd3786\"], [0.5555555555555556, \"#d8576b\"], [0.6666666666666666, \"#ed7953\"], [0.7777777777777778, \"#fb9f3a\"], [0.8888888888888888, \"#fdca26\"], [1.0, \"#f0f921\"]], \"type\": \"heatmapgl\"}], \"histogram\": [{\"marker\": {\"colorbar\": {\"outlinewidth\": 0, \"ticks\": \"\"}}, \"type\": \"histogram\"}], \"histogram2d\": [{\"colorbar\": {\"outlinewidth\": 0, \"ticks\": \"\"}, \"colorscale\": [[0.0, \"#0d0887\"], [0.1111111111111111, \"#46039f\"], [0.2222222222222222, \"#7201a8\"], [0.3333333333333333, \"#9c179e\"], [0.4444444444444444, \"#bd3786\"], [0.5555555555555556, \"#d8576b\"], [0.6666666666666666, \"#ed7953\"], [0.7777777777777778, \"#fb9f3a\"], [0.8888888888888888, \"#fdca26\"], [1.0, \"#f0f921\"]], \"type\": \"histogram2d\"}], \"histogram2dcontour\": [{\"colorbar\": {\"outlinewidth\": 0, \"ticks\": \"\"}, \"colorscale\": [[0.0, \"#0d0887\"], [0.1111111111111111, \"#46039f\"], [0.2222222222222222, \"#7201a8\"], [0.3333333333333333, \"#9c179e\"], [0.4444444444444444, \"#bd3786\"], [0.5555555555555556, \"#d8576b\"], [0.6666666666666666, \"#ed7953\"], [0.7777777777777778, \"#fb9f3a\"], [0.8888888888888888, \"#fdca26\"], [1.0, \"#f0f921\"]], \"type\": \"histogram2dcontour\"}], \"mesh3d\": [{\"colorbar\": {\"outlinewidth\": 0, \"ticks\": \"\"}, \"type\": \"mesh3d\"}], \"parcoords\": [{\"line\": {\"colorbar\": {\"outlinewidth\": 0, \"ticks\": \"\"}}, \"type\": \"parcoords\"}], \"pie\": [{\"automargin\": true, \"type\": \"pie\"}], \"scatter\": [{\"marker\": {\"colorbar\": {\"outlinewidth\": 0, \"ticks\": \"\"}}, \"type\": \"scatter\"}], \"scatter3d\": [{\"line\": {\"colorbar\": {\"outlinewidth\": 0, \"ticks\": \"\"}}, \"marker\": {\"colorbar\": {\"outlinewidth\": 0, \"ticks\": \"\"}}, \"type\": \"scatter3d\"}], \"scattercarpet\": [{\"marker\": {\"colorbar\": {\"outlinewidth\": 0, \"ticks\": \"\"}}, \"type\": \"scattercarpet\"}], \"scattergeo\": [{\"marker\": {\"colorbar\": {\"outlinewidth\": 0, \"ticks\": \"\"}}, \"type\": \"scattergeo\"}], \"scattergl\": [{\"marker\": {\"colorbar\": {\"outlinewidth\": 0, \"ticks\": \"\"}}, \"type\": \"scattergl\"}], \"scattermapbox\": [{\"marker\": {\"colorbar\": {\"outlinewidth\": 0, \"ticks\": \"\"}}, \"type\": \"scattermapbox\"}], \"scatterpolar\": [{\"marker\": {\"colorbar\": {\"outlinewidth\": 0, \"ticks\": \"\"}}, \"type\": \"scatterpolar\"}], \"scatterpolargl\": [{\"marker\": {\"colorbar\": {\"outlinewidth\": 0, \"ticks\": \"\"}}, \"type\": \"scatterpolargl\"}], \"scatterternary\": [{\"marker\": {\"colorbar\": {\"outlinewidth\": 0, \"ticks\": \"\"}}, \"type\": \"scatterternary\"}], \"surface\": [{\"colorbar\": {\"outlinewidth\": 0, \"ticks\": \"\"}, \"colorscale\": [[0.0, \"#0d0887\"], [0.1111111111111111, \"#46039f\"], [0.2222222222222222, \"#7201a8\"], [0.3333333333333333, \"#9c179e\"], [0.4444444444444444, \"#bd3786\"], [0.5555555555555556, \"#d8576b\"], [0.6666666666666666, \"#ed7953\"], [0.7777777777777778, \"#fb9f3a\"], [0.8888888888888888, \"#fdca26\"], [1.0, \"#f0f921\"]], \"type\": \"surface\"}], \"table\": [{\"cells\": {\"fill\": {\"color\": \"#EBF0F8\"}, \"line\": {\"color\": \"white\"}}, \"header\": {\"fill\": {\"color\": \"#C8D4E3\"}, \"line\": {\"color\": \"white\"}}, \"type\": \"table\"}]}, \"layout\": {\"annotationdefaults\": {\"arrowcolor\": \"#2a3f5f\", \"arrowhead\": 0, \"arrowwidth\": 1}, \"coloraxis\": {\"colorbar\": {\"outlinewidth\": 0, \"ticks\": \"\"}}, \"colorscale\": {\"diverging\": [[0, \"#8e0152\"], [0.1, \"#c51b7d\"], [0.2, \"#de77ae\"], [0.3, \"#f1b6da\"], [0.4, \"#fde0ef\"], [0.5, \"#f7f7f7\"], [0.6, \"#e6f5d0\"], [0.7, \"#b8e186\"], [0.8, \"#7fbc41\"], [0.9, \"#4d9221\"], [1, \"#276419\"]], \"sequential\": [[0.0, \"#0d0887\"], [0.1111111111111111, \"#46039f\"], [0.2222222222222222, \"#7201a8\"], [0.3333333333333333, \"#9c179e\"], [0.4444444444444444, \"#bd3786\"], [0.5555555555555556, \"#d8576b\"], [0.6666666666666666, \"#ed7953\"], [0.7777777777777778, \"#fb9f3a\"], [0.8888888888888888, \"#fdca26\"], [1.0, \"#f0f921\"]], \"sequentialminus\": [[0.0, \"#0d0887\"], [0.1111111111111111, \"#46039f\"], [0.2222222222222222, \"#7201a8\"], [0.3333333333333333, \"#9c179e\"], [0.4444444444444444, \"#bd3786\"], [0.5555555555555556, \"#d8576b\"], [0.6666666666666666, \"#ed7953\"], [0.7777777777777778, \"#fb9f3a\"], [0.8888888888888888, \"#fdca26\"], [1.0, \"#f0f921\"]]}, \"colorway\": [\"#636efa\", \"#EF553B\", \"#00cc96\", \"#ab63fa\", \"#FFA15A\", \"#19d3f3\", \"#FF6692\", \"#B6E880\", \"#FF97FF\", \"#FECB52\"], \"font\": {\"color\": \"#2a3f5f\"}, \"geo\": {\"bgcolor\": \"white\", \"lakecolor\": \"white\", \"landcolor\": \"#E5ECF6\", \"showlakes\": true, \"showland\": true, \"subunitcolor\": \"white\"}, \"hoverlabel\": {\"align\": \"left\"}, \"hovermode\": \"closest\", \"mapbox\": {\"style\": \"light\"}, \"paper_bgcolor\": \"white\", \"plot_bgcolor\": \"#E5ECF6\", \"polar\": {\"angularaxis\": {\"gridcolor\": \"white\", \"linecolor\": \"white\", \"ticks\": \"\"}, \"bgcolor\": \"#E5ECF6\", \"radialaxis\": {\"gridcolor\": \"white\", \"linecolor\": \"white\", \"ticks\": \"\"}}, \"scene\": {\"xaxis\": {\"backgroundcolor\": \"#E5ECF6\", \"gridcolor\": \"white\", \"gridwidth\": 2, \"linecolor\": \"white\", \"showbackground\": true, \"ticks\": \"\", \"zerolinecolor\": \"white\"}, \"yaxis\": {\"backgroundcolor\": \"#E5ECF6\", \"gridcolor\": \"white\", \"gridwidth\": 2, \"linecolor\": \"white\", \"showbackground\": true, \"ticks\": \"\", \"zerolinecolor\": \"white\"}, \"zaxis\": {\"backgroundcolor\": \"#E5ECF6\", \"gridcolor\": \"white\", \"gridwidth\": 2, \"linecolor\": \"white\", \"showbackground\": true, \"ticks\": \"\", \"zerolinecolor\": \"white\"}}, \"shapedefaults\": {\"line\": {\"color\": \"#2a3f5f\"}}, \"ternary\": {\"aaxis\": {\"gridcolor\": \"white\", \"linecolor\": \"white\", \"ticks\": \"\"}, \"baxis\": {\"gridcolor\": \"white\", \"linecolor\": \"white\", \"ticks\": \"\"}, \"bgcolor\": \"#E5ECF6\", \"caxis\": {\"gridcolor\": \"white\", \"linecolor\": \"white\", \"ticks\": \"\"}}, \"title\": {\"x\": 0.05}, \"xaxis\": {\"automargin\": true, \"gridcolor\": \"white\", \"linecolor\": \"white\", \"ticks\": \"\", \"title\": {\"standoff\": 15}, \"zerolinecolor\": \"white\", \"zerolinewidth\": 2}, \"yaxis\": {\"automargin\": true, \"gridcolor\": \"white\", \"linecolor\": \"white\", \"ticks\": \"\", \"title\": {\"standoff\": 15}, \"zerolinecolor\": \"white\", \"zerolinewidth\": 2}}}, \"title\": {\"font\": {\"color\": \"#4D5663\"}}, \"xaxis\": {\"gridcolor\": \"#E1E5ED\", \"showgrid\": true, \"tickfont\": {\"color\": \"#4D5663\"}, \"title\": {\"font\": {\"color\": \"#4D5663\"}, \"text\": \"\"}, \"zerolinecolor\": \"#E1E5ED\"}, \"xaxis2\": {\"anchor\": \"y2\", \"gridcolor\": \"#E1E5ED\", \"showgrid\": true, \"showticklabels\": false, \"tickfont\": {\"color\": \"#4D5663\"}, \"title\": {\"font\": {\"color\": \"#4D5663\"}, \"text\": \"\"}, \"zerolinecolor\": \"#E1E5ED\"}, \"yaxis\": {\"domain\": [0.3, 1], \"gridcolor\": \"#E1E5ED\", \"showgrid\": true, \"tickfont\": {\"color\": \"#4D5663\"}, \"title\": {\"font\": {\"color\": \"#4D5663\"}, \"text\": \"\"}, \"zerolinecolor\": \"#E1E5ED\"}, \"yaxis2\": {\"domain\": [0, 0.25], \"gridcolor\": \"#E1E5ED\", \"showgrid\": true, \"tickfont\": {\"color\": \"#4D5663\"}, \"title\": {\"font\": {\"color\": \"#4D5663\"}, \"text\": \"Spread\"}, \"zerolinecolor\": \"#E1E5ED\"}},\n",
              "                        {\"showLink\": true, \"linkText\": \"Export to plot.ly\", \"plotlyServerURL\": \"https://plot.ly\", \"responsive\": true}\n",
              "                    ).then(function(){\n",
              "                            \n",
              "var gd = document.getElementById('39ac2e24-6880-428a-91a8-03fe3f5d93ad');\n",
              "var x = new MutationObserver(function (mutations, observer) {{\n",
              "        var display = window.getComputedStyle(gd).display;\n",
              "        if (!display || display === 'none') {{\n",
              "            console.log([gd, 'removed!']);\n",
              "            Plotly.purge(gd);\n",
              "            observer.disconnect();\n",
              "        }}\n",
              "}});\n",
              "\n",
              "// Listen for the removal of the full notebook cells\n",
              "var notebookContainer = gd.closest('#notebook-container');\n",
              "if (notebookContainer) {{\n",
              "    x.observe(notebookContainer, {childList: true});\n",
              "}}\n",
              "\n",
              "// Listen for the clearing of the current output cell\n",
              "var outputEl = gd.closest('.output');\n",
              "if (outputEl) {{\n",
              "    x.observe(outputEl, {childList: true});\n",
              "}}\n",
              "\n",
              "                        })\n",
              "                };\n",
              "                });\n",
              "            </script>\n",
              "        </div>"
            ],
            "application/vnd.plotly.v1+json": {
              "data": [
                {
                  "name": "A",
                  "text": "",
                  "mode": "lines",
                  "y": [
                    0.49449272530329047,
                    0.034528001350900256,
                    -0.7946215341312589,
                    1.9028248305238074,
                    0.006168500487285368,
                    -0.646904665314446,
                    0.48255753274079133,
                    -0.7343086288457172,
                    -0.34794321781969817,
                    1.9142109663219973,
                    1.9009810730582737,
                    0.60851843055985,
                    0.7118296524467419,
                    -1.146016055014683,
                    -0.18326960130776676,
                    -0.12060848620152653,
                    0.6279615151556829,
                    2.3972492782457357,
                    0.25352786848048336,
                    0.30340667749886713,
                    1.911779639274964,
                    -0.41634320669644,
                    0.06774707796135956,
                    -0.6969960897231474,
                    -1.1926002276894017,
                    -0.9052079661067426,
                    1.1360267449714567,
                    -0.8071906369875103,
                    1.5973964698699552,
                    0.8548629282365606,
                    0.00805549333156661,
                    -0.1875107634509211,
                    1.860888082553138,
                    0.4491610317689726,
                    -1.1065729004552944,
                    -1.210253649996616,
                    -1.3861184880132484,
                    -0.37859662107129394,
                    0.6744767804346525,
                    -1.0787036830472339,
                    0.09231075314670419,
                    -0.11910687458279542,
                    -0.00932143515294092,
                    0.8237425395388134,
                    -1.2245368744825151,
                    0.765472350926838,
                    1.488814705875263,
                    0.6332138353148433,
                    0.017800676144336905,
                    -0.10641501029678054,
                    -0.2561215983248197,
                    -0.16090710308918565,
                    -0.5629484054684389,
                    0.24499515509043016,
                    -1.0250294042886583,
                    -0.23433780993918485,
                    -0.6235825081087522,
                    -1.0040664888392414,
                    0.4412264639634368,
                    -0.13897635859556548,
                    0.4909861903980702,
                    1.6283087805480077,
                    -0.8157090997355115,
                    0.2591105079595253,
                    1.8061640134274737,
                    -0.26243055062034426,
                    -1.2041654634413208,
                    0.08228734517166987,
                    0.24626482502167044,
                    0.08211455780515052,
                    1.2051798170386212,
                    -1.1799496193151544,
                    -0.526486513684934,
                    -0.25981063949919314,
                    0.3662313414855823,
                    -0.6529890732166655,
                    1.5678515870250003,
                    0.05769126472384962,
                    -1.2569152310660323,
                    -0.6859973308376616,
                    -1.8511519876772007,
                    -0.9653073216056013,
                    1.112894317654417,
                    0.3907391182199121,
                    -0.63850397282398,
                    -0.8403492596202459,
                    0.48223732635132477,
                    -0.2934179114575572,
                    -0.12704325980510536,
                    0.36727881765268805,
                    1.9638666113011793,
                    -1.1639993715176382,
                    1.4742499705754153,
                    -1.3170710454264,
                    2.061406034108948,
                    1.0390809142847595,
                    -0.35994721777590705,
                    0.5822715275002863,
                    0.5780547144122881,
                    -0.7910318664440708
                  ],
                  "x": [
                    0,
                    1,
                    2,
                    3,
                    4,
                    5,
                    6,
                    7,
                    8,
                    9,
                    10,
                    11,
                    12,
                    13,
                    14,
                    15,
                    16,
                    17,
                    18,
                    19,
                    20,
                    21,
                    22,
                    23,
                    24,
                    25,
                    26,
                    27,
                    28,
                    29,
                    30,
                    31,
                    32,
                    33,
                    34,
                    35,
                    36,
                    37,
                    38,
                    39,
                    40,
                    41,
                    42,
                    43,
                    44,
                    45,
                    46,
                    47,
                    48,
                    49,
                    50,
                    51,
                    52,
                    53,
                    54,
                    55,
                    56,
                    57,
                    58,
                    59,
                    60,
                    61,
                    62,
                    63,
                    64,
                    65,
                    66,
                    67,
                    68,
                    69,
                    70,
                    71,
                    72,
                    73,
                    74,
                    75,
                    76,
                    77,
                    78,
                    79,
                    80,
                    81,
                    82,
                    83,
                    84,
                    85,
                    86,
                    87,
                    88,
                    89,
                    90,
                    91,
                    92,
                    93,
                    94,
                    95,
                    96,
                    97,
                    98,
                    99
                  ],
                  "line": {
                    "color": "rgba(255, 153, 51, 1.0)",
                    "dash": "solid",
                    "shape": "linear",
                    "width": 1.3
                  },
                  "type": "scatter"
                },
                {
                  "name": "B",
                  "text": "",
                  "mode": "lines",
                  "y": [
                    -0.8136759797552139,
                    -0.05485004777981325,
                    -0.7354321015336972,
                    0.2249286743408787,
                    1.042791519448513,
                    -0.18273615906352095,
                    -0.06692170724897374,
                    1.607177305910856,
                    -0.1793710017199522,
                    -0.018194588543706005,
                    0.12316141153047848,
                    0.3680399156648711,
                    -0.5974356495058103,
                    -0.09832813929968391,
                    0.32320235378837736,
                    -0.30785533668697723,
                    1.5758386876787536,
                    1.5225267490392824,
                    0.6163565107520003,
                    -0.016783669433683018,
                    0.3826115635049692,
                    -0.26777625398632077,
                    -1.635750655467563,
                    0.3406422253573746,
                    -0.787959156960995,
                    0.3645487271885021,
                    -0.35577341396159645,
                    0.6490752613997947,
                    -0.8130874975316237,
                    0.47861025390015216,
                    -1.4102850439880745,
                    0.6389802293177309,
                    -1.080070246304188,
                    0.014505110937698303,
                    0.5335163451855318,
                    -0.020432045686978578,
                    -0.32132438112819084,
                    -1.641500057485398,
                    0.5990451502361493,
                    -0.724953471543375,
                    0.8536130491768231,
                    -0.2910271148862159,
                    -0.9111452886490694,
                    -0.720343772877038,
                    0.7823487918924391,
                    -0.8568066719129985,
                    -0.46363014921539397,
                    -0.34993197525826414,
                    1.3838867053010142,
                    -0.1298659550706131,
                    -3.007146529953769,
                    -0.4371479134339112,
                    -1.4987649242344048,
                    -0.05594828278616842,
                    -2.458347801850056,
                    0.6697959465864352,
                    2.638600323779429,
                    -1.4334736453973018,
                    -1.7527544091674543,
                    -2.55126788260544,
                    0.43919616105371667,
                    -0.5396909605551713,
                    0.5871878208303853,
                    -1.772939745598578,
                    -0.602616598198998,
                    -1.1016540891023183,
                    -0.9630877137017885,
                    1.1248381048177714,
                    0.2748240387380922,
                    0.4358776515904015,
                    0.7685860891350906,
                    -0.004574417545520153,
                    2.14357981609164,
                    -1.8892338070965509,
                    -0.6699330789034134,
                    -0.4015884234543682,
                    -0.7132818644409759,
                    0.2326994556677902,
                    0.8536679521702573,
                    -1.2832262558150698,
                    0.5823721324294828,
                    -0.5481622827200686,
                    1.4767962539420714,
                    -0.05182969341053261,
                    -1.64242794344349,
                    1.3758526793671009,
                    -0.06464799276267091,
                    -0.0038963779145905196,
                    0.6762561054044929,
                    -0.7969326503180237,
                    0.9207974519783559,
                    1.0861925805067818,
                    -2.1934441364003576,
                    -0.5292897576555309,
                    1.1117441137860085,
                    -0.13524443733734617,
                    -0.32520926724879606,
                    -0.11781438669767867,
                    -0.06603583569490025,
                    -0.9416595928090823
                  ],
                  "x": [
                    0,
                    1,
                    2,
                    3,
                    4,
                    5,
                    6,
                    7,
                    8,
                    9,
                    10,
                    11,
                    12,
                    13,
                    14,
                    15,
                    16,
                    17,
                    18,
                    19,
                    20,
                    21,
                    22,
                    23,
                    24,
                    25,
                    26,
                    27,
                    28,
                    29,
                    30,
                    31,
                    32,
                    33,
                    34,
                    35,
                    36,
                    37,
                    38,
                    39,
                    40,
                    41,
                    42,
                    43,
                    44,
                    45,
                    46,
                    47,
                    48,
                    49,
                    50,
                    51,
                    52,
                    53,
                    54,
                    55,
                    56,
                    57,
                    58,
                    59,
                    60,
                    61,
                    62,
                    63,
                    64,
                    65,
                    66,
                    67,
                    68,
                    69,
                    70,
                    71,
                    72,
                    73,
                    74,
                    75,
                    76,
                    77,
                    78,
                    79,
                    80,
                    81,
                    82,
                    83,
                    84,
                    85,
                    86,
                    87,
                    88,
                    89,
                    90,
                    91,
                    92,
                    93,
                    94,
                    95,
                    96,
                    97,
                    98,
                    99
                  ],
                  "line": {
                    "color": "rgba(55, 128, 191, 1.0)",
                    "dash": "solid",
                    "shape": "linear",
                    "width": 1.3
                  },
                  "type": "scatter"
                },
                {
                  "showlegend": false,
                  "name": "Spread",
                  "yaxis": "y2",
                  "connectgaps": false,
                  "mode": "lines",
                  "xaxis": "x2",
                  "y": [
                    1.3081687050585042,
                    0.08937804913071351,
                    "",
                    1.6778961561829286,
                    "",
                    "",
                    0.5494792399897651,
                    "",
                    "",
                    1.9324055548657033,
                    1.7778196615277952,
                    0.2404785148949789,
                    1.3092653019525522,
                    "",
                    "",
                    0.1872468504854507,
                    "",
                    0.8747225292064533,
                    "",
                    0.32019034693255016,
                    1.5291680757699948,
                    "",
                    1.7034977334289225,
                    "",
                    "",
                    "",
                    1.4918001589330532,
                    "",
                    2.410483967401579,
                    0.37625267433640847,
                    1.4183405373196412,
                    "",
                    2.940958328857326,
                    0.4346559208312743,
                    "",
                    "",
                    "",
                    1.262903436414104,
                    0.07543163019850319,
                    "",
                    "",
                    0.17192024030342049,
                    0.9018238534961285,
                    1.5440863124158515,
                    "",
                    1.6222790228398365,
                    1.952444855090657,
                    0.9831458105731075,
                    "",
                    0.02345094477383257,
                    2.7510249316289492,
                    0.27624081034472553,
                    0.9358165187659658,
                    0.30094343787659855,
                    1.4333183975613977,
                    "",
                    "",
                    0.4294071565580604,
                    2.193980873130891,
                    2.4122915240098743,
                    0.051790029344353505,
                    2.167999741103179,
                    "",
                    2.0320502535581033,
                    2.408780611626472,
                    0.8392235384819741,
                    "",
                    "",
                    "",
                    "",
                    0.43659372790353057,
                    "",
                    "",
                    1.6294231675973578,
                    1.0361644203889957,
                    "",
                    2.2811334514659762,
                    "",
                    "",
                    0.5972289249774082,
                    "",
                    "",
                    "",
                    0.4425688116304447,
                    1.00392397061951,
                    "",
                    0.5468853191139957,
                    "",
                    "",
                    1.1642114679707118,
                    1.0430691593228234,
                    "",
                    3.667694106975773,
                    "",
                    0.9496619203229395,
                    1.1743253516221057,
                    "",
                    0.700085914197965,
                    0.6440905501071883,
                    0.15062772636501154
                  ],
                  "x": [
                    0,
                    1,
                    2,
                    3,
                    4,
                    5,
                    6,
                    7,
                    8,
                    9,
                    10,
                    11,
                    12,
                    13,
                    14,
                    15,
                    16,
                    17,
                    18,
                    19,
                    20,
                    21,
                    22,
                    23,
                    24,
                    25,
                    26,
                    27,
                    28,
                    29,
                    30,
                    31,
                    32,
                    33,
                    34,
                    35,
                    36,
                    37,
                    38,
                    39,
                    40,
                    41,
                    42,
                    43,
                    44,
                    45,
                    46,
                    47,
                    48,
                    49,
                    50,
                    51,
                    52,
                    53,
                    54,
                    55,
                    56,
                    57,
                    58,
                    59,
                    60,
                    61,
                    62,
                    63,
                    64,
                    65,
                    66,
                    67,
                    68,
                    69,
                    70,
                    71,
                    72,
                    73,
                    74,
                    75,
                    76,
                    77,
                    78,
                    79,
                    80,
                    81,
                    82,
                    83,
                    84,
                    85,
                    86,
                    87,
                    88,
                    89,
                    90,
                    91,
                    92,
                    93,
                    94,
                    95,
                    96,
                    97,
                    98,
                    99
                  ],
                  "line": {
                    "color": "green",
                    "dash": "solid",
                    "shape": "linear",
                    "width": 0.5
                  },
                  "type": "scatter",
                  "fill": "tozeroy"
                },
                {
                  "showlegend": false,
                  "name": "Spread",
                  "yaxis": "y2",
                  "connectgaps": false,
                  "mode": "lines",
                  "xaxis": "x2",
                  "y": [
                    "",
                    "",
                    -0.05918943259756171,
                    "",
                    -1.0366230189612275,
                    -0.4641685062509251,
                    "",
                    -2.341485934756573,
                    -0.16857221609974596,
                    "",
                    "",
                    "",
                    "",
                    -1.047687915714999,
                    -0.5064719550961441,
                    "",
                    -0.9478771725230707,
                    "",
                    -0.3628286422715169,
                    "",
                    "",
                    -0.14856695271011922,
                    "",
                    -1.037638315080522,
                    -0.4046410707284066,
                    -1.2697566932952447,
                    "",
                    -1.456265898387305,
                    "",
                    "",
                    "",
                    -0.826490992768652,
                    "",
                    "",
                    -1.6400892456408263,
                    -1.1898216043096375,
                    -1.0647941068850577,
                    "",
                    "",
                    -0.3537502115038589,
                    -0.7613022960301189,
                    "",
                    "",
                    "",
                    -2.0068856663749544,
                    "",
                    "",
                    "",
                    -1.3660860291566772,
                    "",
                    "",
                    "",
                    "",
                    "",
                    "",
                    -0.90413375652562,
                    -3.262182831888181,
                    "",
                    "",
                    "",
                    "",
                    "",
                    -1.402896920565897,
                    "",
                    "",
                    "",
                    -0.24107774973953233,
                    -1.0425507596461014,
                    -0.028559213716421755,
                    -0.35376309378525095,
                    "",
                    -1.1753752017696342,
                    -2.670066329776574,
                    "",
                    "",
                    -0.25140064976229737,
                    "",
                    -0.1750081909439406,
                    -2.1105831832362894,
                    "",
                    -2.4335241201066835,
                    -0.41714503888553267,
                    -0.3639019362876543,
                    "",
                    "",
                    -2.216201938987347,
                    "",
                    -0.28952153354296667,
                    -0.8032993652095982,
                    "",
                    "",
                    -2.2501919520244202,
                    "",
                    -0.7877812877708692,
                    "",
                    "",
                    -0.03473795052711098,
                    "",
                    "",
                    ""
                  ],
                  "x": [
                    0,
                    1,
                    2,
                    3,
                    4,
                    5,
                    6,
                    7,
                    8,
                    9,
                    10,
                    11,
                    12,
                    13,
                    14,
                    15,
                    16,
                    17,
                    18,
                    19,
                    20,
                    21,
                    22,
                    23,
                    24,
                    25,
                    26,
                    27,
                    28,
                    29,
                    30,
                    31,
                    32,
                    33,
                    34,
                    35,
                    36,
                    37,
                    38,
                    39,
                    40,
                    41,
                    42,
                    43,
                    44,
                    45,
                    46,
                    47,
                    48,
                    49,
                    50,
                    51,
                    52,
                    53,
                    54,
                    55,
                    56,
                    57,
                    58,
                    59,
                    60,
                    61,
                    62,
                    63,
                    64,
                    65,
                    66,
                    67,
                    68,
                    69,
                    70,
                    71,
                    72,
                    73,
                    74,
                    75,
                    76,
                    77,
                    78,
                    79,
                    80,
                    81,
                    82,
                    83,
                    84,
                    85,
                    86,
                    87,
                    88,
                    89,
                    90,
                    91,
                    92,
                    93,
                    94,
                    95,
                    96,
                    97,
                    98,
                    99
                  ],
                  "line": {
                    "color": "red",
                    "dash": "solid",
                    "shape": "linear",
                    "width": 0.5
                  },
                  "type": "scatter",
                  "fill": "tozeroy"
                }
              ],
              "config": {
                "plotlyServerURL": "https://plot.ly",
                "linkText": "Export to plot.ly",
                "showLink": true
              },
              "layout": {
                "xaxis": {
                  "tickfont": {
                    "color": "#4D5663"
                  },
                  "zerolinecolor": "#E1E5ED",
                  "title": {
                    "text": "",
                    "font": {
                      "color": "#4D5663"
                    }
                  },
                  "gridcolor": "#E1E5ED",
                  "showgrid": true
                },
                "title": {
                  "font": {
                    "color": "#4D5663"
                  }
                },
                "paper_bgcolor": "#F5F6F9",
                "plot_bgcolor": "#F5F6F9",
                "yaxis": {
                  "tickfont": {
                    "color": "#4D5663"
                  },
                  "domain": [
                    0.3,
                    1
                  ],
                  "title": {
                    "text": "",
                    "font": {
                      "color": "#4D5663"
                    }
                  },
                  "showgrid": true,
                  "zerolinecolor": "#E1E5ED",
                  "gridcolor": "#E1E5ED"
                },
                "xaxis2": {
                  "tickfont": {
                    "color": "#4D5663"
                  },
                  "showticklabels": false,
                  "title": {
                    "text": "",
                    "font": {
                      "color": "#4D5663"
                    }
                  },
                  "showgrid": true,
                  "zerolinecolor": "#E1E5ED",
                  "gridcolor": "#E1E5ED",
                  "anchor": "y2"
                },
                "yaxis2": {
                  "tickfont": {
                    "color": "#4D5663"
                  },
                  "domain": [
                    0,
                    0.25
                  ],
                  "title": {
                    "text": "Spread",
                    "font": {
                      "color": "#4D5663"
                    }
                  },
                  "showgrid": true,
                  "zerolinecolor": "#E1E5ED",
                  "gridcolor": "#E1E5ED"
                },
                "template": {
                  "layout": {
                    "shapedefaults": {
                      "line": {
                        "color": "#2a3f5f"
                      }
                    },
                    "polar": {
                      "radialaxis": {
                        "ticks": "",
                        "gridcolor": "white",
                        "linecolor": "white"
                      },
                      "bgcolor": "#E5ECF6",
                      "angularaxis": {
                        "ticks": "",
                        "gridcolor": "white",
                        "linecolor": "white"
                      }
                    },
                    "colorway": [
                      "#636efa",
                      "#EF553B",
                      "#00cc96",
                      "#ab63fa",
                      "#FFA15A",
                      "#19d3f3",
                      "#FF6692",
                      "#B6E880",
                      "#FF97FF",
                      "#FECB52"
                    ],
                    "xaxis": {
                      "automargin": true,
                      "title": {
                        "standoff": 15
                      },
                      "zerolinewidth": 2,
                      "ticks": "",
                      "zerolinecolor": "white",
                      "gridcolor": "white",
                      "linecolor": "white"
                    },
                    "colorscale": {
                      "diverging": [
                        [
                          0,
                          "#8e0152"
                        ],
                        [
                          0.1,
                          "#c51b7d"
                        ],
                        [
                          0.2,
                          "#de77ae"
                        ],
                        [
                          0.3,
                          "#f1b6da"
                        ],
                        [
                          0.4,
                          "#fde0ef"
                        ],
                        [
                          0.5,
                          "#f7f7f7"
                        ],
                        [
                          0.6,
                          "#e6f5d0"
                        ],
                        [
                          0.7,
                          "#b8e186"
                        ],
                        [
                          0.8,
                          "#7fbc41"
                        ],
                        [
                          0.9,
                          "#4d9221"
                        ],
                        [
                          1,
                          "#276419"
                        ]
                      ],
                      "sequential": [
                        [
                          0,
                          "#0d0887"
                        ],
                        [
                          0.1111111111111111,
                          "#46039f"
                        ],
                        [
                          0.2222222222222222,
                          "#7201a8"
                        ],
                        [
                          0.3333333333333333,
                          "#9c179e"
                        ],
                        [
                          0.4444444444444444,
                          "#bd3786"
                        ],
                        [
                          0.5555555555555556,
                          "#d8576b"
                        ],
                        [
                          0.6666666666666666,
                          "#ed7953"
                        ],
                        [
                          0.7777777777777778,
                          "#fb9f3a"
                        ],
                        [
                          0.8888888888888888,
                          "#fdca26"
                        ],
                        [
                          1,
                          "#f0f921"
                        ]
                      ],
                      "sequentialminus": [
                        [
                          0,
                          "#0d0887"
                        ],
                        [
                          0.1111111111111111,
                          "#46039f"
                        ],
                        [
                          0.2222222222222222,
                          "#7201a8"
                        ],
                        [
                          0.3333333333333333,
                          "#9c179e"
                        ],
                        [
                          0.4444444444444444,
                          "#bd3786"
                        ],
                        [
                          0.5555555555555556,
                          "#d8576b"
                        ],
                        [
                          0.6666666666666666,
                          "#ed7953"
                        ],
                        [
                          0.7777777777777778,
                          "#fb9f3a"
                        ],
                        [
                          0.8888888888888888,
                          "#fdca26"
                        ],
                        [
                          1,
                          "#f0f921"
                        ]
                      ]
                    },
                    "paper_bgcolor": "white",
                    "plot_bgcolor": "#E5ECF6",
                    "title": {
                      "x": 0.05
                    },
                    "scene": {
                      "zaxis": {
                        "backgroundcolor": "#E5ECF6",
                        "ticks": "",
                        "gridwidth": 2,
                        "showbackground": true,
                        "zerolinecolor": "white",
                        "gridcolor": "white",
                        "linecolor": "white"
                      },
                      "xaxis": {
                        "backgroundcolor": "#E5ECF6",
                        "ticks": "",
                        "gridwidth": 2,
                        "showbackground": true,
                        "zerolinecolor": "white",
                        "gridcolor": "white",
                        "linecolor": "white"
                      },
                      "yaxis": {
                        "backgroundcolor": "#E5ECF6",
                        "ticks": "",
                        "gridwidth": 2,
                        "showbackground": true,
                        "zerolinecolor": "white",
                        "gridcolor": "white",
                        "linecolor": "white"
                      }
                    },
                    "yaxis": {
                      "automargin": true,
                      "title": {
                        "standoff": 15
                      },
                      "zerolinewidth": 2,
                      "ticks": "",
                      "zerolinecolor": "white",
                      "gridcolor": "white",
                      "linecolor": "white"
                    },
                    "annotationdefaults": {
                      "arrowwidth": 1,
                      "arrowhead": 0,
                      "arrowcolor": "#2a3f5f"
                    },
                    "hoverlabel": {
                      "align": "left"
                    },
                    "ternary": {
                      "bgcolor": "#E5ECF6",
                      "baxis": {
                        "ticks": "",
                        "gridcolor": "white",
                        "linecolor": "white"
                      },
                      "caxis": {
                        "ticks": "",
                        "gridcolor": "white",
                        "linecolor": "white"
                      },
                      "aaxis": {
                        "ticks": "",
                        "gridcolor": "white",
                        "linecolor": "white"
                      }
                    },
                    "mapbox": {
                      "style": "light"
                    },
                    "hovermode": "closest",
                    "font": {
                      "color": "#2a3f5f"
                    },
                    "geo": {
                      "showland": true,
                      "landcolor": "#E5ECF6",
                      "showlakes": true,
                      "bgcolor": "white",
                      "subunitcolor": "white",
                      "lakecolor": "white"
                    },
                    "coloraxis": {
                      "colorbar": {
                        "outlinewidth": 0,
                        "ticks": ""
                      }
                    }
                  },
                  "data": {
                    "mesh3d": [
                      {
                        "colorbar": {
                          "outlinewidth": 0,
                          "ticks": ""
                        },
                        "type": "mesh3d"
                      }
                    ],
                    "scattercarpet": [
                      {
                        "marker": {
                          "colorbar": {
                            "outlinewidth": 0,
                            "ticks": ""
                          }
                        },
                        "type": "scattercarpet"
                      }
                    ],
                    "pie": [
                      {
                        "automargin": true,
                        "type": "pie"
                      }
                    ],
                    "surface": [
                      {
                        "colorbar": {
                          "outlinewidth": 0,
                          "ticks": ""
                        },
                        "type": "surface",
                        "colorscale": [
                          [
                            0,
                            "#0d0887"
                          ],
                          [
                            0.1111111111111111,
                            "#46039f"
                          ],
                          [
                            0.2222222222222222,
                            "#7201a8"
                          ],
                          [
                            0.3333333333333333,
                            "#9c179e"
                          ],
                          [
                            0.4444444444444444,
                            "#bd3786"
                          ],
                          [
                            0.5555555555555556,
                            "#d8576b"
                          ],
                          [
                            0.6666666666666666,
                            "#ed7953"
                          ],
                          [
                            0.7777777777777778,
                            "#fb9f3a"
                          ],
                          [
                            0.8888888888888888,
                            "#fdca26"
                          ],
                          [
                            1,
                            "#f0f921"
                          ]
                        ]
                      }
                    ],
                    "table": [
                      {
                        "header": {
                          "line": {
                            "color": "white"
                          },
                          "fill": {
                            "color": "#C8D4E3"
                          }
                        },
                        "cells": {
                          "line": {
                            "color": "white"
                          },
                          "fill": {
                            "color": "#EBF0F8"
                          }
                        },
                        "type": "table"
                      }
                    ],
                    "scatterpolargl": [
                      {
                        "marker": {
                          "colorbar": {
                            "outlinewidth": 0,
                            "ticks": ""
                          }
                        },
                        "type": "scatterpolargl"
                      }
                    ],
                    "contour": [
                      {
                        "colorbar": {
                          "outlinewidth": 0,
                          "ticks": ""
                        },
                        "type": "contour",
                        "colorscale": [
                          [
                            0,
                            "#0d0887"
                          ],
                          [
                            0.1111111111111111,
                            "#46039f"
                          ],
                          [
                            0.2222222222222222,
                            "#7201a8"
                          ],
                          [
                            0.3333333333333333,
                            "#9c179e"
                          ],
                          [
                            0.4444444444444444,
                            "#bd3786"
                          ],
                          [
                            0.5555555555555556,
                            "#d8576b"
                          ],
                          [
                            0.6666666666666666,
                            "#ed7953"
                          ],
                          [
                            0.7777777777777778,
                            "#fb9f3a"
                          ],
                          [
                            0.8888888888888888,
                            "#fdca26"
                          ],
                          [
                            1,
                            "#f0f921"
                          ]
                        ]
                      }
                    ],
                    "carpet": [
                      {
                        "type": "carpet",
                        "baxis": {
                          "minorgridcolor": "white",
                          "gridcolor": "white",
                          "linecolor": "white",
                          "endlinecolor": "#2a3f5f",
                          "startlinecolor": "#2a3f5f"
                        },
                        "aaxis": {
                          "minorgridcolor": "white",
                          "gridcolor": "white",
                          "linecolor": "white",
                          "endlinecolor": "#2a3f5f",
                          "startlinecolor": "#2a3f5f"
                        }
                      }
                    ],
                    "contourcarpet": [
                      {
                        "colorbar": {
                          "outlinewidth": 0,
                          "ticks": ""
                        },
                        "type": "contourcarpet"
                      }
                    ],
                    "heatmap": [
                      {
                        "colorbar": {
                          "outlinewidth": 0,
                          "ticks": ""
                        },
                        "type": "heatmap",
                        "colorscale": [
                          [
                            0,
                            "#0d0887"
                          ],
                          [
                            0.1111111111111111,
                            "#46039f"
                          ],
                          [
                            0.2222222222222222,
                            "#7201a8"
                          ],
                          [
                            0.3333333333333333,
                            "#9c179e"
                          ],
                          [
                            0.4444444444444444,
                            "#bd3786"
                          ],
                          [
                            0.5555555555555556,
                            "#d8576b"
                          ],
                          [
                            0.6666666666666666,
                            "#ed7953"
                          ],
                          [
                            0.7777777777777778,
                            "#fb9f3a"
                          ],
                          [
                            0.8888888888888888,
                            "#fdca26"
                          ],
                          [
                            1,
                            "#f0f921"
                          ]
                        ]
                      }
                    ],
                    "scattermapbox": [
                      {
                        "marker": {
                          "colorbar": {
                            "outlinewidth": 0,
                            "ticks": ""
                          }
                        },
                        "type": "scattermapbox"
                      }
                    ],
                    "scatter3d": [
                      {
                        "marker": {
                          "colorbar": {
                            "outlinewidth": 0,
                            "ticks": ""
                          }
                        },
                        "line": {
                          "colorbar": {
                            "outlinewidth": 0,
                            "ticks": ""
                          }
                        },
                        "type": "scatter3d"
                      }
                    ],
                    "scattergl": [
                      {
                        "marker": {
                          "colorbar": {
                            "outlinewidth": 0,
                            "ticks": ""
                          }
                        },
                        "type": "scattergl"
                      }
                    ],
                    "scatterternary": [
                      {
                        "marker": {
                          "colorbar": {
                            "outlinewidth": 0,
                            "ticks": ""
                          }
                        },
                        "type": "scatterternary"
                      }
                    ],
                    "histogram": [
                      {
                        "marker": {
                          "colorbar": {
                            "outlinewidth": 0,
                            "ticks": ""
                          }
                        },
                        "type": "histogram"
                      }
                    ],
                    "heatmapgl": [
                      {
                        "colorbar": {
                          "outlinewidth": 0,
                          "ticks": ""
                        },
                        "type": "heatmapgl",
                        "colorscale": [
                          [
                            0,
                            "#0d0887"
                          ],
                          [
                            0.1111111111111111,
                            "#46039f"
                          ],
                          [
                            0.2222222222222222,
                            "#7201a8"
                          ],
                          [
                            0.3333333333333333,
                            "#9c179e"
                          ],
                          [
                            0.4444444444444444,
                            "#bd3786"
                          ],
                          [
                            0.5555555555555556,
                            "#d8576b"
                          ],
                          [
                            0.6666666666666666,
                            "#ed7953"
                          ],
                          [
                            0.7777777777777778,
                            "#fb9f3a"
                          ],
                          [
                            0.8888888888888888,
                            "#fdca26"
                          ],
                          [
                            1,
                            "#f0f921"
                          ]
                        ]
                      }
                    ],
                    "scatterpolar": [
                      {
                        "marker": {
                          "colorbar": {
                            "outlinewidth": 0,
                            "ticks": ""
                          }
                        },
                        "type": "scatterpolar"
                      }
                    ],
                    "histogram2d": [
                      {
                        "colorbar": {
                          "outlinewidth": 0,
                          "ticks": ""
                        },
                        "type": "histogram2d",
                        "colorscale": [
                          [
                            0,
                            "#0d0887"
                          ],
                          [
                            0.1111111111111111,
                            "#46039f"
                          ],
                          [
                            0.2222222222222222,
                            "#7201a8"
                          ],
                          [
                            0.3333333333333333,
                            "#9c179e"
                          ],
                          [
                            0.4444444444444444,
                            "#bd3786"
                          ],
                          [
                            0.5555555555555556,
                            "#d8576b"
                          ],
                          [
                            0.6666666666666666,
                            "#ed7953"
                          ],
                          [
                            0.7777777777777778,
                            "#fb9f3a"
                          ],
                          [
                            0.8888888888888888,
                            "#fdca26"
                          ],
                          [
                            1,
                            "#f0f921"
                          ]
                        ]
                      }
                    ],
                    "scattergeo": [
                      {
                        "marker": {
                          "colorbar": {
                            "outlinewidth": 0,
                            "ticks": ""
                          }
                        },
                        "type": "scattergeo"
                      }
                    ],
                    "bar": [
                      {
                        "marker": {
                          "line": {
                            "color": "#E5ECF6",
                            "width": 0.5
                          }
                        },
                        "type": "bar",
                        "error_x": {
                          "color": "#2a3f5f"
                        },
                        "error_y": {
                          "color": "#2a3f5f"
                        }
                      }
                    ],
                    "choropleth": [
                      {
                        "colorbar": {
                          "outlinewidth": 0,
                          "ticks": ""
                        },
                        "type": "choropleth"
                      }
                    ],
                    "parcoords": [
                      {
                        "line": {
                          "colorbar": {
                            "outlinewidth": 0,
                            "ticks": ""
                          }
                        },
                        "type": "parcoords"
                      }
                    ],
                    "barpolar": [
                      {
                        "marker": {
                          "line": {
                            "color": "#E5ECF6",
                            "width": 0.5
                          }
                        },
                        "type": "barpolar"
                      }
                    ],
                    "histogram2dcontour": [
                      {
                        "colorbar": {
                          "outlinewidth": 0,
                          "ticks": ""
                        },
                        "type": "histogram2dcontour",
                        "colorscale": [
                          [
                            0,
                            "#0d0887"
                          ],
                          [
                            0.1111111111111111,
                            "#46039f"
                          ],
                          [
                            0.2222222222222222,
                            "#7201a8"
                          ],
                          [
                            0.3333333333333333,
                            "#9c179e"
                          ],
                          [
                            0.4444444444444444,
                            "#bd3786"
                          ],
                          [
                            0.5555555555555556,
                            "#d8576b"
                          ],
                          [
                            0.6666666666666666,
                            "#ed7953"
                          ],
                          [
                            0.7777777777777778,
                            "#fb9f3a"
                          ],
                          [
                            0.8888888888888888,
                            "#fdca26"
                          ],
                          [
                            1,
                            "#f0f921"
                          ]
                        ]
                      }
                    ],
                    "scatter": [
                      {
                        "marker": {
                          "colorbar": {
                            "outlinewidth": 0,
                            "ticks": ""
                          }
                        },
                        "type": "scatter"
                      }
                    ]
                  }
                },
                "hovermode": "x",
                "legend": {
                  "bgcolor": "#F5F6F9",
                  "font": {
                    "color": "#4D5663"
                  }
                }
              }
            }
          },
          "metadata": {
            "tags": []
          }
        }
      ]
    },
    {
      "cell_type": "markdown",
      "metadata": {
        "id": "s1q9YPIOo0LD"
      },
      "source": [
        "## histogram"
      ]
    },
    {
      "cell_type": "code",
      "metadata": {
        "colab": {
          "base_uri": "https://localhost:8080/",
          "height": 542
        },
        "id": "L3Q196P1o0LE",
        "outputId": "f229be54-d55d-42c0-8b45-c3d8f5a51a84"
      },
      "source": [
        "df['A'].iplot(kind = 'hist', bins = 25)"
      ],
      "execution_count": 16,
      "outputs": [
        {
          "output_type": "display_data",
          "data": {
            "text/html": [
              "<div>\n",
              "        \n",
              "        \n",
              "            <div id=\"8ac32f3d-c2b2-4092-a184-180b1e2e541f\" class=\"plotly-graph-div\" style=\"height:525px; width:100%;\"></div>\n",
              "            <script type=\"text/javascript\">\n",
              "                require([\"plotly\"], function(Plotly) {\n",
              "                    window.PLOTLYENV=window.PLOTLYENV || {};\n",
              "                    window.PLOTLYENV.BASE_URL='https://plot.ly';\n",
              "                    \n",
              "                if (document.getElementById(\"8ac32f3d-c2b2-4092-a184-180b1e2e541f\")) {\n",
              "                    Plotly.newPlot(\n",
              "                        '8ac32f3d-c2b2-4092-a184-180b1e2e541f',\n",
              "                        [{\"histfunc\": \"count\", \"histnorm\": \"\", \"marker\": {\"color\": \"rgba(255, 153, 51, 1.0)\", \"line\": {\"color\": \"#4D5663\", \"width\": 1.3}}, \"name\": \"A\", \"nbinsx\": 25, \"opacity\": 0.8, \"orientation\": \"v\", \"type\": \"histogram\", \"x\": [0.49449272530329047, 0.034528001350900256, -0.7946215341312589, 1.9028248305238074, 0.006168500487285368, -0.646904665314446, 0.48255753274079133, -0.7343086288457172, -0.34794321781969817, 1.9142109663219973, 1.9009810730582737, 0.60851843055985, 0.7118296524467419, -1.146016055014683, -0.18326960130776676, -0.12060848620152653, 0.6279615151556829, 2.3972492782457357, 0.25352786848048336, 0.30340667749886713, 1.911779639274964, -0.41634320669644, 0.06774707796135956, -0.6969960897231474, -1.1926002276894017, -0.9052079661067426, 1.1360267449714567, -0.8071906369875103, 1.5973964698699552, 0.8548629282365606, 0.00805549333156661, -0.1875107634509211, 1.860888082553138, 0.4491610317689726, -1.1065729004552944, -1.210253649996616, -1.3861184880132484, -0.37859662107129394, 0.6744767804346525, -1.0787036830472339, 0.09231075314670419, -0.11910687458279542, -0.00932143515294092, 0.8237425395388134, -1.2245368744825151, 0.765472350926838, 1.488814705875263, 0.6332138353148433, 0.017800676144336905, -0.10641501029678054, -0.2561215983248197, -0.16090710308918565, -0.5629484054684389, 0.24499515509043016, -1.0250294042886583, -0.23433780993918485, -0.6235825081087522, -1.0040664888392414, 0.4412264639634368, -0.13897635859556548, 0.4909861903980702, 1.6283087805480077, -0.8157090997355115, 0.2591105079595253, 1.8061640134274737, -0.26243055062034426, -1.2041654634413208, 0.08228734517166987, 0.24626482502167044, 0.08211455780515052, 1.2051798170386212, -1.1799496193151544, -0.526486513684934, -0.25981063949919314, 0.3662313414855823, -0.6529890732166655, 1.5678515870250003, 0.05769126472384962, -1.2569152310660323, -0.6859973308376616, -1.8511519876772007, -0.9653073216056013, 1.112894317654417, 0.3907391182199121, -0.63850397282398, -0.8403492596202459, 0.48223732635132477, -0.2934179114575572, -0.12704325980510536, 0.36727881765268805, 1.9638666113011793, -1.1639993715176382, 1.4742499705754153, -1.3170710454264, 2.061406034108948, 1.0390809142847595, -0.35994721777590705, 0.5822715275002863, 0.5780547144122881, -0.7910318664440708]}],\n",
              "                        {\"barmode\": \"overlay\", \"legend\": {\"bgcolor\": \"#F5F6F9\", \"font\": {\"color\": \"#4D5663\"}}, \"paper_bgcolor\": \"#F5F6F9\", \"plot_bgcolor\": \"#F5F6F9\", \"template\": {\"data\": {\"bar\": [{\"error_x\": {\"color\": \"#2a3f5f\"}, \"error_y\": {\"color\": \"#2a3f5f\"}, \"marker\": {\"line\": {\"color\": \"#E5ECF6\", \"width\": 0.5}}, \"type\": \"bar\"}], \"barpolar\": [{\"marker\": {\"line\": {\"color\": \"#E5ECF6\", \"width\": 0.5}}, \"type\": \"barpolar\"}], \"carpet\": [{\"aaxis\": {\"endlinecolor\": \"#2a3f5f\", \"gridcolor\": \"white\", \"linecolor\": \"white\", \"minorgridcolor\": \"white\", \"startlinecolor\": \"#2a3f5f\"}, \"baxis\": {\"endlinecolor\": \"#2a3f5f\", \"gridcolor\": \"white\", \"linecolor\": \"white\", \"minorgridcolor\": \"white\", \"startlinecolor\": \"#2a3f5f\"}, \"type\": \"carpet\"}], \"choropleth\": [{\"colorbar\": {\"outlinewidth\": 0, \"ticks\": \"\"}, \"type\": \"choropleth\"}], \"contour\": [{\"colorbar\": {\"outlinewidth\": 0, \"ticks\": \"\"}, \"colorscale\": [[0.0, \"#0d0887\"], [0.1111111111111111, \"#46039f\"], [0.2222222222222222, \"#7201a8\"], [0.3333333333333333, \"#9c179e\"], [0.4444444444444444, \"#bd3786\"], [0.5555555555555556, \"#d8576b\"], [0.6666666666666666, \"#ed7953\"], [0.7777777777777778, \"#fb9f3a\"], [0.8888888888888888, \"#fdca26\"], [1.0, \"#f0f921\"]], \"type\": \"contour\"}], \"contourcarpet\": [{\"colorbar\": {\"outlinewidth\": 0, \"ticks\": \"\"}, \"type\": \"contourcarpet\"}], \"heatmap\": [{\"colorbar\": {\"outlinewidth\": 0, \"ticks\": \"\"}, \"colorscale\": [[0.0, \"#0d0887\"], [0.1111111111111111, \"#46039f\"], [0.2222222222222222, \"#7201a8\"], [0.3333333333333333, \"#9c179e\"], [0.4444444444444444, \"#bd3786\"], [0.5555555555555556, \"#d8576b\"], [0.6666666666666666, \"#ed7953\"], [0.7777777777777778, \"#fb9f3a\"], [0.8888888888888888, \"#fdca26\"], [1.0, \"#f0f921\"]], \"type\": \"heatmap\"}], \"heatmapgl\": [{\"colorbar\": {\"outlinewidth\": 0, \"ticks\": \"\"}, \"colorscale\": [[0.0, \"#0d0887\"], [0.1111111111111111, \"#46039f\"], [0.2222222222222222, \"#7201a8\"], [0.3333333333333333, \"#9c179e\"], [0.4444444444444444, \"#bd3786\"], [0.5555555555555556, \"#d8576b\"], [0.6666666666666666, \"#ed7953\"], [0.7777777777777778, \"#fb9f3a\"], [0.8888888888888888, \"#fdca26\"], [1.0, \"#f0f921\"]], \"type\": \"heatmapgl\"}], \"histogram\": [{\"marker\": {\"colorbar\": {\"outlinewidth\": 0, \"ticks\": \"\"}}, \"type\": \"histogram\"}], \"histogram2d\": [{\"colorbar\": {\"outlinewidth\": 0, \"ticks\": \"\"}, \"colorscale\": [[0.0, \"#0d0887\"], [0.1111111111111111, \"#46039f\"], [0.2222222222222222, \"#7201a8\"], [0.3333333333333333, \"#9c179e\"], [0.4444444444444444, \"#bd3786\"], [0.5555555555555556, \"#d8576b\"], [0.6666666666666666, \"#ed7953\"], [0.7777777777777778, \"#fb9f3a\"], [0.8888888888888888, \"#fdca26\"], [1.0, \"#f0f921\"]], \"type\": \"histogram2d\"}], \"histogram2dcontour\": [{\"colorbar\": {\"outlinewidth\": 0, \"ticks\": \"\"}, \"colorscale\": [[0.0, \"#0d0887\"], [0.1111111111111111, \"#46039f\"], [0.2222222222222222, \"#7201a8\"], [0.3333333333333333, \"#9c179e\"], [0.4444444444444444, \"#bd3786\"], [0.5555555555555556, \"#d8576b\"], [0.6666666666666666, \"#ed7953\"], [0.7777777777777778, \"#fb9f3a\"], [0.8888888888888888, \"#fdca26\"], [1.0, \"#f0f921\"]], \"type\": \"histogram2dcontour\"}], \"mesh3d\": [{\"colorbar\": {\"outlinewidth\": 0, \"ticks\": \"\"}, \"type\": \"mesh3d\"}], \"parcoords\": [{\"line\": {\"colorbar\": {\"outlinewidth\": 0, \"ticks\": \"\"}}, \"type\": \"parcoords\"}], \"pie\": [{\"automargin\": true, \"type\": \"pie\"}], \"scatter\": [{\"marker\": {\"colorbar\": {\"outlinewidth\": 0, \"ticks\": \"\"}}, \"type\": \"scatter\"}], \"scatter3d\": [{\"line\": {\"colorbar\": {\"outlinewidth\": 0, \"ticks\": \"\"}}, \"marker\": {\"colorbar\": {\"outlinewidth\": 0, \"ticks\": \"\"}}, \"type\": \"scatter3d\"}], \"scattercarpet\": [{\"marker\": {\"colorbar\": {\"outlinewidth\": 0, \"ticks\": \"\"}}, \"type\": \"scattercarpet\"}], \"scattergeo\": [{\"marker\": {\"colorbar\": {\"outlinewidth\": 0, \"ticks\": \"\"}}, \"type\": \"scattergeo\"}], \"scattergl\": [{\"marker\": {\"colorbar\": {\"outlinewidth\": 0, \"ticks\": \"\"}}, \"type\": \"scattergl\"}], \"scattermapbox\": [{\"marker\": {\"colorbar\": {\"outlinewidth\": 0, \"ticks\": \"\"}}, \"type\": \"scattermapbox\"}], \"scatterpolar\": [{\"marker\": {\"colorbar\": {\"outlinewidth\": 0, \"ticks\": \"\"}}, \"type\": \"scatterpolar\"}], \"scatterpolargl\": [{\"marker\": {\"colorbar\": {\"outlinewidth\": 0, \"ticks\": \"\"}}, \"type\": \"scatterpolargl\"}], \"scatterternary\": [{\"marker\": {\"colorbar\": {\"outlinewidth\": 0, \"ticks\": \"\"}}, \"type\": \"scatterternary\"}], \"surface\": [{\"colorbar\": {\"outlinewidth\": 0, \"ticks\": \"\"}, \"colorscale\": [[0.0, \"#0d0887\"], [0.1111111111111111, \"#46039f\"], [0.2222222222222222, \"#7201a8\"], [0.3333333333333333, \"#9c179e\"], [0.4444444444444444, \"#bd3786\"], [0.5555555555555556, \"#d8576b\"], [0.6666666666666666, \"#ed7953\"], [0.7777777777777778, \"#fb9f3a\"], [0.8888888888888888, \"#fdca26\"], [1.0, \"#f0f921\"]], \"type\": \"surface\"}], \"table\": [{\"cells\": {\"fill\": {\"color\": \"#EBF0F8\"}, \"line\": {\"color\": \"white\"}}, \"header\": {\"fill\": {\"color\": \"#C8D4E3\"}, \"line\": {\"color\": \"white\"}}, \"type\": \"table\"}]}, \"layout\": {\"annotationdefaults\": {\"arrowcolor\": \"#2a3f5f\", \"arrowhead\": 0, \"arrowwidth\": 1}, \"coloraxis\": {\"colorbar\": {\"outlinewidth\": 0, \"ticks\": \"\"}}, \"colorscale\": {\"diverging\": [[0, \"#8e0152\"], [0.1, \"#c51b7d\"], [0.2, \"#de77ae\"], [0.3, \"#f1b6da\"], [0.4, \"#fde0ef\"], [0.5, \"#f7f7f7\"], [0.6, \"#e6f5d0\"], [0.7, \"#b8e186\"], [0.8, \"#7fbc41\"], [0.9, \"#4d9221\"], [1, \"#276419\"]], \"sequential\": [[0.0, \"#0d0887\"], [0.1111111111111111, \"#46039f\"], [0.2222222222222222, \"#7201a8\"], [0.3333333333333333, \"#9c179e\"], [0.4444444444444444, \"#bd3786\"], [0.5555555555555556, \"#d8576b\"], [0.6666666666666666, \"#ed7953\"], [0.7777777777777778, \"#fb9f3a\"], [0.8888888888888888, \"#fdca26\"], [1.0, \"#f0f921\"]], \"sequentialminus\": [[0.0, \"#0d0887\"], [0.1111111111111111, \"#46039f\"], [0.2222222222222222, \"#7201a8\"], [0.3333333333333333, \"#9c179e\"], [0.4444444444444444, \"#bd3786\"], [0.5555555555555556, \"#d8576b\"], [0.6666666666666666, \"#ed7953\"], [0.7777777777777778, \"#fb9f3a\"], [0.8888888888888888, \"#fdca26\"], [1.0, \"#f0f921\"]]}, \"colorway\": [\"#636efa\", \"#EF553B\", \"#00cc96\", \"#ab63fa\", \"#FFA15A\", \"#19d3f3\", \"#FF6692\", \"#B6E880\", \"#FF97FF\", \"#FECB52\"], \"font\": {\"color\": \"#2a3f5f\"}, \"geo\": {\"bgcolor\": \"white\", \"lakecolor\": \"white\", \"landcolor\": \"#E5ECF6\", \"showlakes\": true, \"showland\": true, \"subunitcolor\": \"white\"}, \"hoverlabel\": {\"align\": \"left\"}, \"hovermode\": \"closest\", \"mapbox\": {\"style\": \"light\"}, \"paper_bgcolor\": \"white\", \"plot_bgcolor\": \"#E5ECF6\", \"polar\": {\"angularaxis\": {\"gridcolor\": \"white\", \"linecolor\": \"white\", \"ticks\": \"\"}, \"bgcolor\": \"#E5ECF6\", \"radialaxis\": {\"gridcolor\": \"white\", \"linecolor\": \"white\", \"ticks\": \"\"}}, \"scene\": {\"xaxis\": {\"backgroundcolor\": \"#E5ECF6\", \"gridcolor\": \"white\", \"gridwidth\": 2, \"linecolor\": \"white\", \"showbackground\": true, \"ticks\": \"\", \"zerolinecolor\": \"white\"}, \"yaxis\": {\"backgroundcolor\": \"#E5ECF6\", \"gridcolor\": \"white\", \"gridwidth\": 2, \"linecolor\": \"white\", \"showbackground\": true, \"ticks\": \"\", \"zerolinecolor\": \"white\"}, \"zaxis\": {\"backgroundcolor\": \"#E5ECF6\", \"gridcolor\": \"white\", \"gridwidth\": 2, \"linecolor\": \"white\", \"showbackground\": true, \"ticks\": \"\", \"zerolinecolor\": \"white\"}}, \"shapedefaults\": {\"line\": {\"color\": \"#2a3f5f\"}}, \"ternary\": {\"aaxis\": {\"gridcolor\": \"white\", \"linecolor\": \"white\", \"ticks\": \"\"}, \"baxis\": {\"gridcolor\": \"white\", \"linecolor\": \"white\", \"ticks\": \"\"}, \"bgcolor\": \"#E5ECF6\", \"caxis\": {\"gridcolor\": \"white\", \"linecolor\": \"white\", \"ticks\": \"\"}}, \"title\": {\"x\": 0.05}, \"xaxis\": {\"automargin\": true, \"gridcolor\": \"white\", \"linecolor\": \"white\", \"ticks\": \"\", \"title\": {\"standoff\": 15}, \"zerolinecolor\": \"white\", \"zerolinewidth\": 2}, \"yaxis\": {\"automargin\": true, \"gridcolor\": \"white\", \"linecolor\": \"white\", \"ticks\": \"\", \"title\": {\"standoff\": 15}, \"zerolinecolor\": \"white\", \"zerolinewidth\": 2}}}, \"title\": {\"font\": {\"color\": \"#4D5663\"}}, \"xaxis\": {\"gridcolor\": \"#E1E5ED\", \"showgrid\": true, \"tickfont\": {\"color\": \"#4D5663\"}, \"title\": {\"font\": {\"color\": \"#4D5663\"}, \"text\": \"\"}, \"zerolinecolor\": \"#E1E5ED\"}, \"yaxis\": {\"gridcolor\": \"#E1E5ED\", \"showgrid\": true, \"tickfont\": {\"color\": \"#4D5663\"}, \"title\": {\"font\": {\"color\": \"#4D5663\"}, \"text\": \"\"}, \"zerolinecolor\": \"#E1E5ED\"}},\n",
              "                        {\"showLink\": true, \"linkText\": \"Export to plot.ly\", \"plotlyServerURL\": \"https://plot.ly\", \"responsive\": true}\n",
              "                    ).then(function(){\n",
              "                            \n",
              "var gd = document.getElementById('8ac32f3d-c2b2-4092-a184-180b1e2e541f');\n",
              "var x = new MutationObserver(function (mutations, observer) {{\n",
              "        var display = window.getComputedStyle(gd).display;\n",
              "        if (!display || display === 'none') {{\n",
              "            console.log([gd, 'removed!']);\n",
              "            Plotly.purge(gd);\n",
              "            observer.disconnect();\n",
              "        }}\n",
              "}});\n",
              "\n",
              "// Listen for the removal of the full notebook cells\n",
              "var notebookContainer = gd.closest('#notebook-container');\n",
              "if (notebookContainer) {{\n",
              "    x.observe(notebookContainer, {childList: true});\n",
              "}}\n",
              "\n",
              "// Listen for the clearing of the current output cell\n",
              "var outputEl = gd.closest('.output');\n",
              "if (outputEl) {{\n",
              "    x.observe(outputEl, {childList: true});\n",
              "}}\n",
              "\n",
              "                        })\n",
              "                };\n",
              "                });\n",
              "            </script>\n",
              "        </div>"
            ],
            "application/vnd.plotly.v1+json": {
              "data": [
                {
                  "opacity": 0.8,
                  "name": "A",
                  "histnorm": "",
                  "nbinsx": 25,
                  "histfunc": "count",
                  "marker": {
                    "color": "rgba(255, 153, 51, 1.0)",
                    "line": {
                      "color": "#4D5663",
                      "width": 1.3
                    }
                  },
                  "x": [
                    0.49449272530329047,
                    0.034528001350900256,
                    -0.7946215341312589,
                    1.9028248305238074,
                    0.006168500487285368,
                    -0.646904665314446,
                    0.48255753274079133,
                    -0.7343086288457172,
                    -0.34794321781969817,
                    1.9142109663219973,
                    1.9009810730582737,
                    0.60851843055985,
                    0.7118296524467419,
                    -1.146016055014683,
                    -0.18326960130776676,
                    -0.12060848620152653,
                    0.6279615151556829,
                    2.3972492782457357,
                    0.25352786848048336,
                    0.30340667749886713,
                    1.911779639274964,
                    -0.41634320669644,
                    0.06774707796135956,
                    -0.6969960897231474,
                    -1.1926002276894017,
                    -0.9052079661067426,
                    1.1360267449714567,
                    -0.8071906369875103,
                    1.5973964698699552,
                    0.8548629282365606,
                    0.00805549333156661,
                    -0.1875107634509211,
                    1.860888082553138,
                    0.4491610317689726,
                    -1.1065729004552944,
                    -1.210253649996616,
                    -1.3861184880132484,
                    -0.37859662107129394,
                    0.6744767804346525,
                    -1.0787036830472339,
                    0.09231075314670419,
                    -0.11910687458279542,
                    -0.00932143515294092,
                    0.8237425395388134,
                    -1.2245368744825151,
                    0.765472350926838,
                    1.488814705875263,
                    0.6332138353148433,
                    0.017800676144336905,
                    -0.10641501029678054,
                    -0.2561215983248197,
                    -0.16090710308918565,
                    -0.5629484054684389,
                    0.24499515509043016,
                    -1.0250294042886583,
                    -0.23433780993918485,
                    -0.6235825081087522,
                    -1.0040664888392414,
                    0.4412264639634368,
                    -0.13897635859556548,
                    0.4909861903980702,
                    1.6283087805480077,
                    -0.8157090997355115,
                    0.2591105079595253,
                    1.8061640134274737,
                    -0.26243055062034426,
                    -1.2041654634413208,
                    0.08228734517166987,
                    0.24626482502167044,
                    0.08211455780515052,
                    1.2051798170386212,
                    -1.1799496193151544,
                    -0.526486513684934,
                    -0.25981063949919314,
                    0.3662313414855823,
                    -0.6529890732166655,
                    1.5678515870250003,
                    0.05769126472384962,
                    -1.2569152310660323,
                    -0.6859973308376616,
                    -1.8511519876772007,
                    -0.9653073216056013,
                    1.112894317654417,
                    0.3907391182199121,
                    -0.63850397282398,
                    -0.8403492596202459,
                    0.48223732635132477,
                    -0.2934179114575572,
                    -0.12704325980510536,
                    0.36727881765268805,
                    1.9638666113011793,
                    -1.1639993715176382,
                    1.4742499705754153,
                    -1.3170710454264,
                    2.061406034108948,
                    1.0390809142847595,
                    -0.35994721777590705,
                    0.5822715275002863,
                    0.5780547144122881,
                    -0.7910318664440708
                  ],
                  "type": "histogram",
                  "orientation": "v"
                }
              ],
              "config": {
                "plotlyServerURL": "https://plot.ly",
                "linkText": "Export to plot.ly",
                "showLink": true
              },
              "layout": {
                "xaxis": {
                  "tickfont": {
                    "color": "#4D5663"
                  },
                  "zerolinecolor": "#E1E5ED",
                  "title": {
                    "text": "",
                    "font": {
                      "color": "#4D5663"
                    }
                  },
                  "gridcolor": "#E1E5ED",
                  "showgrid": true
                },
                "title": {
                  "font": {
                    "color": "#4D5663"
                  }
                },
                "paper_bgcolor": "#F5F6F9",
                "plot_bgcolor": "#F5F6F9",
                "yaxis": {
                  "tickfont": {
                    "color": "#4D5663"
                  },
                  "zerolinecolor": "#E1E5ED",
                  "title": {
                    "text": "",
                    "font": {
                      "color": "#4D5663"
                    }
                  },
                  "gridcolor": "#E1E5ED",
                  "showgrid": true
                },
                "barmode": "overlay",
                "template": {
                  "layout": {
                    "shapedefaults": {
                      "line": {
                        "color": "#2a3f5f"
                      }
                    },
                    "polar": {
                      "radialaxis": {
                        "ticks": "",
                        "gridcolor": "white",
                        "linecolor": "white"
                      },
                      "bgcolor": "#E5ECF6",
                      "angularaxis": {
                        "ticks": "",
                        "gridcolor": "white",
                        "linecolor": "white"
                      }
                    },
                    "colorway": [
                      "#636efa",
                      "#EF553B",
                      "#00cc96",
                      "#ab63fa",
                      "#FFA15A",
                      "#19d3f3",
                      "#FF6692",
                      "#B6E880",
                      "#FF97FF",
                      "#FECB52"
                    ],
                    "xaxis": {
                      "automargin": true,
                      "title": {
                        "standoff": 15
                      },
                      "zerolinewidth": 2,
                      "ticks": "",
                      "zerolinecolor": "white",
                      "gridcolor": "white",
                      "linecolor": "white"
                    },
                    "colorscale": {
                      "diverging": [
                        [
                          0,
                          "#8e0152"
                        ],
                        [
                          0.1,
                          "#c51b7d"
                        ],
                        [
                          0.2,
                          "#de77ae"
                        ],
                        [
                          0.3,
                          "#f1b6da"
                        ],
                        [
                          0.4,
                          "#fde0ef"
                        ],
                        [
                          0.5,
                          "#f7f7f7"
                        ],
                        [
                          0.6,
                          "#e6f5d0"
                        ],
                        [
                          0.7,
                          "#b8e186"
                        ],
                        [
                          0.8,
                          "#7fbc41"
                        ],
                        [
                          0.9,
                          "#4d9221"
                        ],
                        [
                          1,
                          "#276419"
                        ]
                      ],
                      "sequential": [
                        [
                          0,
                          "#0d0887"
                        ],
                        [
                          0.1111111111111111,
                          "#46039f"
                        ],
                        [
                          0.2222222222222222,
                          "#7201a8"
                        ],
                        [
                          0.3333333333333333,
                          "#9c179e"
                        ],
                        [
                          0.4444444444444444,
                          "#bd3786"
                        ],
                        [
                          0.5555555555555556,
                          "#d8576b"
                        ],
                        [
                          0.6666666666666666,
                          "#ed7953"
                        ],
                        [
                          0.7777777777777778,
                          "#fb9f3a"
                        ],
                        [
                          0.8888888888888888,
                          "#fdca26"
                        ],
                        [
                          1,
                          "#f0f921"
                        ]
                      ],
                      "sequentialminus": [
                        [
                          0,
                          "#0d0887"
                        ],
                        [
                          0.1111111111111111,
                          "#46039f"
                        ],
                        [
                          0.2222222222222222,
                          "#7201a8"
                        ],
                        [
                          0.3333333333333333,
                          "#9c179e"
                        ],
                        [
                          0.4444444444444444,
                          "#bd3786"
                        ],
                        [
                          0.5555555555555556,
                          "#d8576b"
                        ],
                        [
                          0.6666666666666666,
                          "#ed7953"
                        ],
                        [
                          0.7777777777777778,
                          "#fb9f3a"
                        ],
                        [
                          0.8888888888888888,
                          "#fdca26"
                        ],
                        [
                          1,
                          "#f0f921"
                        ]
                      ]
                    },
                    "paper_bgcolor": "white",
                    "plot_bgcolor": "#E5ECF6",
                    "title": {
                      "x": 0.05
                    },
                    "scene": {
                      "zaxis": {
                        "backgroundcolor": "#E5ECF6",
                        "ticks": "",
                        "gridwidth": 2,
                        "showbackground": true,
                        "zerolinecolor": "white",
                        "gridcolor": "white",
                        "linecolor": "white"
                      },
                      "xaxis": {
                        "backgroundcolor": "#E5ECF6",
                        "ticks": "",
                        "gridwidth": 2,
                        "showbackground": true,
                        "zerolinecolor": "white",
                        "gridcolor": "white",
                        "linecolor": "white"
                      },
                      "yaxis": {
                        "backgroundcolor": "#E5ECF6",
                        "ticks": "",
                        "gridwidth": 2,
                        "showbackground": true,
                        "zerolinecolor": "white",
                        "gridcolor": "white",
                        "linecolor": "white"
                      }
                    },
                    "yaxis": {
                      "automargin": true,
                      "title": {
                        "standoff": 15
                      },
                      "zerolinewidth": 2,
                      "ticks": "",
                      "zerolinecolor": "white",
                      "gridcolor": "white",
                      "linecolor": "white"
                    },
                    "annotationdefaults": {
                      "arrowwidth": 1,
                      "arrowhead": 0,
                      "arrowcolor": "#2a3f5f"
                    },
                    "hoverlabel": {
                      "align": "left"
                    },
                    "ternary": {
                      "bgcolor": "#E5ECF6",
                      "baxis": {
                        "ticks": "",
                        "gridcolor": "white",
                        "linecolor": "white"
                      },
                      "caxis": {
                        "ticks": "",
                        "gridcolor": "white",
                        "linecolor": "white"
                      },
                      "aaxis": {
                        "ticks": "",
                        "gridcolor": "white",
                        "linecolor": "white"
                      }
                    },
                    "mapbox": {
                      "style": "light"
                    },
                    "hovermode": "closest",
                    "font": {
                      "color": "#2a3f5f"
                    },
                    "geo": {
                      "showland": true,
                      "landcolor": "#E5ECF6",
                      "showlakes": true,
                      "bgcolor": "white",
                      "subunitcolor": "white",
                      "lakecolor": "white"
                    },
                    "coloraxis": {
                      "colorbar": {
                        "outlinewidth": 0,
                        "ticks": ""
                      }
                    }
                  },
                  "data": {
                    "mesh3d": [
                      {
                        "colorbar": {
                          "outlinewidth": 0,
                          "ticks": ""
                        },
                        "type": "mesh3d"
                      }
                    ],
                    "scattercarpet": [
                      {
                        "marker": {
                          "colorbar": {
                            "outlinewidth": 0,
                            "ticks": ""
                          }
                        },
                        "type": "scattercarpet"
                      }
                    ],
                    "pie": [
                      {
                        "automargin": true,
                        "type": "pie"
                      }
                    ],
                    "surface": [
                      {
                        "colorbar": {
                          "outlinewidth": 0,
                          "ticks": ""
                        },
                        "type": "surface",
                        "colorscale": [
                          [
                            0,
                            "#0d0887"
                          ],
                          [
                            0.1111111111111111,
                            "#46039f"
                          ],
                          [
                            0.2222222222222222,
                            "#7201a8"
                          ],
                          [
                            0.3333333333333333,
                            "#9c179e"
                          ],
                          [
                            0.4444444444444444,
                            "#bd3786"
                          ],
                          [
                            0.5555555555555556,
                            "#d8576b"
                          ],
                          [
                            0.6666666666666666,
                            "#ed7953"
                          ],
                          [
                            0.7777777777777778,
                            "#fb9f3a"
                          ],
                          [
                            0.8888888888888888,
                            "#fdca26"
                          ],
                          [
                            1,
                            "#f0f921"
                          ]
                        ]
                      }
                    ],
                    "table": [
                      {
                        "header": {
                          "line": {
                            "color": "white"
                          },
                          "fill": {
                            "color": "#C8D4E3"
                          }
                        },
                        "cells": {
                          "line": {
                            "color": "white"
                          },
                          "fill": {
                            "color": "#EBF0F8"
                          }
                        },
                        "type": "table"
                      }
                    ],
                    "scatterpolargl": [
                      {
                        "marker": {
                          "colorbar": {
                            "outlinewidth": 0,
                            "ticks": ""
                          }
                        },
                        "type": "scatterpolargl"
                      }
                    ],
                    "contour": [
                      {
                        "colorbar": {
                          "outlinewidth": 0,
                          "ticks": ""
                        },
                        "type": "contour",
                        "colorscale": [
                          [
                            0,
                            "#0d0887"
                          ],
                          [
                            0.1111111111111111,
                            "#46039f"
                          ],
                          [
                            0.2222222222222222,
                            "#7201a8"
                          ],
                          [
                            0.3333333333333333,
                            "#9c179e"
                          ],
                          [
                            0.4444444444444444,
                            "#bd3786"
                          ],
                          [
                            0.5555555555555556,
                            "#d8576b"
                          ],
                          [
                            0.6666666666666666,
                            "#ed7953"
                          ],
                          [
                            0.7777777777777778,
                            "#fb9f3a"
                          ],
                          [
                            0.8888888888888888,
                            "#fdca26"
                          ],
                          [
                            1,
                            "#f0f921"
                          ]
                        ]
                      }
                    ],
                    "carpet": [
                      {
                        "type": "carpet",
                        "baxis": {
                          "minorgridcolor": "white",
                          "gridcolor": "white",
                          "linecolor": "white",
                          "endlinecolor": "#2a3f5f",
                          "startlinecolor": "#2a3f5f"
                        },
                        "aaxis": {
                          "minorgridcolor": "white",
                          "gridcolor": "white",
                          "linecolor": "white",
                          "endlinecolor": "#2a3f5f",
                          "startlinecolor": "#2a3f5f"
                        }
                      }
                    ],
                    "contourcarpet": [
                      {
                        "colorbar": {
                          "outlinewidth": 0,
                          "ticks": ""
                        },
                        "type": "contourcarpet"
                      }
                    ],
                    "heatmap": [
                      {
                        "colorbar": {
                          "outlinewidth": 0,
                          "ticks": ""
                        },
                        "type": "heatmap",
                        "colorscale": [
                          [
                            0,
                            "#0d0887"
                          ],
                          [
                            0.1111111111111111,
                            "#46039f"
                          ],
                          [
                            0.2222222222222222,
                            "#7201a8"
                          ],
                          [
                            0.3333333333333333,
                            "#9c179e"
                          ],
                          [
                            0.4444444444444444,
                            "#bd3786"
                          ],
                          [
                            0.5555555555555556,
                            "#d8576b"
                          ],
                          [
                            0.6666666666666666,
                            "#ed7953"
                          ],
                          [
                            0.7777777777777778,
                            "#fb9f3a"
                          ],
                          [
                            0.8888888888888888,
                            "#fdca26"
                          ],
                          [
                            1,
                            "#f0f921"
                          ]
                        ]
                      }
                    ],
                    "scattermapbox": [
                      {
                        "marker": {
                          "colorbar": {
                            "outlinewidth": 0,
                            "ticks": ""
                          }
                        },
                        "type": "scattermapbox"
                      }
                    ],
                    "scatter3d": [
                      {
                        "marker": {
                          "colorbar": {
                            "outlinewidth": 0,
                            "ticks": ""
                          }
                        },
                        "line": {
                          "colorbar": {
                            "outlinewidth": 0,
                            "ticks": ""
                          }
                        },
                        "type": "scatter3d"
                      }
                    ],
                    "scattergl": [
                      {
                        "marker": {
                          "colorbar": {
                            "outlinewidth": 0,
                            "ticks": ""
                          }
                        },
                        "type": "scattergl"
                      }
                    ],
                    "scatterternary": [
                      {
                        "marker": {
                          "colorbar": {
                            "outlinewidth": 0,
                            "ticks": ""
                          }
                        },
                        "type": "scatterternary"
                      }
                    ],
                    "histogram": [
                      {
                        "marker": {
                          "colorbar": {
                            "outlinewidth": 0,
                            "ticks": ""
                          }
                        },
                        "type": "histogram"
                      }
                    ],
                    "heatmapgl": [
                      {
                        "colorbar": {
                          "outlinewidth": 0,
                          "ticks": ""
                        },
                        "type": "heatmapgl",
                        "colorscale": [
                          [
                            0,
                            "#0d0887"
                          ],
                          [
                            0.1111111111111111,
                            "#46039f"
                          ],
                          [
                            0.2222222222222222,
                            "#7201a8"
                          ],
                          [
                            0.3333333333333333,
                            "#9c179e"
                          ],
                          [
                            0.4444444444444444,
                            "#bd3786"
                          ],
                          [
                            0.5555555555555556,
                            "#d8576b"
                          ],
                          [
                            0.6666666666666666,
                            "#ed7953"
                          ],
                          [
                            0.7777777777777778,
                            "#fb9f3a"
                          ],
                          [
                            0.8888888888888888,
                            "#fdca26"
                          ],
                          [
                            1,
                            "#f0f921"
                          ]
                        ]
                      }
                    ],
                    "scatterpolar": [
                      {
                        "marker": {
                          "colorbar": {
                            "outlinewidth": 0,
                            "ticks": ""
                          }
                        },
                        "type": "scatterpolar"
                      }
                    ],
                    "histogram2d": [
                      {
                        "colorbar": {
                          "outlinewidth": 0,
                          "ticks": ""
                        },
                        "type": "histogram2d",
                        "colorscale": [
                          [
                            0,
                            "#0d0887"
                          ],
                          [
                            0.1111111111111111,
                            "#46039f"
                          ],
                          [
                            0.2222222222222222,
                            "#7201a8"
                          ],
                          [
                            0.3333333333333333,
                            "#9c179e"
                          ],
                          [
                            0.4444444444444444,
                            "#bd3786"
                          ],
                          [
                            0.5555555555555556,
                            "#d8576b"
                          ],
                          [
                            0.6666666666666666,
                            "#ed7953"
                          ],
                          [
                            0.7777777777777778,
                            "#fb9f3a"
                          ],
                          [
                            0.8888888888888888,
                            "#fdca26"
                          ],
                          [
                            1,
                            "#f0f921"
                          ]
                        ]
                      }
                    ],
                    "scattergeo": [
                      {
                        "marker": {
                          "colorbar": {
                            "outlinewidth": 0,
                            "ticks": ""
                          }
                        },
                        "type": "scattergeo"
                      }
                    ],
                    "bar": [
                      {
                        "marker": {
                          "line": {
                            "color": "#E5ECF6",
                            "width": 0.5
                          }
                        },
                        "type": "bar",
                        "error_x": {
                          "color": "#2a3f5f"
                        },
                        "error_y": {
                          "color": "#2a3f5f"
                        }
                      }
                    ],
                    "choropleth": [
                      {
                        "colorbar": {
                          "outlinewidth": 0,
                          "ticks": ""
                        },
                        "type": "choropleth"
                      }
                    ],
                    "parcoords": [
                      {
                        "line": {
                          "colorbar": {
                            "outlinewidth": 0,
                            "ticks": ""
                          }
                        },
                        "type": "parcoords"
                      }
                    ],
                    "barpolar": [
                      {
                        "marker": {
                          "line": {
                            "color": "#E5ECF6",
                            "width": 0.5
                          }
                        },
                        "type": "barpolar"
                      }
                    ],
                    "histogram2dcontour": [
                      {
                        "colorbar": {
                          "outlinewidth": 0,
                          "ticks": ""
                        },
                        "type": "histogram2dcontour",
                        "colorscale": [
                          [
                            0,
                            "#0d0887"
                          ],
                          [
                            0.1111111111111111,
                            "#46039f"
                          ],
                          [
                            0.2222222222222222,
                            "#7201a8"
                          ],
                          [
                            0.3333333333333333,
                            "#9c179e"
                          ],
                          [
                            0.4444444444444444,
                            "#bd3786"
                          ],
                          [
                            0.5555555555555556,
                            "#d8576b"
                          ],
                          [
                            0.6666666666666666,
                            "#ed7953"
                          ],
                          [
                            0.7777777777777778,
                            "#fb9f3a"
                          ],
                          [
                            0.8888888888888888,
                            "#fdca26"
                          ],
                          [
                            1,
                            "#f0f921"
                          ]
                        ]
                      }
                    ],
                    "scatter": [
                      {
                        "marker": {
                          "colorbar": {
                            "outlinewidth": 0,
                            "ticks": ""
                          }
                        },
                        "type": "scatter"
                      }
                    ]
                  }
                },
                "legend": {
                  "bgcolor": "#F5F6F9",
                  "font": {
                    "color": "#4D5663"
                  }
                }
              }
            }
          },
          "metadata": {
            "tags": []
          }
        }
      ]
    },
    {
      "cell_type": "code",
      "metadata": {
        "colab": {
          "base_uri": "https://localhost:8080/",
          "height": 542
        },
        "id": "lKN8DBK7o0LE",
        "outputId": "88a46d56-a1cc-4e14-a204-fb821a7063b8"
      },
      "source": [
        "df.iplot(kind ='bubble', x = 'A', y = 'B', size = 'C')"
      ],
      "execution_count": 17,
      "outputs": [
        {
          "output_type": "display_data",
          "data": {
            "text/html": [
              "<div>\n",
              "        \n",
              "        \n",
              "            <div id=\"6a2fb08a-5670-4fcb-944e-1371af225706\" class=\"plotly-graph-div\" style=\"height:525px; width:100%;\"></div>\n",
              "            <script type=\"text/javascript\">\n",
              "                require([\"plotly\"], function(Plotly) {\n",
              "                    window.PLOTLYENV=window.PLOTLYENV || {};\n",
              "                    window.PLOTLYENV.BASE_URL='https://plot.ly';\n",
              "                    \n",
              "                if (document.getElementById(\"6a2fb08a-5670-4fcb-944e-1371af225706\")) {\n",
              "                    Plotly.newPlot(\n",
              "                        '6a2fb08a-5670-4fcb-944e-1371af225706',\n",
              "                        [{\"marker\": {\"color\": [\"rgb(255, 153, 51)\", \"rgb(55, 128, 191)\", \"rgb(50, 171, 96)\", \"rgb(128, 0, 128)\", \"rgb(219, 64, 82)\", \"rgb(0, 128, 128)\", \"rgb(255, 255, 51)\", \"rgb(128, 128, 0)\", \"rgb(251, 128, 114)\", \"rgb(128, 177, 211)\"], \"line\": {\"width\": 1.3}, \"size\": [27, 33, 45, 18, 50, 59, 32, 70, 76, 47, 31, 49, 72, 53, 50, 21, 60, 73, 60, 60, 30, 73, 51, 75, 40, 34, 45, 64, 61, 87, 14, 59, 97, 76, 104, 80, 20, 54, 73, 112, 35, 80, 38, 59, 58, 28, 56, 72, 81, 35, 48, 79, 85, 80, 40, 67, 39, 49, 21, 39, 18, 52, 48, 48, 103, 48, 12, 90, 49, 55, 60, 44, 68, 64, 54, 54, 51, 67, 54, 84, 64, 76, 105, 44, 49, 38, 90, 70, 66, 67, 28, 38, 71, 56, 48, 28, 40, 50, 29, 68], \"symbol\": \"circle\"}, \"mode\": \"markers\", \"text\": \"\", \"type\": \"scatter\", \"x\": [0.49449272530329047, 0.034528001350900256, -0.7946215341312589, 1.9028248305238074, 0.006168500487285368, -0.646904665314446, 0.48255753274079133, -0.7343086288457172, -0.34794321781969817, 1.9142109663219973, 1.9009810730582737, 0.60851843055985, 0.7118296524467419, -1.146016055014683, -0.18326960130776676, -0.12060848620152653, 0.6279615151556829, 2.3972492782457357, 0.25352786848048336, 0.30340667749886713, 1.911779639274964, -0.41634320669644, 0.06774707796135956, -0.6969960897231474, -1.1926002276894017, -0.9052079661067426, 1.1360267449714567, -0.8071906369875103, 1.5973964698699552, 0.8548629282365606, 0.00805549333156661, -0.1875107634509211, 1.860888082553138, 0.4491610317689726, -1.1065729004552944, -1.210253649996616, -1.3861184880132484, -0.37859662107129394, 0.6744767804346525, -1.0787036830472339, 0.09231075314670419, -0.11910687458279542, -0.00932143515294092, 0.8237425395388134, -1.2245368744825151, 0.765472350926838, 1.488814705875263, 0.6332138353148433, 0.017800676144336905, -0.10641501029678054, -0.2561215983248197, -0.16090710308918565, -0.5629484054684389, 0.24499515509043016, -1.0250294042886583, -0.23433780993918485, -0.6235825081087522, -1.0040664888392414, 0.4412264639634368, -0.13897635859556548, 0.4909861903980702, 1.6283087805480077, -0.8157090997355115, 0.2591105079595253, 1.8061640134274737, -0.26243055062034426, -1.2041654634413208, 0.08228734517166987, 0.24626482502167044, 0.08211455780515052, 1.2051798170386212, -1.1799496193151544, -0.526486513684934, -0.25981063949919314, 0.3662313414855823, -0.6529890732166655, 1.5678515870250003, 0.05769126472384962, -1.2569152310660323, -0.6859973308376616, -1.8511519876772007, -0.9653073216056013, 1.112894317654417, 0.3907391182199121, -0.63850397282398, -0.8403492596202459, 0.48223732635132477, -0.2934179114575572, -0.12704325980510536, 0.36727881765268805, 1.9638666113011793, -1.1639993715176382, 1.4742499705754153, -1.3170710454264, 2.061406034108948, 1.0390809142847595, -0.35994721777590705, 0.5822715275002863, 0.5780547144122881, -0.7910318664440708], \"y\": [-0.8136759797552139, -0.05485004777981325, -0.7354321015336972, 0.2249286743408787, 1.042791519448513, -0.18273615906352095, -0.06692170724897374, 1.607177305910856, -0.1793710017199522, -0.018194588543706005, 0.12316141153047848, 0.3680399156648711, -0.5974356495058103, -0.09832813929968391, 0.32320235378837736, -0.30785533668697723, 1.5758386876787536, 1.5225267490392824, 0.6163565107520003, -0.016783669433683018, 0.3826115635049692, -0.26777625398632077, -1.635750655467563, 0.3406422253573746, -0.787959156960995, 0.3645487271885021, -0.35577341396159645, 0.6490752613997947, -0.8130874975316237, 0.47861025390015216, -1.4102850439880745, 0.6389802293177309, -1.080070246304188, 0.014505110937698303, 0.5335163451855318, -0.020432045686978578, -0.32132438112819084, -1.641500057485398, 0.5990451502361493, -0.724953471543375, 0.8536130491768231, -0.2910271148862159, -0.9111452886490694, -0.720343772877038, 0.7823487918924391, -0.8568066719129985, -0.46363014921539397, -0.34993197525826414, 1.3838867053010142, -0.1298659550706131, -3.007146529953769, -0.4371479134339112, -1.4987649242344048, -0.05594828278616842, -2.458347801850056, 0.6697959465864352, 2.638600323779429, -1.4334736453973018, -1.7527544091674543, -2.55126788260544, 0.43919616105371667, -0.5396909605551713, 0.5871878208303853, -1.772939745598578, -0.602616598198998, -1.1016540891023183, -0.9630877137017885, 1.1248381048177714, 0.2748240387380922, 0.4358776515904015, 0.7685860891350906, -0.004574417545520153, 2.14357981609164, -1.8892338070965509, -0.6699330789034134, -0.4015884234543682, -0.7132818644409759, 0.2326994556677902, 0.8536679521702573, -1.2832262558150698, 0.5823721324294828, -0.5481622827200686, 1.4767962539420714, -0.05182969341053261, -1.64242794344349, 1.3758526793671009, -0.06464799276267091, -0.0038963779145905196, 0.6762561054044929, -0.7969326503180237, 0.9207974519783559, 1.0861925805067818, -2.1934441364003576, -0.5292897576555309, 1.1117441137860085, -0.13524443733734617, -0.32520926724879606, -0.11781438669767867, -0.06603583569490025, -0.9416595928090823]}],\n",
              "                        {\"legend\": {\"bgcolor\": \"#F5F6F9\", \"font\": {\"color\": \"#4D5663\"}}, \"paper_bgcolor\": \"#F5F6F9\", \"plot_bgcolor\": \"#F5F6F9\", \"template\": {\"data\": {\"bar\": [{\"error_x\": {\"color\": \"#2a3f5f\"}, \"error_y\": {\"color\": \"#2a3f5f\"}, \"marker\": {\"line\": {\"color\": \"#E5ECF6\", \"width\": 0.5}}, \"type\": \"bar\"}], \"barpolar\": [{\"marker\": {\"line\": {\"color\": \"#E5ECF6\", \"width\": 0.5}}, \"type\": \"barpolar\"}], \"carpet\": [{\"aaxis\": {\"endlinecolor\": \"#2a3f5f\", \"gridcolor\": \"white\", \"linecolor\": \"white\", \"minorgridcolor\": \"white\", \"startlinecolor\": \"#2a3f5f\"}, \"baxis\": {\"endlinecolor\": \"#2a3f5f\", \"gridcolor\": \"white\", \"linecolor\": \"white\", \"minorgridcolor\": \"white\", \"startlinecolor\": \"#2a3f5f\"}, \"type\": \"carpet\"}], \"choropleth\": [{\"colorbar\": {\"outlinewidth\": 0, \"ticks\": \"\"}, \"type\": \"choropleth\"}], \"contour\": [{\"colorbar\": {\"outlinewidth\": 0, \"ticks\": \"\"}, \"colorscale\": [[0.0, \"#0d0887\"], [0.1111111111111111, \"#46039f\"], [0.2222222222222222, \"#7201a8\"], [0.3333333333333333, \"#9c179e\"], [0.4444444444444444, \"#bd3786\"], [0.5555555555555556, \"#d8576b\"], [0.6666666666666666, \"#ed7953\"], [0.7777777777777778, \"#fb9f3a\"], [0.8888888888888888, \"#fdca26\"], [1.0, \"#f0f921\"]], \"type\": \"contour\"}], \"contourcarpet\": [{\"colorbar\": {\"outlinewidth\": 0, \"ticks\": \"\"}, \"type\": \"contourcarpet\"}], \"heatmap\": [{\"colorbar\": {\"outlinewidth\": 0, \"ticks\": \"\"}, \"colorscale\": [[0.0, \"#0d0887\"], [0.1111111111111111, \"#46039f\"], [0.2222222222222222, \"#7201a8\"], [0.3333333333333333, \"#9c179e\"], [0.4444444444444444, \"#bd3786\"], [0.5555555555555556, \"#d8576b\"], [0.6666666666666666, \"#ed7953\"], [0.7777777777777778, \"#fb9f3a\"], [0.8888888888888888, \"#fdca26\"], [1.0, \"#f0f921\"]], \"type\": \"heatmap\"}], \"heatmapgl\": [{\"colorbar\": {\"outlinewidth\": 0, \"ticks\": \"\"}, \"colorscale\": [[0.0, \"#0d0887\"], [0.1111111111111111, \"#46039f\"], [0.2222222222222222, \"#7201a8\"], [0.3333333333333333, \"#9c179e\"], [0.4444444444444444, \"#bd3786\"], [0.5555555555555556, \"#d8576b\"], [0.6666666666666666, \"#ed7953\"], [0.7777777777777778, \"#fb9f3a\"], [0.8888888888888888, \"#fdca26\"], [1.0, \"#f0f921\"]], \"type\": \"heatmapgl\"}], \"histogram\": [{\"marker\": {\"colorbar\": {\"outlinewidth\": 0, \"ticks\": \"\"}}, \"type\": \"histogram\"}], \"histogram2d\": [{\"colorbar\": {\"outlinewidth\": 0, \"ticks\": \"\"}, \"colorscale\": [[0.0, \"#0d0887\"], [0.1111111111111111, \"#46039f\"], [0.2222222222222222, \"#7201a8\"], [0.3333333333333333, \"#9c179e\"], [0.4444444444444444, \"#bd3786\"], [0.5555555555555556, \"#d8576b\"], [0.6666666666666666, \"#ed7953\"], [0.7777777777777778, \"#fb9f3a\"], [0.8888888888888888, \"#fdca26\"], [1.0, \"#f0f921\"]], \"type\": \"histogram2d\"}], \"histogram2dcontour\": [{\"colorbar\": {\"outlinewidth\": 0, \"ticks\": \"\"}, \"colorscale\": [[0.0, \"#0d0887\"], [0.1111111111111111, \"#46039f\"], [0.2222222222222222, \"#7201a8\"], [0.3333333333333333, \"#9c179e\"], [0.4444444444444444, \"#bd3786\"], [0.5555555555555556, \"#d8576b\"], [0.6666666666666666, \"#ed7953\"], [0.7777777777777778, \"#fb9f3a\"], [0.8888888888888888, \"#fdca26\"], [1.0, \"#f0f921\"]], \"type\": \"histogram2dcontour\"}], \"mesh3d\": [{\"colorbar\": {\"outlinewidth\": 0, \"ticks\": \"\"}, \"type\": \"mesh3d\"}], \"parcoords\": [{\"line\": {\"colorbar\": {\"outlinewidth\": 0, \"ticks\": \"\"}}, \"type\": \"parcoords\"}], \"pie\": [{\"automargin\": true, \"type\": \"pie\"}], \"scatter\": [{\"marker\": {\"colorbar\": {\"outlinewidth\": 0, \"ticks\": \"\"}}, \"type\": \"scatter\"}], \"scatter3d\": [{\"line\": {\"colorbar\": {\"outlinewidth\": 0, \"ticks\": \"\"}}, \"marker\": {\"colorbar\": {\"outlinewidth\": 0, \"ticks\": \"\"}}, \"type\": \"scatter3d\"}], \"scattercarpet\": [{\"marker\": {\"colorbar\": {\"outlinewidth\": 0, \"ticks\": \"\"}}, \"type\": \"scattercarpet\"}], \"scattergeo\": [{\"marker\": {\"colorbar\": {\"outlinewidth\": 0, \"ticks\": \"\"}}, \"type\": \"scattergeo\"}], \"scattergl\": [{\"marker\": {\"colorbar\": {\"outlinewidth\": 0, \"ticks\": \"\"}}, \"type\": \"scattergl\"}], \"scattermapbox\": [{\"marker\": {\"colorbar\": {\"outlinewidth\": 0, \"ticks\": \"\"}}, \"type\": \"scattermapbox\"}], \"scatterpolar\": [{\"marker\": {\"colorbar\": {\"outlinewidth\": 0, \"ticks\": \"\"}}, \"type\": \"scatterpolar\"}], \"scatterpolargl\": [{\"marker\": {\"colorbar\": {\"outlinewidth\": 0, \"ticks\": \"\"}}, \"type\": \"scatterpolargl\"}], \"scatterternary\": [{\"marker\": {\"colorbar\": {\"outlinewidth\": 0, \"ticks\": \"\"}}, \"type\": \"scatterternary\"}], \"surface\": [{\"colorbar\": {\"outlinewidth\": 0, \"ticks\": \"\"}, \"colorscale\": [[0.0, \"#0d0887\"], [0.1111111111111111, \"#46039f\"], [0.2222222222222222, \"#7201a8\"], [0.3333333333333333, \"#9c179e\"], [0.4444444444444444, \"#bd3786\"], [0.5555555555555556, \"#d8576b\"], [0.6666666666666666, \"#ed7953\"], [0.7777777777777778, \"#fb9f3a\"], [0.8888888888888888, \"#fdca26\"], [1.0, \"#f0f921\"]], \"type\": \"surface\"}], \"table\": [{\"cells\": {\"fill\": {\"color\": \"#EBF0F8\"}, \"line\": {\"color\": \"white\"}}, \"header\": {\"fill\": {\"color\": \"#C8D4E3\"}, \"line\": {\"color\": \"white\"}}, \"type\": \"table\"}]}, \"layout\": {\"annotationdefaults\": {\"arrowcolor\": \"#2a3f5f\", \"arrowhead\": 0, \"arrowwidth\": 1}, \"coloraxis\": {\"colorbar\": {\"outlinewidth\": 0, \"ticks\": \"\"}}, \"colorscale\": {\"diverging\": [[0, \"#8e0152\"], [0.1, \"#c51b7d\"], [0.2, \"#de77ae\"], [0.3, \"#f1b6da\"], [0.4, \"#fde0ef\"], [0.5, \"#f7f7f7\"], [0.6, \"#e6f5d0\"], [0.7, \"#b8e186\"], [0.8, \"#7fbc41\"], [0.9, \"#4d9221\"], [1, \"#276419\"]], \"sequential\": [[0.0, \"#0d0887\"], [0.1111111111111111, \"#46039f\"], [0.2222222222222222, \"#7201a8\"], [0.3333333333333333, \"#9c179e\"], [0.4444444444444444, \"#bd3786\"], [0.5555555555555556, \"#d8576b\"], [0.6666666666666666, \"#ed7953\"], [0.7777777777777778, \"#fb9f3a\"], [0.8888888888888888, \"#fdca26\"], [1.0, \"#f0f921\"]], \"sequentialminus\": [[0.0, \"#0d0887\"], [0.1111111111111111, \"#46039f\"], [0.2222222222222222, \"#7201a8\"], [0.3333333333333333, \"#9c179e\"], [0.4444444444444444, \"#bd3786\"], [0.5555555555555556, \"#d8576b\"], [0.6666666666666666, \"#ed7953\"], [0.7777777777777778, \"#fb9f3a\"], [0.8888888888888888, \"#fdca26\"], [1.0, \"#f0f921\"]]}, \"colorway\": [\"#636efa\", \"#EF553B\", \"#00cc96\", \"#ab63fa\", \"#FFA15A\", \"#19d3f3\", \"#FF6692\", \"#B6E880\", \"#FF97FF\", \"#FECB52\"], \"font\": {\"color\": \"#2a3f5f\"}, \"geo\": {\"bgcolor\": \"white\", \"lakecolor\": \"white\", \"landcolor\": \"#E5ECF6\", \"showlakes\": true, \"showland\": true, \"subunitcolor\": \"white\"}, \"hoverlabel\": {\"align\": \"left\"}, \"hovermode\": \"closest\", \"mapbox\": {\"style\": \"light\"}, \"paper_bgcolor\": \"white\", \"plot_bgcolor\": \"#E5ECF6\", \"polar\": {\"angularaxis\": {\"gridcolor\": \"white\", \"linecolor\": \"white\", \"ticks\": \"\"}, \"bgcolor\": \"#E5ECF6\", \"radialaxis\": {\"gridcolor\": \"white\", \"linecolor\": \"white\", \"ticks\": \"\"}}, \"scene\": {\"xaxis\": {\"backgroundcolor\": \"#E5ECF6\", \"gridcolor\": \"white\", \"gridwidth\": 2, \"linecolor\": \"white\", \"showbackground\": true, \"ticks\": \"\", \"zerolinecolor\": \"white\"}, \"yaxis\": {\"backgroundcolor\": \"#E5ECF6\", \"gridcolor\": \"white\", \"gridwidth\": 2, \"linecolor\": \"white\", \"showbackground\": true, \"ticks\": \"\", \"zerolinecolor\": \"white\"}, \"zaxis\": {\"backgroundcolor\": \"#E5ECF6\", \"gridcolor\": \"white\", \"gridwidth\": 2, \"linecolor\": \"white\", \"showbackground\": true, \"ticks\": \"\", \"zerolinecolor\": \"white\"}}, \"shapedefaults\": {\"line\": {\"color\": \"#2a3f5f\"}}, \"ternary\": {\"aaxis\": {\"gridcolor\": \"white\", \"linecolor\": \"white\", \"ticks\": \"\"}, \"baxis\": {\"gridcolor\": \"white\", \"linecolor\": \"white\", \"ticks\": \"\"}, \"bgcolor\": \"#E5ECF6\", \"caxis\": {\"gridcolor\": \"white\", \"linecolor\": \"white\", \"ticks\": \"\"}}, \"title\": {\"x\": 0.05}, \"xaxis\": {\"automargin\": true, \"gridcolor\": \"white\", \"linecolor\": \"white\", \"ticks\": \"\", \"title\": {\"standoff\": 15}, \"zerolinecolor\": \"white\", \"zerolinewidth\": 2}, \"yaxis\": {\"automargin\": true, \"gridcolor\": \"white\", \"linecolor\": \"white\", \"ticks\": \"\", \"title\": {\"standoff\": 15}, \"zerolinecolor\": \"white\", \"zerolinewidth\": 2}}}, \"title\": {\"font\": {\"color\": \"#4D5663\"}}, \"xaxis\": {\"gridcolor\": \"#E1E5ED\", \"showgrid\": true, \"tickfont\": {\"color\": \"#4D5663\"}, \"title\": {\"font\": {\"color\": \"#4D5663\"}, \"text\": \"\"}, \"zerolinecolor\": \"#E1E5ED\"}, \"yaxis\": {\"gridcolor\": \"#E1E5ED\", \"showgrid\": true, \"tickfont\": {\"color\": \"#4D5663\"}, \"title\": {\"font\": {\"color\": \"#4D5663\"}, \"text\": \"\"}, \"zerolinecolor\": \"#E1E5ED\"}},\n",
              "                        {\"showLink\": true, \"linkText\": \"Export to plot.ly\", \"plotlyServerURL\": \"https://plot.ly\", \"responsive\": true}\n",
              "                    ).then(function(){\n",
              "                            \n",
              "var gd = document.getElementById('6a2fb08a-5670-4fcb-944e-1371af225706');\n",
              "var x = new MutationObserver(function (mutations, observer) {{\n",
              "        var display = window.getComputedStyle(gd).display;\n",
              "        if (!display || display === 'none') {{\n",
              "            console.log([gd, 'removed!']);\n",
              "            Plotly.purge(gd);\n",
              "            observer.disconnect();\n",
              "        }}\n",
              "}});\n",
              "\n",
              "// Listen for the removal of the full notebook cells\n",
              "var notebookContainer = gd.closest('#notebook-container');\n",
              "if (notebookContainer) {{\n",
              "    x.observe(notebookContainer, {childList: true});\n",
              "}}\n",
              "\n",
              "// Listen for the clearing of the current output cell\n",
              "var outputEl = gd.closest('.output');\n",
              "if (outputEl) {{\n",
              "    x.observe(outputEl, {childList: true});\n",
              "}}\n",
              "\n",
              "                        })\n",
              "                };\n",
              "                });\n",
              "            </script>\n",
              "        </div>"
            ],
            "application/vnd.plotly.v1+json": {
              "data": [
                {
                  "text": "",
                  "y": [
                    -0.8136759797552139,
                    -0.05485004777981325,
                    -0.7354321015336972,
                    0.2249286743408787,
                    1.042791519448513,
                    -0.18273615906352095,
                    -0.06692170724897374,
                    1.607177305910856,
                    -0.1793710017199522,
                    -0.018194588543706005,
                    0.12316141153047848,
                    0.3680399156648711,
                    -0.5974356495058103,
                    -0.09832813929968391,
                    0.32320235378837736,
                    -0.30785533668697723,
                    1.5758386876787536,
                    1.5225267490392824,
                    0.6163565107520003,
                    -0.016783669433683018,
                    0.3826115635049692,
                    -0.26777625398632077,
                    -1.635750655467563,
                    0.3406422253573746,
                    -0.787959156960995,
                    0.3645487271885021,
                    -0.35577341396159645,
                    0.6490752613997947,
                    -0.8130874975316237,
                    0.47861025390015216,
                    -1.4102850439880745,
                    0.6389802293177309,
                    -1.080070246304188,
                    0.014505110937698303,
                    0.5335163451855318,
                    -0.020432045686978578,
                    -0.32132438112819084,
                    -1.641500057485398,
                    0.5990451502361493,
                    -0.724953471543375,
                    0.8536130491768231,
                    -0.2910271148862159,
                    -0.9111452886490694,
                    -0.720343772877038,
                    0.7823487918924391,
                    -0.8568066719129985,
                    -0.46363014921539397,
                    -0.34993197525826414,
                    1.3838867053010142,
                    -0.1298659550706131,
                    -3.007146529953769,
                    -0.4371479134339112,
                    -1.4987649242344048,
                    -0.05594828278616842,
                    -2.458347801850056,
                    0.6697959465864352,
                    2.638600323779429,
                    -1.4334736453973018,
                    -1.7527544091674543,
                    -2.55126788260544,
                    0.43919616105371667,
                    -0.5396909605551713,
                    0.5871878208303853,
                    -1.772939745598578,
                    -0.602616598198998,
                    -1.1016540891023183,
                    -0.9630877137017885,
                    1.1248381048177714,
                    0.2748240387380922,
                    0.4358776515904015,
                    0.7685860891350906,
                    -0.004574417545520153,
                    2.14357981609164,
                    -1.8892338070965509,
                    -0.6699330789034134,
                    -0.4015884234543682,
                    -0.7132818644409759,
                    0.2326994556677902,
                    0.8536679521702573,
                    -1.2832262558150698,
                    0.5823721324294828,
                    -0.5481622827200686,
                    1.4767962539420714,
                    -0.05182969341053261,
                    -1.64242794344349,
                    1.3758526793671009,
                    -0.06464799276267091,
                    -0.0038963779145905196,
                    0.6762561054044929,
                    -0.7969326503180237,
                    0.9207974519783559,
                    1.0861925805067818,
                    -2.1934441364003576,
                    -0.5292897576555309,
                    1.1117441137860085,
                    -0.13524443733734617,
                    -0.32520926724879606,
                    -0.11781438669767867,
                    -0.06603583569490025,
                    -0.9416595928090823
                  ],
                  "mode": "markers",
                  "marker": {
                    "color": [
                      "rgb(255, 153, 51)",
                      "rgb(55, 128, 191)",
                      "rgb(50, 171, 96)",
                      "rgb(128, 0, 128)",
                      "rgb(219, 64, 82)",
                      "rgb(0, 128, 128)",
                      "rgb(255, 255, 51)",
                      "rgb(128, 128, 0)",
                      "rgb(251, 128, 114)",
                      "rgb(128, 177, 211)"
                    ],
                    "line": {
                      "width": 1.3
                    },
                    "symbol": "circle",
                    "size": [
                      27,
                      33,
                      45,
                      18,
                      50,
                      59,
                      32,
                      70,
                      76,
                      47,
                      31,
                      49,
                      72,
                      53,
                      50,
                      21,
                      60,
                      73,
                      60,
                      60,
                      30,
                      73,
                      51,
                      75,
                      40,
                      34,
                      45,
                      64,
                      61,
                      87,
                      14,
                      59,
                      97,
                      76,
                      104,
                      80,
                      20,
                      54,
                      73,
                      112,
                      35,
                      80,
                      38,
                      59,
                      58,
                      28,
                      56,
                      72,
                      81,
                      35,
                      48,
                      79,
                      85,
                      80,
                      40,
                      67,
                      39,
                      49,
                      21,
                      39,
                      18,
                      52,
                      48,
                      48,
                      103,
                      48,
                      12,
                      90,
                      49,
                      55,
                      60,
                      44,
                      68,
                      64,
                      54,
                      54,
                      51,
                      67,
                      54,
                      84,
                      64,
                      76,
                      105,
                      44,
                      49,
                      38,
                      90,
                      70,
                      66,
                      67,
                      28,
                      38,
                      71,
                      56,
                      48,
                      28,
                      40,
                      50,
                      29,
                      68
                    ]
                  },
                  "x": [
                    0.49449272530329047,
                    0.034528001350900256,
                    -0.7946215341312589,
                    1.9028248305238074,
                    0.006168500487285368,
                    -0.646904665314446,
                    0.48255753274079133,
                    -0.7343086288457172,
                    -0.34794321781969817,
                    1.9142109663219973,
                    1.9009810730582737,
                    0.60851843055985,
                    0.7118296524467419,
                    -1.146016055014683,
                    -0.18326960130776676,
                    -0.12060848620152653,
                    0.6279615151556829,
                    2.3972492782457357,
                    0.25352786848048336,
                    0.30340667749886713,
                    1.911779639274964,
                    -0.41634320669644,
                    0.06774707796135956,
                    -0.6969960897231474,
                    -1.1926002276894017,
                    -0.9052079661067426,
                    1.1360267449714567,
                    -0.8071906369875103,
                    1.5973964698699552,
                    0.8548629282365606,
                    0.00805549333156661,
                    -0.1875107634509211,
                    1.860888082553138,
                    0.4491610317689726,
                    -1.1065729004552944,
                    -1.210253649996616,
                    -1.3861184880132484,
                    -0.37859662107129394,
                    0.6744767804346525,
                    -1.0787036830472339,
                    0.09231075314670419,
                    -0.11910687458279542,
                    -0.00932143515294092,
                    0.8237425395388134,
                    -1.2245368744825151,
                    0.765472350926838,
                    1.488814705875263,
                    0.6332138353148433,
                    0.017800676144336905,
                    -0.10641501029678054,
                    -0.2561215983248197,
                    -0.16090710308918565,
                    -0.5629484054684389,
                    0.24499515509043016,
                    -1.0250294042886583,
                    -0.23433780993918485,
                    -0.6235825081087522,
                    -1.0040664888392414,
                    0.4412264639634368,
                    -0.13897635859556548,
                    0.4909861903980702,
                    1.6283087805480077,
                    -0.8157090997355115,
                    0.2591105079595253,
                    1.8061640134274737,
                    -0.26243055062034426,
                    -1.2041654634413208,
                    0.08228734517166987,
                    0.24626482502167044,
                    0.08211455780515052,
                    1.2051798170386212,
                    -1.1799496193151544,
                    -0.526486513684934,
                    -0.25981063949919314,
                    0.3662313414855823,
                    -0.6529890732166655,
                    1.5678515870250003,
                    0.05769126472384962,
                    -1.2569152310660323,
                    -0.6859973308376616,
                    -1.8511519876772007,
                    -0.9653073216056013,
                    1.112894317654417,
                    0.3907391182199121,
                    -0.63850397282398,
                    -0.8403492596202459,
                    0.48223732635132477,
                    -0.2934179114575572,
                    -0.12704325980510536,
                    0.36727881765268805,
                    1.9638666113011793,
                    -1.1639993715176382,
                    1.4742499705754153,
                    -1.3170710454264,
                    2.061406034108948,
                    1.0390809142847595,
                    -0.35994721777590705,
                    0.5822715275002863,
                    0.5780547144122881,
                    -0.7910318664440708
                  ],
                  "type": "scatter"
                }
              ],
              "config": {
                "plotlyServerURL": "https://plot.ly",
                "linkText": "Export to plot.ly",
                "showLink": true
              },
              "layout": {
                "template": {
                  "layout": {
                    "shapedefaults": {
                      "line": {
                        "color": "#2a3f5f"
                      }
                    },
                    "polar": {
                      "radialaxis": {
                        "ticks": "",
                        "gridcolor": "white",
                        "linecolor": "white"
                      },
                      "bgcolor": "#E5ECF6",
                      "angularaxis": {
                        "ticks": "",
                        "gridcolor": "white",
                        "linecolor": "white"
                      }
                    },
                    "colorway": [
                      "#636efa",
                      "#EF553B",
                      "#00cc96",
                      "#ab63fa",
                      "#FFA15A",
                      "#19d3f3",
                      "#FF6692",
                      "#B6E880",
                      "#FF97FF",
                      "#FECB52"
                    ],
                    "xaxis": {
                      "automargin": true,
                      "title": {
                        "standoff": 15
                      },
                      "zerolinewidth": 2,
                      "ticks": "",
                      "zerolinecolor": "white",
                      "gridcolor": "white",
                      "linecolor": "white"
                    },
                    "colorscale": {
                      "diverging": [
                        [
                          0,
                          "#8e0152"
                        ],
                        [
                          0.1,
                          "#c51b7d"
                        ],
                        [
                          0.2,
                          "#de77ae"
                        ],
                        [
                          0.3,
                          "#f1b6da"
                        ],
                        [
                          0.4,
                          "#fde0ef"
                        ],
                        [
                          0.5,
                          "#f7f7f7"
                        ],
                        [
                          0.6,
                          "#e6f5d0"
                        ],
                        [
                          0.7,
                          "#b8e186"
                        ],
                        [
                          0.8,
                          "#7fbc41"
                        ],
                        [
                          0.9,
                          "#4d9221"
                        ],
                        [
                          1,
                          "#276419"
                        ]
                      ],
                      "sequential": [
                        [
                          0,
                          "#0d0887"
                        ],
                        [
                          0.1111111111111111,
                          "#46039f"
                        ],
                        [
                          0.2222222222222222,
                          "#7201a8"
                        ],
                        [
                          0.3333333333333333,
                          "#9c179e"
                        ],
                        [
                          0.4444444444444444,
                          "#bd3786"
                        ],
                        [
                          0.5555555555555556,
                          "#d8576b"
                        ],
                        [
                          0.6666666666666666,
                          "#ed7953"
                        ],
                        [
                          0.7777777777777778,
                          "#fb9f3a"
                        ],
                        [
                          0.8888888888888888,
                          "#fdca26"
                        ],
                        [
                          1,
                          "#f0f921"
                        ]
                      ],
                      "sequentialminus": [
                        [
                          0,
                          "#0d0887"
                        ],
                        [
                          0.1111111111111111,
                          "#46039f"
                        ],
                        [
                          0.2222222222222222,
                          "#7201a8"
                        ],
                        [
                          0.3333333333333333,
                          "#9c179e"
                        ],
                        [
                          0.4444444444444444,
                          "#bd3786"
                        ],
                        [
                          0.5555555555555556,
                          "#d8576b"
                        ],
                        [
                          0.6666666666666666,
                          "#ed7953"
                        ],
                        [
                          0.7777777777777778,
                          "#fb9f3a"
                        ],
                        [
                          0.8888888888888888,
                          "#fdca26"
                        ],
                        [
                          1,
                          "#f0f921"
                        ]
                      ]
                    },
                    "paper_bgcolor": "white",
                    "plot_bgcolor": "#E5ECF6",
                    "title": {
                      "x": 0.05
                    },
                    "scene": {
                      "zaxis": {
                        "backgroundcolor": "#E5ECF6",
                        "ticks": "",
                        "gridwidth": 2,
                        "showbackground": true,
                        "zerolinecolor": "white",
                        "gridcolor": "white",
                        "linecolor": "white"
                      },
                      "xaxis": {
                        "backgroundcolor": "#E5ECF6",
                        "ticks": "",
                        "gridwidth": 2,
                        "showbackground": true,
                        "zerolinecolor": "white",
                        "gridcolor": "white",
                        "linecolor": "white"
                      },
                      "yaxis": {
                        "backgroundcolor": "#E5ECF6",
                        "ticks": "",
                        "gridwidth": 2,
                        "showbackground": true,
                        "zerolinecolor": "white",
                        "gridcolor": "white",
                        "linecolor": "white"
                      }
                    },
                    "yaxis": {
                      "automargin": true,
                      "title": {
                        "standoff": 15
                      },
                      "zerolinewidth": 2,
                      "ticks": "",
                      "zerolinecolor": "white",
                      "gridcolor": "white",
                      "linecolor": "white"
                    },
                    "annotationdefaults": {
                      "arrowwidth": 1,
                      "arrowhead": 0,
                      "arrowcolor": "#2a3f5f"
                    },
                    "hoverlabel": {
                      "align": "left"
                    },
                    "ternary": {
                      "bgcolor": "#E5ECF6",
                      "baxis": {
                        "ticks": "",
                        "gridcolor": "white",
                        "linecolor": "white"
                      },
                      "caxis": {
                        "ticks": "",
                        "gridcolor": "white",
                        "linecolor": "white"
                      },
                      "aaxis": {
                        "ticks": "",
                        "gridcolor": "white",
                        "linecolor": "white"
                      }
                    },
                    "mapbox": {
                      "style": "light"
                    },
                    "hovermode": "closest",
                    "font": {
                      "color": "#2a3f5f"
                    },
                    "geo": {
                      "showland": true,
                      "landcolor": "#E5ECF6",
                      "showlakes": true,
                      "bgcolor": "white",
                      "subunitcolor": "white",
                      "lakecolor": "white"
                    },
                    "coloraxis": {
                      "colorbar": {
                        "outlinewidth": 0,
                        "ticks": ""
                      }
                    }
                  },
                  "data": {
                    "mesh3d": [
                      {
                        "colorbar": {
                          "outlinewidth": 0,
                          "ticks": ""
                        },
                        "type": "mesh3d"
                      }
                    ],
                    "scattercarpet": [
                      {
                        "marker": {
                          "colorbar": {
                            "outlinewidth": 0,
                            "ticks": ""
                          }
                        },
                        "type": "scattercarpet"
                      }
                    ],
                    "pie": [
                      {
                        "automargin": true,
                        "type": "pie"
                      }
                    ],
                    "surface": [
                      {
                        "colorbar": {
                          "outlinewidth": 0,
                          "ticks": ""
                        },
                        "type": "surface",
                        "colorscale": [
                          [
                            0,
                            "#0d0887"
                          ],
                          [
                            0.1111111111111111,
                            "#46039f"
                          ],
                          [
                            0.2222222222222222,
                            "#7201a8"
                          ],
                          [
                            0.3333333333333333,
                            "#9c179e"
                          ],
                          [
                            0.4444444444444444,
                            "#bd3786"
                          ],
                          [
                            0.5555555555555556,
                            "#d8576b"
                          ],
                          [
                            0.6666666666666666,
                            "#ed7953"
                          ],
                          [
                            0.7777777777777778,
                            "#fb9f3a"
                          ],
                          [
                            0.8888888888888888,
                            "#fdca26"
                          ],
                          [
                            1,
                            "#f0f921"
                          ]
                        ]
                      }
                    ],
                    "table": [
                      {
                        "header": {
                          "line": {
                            "color": "white"
                          },
                          "fill": {
                            "color": "#C8D4E3"
                          }
                        },
                        "cells": {
                          "line": {
                            "color": "white"
                          },
                          "fill": {
                            "color": "#EBF0F8"
                          }
                        },
                        "type": "table"
                      }
                    ],
                    "scatterpolargl": [
                      {
                        "marker": {
                          "colorbar": {
                            "outlinewidth": 0,
                            "ticks": ""
                          }
                        },
                        "type": "scatterpolargl"
                      }
                    ],
                    "contour": [
                      {
                        "colorbar": {
                          "outlinewidth": 0,
                          "ticks": ""
                        },
                        "type": "contour",
                        "colorscale": [
                          [
                            0,
                            "#0d0887"
                          ],
                          [
                            0.1111111111111111,
                            "#46039f"
                          ],
                          [
                            0.2222222222222222,
                            "#7201a8"
                          ],
                          [
                            0.3333333333333333,
                            "#9c179e"
                          ],
                          [
                            0.4444444444444444,
                            "#bd3786"
                          ],
                          [
                            0.5555555555555556,
                            "#d8576b"
                          ],
                          [
                            0.6666666666666666,
                            "#ed7953"
                          ],
                          [
                            0.7777777777777778,
                            "#fb9f3a"
                          ],
                          [
                            0.8888888888888888,
                            "#fdca26"
                          ],
                          [
                            1,
                            "#f0f921"
                          ]
                        ]
                      }
                    ],
                    "carpet": [
                      {
                        "type": "carpet",
                        "baxis": {
                          "minorgridcolor": "white",
                          "gridcolor": "white",
                          "linecolor": "white",
                          "endlinecolor": "#2a3f5f",
                          "startlinecolor": "#2a3f5f"
                        },
                        "aaxis": {
                          "minorgridcolor": "white",
                          "gridcolor": "white",
                          "linecolor": "white",
                          "endlinecolor": "#2a3f5f",
                          "startlinecolor": "#2a3f5f"
                        }
                      }
                    ],
                    "contourcarpet": [
                      {
                        "colorbar": {
                          "outlinewidth": 0,
                          "ticks": ""
                        },
                        "type": "contourcarpet"
                      }
                    ],
                    "heatmap": [
                      {
                        "colorbar": {
                          "outlinewidth": 0,
                          "ticks": ""
                        },
                        "type": "heatmap",
                        "colorscale": [
                          [
                            0,
                            "#0d0887"
                          ],
                          [
                            0.1111111111111111,
                            "#46039f"
                          ],
                          [
                            0.2222222222222222,
                            "#7201a8"
                          ],
                          [
                            0.3333333333333333,
                            "#9c179e"
                          ],
                          [
                            0.4444444444444444,
                            "#bd3786"
                          ],
                          [
                            0.5555555555555556,
                            "#d8576b"
                          ],
                          [
                            0.6666666666666666,
                            "#ed7953"
                          ],
                          [
                            0.7777777777777778,
                            "#fb9f3a"
                          ],
                          [
                            0.8888888888888888,
                            "#fdca26"
                          ],
                          [
                            1,
                            "#f0f921"
                          ]
                        ]
                      }
                    ],
                    "scattermapbox": [
                      {
                        "marker": {
                          "colorbar": {
                            "outlinewidth": 0,
                            "ticks": ""
                          }
                        },
                        "type": "scattermapbox"
                      }
                    ],
                    "scatter3d": [
                      {
                        "marker": {
                          "colorbar": {
                            "outlinewidth": 0,
                            "ticks": ""
                          }
                        },
                        "line": {
                          "colorbar": {
                            "outlinewidth": 0,
                            "ticks": ""
                          }
                        },
                        "type": "scatter3d"
                      }
                    ],
                    "scattergl": [
                      {
                        "marker": {
                          "colorbar": {
                            "outlinewidth": 0,
                            "ticks": ""
                          }
                        },
                        "type": "scattergl"
                      }
                    ],
                    "scatterternary": [
                      {
                        "marker": {
                          "colorbar": {
                            "outlinewidth": 0,
                            "ticks": ""
                          }
                        },
                        "type": "scatterternary"
                      }
                    ],
                    "histogram": [
                      {
                        "marker": {
                          "colorbar": {
                            "outlinewidth": 0,
                            "ticks": ""
                          }
                        },
                        "type": "histogram"
                      }
                    ],
                    "heatmapgl": [
                      {
                        "colorbar": {
                          "outlinewidth": 0,
                          "ticks": ""
                        },
                        "type": "heatmapgl",
                        "colorscale": [
                          [
                            0,
                            "#0d0887"
                          ],
                          [
                            0.1111111111111111,
                            "#46039f"
                          ],
                          [
                            0.2222222222222222,
                            "#7201a8"
                          ],
                          [
                            0.3333333333333333,
                            "#9c179e"
                          ],
                          [
                            0.4444444444444444,
                            "#bd3786"
                          ],
                          [
                            0.5555555555555556,
                            "#d8576b"
                          ],
                          [
                            0.6666666666666666,
                            "#ed7953"
                          ],
                          [
                            0.7777777777777778,
                            "#fb9f3a"
                          ],
                          [
                            0.8888888888888888,
                            "#fdca26"
                          ],
                          [
                            1,
                            "#f0f921"
                          ]
                        ]
                      }
                    ],
                    "scatterpolar": [
                      {
                        "marker": {
                          "colorbar": {
                            "outlinewidth": 0,
                            "ticks": ""
                          }
                        },
                        "type": "scatterpolar"
                      }
                    ],
                    "histogram2d": [
                      {
                        "colorbar": {
                          "outlinewidth": 0,
                          "ticks": ""
                        },
                        "type": "histogram2d",
                        "colorscale": [
                          [
                            0,
                            "#0d0887"
                          ],
                          [
                            0.1111111111111111,
                            "#46039f"
                          ],
                          [
                            0.2222222222222222,
                            "#7201a8"
                          ],
                          [
                            0.3333333333333333,
                            "#9c179e"
                          ],
                          [
                            0.4444444444444444,
                            "#bd3786"
                          ],
                          [
                            0.5555555555555556,
                            "#d8576b"
                          ],
                          [
                            0.6666666666666666,
                            "#ed7953"
                          ],
                          [
                            0.7777777777777778,
                            "#fb9f3a"
                          ],
                          [
                            0.8888888888888888,
                            "#fdca26"
                          ],
                          [
                            1,
                            "#f0f921"
                          ]
                        ]
                      }
                    ],
                    "scattergeo": [
                      {
                        "marker": {
                          "colorbar": {
                            "outlinewidth": 0,
                            "ticks": ""
                          }
                        },
                        "type": "scattergeo"
                      }
                    ],
                    "bar": [
                      {
                        "marker": {
                          "line": {
                            "color": "#E5ECF6",
                            "width": 0.5
                          }
                        },
                        "type": "bar",
                        "error_x": {
                          "color": "#2a3f5f"
                        },
                        "error_y": {
                          "color": "#2a3f5f"
                        }
                      }
                    ],
                    "choropleth": [
                      {
                        "colorbar": {
                          "outlinewidth": 0,
                          "ticks": ""
                        },
                        "type": "choropleth"
                      }
                    ],
                    "parcoords": [
                      {
                        "line": {
                          "colorbar": {
                            "outlinewidth": 0,
                            "ticks": ""
                          }
                        },
                        "type": "parcoords"
                      }
                    ],
                    "barpolar": [
                      {
                        "marker": {
                          "line": {
                            "color": "#E5ECF6",
                            "width": 0.5
                          }
                        },
                        "type": "barpolar"
                      }
                    ],
                    "histogram2dcontour": [
                      {
                        "colorbar": {
                          "outlinewidth": 0,
                          "ticks": ""
                        },
                        "type": "histogram2dcontour",
                        "colorscale": [
                          [
                            0,
                            "#0d0887"
                          ],
                          [
                            0.1111111111111111,
                            "#46039f"
                          ],
                          [
                            0.2222222222222222,
                            "#7201a8"
                          ],
                          [
                            0.3333333333333333,
                            "#9c179e"
                          ],
                          [
                            0.4444444444444444,
                            "#bd3786"
                          ],
                          [
                            0.5555555555555556,
                            "#d8576b"
                          ],
                          [
                            0.6666666666666666,
                            "#ed7953"
                          ],
                          [
                            0.7777777777777778,
                            "#fb9f3a"
                          ],
                          [
                            0.8888888888888888,
                            "#fdca26"
                          ],
                          [
                            1,
                            "#f0f921"
                          ]
                        ]
                      }
                    ],
                    "scatter": [
                      {
                        "marker": {
                          "colorbar": {
                            "outlinewidth": 0,
                            "ticks": ""
                          }
                        },
                        "type": "scatter"
                      }
                    ]
                  }
                },
                "title": {
                  "font": {
                    "color": "#4D5663"
                  }
                },
                "paper_bgcolor": "#F5F6F9",
                "plot_bgcolor": "#F5F6F9",
                "yaxis": {
                  "tickfont": {
                    "color": "#4D5663"
                  },
                  "zerolinecolor": "#E1E5ED",
                  "title": {
                    "text": "",
                    "font": {
                      "color": "#4D5663"
                    }
                  },
                  "gridcolor": "#E1E5ED",
                  "showgrid": true
                },
                "xaxis": {
                  "tickfont": {
                    "color": "#4D5663"
                  },
                  "zerolinecolor": "#E1E5ED",
                  "title": {
                    "text": "",
                    "font": {
                      "color": "#4D5663"
                    }
                  },
                  "gridcolor": "#E1E5ED",
                  "showgrid": true
                },
                "legend": {
                  "bgcolor": "#F5F6F9",
                  "font": {
                    "color": "#4D5663"
                  }
                }
              }
            }
          },
          "metadata": {
            "tags": []
          }
        }
      ]
    },
    {
      "cell_type": "markdown",
      "metadata": {
        "id": "3lVZFwS4o0LE"
      },
      "source": [
        "## scatter_matrix()\n",
        "\n",
        "Similar to sns.pairplot()"
      ]
    },
    {
      "cell_type": "code",
      "metadata": {
        "colab": {
          "base_uri": "https://localhost:8080/",
          "height": 542
        },
        "id": "1Z9GPwofo0LE",
        "outputId": "f7f5b368-9dea-4f8f-9f71-7d6f012ac150"
      },
      "source": [
        "df.scatter_matrix()"
      ],
      "execution_count": 18,
      "outputs": [
        {
          "output_type": "display_data",
          "data": {
            "text/html": [
              "<div>\n",
              "        \n",
              "        \n",
              "            <div id=\"b91cbbb5-2f8a-42cf-abbe-2930790ef788\" class=\"plotly-graph-div\" style=\"height:525px; width:100%;\"></div>\n",
              "            <script type=\"text/javascript\">\n",
              "                require([\"plotly\"], function(Plotly) {\n",
              "                    window.PLOTLYENV=window.PLOTLYENV || {};\n",
              "                    window.PLOTLYENV.BASE_URL='https://plot.ly';\n",
              "                    \n",
              "                if (document.getElementById(\"b91cbbb5-2f8a-42cf-abbe-2930790ef788\")) {\n",
              "                    Plotly.newPlot(\n",
              "                        'b91cbbb5-2f8a-42cf-abbe-2930790ef788',\n",
              "                        [{\"histfunc\": \"count\", \"histnorm\": \"\", \"marker\": {\"color\": \"rgba(255, 153, 51, 1.0)\", \"line\": {\"color\": \"#4D5663\", \"width\": 1.3}}, \"name\": \"A\", \"nbinsx\": 10, \"opacity\": 0.8, \"orientation\": \"v\", \"type\": \"histogram\", \"x\": [0.49449272530329047, 0.034528001350900256, -0.7946215341312589, 1.9028248305238074, 0.006168500487285368, -0.646904665314446, 0.48255753274079133, -0.7343086288457172, -0.34794321781969817, 1.9142109663219973, 1.9009810730582737, 0.60851843055985, 0.7118296524467419, -1.146016055014683, -0.18326960130776676, -0.12060848620152653, 0.6279615151556829, 2.3972492782457357, 0.25352786848048336, 0.30340667749886713, 1.911779639274964, -0.41634320669644, 0.06774707796135956, -0.6969960897231474, -1.1926002276894017, -0.9052079661067426, 1.1360267449714567, -0.8071906369875103, 1.5973964698699552, 0.8548629282365606, 0.00805549333156661, -0.1875107634509211, 1.860888082553138, 0.4491610317689726, -1.1065729004552944, -1.210253649996616, -1.3861184880132484, -0.37859662107129394, 0.6744767804346525, -1.0787036830472339, 0.09231075314670419, -0.11910687458279542, -0.00932143515294092, 0.8237425395388134, -1.2245368744825151, 0.765472350926838, 1.488814705875263, 0.6332138353148433, 0.017800676144336905, -0.10641501029678054, -0.2561215983248197, -0.16090710308918565, -0.5629484054684389, 0.24499515509043016, -1.0250294042886583, -0.23433780993918485, -0.6235825081087522, -1.0040664888392414, 0.4412264639634368, -0.13897635859556548, 0.4909861903980702, 1.6283087805480077, -0.8157090997355115, 0.2591105079595253, 1.8061640134274737, -0.26243055062034426, -1.2041654634413208, 0.08228734517166987, 0.24626482502167044, 0.08211455780515052, 1.2051798170386212, -1.1799496193151544, -0.526486513684934, -0.25981063949919314, 0.3662313414855823, -0.6529890732166655, 1.5678515870250003, 0.05769126472384962, -1.2569152310660323, -0.6859973308376616, -1.8511519876772007, -0.9653073216056013, 1.112894317654417, 0.3907391182199121, -0.63850397282398, -0.8403492596202459, 0.48223732635132477, -0.2934179114575572, -0.12704325980510536, 0.36727881765268805, 1.9638666113011793, -1.1639993715176382, 1.4742499705754153, -1.3170710454264, 2.061406034108948, 1.0390809142847595, -0.35994721777590705, 0.5822715275002863, 0.5780547144122881, -0.7910318664440708], \"xaxis\": \"x\", \"yaxis\": \"y\"}, {\"line\": {\"color\": \"rgba(128, 128, 128, 1.0)\", \"dash\": \"solid\", \"shape\": \"linear\", \"width\": 1.3}, \"marker\": {\"size\": 2, \"symbol\": \"circle\"}, \"mode\": \"markers\", \"name\": \"A\", \"text\": \"\", \"type\": \"scatter\", \"x\": [-0.8136759797552139, -0.05485004777981325, -0.7354321015336972, 0.2249286743408787, 1.042791519448513, -0.18273615906352095, -0.06692170724897374, 1.607177305910856, -0.1793710017199522, -0.018194588543706005, 0.12316141153047848, 0.3680399156648711, -0.5974356495058103, -0.09832813929968391, 0.32320235378837736, -0.30785533668697723, 1.5758386876787536, 1.5225267490392824, 0.6163565107520003, -0.016783669433683018, 0.3826115635049692, -0.26777625398632077, -1.635750655467563, 0.3406422253573746, -0.787959156960995, 0.3645487271885021, -0.35577341396159645, 0.6490752613997947, -0.8130874975316237, 0.47861025390015216, -1.4102850439880745, 0.6389802293177309, -1.080070246304188, 0.014505110937698303, 0.5335163451855318, -0.020432045686978578, -0.32132438112819084, -1.641500057485398, 0.5990451502361493, -0.724953471543375, 0.8536130491768231, -0.2910271148862159, -0.9111452886490694, -0.720343772877038, 0.7823487918924391, -0.8568066719129985, -0.46363014921539397, -0.34993197525826414, 1.3838867053010142, -0.1298659550706131, -3.007146529953769, -0.4371479134339112, -1.4987649242344048, -0.05594828278616842, -2.458347801850056, 0.6697959465864352, 2.638600323779429, -1.4334736453973018, -1.7527544091674543, -2.55126788260544, 0.43919616105371667, -0.5396909605551713, 0.5871878208303853, -1.772939745598578, -0.602616598198998, -1.1016540891023183, -0.9630877137017885, 1.1248381048177714, 0.2748240387380922, 0.4358776515904015, 0.7685860891350906, -0.004574417545520153, 2.14357981609164, -1.8892338070965509, -0.6699330789034134, -0.4015884234543682, -0.7132818644409759, 0.2326994556677902, 0.8536679521702573, -1.2832262558150698, 0.5823721324294828, -0.5481622827200686, 1.4767962539420714, -0.05182969341053261, -1.64242794344349, 1.3758526793671009, -0.06464799276267091, -0.0038963779145905196, 0.6762561054044929, -0.7969326503180237, 0.9207974519783559, 1.0861925805067818, -2.1934441364003576, -0.5292897576555309, 1.1117441137860085, -0.13524443733734617, -0.32520926724879606, -0.11781438669767867, -0.06603583569490025, -0.9416595928090823], \"xaxis\": \"x2\", \"y\": [0.49449272530329047, 0.034528001350900256, -0.7946215341312589, 1.9028248305238074, 0.006168500487285368, -0.646904665314446, 0.48255753274079133, -0.7343086288457172, -0.34794321781969817, 1.9142109663219973, 1.9009810730582737, 0.60851843055985, 0.7118296524467419, -1.146016055014683, -0.18326960130776676, -0.12060848620152653, 0.6279615151556829, 2.3972492782457357, 0.25352786848048336, 0.30340667749886713, 1.911779639274964, -0.41634320669644, 0.06774707796135956, -0.6969960897231474, -1.1926002276894017, -0.9052079661067426, 1.1360267449714567, -0.8071906369875103, 1.5973964698699552, 0.8548629282365606, 0.00805549333156661, -0.1875107634509211, 1.860888082553138, 0.4491610317689726, -1.1065729004552944, -1.210253649996616, -1.3861184880132484, -0.37859662107129394, 0.6744767804346525, -1.0787036830472339, 0.09231075314670419, -0.11910687458279542, -0.00932143515294092, 0.8237425395388134, -1.2245368744825151, 0.765472350926838, 1.488814705875263, 0.6332138353148433, 0.017800676144336905, -0.10641501029678054, -0.2561215983248197, -0.16090710308918565, -0.5629484054684389, 0.24499515509043016, -1.0250294042886583, -0.23433780993918485, -0.6235825081087522, -1.0040664888392414, 0.4412264639634368, -0.13897635859556548, 0.4909861903980702, 1.6283087805480077, -0.8157090997355115, 0.2591105079595253, 1.8061640134274737, -0.26243055062034426, -1.2041654634413208, 0.08228734517166987, 0.24626482502167044, 0.08211455780515052, 1.2051798170386212, -1.1799496193151544, -0.526486513684934, -0.25981063949919314, 0.3662313414855823, -0.6529890732166655, 1.5678515870250003, 0.05769126472384962, -1.2569152310660323, -0.6859973308376616, -1.8511519876772007, -0.9653073216056013, 1.112894317654417, 0.3907391182199121, -0.63850397282398, -0.8403492596202459, 0.48223732635132477, -0.2934179114575572, -0.12704325980510536, 0.36727881765268805, 1.9638666113011793, -1.1639993715176382, 1.4742499705754153, -1.3170710454264, 2.061406034108948, 1.0390809142847595, -0.35994721777590705, 0.5822715275002863, 0.5780547144122881, -0.7910318664440708], \"yaxis\": \"y2\"}, {\"line\": {\"color\": \"rgba(128, 128, 128, 1.0)\", \"dash\": \"solid\", \"shape\": \"linear\", \"width\": 1.3}, \"marker\": {\"size\": 2, \"symbol\": \"circle\"}, \"mode\": \"markers\", \"name\": \"A\", \"text\": \"\", \"type\": \"scatter\", \"x\": [-1.310690252440048, -1.0016639097981894, -0.41642088116897713, -1.7550639732151119, -0.2226778514116316, 0.23914971590826037, -1.0750014537256962, 0.7793484950989243, 1.0373619053602594, -0.3478572473188221, -1.096319830061799, -0.23679994530654408, 0.8624387834327595, -0.04885765547364744, -0.1793268858240769, -1.5781170700429645, 0.2825081976274687, 0.9209397871315534, 0.2621300064555339, 0.2724996898989235, -1.1368491934786962, 0.9003625922768816, -0.13431631567823177, 0.9920743359639713, -0.6584359514467756, -0.9423231650816679, -0.45739119432055747, 0.4890037820101285, 0.31802368109812984, 1.5506504126217866, -1.9329682877543066, 0.2131731694266834, 2.0613359524605137, 1.0590402039924574, 2.4093078538137673, 1.2496314878999002, -1.63184777201933, -0.026500697866007724, 0.892292585316659, 2.7481840888166817, -0.9174748872341176, 1.2173088850793061, -0.755318195125809, 0.24541712775521726, 0.1954851823130636, -1.2749395359716156, 0.0693579563756177, 0.8369194145379346, 1.2897940280700224, -0.9215839409576956, -0.298051090785431, 1.2105883602755476, 1.4864483357968963, 1.254140425573467, -0.6674301504233613, 0.6115464292486142, -0.7408458102254861, -0.256478721369443, -1.6066840440240275, -0.7341937458045557, -1.7475583125075766, -0.09265375180489084, -0.28401485744056926, -0.3040640351872021, 2.3594592466737465, -0.31699561375963153, -2.0445712227727206, 1.7110030149073199, -0.24988710852099302, 0.02442585394746932, 0.27995346672427457, -0.49094402256524783, 0.6593431856088066, 0.4691695169897422, -0.0226169882873906, -0.0161375807369831, -0.17390749960001475, 0.5935786825750609, -0.002887692043964249, 1.4525455124091755, 0.46974533283528147, 1.0558861103001775, 2.4556250439294582, -0.5072269246546878, -0.23070366004823475, -0.7514317490000312, 1.7243807656390517, 0.7506400344801331, 0.5615666496113562, 0.606974889270539, -1.2427417303014325, -0.7841558970428817, 0.8071819910433602, 0.08434711220247389, -0.28189543503859094, -1.2363924276835345, -0.6818873922016349, -0.1780216771073922, -1.22670896499483, 0.6530457439101603], \"xaxis\": \"x3\", \"y\": [0.49449272530329047, 0.034528001350900256, -0.7946215341312589, 1.9028248305238074, 0.006168500487285368, -0.646904665314446, 0.48255753274079133, -0.7343086288457172, -0.34794321781969817, 1.9142109663219973, 1.9009810730582737, 0.60851843055985, 0.7118296524467419, -1.146016055014683, -0.18326960130776676, -0.12060848620152653, 0.6279615151556829, 2.3972492782457357, 0.25352786848048336, 0.30340667749886713, 1.911779639274964, -0.41634320669644, 0.06774707796135956, -0.6969960897231474, -1.1926002276894017, -0.9052079661067426, 1.1360267449714567, -0.8071906369875103, 1.5973964698699552, 0.8548629282365606, 0.00805549333156661, -0.1875107634509211, 1.860888082553138, 0.4491610317689726, -1.1065729004552944, -1.210253649996616, -1.3861184880132484, -0.37859662107129394, 0.6744767804346525, -1.0787036830472339, 0.09231075314670419, -0.11910687458279542, -0.00932143515294092, 0.8237425395388134, -1.2245368744825151, 0.765472350926838, 1.488814705875263, 0.6332138353148433, 0.017800676144336905, -0.10641501029678054, -0.2561215983248197, -0.16090710308918565, -0.5629484054684389, 0.24499515509043016, -1.0250294042886583, -0.23433780993918485, -0.6235825081087522, -1.0040664888392414, 0.4412264639634368, -0.13897635859556548, 0.4909861903980702, 1.6283087805480077, -0.8157090997355115, 0.2591105079595253, 1.8061640134274737, -0.26243055062034426, -1.2041654634413208, 0.08228734517166987, 0.24626482502167044, 0.08211455780515052, 1.2051798170386212, -1.1799496193151544, -0.526486513684934, -0.25981063949919314, 0.3662313414855823, -0.6529890732166655, 1.5678515870250003, 0.05769126472384962, -1.2569152310660323, -0.6859973308376616, -1.8511519876772007, -0.9653073216056013, 1.112894317654417, 0.3907391182199121, -0.63850397282398, -0.8403492596202459, 0.48223732635132477, -0.2934179114575572, -0.12704325980510536, 0.36727881765268805, 1.9638666113011793, -1.1639993715176382, 1.4742499705754153, -1.3170710454264, 2.061406034108948, 1.0390809142847595, -0.35994721777590705, 0.5822715275002863, 0.5780547144122881, -0.7910318664440708], \"yaxis\": \"y3\"}, {\"line\": {\"color\": \"rgba(128, 128, 128, 1.0)\", \"dash\": \"solid\", \"shape\": \"linear\", \"width\": 1.3}, \"marker\": {\"size\": 2, \"symbol\": \"circle\"}, \"mode\": \"markers\", \"name\": \"A\", \"text\": \"\", \"type\": \"scatter\", \"x\": [-0.5586526736249071, 2.5648378161597214, 1.3344146941476993, 1.254354577490153, 0.16357134953986177, -0.9960938884592154, 0.13793117385325948, -1.2449787517374886, 0.7905569069667446, -0.47189843625849925, 1.760083403161101, 0.7702342858963125, 0.2697744516104289, -0.3957419259082303, -0.65073164328824, 1.200082438964805, -1.3384025367746317, 0.0850331086823893, 1.4780241829910779, -1.2114542784311022, -1.0618230206281567, 0.6447217677760896, -1.0349038148035064, -1.4657058306146857, -1.017106448859101, 0.6140089693132623, 0.44188301079672027, 1.0922550023780713, 1.7014083913907552, -0.3117596043335442, 2.09855568078052, 0.977899693543391, -1.0446629832424001, 1.8398144196070627, -1.0381798429862215, 1.386861108917373, 0.9636362602276877, 0.9202524368962468, -0.9748531629107791, 0.024610466008356827, 0.32812732151482943, -0.8789750779745303, 0.9011141580879979, 0.6879328203279454, -1.3525916616180822, -1.0699882538566368, -0.9645653684430997, -0.8324991511440036, -1.1577494401855701, -0.48500127580568525, 0.20555864863386705, 1.3455123592229001, -0.4384968657387519, 0.7962431896578012, 1.3808045347045983, 0.057946893201123485, -1.1924462650279564, -0.6443360195741673, 0.8158471858962739, -1.1165422679830348, -1.6174056572146196, -0.48200788866862027, -1.3806750452721406, 0.307668980125605, 0.8008344626421596, -0.3858147783951234, -1.6138348349914224, 0.5693639400111072, 0.3597726601090242, 1.4976770180954566, -0.22677223889894424, -0.639424471179971, 0.8137989877267898, -2.1681373219069924, -1.8416815842472938, 2.022587975603228, -0.1434116534262859, 0.14450424350839192, 0.1531220183412497, -1.1146261432345768, 0.5339641224227574, -0.4161067384024961, 0.5621537536849726, 0.8442442731778624, -0.9665262698553451, 0.8474770363065303, 1.5941001583678718, 1.1285820590845328, -1.489469537854431, -0.6036481917882937, 0.3007949292001437, 0.3904157077266811, -0.07161375607841475, -0.48174246009706273, -0.48901515104489596, 0.8097689417719991, 1.139437441228571, 0.05333200288744596, -0.6753749933549216, -0.42302442124398776], \"xaxis\": \"x4\", \"y\": [0.49449272530329047, 0.034528001350900256, -0.7946215341312589, 1.9028248305238074, 0.006168500487285368, -0.646904665314446, 0.48255753274079133, -0.7343086288457172, -0.34794321781969817, 1.9142109663219973, 1.9009810730582737, 0.60851843055985, 0.7118296524467419, -1.146016055014683, -0.18326960130776676, -0.12060848620152653, 0.6279615151556829, 2.3972492782457357, 0.25352786848048336, 0.30340667749886713, 1.911779639274964, -0.41634320669644, 0.06774707796135956, -0.6969960897231474, -1.1926002276894017, -0.9052079661067426, 1.1360267449714567, -0.8071906369875103, 1.5973964698699552, 0.8548629282365606, 0.00805549333156661, -0.1875107634509211, 1.860888082553138, 0.4491610317689726, -1.1065729004552944, -1.210253649996616, -1.3861184880132484, -0.37859662107129394, 0.6744767804346525, -1.0787036830472339, 0.09231075314670419, -0.11910687458279542, -0.00932143515294092, 0.8237425395388134, -1.2245368744825151, 0.765472350926838, 1.488814705875263, 0.6332138353148433, 0.017800676144336905, -0.10641501029678054, -0.2561215983248197, -0.16090710308918565, -0.5629484054684389, 0.24499515509043016, -1.0250294042886583, -0.23433780993918485, -0.6235825081087522, -1.0040664888392414, 0.4412264639634368, -0.13897635859556548, 0.4909861903980702, 1.6283087805480077, -0.8157090997355115, 0.2591105079595253, 1.8061640134274737, -0.26243055062034426, -1.2041654634413208, 0.08228734517166987, 0.24626482502167044, 0.08211455780515052, 1.2051798170386212, -1.1799496193151544, -0.526486513684934, -0.25981063949919314, 0.3662313414855823, -0.6529890732166655, 1.5678515870250003, 0.05769126472384962, -1.2569152310660323, -0.6859973308376616, -1.8511519876772007, -0.9653073216056013, 1.112894317654417, 0.3907391182199121, -0.63850397282398, -0.8403492596202459, 0.48223732635132477, -0.2934179114575572, -0.12704325980510536, 0.36727881765268805, 1.9638666113011793, -1.1639993715176382, 1.4742499705754153, -1.3170710454264, 2.061406034108948, 1.0390809142847595, -0.35994721777590705, 0.5822715275002863, 0.5780547144122881, -0.7910318664440708], \"yaxis\": \"y4\"}, {\"line\": {\"color\": \"rgba(128, 128, 128, 1.0)\", \"dash\": \"solid\", \"shape\": \"linear\", \"width\": 1.3}, \"marker\": {\"size\": 2, \"symbol\": \"circle\"}, \"mode\": \"markers\", \"name\": \"B\", \"text\": \"\", \"type\": \"scatter\", \"x\": [0.49449272530329047, 0.034528001350900256, -0.7946215341312589, 1.9028248305238074, 0.006168500487285368, -0.646904665314446, 0.48255753274079133, -0.7343086288457172, -0.34794321781969817, 1.9142109663219973, 1.9009810730582737, 0.60851843055985, 0.7118296524467419, -1.146016055014683, -0.18326960130776676, -0.12060848620152653, 0.6279615151556829, 2.3972492782457357, 0.25352786848048336, 0.30340667749886713, 1.911779639274964, -0.41634320669644, 0.06774707796135956, -0.6969960897231474, -1.1926002276894017, -0.9052079661067426, 1.1360267449714567, -0.8071906369875103, 1.5973964698699552, 0.8548629282365606, 0.00805549333156661, -0.1875107634509211, 1.860888082553138, 0.4491610317689726, -1.1065729004552944, -1.210253649996616, -1.3861184880132484, -0.37859662107129394, 0.6744767804346525, -1.0787036830472339, 0.09231075314670419, -0.11910687458279542, -0.00932143515294092, 0.8237425395388134, -1.2245368744825151, 0.765472350926838, 1.488814705875263, 0.6332138353148433, 0.017800676144336905, -0.10641501029678054, -0.2561215983248197, -0.16090710308918565, -0.5629484054684389, 0.24499515509043016, -1.0250294042886583, -0.23433780993918485, -0.6235825081087522, -1.0040664888392414, 0.4412264639634368, -0.13897635859556548, 0.4909861903980702, 1.6283087805480077, -0.8157090997355115, 0.2591105079595253, 1.8061640134274737, -0.26243055062034426, -1.2041654634413208, 0.08228734517166987, 0.24626482502167044, 0.08211455780515052, 1.2051798170386212, -1.1799496193151544, -0.526486513684934, -0.25981063949919314, 0.3662313414855823, -0.6529890732166655, 1.5678515870250003, 0.05769126472384962, -1.2569152310660323, -0.6859973308376616, -1.8511519876772007, -0.9653073216056013, 1.112894317654417, 0.3907391182199121, -0.63850397282398, -0.8403492596202459, 0.48223732635132477, -0.2934179114575572, -0.12704325980510536, 0.36727881765268805, 1.9638666113011793, -1.1639993715176382, 1.4742499705754153, -1.3170710454264, 2.061406034108948, 1.0390809142847595, -0.35994721777590705, 0.5822715275002863, 0.5780547144122881, -0.7910318664440708], \"xaxis\": \"x5\", \"y\": [-0.8136759797552139, -0.05485004777981325, -0.7354321015336972, 0.2249286743408787, 1.042791519448513, -0.18273615906352095, -0.06692170724897374, 1.607177305910856, -0.1793710017199522, -0.018194588543706005, 0.12316141153047848, 0.3680399156648711, -0.5974356495058103, -0.09832813929968391, 0.32320235378837736, -0.30785533668697723, 1.5758386876787536, 1.5225267490392824, 0.6163565107520003, -0.016783669433683018, 0.3826115635049692, -0.26777625398632077, -1.635750655467563, 0.3406422253573746, -0.787959156960995, 0.3645487271885021, -0.35577341396159645, 0.6490752613997947, -0.8130874975316237, 0.47861025390015216, -1.4102850439880745, 0.6389802293177309, -1.080070246304188, 0.014505110937698303, 0.5335163451855318, -0.020432045686978578, -0.32132438112819084, -1.641500057485398, 0.5990451502361493, -0.724953471543375, 0.8536130491768231, -0.2910271148862159, -0.9111452886490694, -0.720343772877038, 0.7823487918924391, -0.8568066719129985, -0.46363014921539397, -0.34993197525826414, 1.3838867053010142, -0.1298659550706131, -3.007146529953769, -0.4371479134339112, -1.4987649242344048, -0.05594828278616842, -2.458347801850056, 0.6697959465864352, 2.638600323779429, -1.4334736453973018, -1.7527544091674543, -2.55126788260544, 0.43919616105371667, -0.5396909605551713, 0.5871878208303853, -1.772939745598578, -0.602616598198998, -1.1016540891023183, -0.9630877137017885, 1.1248381048177714, 0.2748240387380922, 0.4358776515904015, 0.7685860891350906, -0.004574417545520153, 2.14357981609164, -1.8892338070965509, -0.6699330789034134, -0.4015884234543682, -0.7132818644409759, 0.2326994556677902, 0.8536679521702573, -1.2832262558150698, 0.5823721324294828, -0.5481622827200686, 1.4767962539420714, -0.05182969341053261, -1.64242794344349, 1.3758526793671009, -0.06464799276267091, -0.0038963779145905196, 0.6762561054044929, -0.7969326503180237, 0.9207974519783559, 1.0861925805067818, -2.1934441364003576, -0.5292897576555309, 1.1117441137860085, -0.13524443733734617, -0.32520926724879606, -0.11781438669767867, -0.06603583569490025, -0.9416595928090823], \"yaxis\": \"y5\"}, {\"histfunc\": \"count\", \"histnorm\": \"\", \"marker\": {\"color\": \"rgba(55, 128, 191, 1.0)\", \"line\": {\"color\": \"#4D5663\", \"width\": 1.3}}, \"name\": \"B\", \"nbinsx\": 10, \"opacity\": 0.8, \"orientation\": \"v\", \"type\": \"histogram\", \"x\": [-0.8136759797552139, -0.05485004777981325, -0.7354321015336972, 0.2249286743408787, 1.042791519448513, -0.18273615906352095, -0.06692170724897374, 1.607177305910856, -0.1793710017199522, -0.018194588543706005, 0.12316141153047848, 0.3680399156648711, -0.5974356495058103, -0.09832813929968391, 0.32320235378837736, -0.30785533668697723, 1.5758386876787536, 1.5225267490392824, 0.6163565107520003, -0.016783669433683018, 0.3826115635049692, -0.26777625398632077, -1.635750655467563, 0.3406422253573746, -0.787959156960995, 0.3645487271885021, -0.35577341396159645, 0.6490752613997947, -0.8130874975316237, 0.47861025390015216, -1.4102850439880745, 0.6389802293177309, -1.080070246304188, 0.014505110937698303, 0.5335163451855318, -0.020432045686978578, -0.32132438112819084, -1.641500057485398, 0.5990451502361493, -0.724953471543375, 0.8536130491768231, -0.2910271148862159, -0.9111452886490694, -0.720343772877038, 0.7823487918924391, -0.8568066719129985, -0.46363014921539397, -0.34993197525826414, 1.3838867053010142, -0.1298659550706131, -3.007146529953769, -0.4371479134339112, -1.4987649242344048, -0.05594828278616842, -2.458347801850056, 0.6697959465864352, 2.638600323779429, -1.4334736453973018, -1.7527544091674543, -2.55126788260544, 0.43919616105371667, -0.5396909605551713, 0.5871878208303853, -1.772939745598578, -0.602616598198998, -1.1016540891023183, -0.9630877137017885, 1.1248381048177714, 0.2748240387380922, 0.4358776515904015, 0.7685860891350906, -0.004574417545520153, 2.14357981609164, -1.8892338070965509, -0.6699330789034134, -0.4015884234543682, -0.7132818644409759, 0.2326994556677902, 0.8536679521702573, -1.2832262558150698, 0.5823721324294828, -0.5481622827200686, 1.4767962539420714, -0.05182969341053261, -1.64242794344349, 1.3758526793671009, -0.06464799276267091, -0.0038963779145905196, 0.6762561054044929, -0.7969326503180237, 0.9207974519783559, 1.0861925805067818, -2.1934441364003576, -0.5292897576555309, 1.1117441137860085, -0.13524443733734617, -0.32520926724879606, -0.11781438669767867, -0.06603583569490025, -0.9416595928090823], \"xaxis\": \"x6\", \"yaxis\": \"y6\"}, {\"line\": {\"color\": \"rgba(128, 128, 128, 1.0)\", \"dash\": \"solid\", \"shape\": \"linear\", \"width\": 1.3}, \"marker\": {\"size\": 2, \"symbol\": \"circle\"}, \"mode\": \"markers\", \"name\": \"B\", \"text\": \"\", \"type\": \"scatter\", \"x\": [-1.310690252440048, -1.0016639097981894, -0.41642088116897713, -1.7550639732151119, -0.2226778514116316, 0.23914971590826037, -1.0750014537256962, 0.7793484950989243, 1.0373619053602594, -0.3478572473188221, -1.096319830061799, -0.23679994530654408, 0.8624387834327595, -0.04885765547364744, -0.1793268858240769, -1.5781170700429645, 0.2825081976274687, 0.9209397871315534, 0.2621300064555339, 0.2724996898989235, -1.1368491934786962, 0.9003625922768816, -0.13431631567823177, 0.9920743359639713, -0.6584359514467756, -0.9423231650816679, -0.45739119432055747, 0.4890037820101285, 0.31802368109812984, 1.5506504126217866, -1.9329682877543066, 0.2131731694266834, 2.0613359524605137, 1.0590402039924574, 2.4093078538137673, 1.2496314878999002, -1.63184777201933, -0.026500697866007724, 0.892292585316659, 2.7481840888166817, -0.9174748872341176, 1.2173088850793061, -0.755318195125809, 0.24541712775521726, 0.1954851823130636, -1.2749395359716156, 0.0693579563756177, 0.8369194145379346, 1.2897940280700224, -0.9215839409576956, -0.298051090785431, 1.2105883602755476, 1.4864483357968963, 1.254140425573467, -0.6674301504233613, 0.6115464292486142, -0.7408458102254861, -0.256478721369443, -1.6066840440240275, -0.7341937458045557, -1.7475583125075766, -0.09265375180489084, -0.28401485744056926, -0.3040640351872021, 2.3594592466737465, -0.31699561375963153, -2.0445712227727206, 1.7110030149073199, -0.24988710852099302, 0.02442585394746932, 0.27995346672427457, -0.49094402256524783, 0.6593431856088066, 0.4691695169897422, -0.0226169882873906, -0.0161375807369831, -0.17390749960001475, 0.5935786825750609, -0.002887692043964249, 1.4525455124091755, 0.46974533283528147, 1.0558861103001775, 2.4556250439294582, -0.5072269246546878, -0.23070366004823475, -0.7514317490000312, 1.7243807656390517, 0.7506400344801331, 0.5615666496113562, 0.606974889270539, -1.2427417303014325, -0.7841558970428817, 0.8071819910433602, 0.08434711220247389, -0.28189543503859094, -1.2363924276835345, -0.6818873922016349, -0.1780216771073922, -1.22670896499483, 0.6530457439101603], \"xaxis\": \"x7\", \"y\": [-0.8136759797552139, -0.05485004777981325, -0.7354321015336972, 0.2249286743408787, 1.042791519448513, -0.18273615906352095, -0.06692170724897374, 1.607177305910856, -0.1793710017199522, -0.018194588543706005, 0.12316141153047848, 0.3680399156648711, -0.5974356495058103, -0.09832813929968391, 0.32320235378837736, -0.30785533668697723, 1.5758386876787536, 1.5225267490392824, 0.6163565107520003, -0.016783669433683018, 0.3826115635049692, -0.26777625398632077, -1.635750655467563, 0.3406422253573746, -0.787959156960995, 0.3645487271885021, -0.35577341396159645, 0.6490752613997947, -0.8130874975316237, 0.47861025390015216, -1.4102850439880745, 0.6389802293177309, -1.080070246304188, 0.014505110937698303, 0.5335163451855318, -0.020432045686978578, -0.32132438112819084, -1.641500057485398, 0.5990451502361493, -0.724953471543375, 0.8536130491768231, -0.2910271148862159, -0.9111452886490694, -0.720343772877038, 0.7823487918924391, -0.8568066719129985, -0.46363014921539397, -0.34993197525826414, 1.3838867053010142, -0.1298659550706131, -3.007146529953769, -0.4371479134339112, -1.4987649242344048, -0.05594828278616842, -2.458347801850056, 0.6697959465864352, 2.638600323779429, -1.4334736453973018, -1.7527544091674543, -2.55126788260544, 0.43919616105371667, -0.5396909605551713, 0.5871878208303853, -1.772939745598578, -0.602616598198998, -1.1016540891023183, -0.9630877137017885, 1.1248381048177714, 0.2748240387380922, 0.4358776515904015, 0.7685860891350906, -0.004574417545520153, 2.14357981609164, -1.8892338070965509, -0.6699330789034134, -0.4015884234543682, -0.7132818644409759, 0.2326994556677902, 0.8536679521702573, -1.2832262558150698, 0.5823721324294828, -0.5481622827200686, 1.4767962539420714, -0.05182969341053261, -1.64242794344349, 1.3758526793671009, -0.06464799276267091, -0.0038963779145905196, 0.6762561054044929, -0.7969326503180237, 0.9207974519783559, 1.0861925805067818, -2.1934441364003576, -0.5292897576555309, 1.1117441137860085, -0.13524443733734617, -0.32520926724879606, -0.11781438669767867, -0.06603583569490025, -0.9416595928090823], \"yaxis\": \"y7\"}, {\"line\": {\"color\": \"rgba(128, 128, 128, 1.0)\", \"dash\": \"solid\", \"shape\": \"linear\", \"width\": 1.3}, \"marker\": {\"size\": 2, \"symbol\": \"circle\"}, \"mode\": \"markers\", \"name\": \"B\", \"text\": \"\", \"type\": \"scatter\", \"x\": [-0.5586526736249071, 2.5648378161597214, 1.3344146941476993, 1.254354577490153, 0.16357134953986177, -0.9960938884592154, 0.13793117385325948, -1.2449787517374886, 0.7905569069667446, -0.47189843625849925, 1.760083403161101, 0.7702342858963125, 0.2697744516104289, -0.3957419259082303, -0.65073164328824, 1.200082438964805, -1.3384025367746317, 0.0850331086823893, 1.4780241829910779, -1.2114542784311022, -1.0618230206281567, 0.6447217677760896, -1.0349038148035064, -1.4657058306146857, -1.017106448859101, 0.6140089693132623, 0.44188301079672027, 1.0922550023780713, 1.7014083913907552, -0.3117596043335442, 2.09855568078052, 0.977899693543391, -1.0446629832424001, 1.8398144196070627, -1.0381798429862215, 1.386861108917373, 0.9636362602276877, 0.9202524368962468, -0.9748531629107791, 0.024610466008356827, 0.32812732151482943, -0.8789750779745303, 0.9011141580879979, 0.6879328203279454, -1.3525916616180822, -1.0699882538566368, -0.9645653684430997, -0.8324991511440036, -1.1577494401855701, -0.48500127580568525, 0.20555864863386705, 1.3455123592229001, -0.4384968657387519, 0.7962431896578012, 1.3808045347045983, 0.057946893201123485, -1.1924462650279564, -0.6443360195741673, 0.8158471858962739, -1.1165422679830348, -1.6174056572146196, -0.48200788866862027, -1.3806750452721406, 0.307668980125605, 0.8008344626421596, -0.3858147783951234, -1.6138348349914224, 0.5693639400111072, 0.3597726601090242, 1.4976770180954566, -0.22677223889894424, -0.639424471179971, 0.8137989877267898, -2.1681373219069924, -1.8416815842472938, 2.022587975603228, -0.1434116534262859, 0.14450424350839192, 0.1531220183412497, -1.1146261432345768, 0.5339641224227574, -0.4161067384024961, 0.5621537536849726, 0.8442442731778624, -0.9665262698553451, 0.8474770363065303, 1.5941001583678718, 1.1285820590845328, -1.489469537854431, -0.6036481917882937, 0.3007949292001437, 0.3904157077266811, -0.07161375607841475, -0.48174246009706273, -0.48901515104489596, 0.8097689417719991, 1.139437441228571, 0.05333200288744596, -0.6753749933549216, -0.42302442124398776], \"xaxis\": \"x8\", \"y\": [-0.8136759797552139, -0.05485004777981325, -0.7354321015336972, 0.2249286743408787, 1.042791519448513, -0.18273615906352095, -0.06692170724897374, 1.607177305910856, -0.1793710017199522, -0.018194588543706005, 0.12316141153047848, 0.3680399156648711, -0.5974356495058103, -0.09832813929968391, 0.32320235378837736, -0.30785533668697723, 1.5758386876787536, 1.5225267490392824, 0.6163565107520003, -0.016783669433683018, 0.3826115635049692, -0.26777625398632077, -1.635750655467563, 0.3406422253573746, -0.787959156960995, 0.3645487271885021, -0.35577341396159645, 0.6490752613997947, -0.8130874975316237, 0.47861025390015216, -1.4102850439880745, 0.6389802293177309, -1.080070246304188, 0.014505110937698303, 0.5335163451855318, -0.020432045686978578, -0.32132438112819084, -1.641500057485398, 0.5990451502361493, -0.724953471543375, 0.8536130491768231, -0.2910271148862159, -0.9111452886490694, -0.720343772877038, 0.7823487918924391, -0.8568066719129985, -0.46363014921539397, -0.34993197525826414, 1.3838867053010142, -0.1298659550706131, -3.007146529953769, -0.4371479134339112, -1.4987649242344048, -0.05594828278616842, -2.458347801850056, 0.6697959465864352, 2.638600323779429, -1.4334736453973018, -1.7527544091674543, -2.55126788260544, 0.43919616105371667, -0.5396909605551713, 0.5871878208303853, -1.772939745598578, -0.602616598198998, -1.1016540891023183, -0.9630877137017885, 1.1248381048177714, 0.2748240387380922, 0.4358776515904015, 0.7685860891350906, -0.004574417545520153, 2.14357981609164, -1.8892338070965509, -0.6699330789034134, -0.4015884234543682, -0.7132818644409759, 0.2326994556677902, 0.8536679521702573, -1.2832262558150698, 0.5823721324294828, -0.5481622827200686, 1.4767962539420714, -0.05182969341053261, -1.64242794344349, 1.3758526793671009, -0.06464799276267091, -0.0038963779145905196, 0.6762561054044929, -0.7969326503180237, 0.9207974519783559, 1.0861925805067818, -2.1934441364003576, -0.5292897576555309, 1.1117441137860085, -0.13524443733734617, -0.32520926724879606, -0.11781438669767867, -0.06603583569490025, -0.9416595928090823], \"yaxis\": \"y8\"}, {\"line\": {\"color\": \"rgba(128, 128, 128, 1.0)\", \"dash\": \"solid\", \"shape\": \"linear\", \"width\": 1.3}, \"marker\": {\"size\": 2, \"symbol\": \"circle\"}, \"mode\": \"markers\", \"name\": \"C\", \"text\": \"\", \"type\": \"scatter\", \"x\": [0.49449272530329047, 0.034528001350900256, -0.7946215341312589, 1.9028248305238074, 0.006168500487285368, -0.646904665314446, 0.48255753274079133, -0.7343086288457172, -0.34794321781969817, 1.9142109663219973, 1.9009810730582737, 0.60851843055985, 0.7118296524467419, -1.146016055014683, -0.18326960130776676, -0.12060848620152653, 0.6279615151556829, 2.3972492782457357, 0.25352786848048336, 0.30340667749886713, 1.911779639274964, -0.41634320669644, 0.06774707796135956, -0.6969960897231474, -1.1926002276894017, -0.9052079661067426, 1.1360267449714567, -0.8071906369875103, 1.5973964698699552, 0.8548629282365606, 0.00805549333156661, -0.1875107634509211, 1.860888082553138, 0.4491610317689726, -1.1065729004552944, -1.210253649996616, -1.3861184880132484, -0.37859662107129394, 0.6744767804346525, -1.0787036830472339, 0.09231075314670419, -0.11910687458279542, -0.00932143515294092, 0.8237425395388134, -1.2245368744825151, 0.765472350926838, 1.488814705875263, 0.6332138353148433, 0.017800676144336905, -0.10641501029678054, -0.2561215983248197, -0.16090710308918565, -0.5629484054684389, 0.24499515509043016, -1.0250294042886583, -0.23433780993918485, -0.6235825081087522, -1.0040664888392414, 0.4412264639634368, -0.13897635859556548, 0.4909861903980702, 1.6283087805480077, -0.8157090997355115, 0.2591105079595253, 1.8061640134274737, -0.26243055062034426, -1.2041654634413208, 0.08228734517166987, 0.24626482502167044, 0.08211455780515052, 1.2051798170386212, -1.1799496193151544, -0.526486513684934, -0.25981063949919314, 0.3662313414855823, -0.6529890732166655, 1.5678515870250003, 0.05769126472384962, -1.2569152310660323, -0.6859973308376616, -1.8511519876772007, -0.9653073216056013, 1.112894317654417, 0.3907391182199121, -0.63850397282398, -0.8403492596202459, 0.48223732635132477, -0.2934179114575572, -0.12704325980510536, 0.36727881765268805, 1.9638666113011793, -1.1639993715176382, 1.4742499705754153, -1.3170710454264, 2.061406034108948, 1.0390809142847595, -0.35994721777590705, 0.5822715275002863, 0.5780547144122881, -0.7910318664440708], \"xaxis\": \"x9\", \"y\": [-1.310690252440048, -1.0016639097981894, -0.41642088116897713, -1.7550639732151119, -0.2226778514116316, 0.23914971590826037, -1.0750014537256962, 0.7793484950989243, 1.0373619053602594, -0.3478572473188221, -1.096319830061799, -0.23679994530654408, 0.8624387834327595, -0.04885765547364744, -0.1793268858240769, -1.5781170700429645, 0.2825081976274687, 0.9209397871315534, 0.2621300064555339, 0.2724996898989235, -1.1368491934786962, 0.9003625922768816, -0.13431631567823177, 0.9920743359639713, -0.6584359514467756, -0.9423231650816679, -0.45739119432055747, 0.4890037820101285, 0.31802368109812984, 1.5506504126217866, -1.9329682877543066, 0.2131731694266834, 2.0613359524605137, 1.0590402039924574, 2.4093078538137673, 1.2496314878999002, -1.63184777201933, -0.026500697866007724, 0.892292585316659, 2.7481840888166817, -0.9174748872341176, 1.2173088850793061, -0.755318195125809, 0.24541712775521726, 0.1954851823130636, -1.2749395359716156, 0.0693579563756177, 0.8369194145379346, 1.2897940280700224, -0.9215839409576956, -0.298051090785431, 1.2105883602755476, 1.4864483357968963, 1.254140425573467, -0.6674301504233613, 0.6115464292486142, -0.7408458102254861, -0.256478721369443, -1.6066840440240275, -0.7341937458045557, -1.7475583125075766, -0.09265375180489084, -0.28401485744056926, -0.3040640351872021, 2.3594592466737465, -0.31699561375963153, -2.0445712227727206, 1.7110030149073199, -0.24988710852099302, 0.02442585394746932, 0.27995346672427457, -0.49094402256524783, 0.6593431856088066, 0.4691695169897422, -0.0226169882873906, -0.0161375807369831, -0.17390749960001475, 0.5935786825750609, -0.002887692043964249, 1.4525455124091755, 0.46974533283528147, 1.0558861103001775, 2.4556250439294582, -0.5072269246546878, -0.23070366004823475, -0.7514317490000312, 1.7243807656390517, 0.7506400344801331, 0.5615666496113562, 0.606974889270539, -1.2427417303014325, -0.7841558970428817, 0.8071819910433602, 0.08434711220247389, -0.28189543503859094, -1.2363924276835345, -0.6818873922016349, -0.1780216771073922, -1.22670896499483, 0.6530457439101603], \"yaxis\": \"y9\"}, {\"line\": {\"color\": \"rgba(128, 128, 128, 1.0)\", \"dash\": \"solid\", \"shape\": \"linear\", \"width\": 1.3}, \"marker\": {\"size\": 2, \"symbol\": \"circle\"}, \"mode\": \"markers\", \"name\": \"C\", \"text\": \"\", \"type\": \"scatter\", \"x\": [-0.8136759797552139, -0.05485004777981325, -0.7354321015336972, 0.2249286743408787, 1.042791519448513, -0.18273615906352095, -0.06692170724897374, 1.607177305910856, -0.1793710017199522, -0.018194588543706005, 0.12316141153047848, 0.3680399156648711, -0.5974356495058103, -0.09832813929968391, 0.32320235378837736, -0.30785533668697723, 1.5758386876787536, 1.5225267490392824, 0.6163565107520003, -0.016783669433683018, 0.3826115635049692, -0.26777625398632077, -1.635750655467563, 0.3406422253573746, -0.787959156960995, 0.3645487271885021, -0.35577341396159645, 0.6490752613997947, -0.8130874975316237, 0.47861025390015216, -1.4102850439880745, 0.6389802293177309, -1.080070246304188, 0.014505110937698303, 0.5335163451855318, -0.020432045686978578, -0.32132438112819084, -1.641500057485398, 0.5990451502361493, -0.724953471543375, 0.8536130491768231, -0.2910271148862159, -0.9111452886490694, -0.720343772877038, 0.7823487918924391, -0.8568066719129985, -0.46363014921539397, -0.34993197525826414, 1.3838867053010142, -0.1298659550706131, -3.007146529953769, -0.4371479134339112, -1.4987649242344048, -0.05594828278616842, -2.458347801850056, 0.6697959465864352, 2.638600323779429, -1.4334736453973018, -1.7527544091674543, -2.55126788260544, 0.43919616105371667, -0.5396909605551713, 0.5871878208303853, -1.772939745598578, -0.602616598198998, -1.1016540891023183, -0.9630877137017885, 1.1248381048177714, 0.2748240387380922, 0.4358776515904015, 0.7685860891350906, -0.004574417545520153, 2.14357981609164, -1.8892338070965509, -0.6699330789034134, -0.4015884234543682, -0.7132818644409759, 0.2326994556677902, 0.8536679521702573, -1.2832262558150698, 0.5823721324294828, -0.5481622827200686, 1.4767962539420714, -0.05182969341053261, -1.64242794344349, 1.3758526793671009, -0.06464799276267091, -0.0038963779145905196, 0.6762561054044929, -0.7969326503180237, 0.9207974519783559, 1.0861925805067818, -2.1934441364003576, -0.5292897576555309, 1.1117441137860085, -0.13524443733734617, -0.32520926724879606, -0.11781438669767867, -0.06603583569490025, -0.9416595928090823], \"xaxis\": \"x10\", \"y\": [-1.310690252440048, -1.0016639097981894, -0.41642088116897713, -1.7550639732151119, -0.2226778514116316, 0.23914971590826037, -1.0750014537256962, 0.7793484950989243, 1.0373619053602594, -0.3478572473188221, -1.096319830061799, -0.23679994530654408, 0.8624387834327595, -0.04885765547364744, -0.1793268858240769, -1.5781170700429645, 0.2825081976274687, 0.9209397871315534, 0.2621300064555339, 0.2724996898989235, -1.1368491934786962, 0.9003625922768816, -0.13431631567823177, 0.9920743359639713, -0.6584359514467756, -0.9423231650816679, -0.45739119432055747, 0.4890037820101285, 0.31802368109812984, 1.5506504126217866, -1.9329682877543066, 0.2131731694266834, 2.0613359524605137, 1.0590402039924574, 2.4093078538137673, 1.2496314878999002, -1.63184777201933, -0.026500697866007724, 0.892292585316659, 2.7481840888166817, -0.9174748872341176, 1.2173088850793061, -0.755318195125809, 0.24541712775521726, 0.1954851823130636, -1.2749395359716156, 0.0693579563756177, 0.8369194145379346, 1.2897940280700224, -0.9215839409576956, -0.298051090785431, 1.2105883602755476, 1.4864483357968963, 1.254140425573467, -0.6674301504233613, 0.6115464292486142, -0.7408458102254861, -0.256478721369443, -1.6066840440240275, -0.7341937458045557, -1.7475583125075766, -0.09265375180489084, -0.28401485744056926, -0.3040640351872021, 2.3594592466737465, -0.31699561375963153, -2.0445712227727206, 1.7110030149073199, -0.24988710852099302, 0.02442585394746932, 0.27995346672427457, -0.49094402256524783, 0.6593431856088066, 0.4691695169897422, -0.0226169882873906, -0.0161375807369831, -0.17390749960001475, 0.5935786825750609, -0.002887692043964249, 1.4525455124091755, 0.46974533283528147, 1.0558861103001775, 2.4556250439294582, -0.5072269246546878, -0.23070366004823475, -0.7514317490000312, 1.7243807656390517, 0.7506400344801331, 0.5615666496113562, 0.606974889270539, -1.2427417303014325, -0.7841558970428817, 0.8071819910433602, 0.08434711220247389, -0.28189543503859094, -1.2363924276835345, -0.6818873922016349, -0.1780216771073922, -1.22670896499483, 0.6530457439101603], \"yaxis\": \"y10\"}, {\"histfunc\": \"count\", \"histnorm\": \"\", \"marker\": {\"color\": \"rgba(50, 171, 96, 1.0)\", \"line\": {\"color\": \"#4D5663\", \"width\": 1.3}}, \"name\": \"C\", \"nbinsx\": 10, \"opacity\": 0.8, \"orientation\": \"v\", \"type\": \"histogram\", \"x\": [-1.310690252440048, -1.0016639097981894, -0.41642088116897713, -1.7550639732151119, -0.2226778514116316, 0.23914971590826037, -1.0750014537256962, 0.7793484950989243, 1.0373619053602594, -0.3478572473188221, -1.096319830061799, -0.23679994530654408, 0.8624387834327595, -0.04885765547364744, -0.1793268858240769, -1.5781170700429645, 0.2825081976274687, 0.9209397871315534, 0.2621300064555339, 0.2724996898989235, -1.1368491934786962, 0.9003625922768816, -0.13431631567823177, 0.9920743359639713, -0.6584359514467756, -0.9423231650816679, -0.45739119432055747, 0.4890037820101285, 0.31802368109812984, 1.5506504126217866, -1.9329682877543066, 0.2131731694266834, 2.0613359524605137, 1.0590402039924574, 2.4093078538137673, 1.2496314878999002, -1.63184777201933, -0.026500697866007724, 0.892292585316659, 2.7481840888166817, -0.9174748872341176, 1.2173088850793061, -0.755318195125809, 0.24541712775521726, 0.1954851823130636, -1.2749395359716156, 0.0693579563756177, 0.8369194145379346, 1.2897940280700224, -0.9215839409576956, -0.298051090785431, 1.2105883602755476, 1.4864483357968963, 1.254140425573467, -0.6674301504233613, 0.6115464292486142, -0.7408458102254861, -0.256478721369443, -1.6066840440240275, -0.7341937458045557, -1.7475583125075766, -0.09265375180489084, -0.28401485744056926, -0.3040640351872021, 2.3594592466737465, -0.31699561375963153, -2.0445712227727206, 1.7110030149073199, -0.24988710852099302, 0.02442585394746932, 0.27995346672427457, -0.49094402256524783, 0.6593431856088066, 0.4691695169897422, -0.0226169882873906, -0.0161375807369831, -0.17390749960001475, 0.5935786825750609, -0.002887692043964249, 1.4525455124091755, 0.46974533283528147, 1.0558861103001775, 2.4556250439294582, -0.5072269246546878, -0.23070366004823475, -0.7514317490000312, 1.7243807656390517, 0.7506400344801331, 0.5615666496113562, 0.606974889270539, -1.2427417303014325, -0.7841558970428817, 0.8071819910433602, 0.08434711220247389, -0.28189543503859094, -1.2363924276835345, -0.6818873922016349, -0.1780216771073922, -1.22670896499483, 0.6530457439101603], \"xaxis\": \"x11\", \"yaxis\": \"y11\"}, {\"line\": {\"color\": \"rgba(128, 128, 128, 1.0)\", \"dash\": \"solid\", \"shape\": \"linear\", \"width\": 1.3}, \"marker\": {\"size\": 2, \"symbol\": \"circle\"}, \"mode\": \"markers\", \"name\": \"C\", \"text\": \"\", \"type\": \"scatter\", \"x\": [-0.5586526736249071, 2.5648378161597214, 1.3344146941476993, 1.254354577490153, 0.16357134953986177, -0.9960938884592154, 0.13793117385325948, -1.2449787517374886, 0.7905569069667446, -0.47189843625849925, 1.760083403161101, 0.7702342858963125, 0.2697744516104289, -0.3957419259082303, -0.65073164328824, 1.200082438964805, -1.3384025367746317, 0.0850331086823893, 1.4780241829910779, -1.2114542784311022, -1.0618230206281567, 0.6447217677760896, -1.0349038148035064, -1.4657058306146857, -1.017106448859101, 0.6140089693132623, 0.44188301079672027, 1.0922550023780713, 1.7014083913907552, -0.3117596043335442, 2.09855568078052, 0.977899693543391, -1.0446629832424001, 1.8398144196070627, -1.0381798429862215, 1.386861108917373, 0.9636362602276877, 0.9202524368962468, -0.9748531629107791, 0.024610466008356827, 0.32812732151482943, -0.8789750779745303, 0.9011141580879979, 0.6879328203279454, -1.3525916616180822, -1.0699882538566368, -0.9645653684430997, -0.8324991511440036, -1.1577494401855701, -0.48500127580568525, 0.20555864863386705, 1.3455123592229001, -0.4384968657387519, 0.7962431896578012, 1.3808045347045983, 0.057946893201123485, -1.1924462650279564, -0.6443360195741673, 0.8158471858962739, -1.1165422679830348, -1.6174056572146196, -0.48200788866862027, -1.3806750452721406, 0.307668980125605, 0.8008344626421596, -0.3858147783951234, -1.6138348349914224, 0.5693639400111072, 0.3597726601090242, 1.4976770180954566, -0.22677223889894424, -0.639424471179971, 0.8137989877267898, -2.1681373219069924, -1.8416815842472938, 2.022587975603228, -0.1434116534262859, 0.14450424350839192, 0.1531220183412497, -1.1146261432345768, 0.5339641224227574, -0.4161067384024961, 0.5621537536849726, 0.8442442731778624, -0.9665262698553451, 0.8474770363065303, 1.5941001583678718, 1.1285820590845328, -1.489469537854431, -0.6036481917882937, 0.3007949292001437, 0.3904157077266811, -0.07161375607841475, -0.48174246009706273, -0.48901515104489596, 0.8097689417719991, 1.139437441228571, 0.05333200288744596, -0.6753749933549216, -0.42302442124398776], \"xaxis\": \"x12\", \"y\": [-1.310690252440048, -1.0016639097981894, -0.41642088116897713, -1.7550639732151119, -0.2226778514116316, 0.23914971590826037, -1.0750014537256962, 0.7793484950989243, 1.0373619053602594, -0.3478572473188221, -1.096319830061799, -0.23679994530654408, 0.8624387834327595, -0.04885765547364744, -0.1793268858240769, -1.5781170700429645, 0.2825081976274687, 0.9209397871315534, 0.2621300064555339, 0.2724996898989235, -1.1368491934786962, 0.9003625922768816, -0.13431631567823177, 0.9920743359639713, -0.6584359514467756, -0.9423231650816679, -0.45739119432055747, 0.4890037820101285, 0.31802368109812984, 1.5506504126217866, -1.9329682877543066, 0.2131731694266834, 2.0613359524605137, 1.0590402039924574, 2.4093078538137673, 1.2496314878999002, -1.63184777201933, -0.026500697866007724, 0.892292585316659, 2.7481840888166817, -0.9174748872341176, 1.2173088850793061, -0.755318195125809, 0.24541712775521726, 0.1954851823130636, -1.2749395359716156, 0.0693579563756177, 0.8369194145379346, 1.2897940280700224, -0.9215839409576956, -0.298051090785431, 1.2105883602755476, 1.4864483357968963, 1.254140425573467, -0.6674301504233613, 0.6115464292486142, -0.7408458102254861, -0.256478721369443, -1.6066840440240275, -0.7341937458045557, -1.7475583125075766, -0.09265375180489084, -0.28401485744056926, -0.3040640351872021, 2.3594592466737465, -0.31699561375963153, -2.0445712227727206, 1.7110030149073199, -0.24988710852099302, 0.02442585394746932, 0.27995346672427457, -0.49094402256524783, 0.6593431856088066, 0.4691695169897422, -0.0226169882873906, -0.0161375807369831, -0.17390749960001475, 0.5935786825750609, -0.002887692043964249, 1.4525455124091755, 0.46974533283528147, 1.0558861103001775, 2.4556250439294582, -0.5072269246546878, -0.23070366004823475, -0.7514317490000312, 1.7243807656390517, 0.7506400344801331, 0.5615666496113562, 0.606974889270539, -1.2427417303014325, -0.7841558970428817, 0.8071819910433602, 0.08434711220247389, -0.28189543503859094, -1.2363924276835345, -0.6818873922016349, -0.1780216771073922, -1.22670896499483, 0.6530457439101603], \"yaxis\": \"y12\"}, {\"line\": {\"color\": \"rgba(128, 128, 128, 1.0)\", \"dash\": \"solid\", \"shape\": \"linear\", \"width\": 1.3}, \"marker\": {\"size\": 2, \"symbol\": \"circle\"}, \"mode\": \"markers\", \"name\": \"D\", \"text\": \"\", \"type\": \"scatter\", \"x\": [0.49449272530329047, 0.034528001350900256, -0.7946215341312589, 1.9028248305238074, 0.006168500487285368, -0.646904665314446, 0.48255753274079133, -0.7343086288457172, -0.34794321781969817, 1.9142109663219973, 1.9009810730582737, 0.60851843055985, 0.7118296524467419, -1.146016055014683, -0.18326960130776676, -0.12060848620152653, 0.6279615151556829, 2.3972492782457357, 0.25352786848048336, 0.30340667749886713, 1.911779639274964, -0.41634320669644, 0.06774707796135956, -0.6969960897231474, -1.1926002276894017, -0.9052079661067426, 1.1360267449714567, -0.8071906369875103, 1.5973964698699552, 0.8548629282365606, 0.00805549333156661, -0.1875107634509211, 1.860888082553138, 0.4491610317689726, -1.1065729004552944, -1.210253649996616, -1.3861184880132484, -0.37859662107129394, 0.6744767804346525, -1.0787036830472339, 0.09231075314670419, -0.11910687458279542, -0.00932143515294092, 0.8237425395388134, -1.2245368744825151, 0.765472350926838, 1.488814705875263, 0.6332138353148433, 0.017800676144336905, -0.10641501029678054, -0.2561215983248197, -0.16090710308918565, -0.5629484054684389, 0.24499515509043016, -1.0250294042886583, -0.23433780993918485, -0.6235825081087522, -1.0040664888392414, 0.4412264639634368, -0.13897635859556548, 0.4909861903980702, 1.6283087805480077, -0.8157090997355115, 0.2591105079595253, 1.8061640134274737, -0.26243055062034426, -1.2041654634413208, 0.08228734517166987, 0.24626482502167044, 0.08211455780515052, 1.2051798170386212, -1.1799496193151544, -0.526486513684934, -0.25981063949919314, 0.3662313414855823, -0.6529890732166655, 1.5678515870250003, 0.05769126472384962, -1.2569152310660323, -0.6859973308376616, -1.8511519876772007, -0.9653073216056013, 1.112894317654417, 0.3907391182199121, -0.63850397282398, -0.8403492596202459, 0.48223732635132477, -0.2934179114575572, -0.12704325980510536, 0.36727881765268805, 1.9638666113011793, -1.1639993715176382, 1.4742499705754153, -1.3170710454264, 2.061406034108948, 1.0390809142847595, -0.35994721777590705, 0.5822715275002863, 0.5780547144122881, -0.7910318664440708], \"xaxis\": \"x13\", \"y\": [-0.5586526736249071, 2.5648378161597214, 1.3344146941476993, 1.254354577490153, 0.16357134953986177, -0.9960938884592154, 0.13793117385325948, -1.2449787517374886, 0.7905569069667446, -0.47189843625849925, 1.760083403161101, 0.7702342858963125, 0.2697744516104289, -0.3957419259082303, -0.65073164328824, 1.200082438964805, -1.3384025367746317, 0.0850331086823893, 1.4780241829910779, -1.2114542784311022, -1.0618230206281567, 0.6447217677760896, -1.0349038148035064, -1.4657058306146857, -1.017106448859101, 0.6140089693132623, 0.44188301079672027, 1.0922550023780713, 1.7014083913907552, -0.3117596043335442, 2.09855568078052, 0.977899693543391, -1.0446629832424001, 1.8398144196070627, -1.0381798429862215, 1.386861108917373, 0.9636362602276877, 0.9202524368962468, -0.9748531629107791, 0.024610466008356827, 0.32812732151482943, -0.8789750779745303, 0.9011141580879979, 0.6879328203279454, -1.3525916616180822, -1.0699882538566368, -0.9645653684430997, -0.8324991511440036, -1.1577494401855701, -0.48500127580568525, 0.20555864863386705, 1.3455123592229001, -0.4384968657387519, 0.7962431896578012, 1.3808045347045983, 0.057946893201123485, -1.1924462650279564, -0.6443360195741673, 0.8158471858962739, -1.1165422679830348, -1.6174056572146196, -0.48200788866862027, -1.3806750452721406, 0.307668980125605, 0.8008344626421596, -0.3858147783951234, -1.6138348349914224, 0.5693639400111072, 0.3597726601090242, 1.4976770180954566, -0.22677223889894424, -0.639424471179971, 0.8137989877267898, -2.1681373219069924, -1.8416815842472938, 2.022587975603228, -0.1434116534262859, 0.14450424350839192, 0.1531220183412497, -1.1146261432345768, 0.5339641224227574, -0.4161067384024961, 0.5621537536849726, 0.8442442731778624, -0.9665262698553451, 0.8474770363065303, 1.5941001583678718, 1.1285820590845328, -1.489469537854431, -0.6036481917882937, 0.3007949292001437, 0.3904157077266811, -0.07161375607841475, -0.48174246009706273, -0.48901515104489596, 0.8097689417719991, 1.139437441228571, 0.05333200288744596, -0.6753749933549216, -0.42302442124398776], \"yaxis\": \"y13\"}, {\"line\": {\"color\": \"rgba(128, 128, 128, 1.0)\", \"dash\": \"solid\", \"shape\": \"linear\", \"width\": 1.3}, \"marker\": {\"size\": 2, \"symbol\": \"circle\"}, \"mode\": \"markers\", \"name\": \"D\", \"text\": \"\", \"type\": \"scatter\", \"x\": [-0.8136759797552139, -0.05485004777981325, -0.7354321015336972, 0.2249286743408787, 1.042791519448513, -0.18273615906352095, -0.06692170724897374, 1.607177305910856, -0.1793710017199522, -0.018194588543706005, 0.12316141153047848, 0.3680399156648711, -0.5974356495058103, -0.09832813929968391, 0.32320235378837736, -0.30785533668697723, 1.5758386876787536, 1.5225267490392824, 0.6163565107520003, -0.016783669433683018, 0.3826115635049692, -0.26777625398632077, -1.635750655467563, 0.3406422253573746, -0.787959156960995, 0.3645487271885021, -0.35577341396159645, 0.6490752613997947, -0.8130874975316237, 0.47861025390015216, -1.4102850439880745, 0.6389802293177309, -1.080070246304188, 0.014505110937698303, 0.5335163451855318, -0.020432045686978578, -0.32132438112819084, -1.641500057485398, 0.5990451502361493, -0.724953471543375, 0.8536130491768231, -0.2910271148862159, -0.9111452886490694, -0.720343772877038, 0.7823487918924391, -0.8568066719129985, -0.46363014921539397, -0.34993197525826414, 1.3838867053010142, -0.1298659550706131, -3.007146529953769, -0.4371479134339112, -1.4987649242344048, -0.05594828278616842, -2.458347801850056, 0.6697959465864352, 2.638600323779429, -1.4334736453973018, -1.7527544091674543, -2.55126788260544, 0.43919616105371667, -0.5396909605551713, 0.5871878208303853, -1.772939745598578, -0.602616598198998, -1.1016540891023183, -0.9630877137017885, 1.1248381048177714, 0.2748240387380922, 0.4358776515904015, 0.7685860891350906, -0.004574417545520153, 2.14357981609164, -1.8892338070965509, -0.6699330789034134, -0.4015884234543682, -0.7132818644409759, 0.2326994556677902, 0.8536679521702573, -1.2832262558150698, 0.5823721324294828, -0.5481622827200686, 1.4767962539420714, -0.05182969341053261, -1.64242794344349, 1.3758526793671009, -0.06464799276267091, -0.0038963779145905196, 0.6762561054044929, -0.7969326503180237, 0.9207974519783559, 1.0861925805067818, -2.1934441364003576, -0.5292897576555309, 1.1117441137860085, -0.13524443733734617, -0.32520926724879606, -0.11781438669767867, -0.06603583569490025, -0.9416595928090823], \"xaxis\": \"x14\", \"y\": [-0.5586526736249071, 2.5648378161597214, 1.3344146941476993, 1.254354577490153, 0.16357134953986177, -0.9960938884592154, 0.13793117385325948, -1.2449787517374886, 0.7905569069667446, -0.47189843625849925, 1.760083403161101, 0.7702342858963125, 0.2697744516104289, -0.3957419259082303, -0.65073164328824, 1.200082438964805, -1.3384025367746317, 0.0850331086823893, 1.4780241829910779, -1.2114542784311022, -1.0618230206281567, 0.6447217677760896, -1.0349038148035064, -1.4657058306146857, -1.017106448859101, 0.6140089693132623, 0.44188301079672027, 1.0922550023780713, 1.7014083913907552, -0.3117596043335442, 2.09855568078052, 0.977899693543391, -1.0446629832424001, 1.8398144196070627, -1.0381798429862215, 1.386861108917373, 0.9636362602276877, 0.9202524368962468, -0.9748531629107791, 0.024610466008356827, 0.32812732151482943, -0.8789750779745303, 0.9011141580879979, 0.6879328203279454, -1.3525916616180822, -1.0699882538566368, -0.9645653684430997, -0.8324991511440036, -1.1577494401855701, -0.48500127580568525, 0.20555864863386705, 1.3455123592229001, -0.4384968657387519, 0.7962431896578012, 1.3808045347045983, 0.057946893201123485, -1.1924462650279564, -0.6443360195741673, 0.8158471858962739, -1.1165422679830348, -1.6174056572146196, -0.48200788866862027, -1.3806750452721406, 0.307668980125605, 0.8008344626421596, -0.3858147783951234, -1.6138348349914224, 0.5693639400111072, 0.3597726601090242, 1.4976770180954566, -0.22677223889894424, -0.639424471179971, 0.8137989877267898, -2.1681373219069924, -1.8416815842472938, 2.022587975603228, -0.1434116534262859, 0.14450424350839192, 0.1531220183412497, -1.1146261432345768, 0.5339641224227574, -0.4161067384024961, 0.5621537536849726, 0.8442442731778624, -0.9665262698553451, 0.8474770363065303, 1.5941001583678718, 1.1285820590845328, -1.489469537854431, -0.6036481917882937, 0.3007949292001437, 0.3904157077266811, -0.07161375607841475, -0.48174246009706273, -0.48901515104489596, 0.8097689417719991, 1.139437441228571, 0.05333200288744596, -0.6753749933549216, -0.42302442124398776], \"yaxis\": \"y14\"}, {\"line\": {\"color\": \"rgba(128, 128, 128, 1.0)\", \"dash\": \"solid\", \"shape\": \"linear\", \"width\": 1.3}, \"marker\": {\"size\": 2, \"symbol\": \"circle\"}, \"mode\": \"markers\", \"name\": \"D\", \"text\": \"\", \"type\": \"scatter\", \"x\": [-1.310690252440048, -1.0016639097981894, -0.41642088116897713, -1.7550639732151119, -0.2226778514116316, 0.23914971590826037, -1.0750014537256962, 0.7793484950989243, 1.0373619053602594, -0.3478572473188221, -1.096319830061799, -0.23679994530654408, 0.8624387834327595, -0.04885765547364744, -0.1793268858240769, -1.5781170700429645, 0.2825081976274687, 0.9209397871315534, 0.2621300064555339, 0.2724996898989235, -1.1368491934786962, 0.9003625922768816, -0.13431631567823177, 0.9920743359639713, -0.6584359514467756, -0.9423231650816679, -0.45739119432055747, 0.4890037820101285, 0.31802368109812984, 1.5506504126217866, -1.9329682877543066, 0.2131731694266834, 2.0613359524605137, 1.0590402039924574, 2.4093078538137673, 1.2496314878999002, -1.63184777201933, -0.026500697866007724, 0.892292585316659, 2.7481840888166817, -0.9174748872341176, 1.2173088850793061, -0.755318195125809, 0.24541712775521726, 0.1954851823130636, -1.2749395359716156, 0.0693579563756177, 0.8369194145379346, 1.2897940280700224, -0.9215839409576956, -0.298051090785431, 1.2105883602755476, 1.4864483357968963, 1.254140425573467, -0.6674301504233613, 0.6115464292486142, -0.7408458102254861, -0.256478721369443, -1.6066840440240275, -0.7341937458045557, -1.7475583125075766, -0.09265375180489084, -0.28401485744056926, -0.3040640351872021, 2.3594592466737465, -0.31699561375963153, -2.0445712227727206, 1.7110030149073199, -0.24988710852099302, 0.02442585394746932, 0.27995346672427457, -0.49094402256524783, 0.6593431856088066, 0.4691695169897422, -0.0226169882873906, -0.0161375807369831, -0.17390749960001475, 0.5935786825750609, -0.002887692043964249, 1.4525455124091755, 0.46974533283528147, 1.0558861103001775, 2.4556250439294582, -0.5072269246546878, -0.23070366004823475, -0.7514317490000312, 1.7243807656390517, 0.7506400344801331, 0.5615666496113562, 0.606974889270539, -1.2427417303014325, -0.7841558970428817, 0.8071819910433602, 0.08434711220247389, -0.28189543503859094, -1.2363924276835345, -0.6818873922016349, -0.1780216771073922, -1.22670896499483, 0.6530457439101603], \"xaxis\": \"x15\", \"y\": [-0.5586526736249071, 2.5648378161597214, 1.3344146941476993, 1.254354577490153, 0.16357134953986177, -0.9960938884592154, 0.13793117385325948, -1.2449787517374886, 0.7905569069667446, -0.47189843625849925, 1.760083403161101, 0.7702342858963125, 0.2697744516104289, -0.3957419259082303, -0.65073164328824, 1.200082438964805, -1.3384025367746317, 0.0850331086823893, 1.4780241829910779, -1.2114542784311022, -1.0618230206281567, 0.6447217677760896, -1.0349038148035064, -1.4657058306146857, -1.017106448859101, 0.6140089693132623, 0.44188301079672027, 1.0922550023780713, 1.7014083913907552, -0.3117596043335442, 2.09855568078052, 0.977899693543391, -1.0446629832424001, 1.8398144196070627, -1.0381798429862215, 1.386861108917373, 0.9636362602276877, 0.9202524368962468, -0.9748531629107791, 0.024610466008356827, 0.32812732151482943, -0.8789750779745303, 0.9011141580879979, 0.6879328203279454, -1.3525916616180822, -1.0699882538566368, -0.9645653684430997, -0.8324991511440036, -1.1577494401855701, -0.48500127580568525, 0.20555864863386705, 1.3455123592229001, -0.4384968657387519, 0.7962431896578012, 1.3808045347045983, 0.057946893201123485, -1.1924462650279564, -0.6443360195741673, 0.8158471858962739, -1.1165422679830348, -1.6174056572146196, -0.48200788866862027, -1.3806750452721406, 0.307668980125605, 0.8008344626421596, -0.3858147783951234, -1.6138348349914224, 0.5693639400111072, 0.3597726601090242, 1.4976770180954566, -0.22677223889894424, -0.639424471179971, 0.8137989877267898, -2.1681373219069924, -1.8416815842472938, 2.022587975603228, -0.1434116534262859, 0.14450424350839192, 0.1531220183412497, -1.1146261432345768, 0.5339641224227574, -0.4161067384024961, 0.5621537536849726, 0.8442442731778624, -0.9665262698553451, 0.8474770363065303, 1.5941001583678718, 1.1285820590845328, -1.489469537854431, -0.6036481917882937, 0.3007949292001437, 0.3904157077266811, -0.07161375607841475, -0.48174246009706273, -0.48901515104489596, 0.8097689417719991, 1.139437441228571, 0.05333200288744596, -0.6753749933549216, -0.42302442124398776], \"yaxis\": \"y15\"}, {\"histfunc\": \"count\", \"histnorm\": \"\", \"marker\": {\"color\": \"rgba(128, 0, 128, 1.0)\", \"line\": {\"color\": \"#4D5663\", \"width\": 1.3}}, \"name\": \"D\", \"nbinsx\": 10, \"opacity\": 0.8, \"orientation\": \"v\", \"type\": \"histogram\", \"x\": [-0.5586526736249071, 2.5648378161597214, 1.3344146941476993, 1.254354577490153, 0.16357134953986177, -0.9960938884592154, 0.13793117385325948, -1.2449787517374886, 0.7905569069667446, -0.47189843625849925, 1.760083403161101, 0.7702342858963125, 0.2697744516104289, -0.3957419259082303, -0.65073164328824, 1.200082438964805, -1.3384025367746317, 0.0850331086823893, 1.4780241829910779, -1.2114542784311022, -1.0618230206281567, 0.6447217677760896, -1.0349038148035064, -1.4657058306146857, -1.017106448859101, 0.6140089693132623, 0.44188301079672027, 1.0922550023780713, 1.7014083913907552, -0.3117596043335442, 2.09855568078052, 0.977899693543391, -1.0446629832424001, 1.8398144196070627, -1.0381798429862215, 1.386861108917373, 0.9636362602276877, 0.9202524368962468, -0.9748531629107791, 0.024610466008356827, 0.32812732151482943, -0.8789750779745303, 0.9011141580879979, 0.6879328203279454, -1.3525916616180822, -1.0699882538566368, -0.9645653684430997, -0.8324991511440036, -1.1577494401855701, -0.48500127580568525, 0.20555864863386705, 1.3455123592229001, -0.4384968657387519, 0.7962431896578012, 1.3808045347045983, 0.057946893201123485, -1.1924462650279564, -0.6443360195741673, 0.8158471858962739, -1.1165422679830348, -1.6174056572146196, -0.48200788866862027, -1.3806750452721406, 0.307668980125605, 0.8008344626421596, -0.3858147783951234, -1.6138348349914224, 0.5693639400111072, 0.3597726601090242, 1.4976770180954566, -0.22677223889894424, -0.639424471179971, 0.8137989877267898, -2.1681373219069924, -1.8416815842472938, 2.022587975603228, -0.1434116534262859, 0.14450424350839192, 0.1531220183412497, -1.1146261432345768, 0.5339641224227574, -0.4161067384024961, 0.5621537536849726, 0.8442442731778624, -0.9665262698553451, 0.8474770363065303, 1.5941001583678718, 1.1285820590845328, -1.489469537854431, -0.6036481917882937, 0.3007949292001437, 0.3904157077266811, -0.07161375607841475, -0.48174246009706273, -0.48901515104489596, 0.8097689417719991, 1.139437441228571, 0.05333200288744596, -0.6753749933549216, -0.42302442124398776], \"xaxis\": \"x16\", \"yaxis\": \"y16\"}],\n",
              "                        {\"bargap\": 0.02, \"legend\": {\"bgcolor\": \"#F5F6F9\", \"font\": {\"color\": \"#4D5663\"}}, \"paper_bgcolor\": \"#F5F6F9\", \"plot_bgcolor\": \"#F5F6F9\", \"showlegend\": false, \"template\": {\"data\": {\"bar\": [{\"error_x\": {\"color\": \"#2a3f5f\"}, \"error_y\": {\"color\": \"#2a3f5f\"}, \"marker\": {\"line\": {\"color\": \"#E5ECF6\", \"width\": 0.5}}, \"type\": \"bar\"}], \"barpolar\": [{\"marker\": {\"line\": {\"color\": \"#E5ECF6\", \"width\": 0.5}}, \"type\": \"barpolar\"}], \"carpet\": [{\"aaxis\": {\"endlinecolor\": \"#2a3f5f\", \"gridcolor\": \"white\", \"linecolor\": \"white\", \"minorgridcolor\": \"white\", \"startlinecolor\": \"#2a3f5f\"}, \"baxis\": {\"endlinecolor\": \"#2a3f5f\", \"gridcolor\": \"white\", \"linecolor\": \"white\", \"minorgridcolor\": \"white\", \"startlinecolor\": \"#2a3f5f\"}, \"type\": \"carpet\"}], \"choropleth\": [{\"colorbar\": {\"outlinewidth\": 0, \"ticks\": \"\"}, \"type\": \"choropleth\"}], \"contour\": [{\"colorbar\": {\"outlinewidth\": 0, \"ticks\": \"\"}, \"colorscale\": [[0.0, \"#0d0887\"], [0.1111111111111111, \"#46039f\"], [0.2222222222222222, \"#7201a8\"], [0.3333333333333333, \"#9c179e\"], [0.4444444444444444, \"#bd3786\"], [0.5555555555555556, \"#d8576b\"], [0.6666666666666666, \"#ed7953\"], [0.7777777777777778, \"#fb9f3a\"], [0.8888888888888888, \"#fdca26\"], [1.0, \"#f0f921\"]], \"type\": \"contour\"}], \"contourcarpet\": [{\"colorbar\": {\"outlinewidth\": 0, \"ticks\": \"\"}, \"type\": \"contourcarpet\"}], \"heatmap\": [{\"colorbar\": {\"outlinewidth\": 0, \"ticks\": \"\"}, \"colorscale\": [[0.0, \"#0d0887\"], [0.1111111111111111, \"#46039f\"], [0.2222222222222222, \"#7201a8\"], [0.3333333333333333, \"#9c179e\"], [0.4444444444444444, \"#bd3786\"], [0.5555555555555556, \"#d8576b\"], [0.6666666666666666, \"#ed7953\"], [0.7777777777777778, \"#fb9f3a\"], [0.8888888888888888, \"#fdca26\"], [1.0, \"#f0f921\"]], \"type\": \"heatmap\"}], \"heatmapgl\": [{\"colorbar\": {\"outlinewidth\": 0, \"ticks\": \"\"}, \"colorscale\": [[0.0, \"#0d0887\"], [0.1111111111111111, \"#46039f\"], [0.2222222222222222, \"#7201a8\"], [0.3333333333333333, \"#9c179e\"], [0.4444444444444444, \"#bd3786\"], [0.5555555555555556, \"#d8576b\"], [0.6666666666666666, \"#ed7953\"], [0.7777777777777778, \"#fb9f3a\"], [0.8888888888888888, \"#fdca26\"], [1.0, \"#f0f921\"]], \"type\": \"heatmapgl\"}], \"histogram\": [{\"marker\": {\"colorbar\": {\"outlinewidth\": 0, \"ticks\": \"\"}}, \"type\": \"histogram\"}], \"histogram2d\": [{\"colorbar\": {\"outlinewidth\": 0, \"ticks\": \"\"}, \"colorscale\": [[0.0, \"#0d0887\"], [0.1111111111111111, \"#46039f\"], [0.2222222222222222, \"#7201a8\"], [0.3333333333333333, \"#9c179e\"], [0.4444444444444444, \"#bd3786\"], [0.5555555555555556, \"#d8576b\"], [0.6666666666666666, \"#ed7953\"], [0.7777777777777778, \"#fb9f3a\"], [0.8888888888888888, \"#fdca26\"], [1.0, \"#f0f921\"]], \"type\": \"histogram2d\"}], \"histogram2dcontour\": [{\"colorbar\": {\"outlinewidth\": 0, \"ticks\": \"\"}, \"colorscale\": [[0.0, \"#0d0887\"], [0.1111111111111111, \"#46039f\"], [0.2222222222222222, \"#7201a8\"], [0.3333333333333333, \"#9c179e\"], [0.4444444444444444, \"#bd3786\"], [0.5555555555555556, \"#d8576b\"], [0.6666666666666666, \"#ed7953\"], [0.7777777777777778, \"#fb9f3a\"], [0.8888888888888888, \"#fdca26\"], [1.0, \"#f0f921\"]], \"type\": \"histogram2dcontour\"}], \"mesh3d\": [{\"colorbar\": {\"outlinewidth\": 0, \"ticks\": \"\"}, \"type\": \"mesh3d\"}], \"parcoords\": [{\"line\": {\"colorbar\": {\"outlinewidth\": 0, \"ticks\": \"\"}}, \"type\": \"parcoords\"}], \"pie\": [{\"automargin\": true, \"type\": \"pie\"}], \"scatter\": [{\"marker\": {\"colorbar\": {\"outlinewidth\": 0, \"ticks\": \"\"}}, \"type\": \"scatter\"}], \"scatter3d\": [{\"line\": {\"colorbar\": {\"outlinewidth\": 0, \"ticks\": \"\"}}, \"marker\": {\"colorbar\": {\"outlinewidth\": 0, \"ticks\": \"\"}}, \"type\": \"scatter3d\"}], \"scattercarpet\": [{\"marker\": {\"colorbar\": {\"outlinewidth\": 0, \"ticks\": \"\"}}, \"type\": \"scattercarpet\"}], \"scattergeo\": [{\"marker\": {\"colorbar\": {\"outlinewidth\": 0, \"ticks\": \"\"}}, \"type\": \"scattergeo\"}], \"scattergl\": [{\"marker\": {\"colorbar\": {\"outlinewidth\": 0, \"ticks\": \"\"}}, \"type\": \"scattergl\"}], \"scattermapbox\": [{\"marker\": {\"colorbar\": {\"outlinewidth\": 0, \"ticks\": \"\"}}, \"type\": \"scattermapbox\"}], \"scatterpolar\": [{\"marker\": {\"colorbar\": {\"outlinewidth\": 0, \"ticks\": \"\"}}, \"type\": \"scatterpolar\"}], \"scatterpolargl\": [{\"marker\": {\"colorbar\": {\"outlinewidth\": 0, \"ticks\": \"\"}}, \"type\": \"scatterpolargl\"}], \"scatterternary\": [{\"marker\": {\"colorbar\": {\"outlinewidth\": 0, \"ticks\": \"\"}}, \"type\": \"scatterternary\"}], \"surface\": [{\"colorbar\": {\"outlinewidth\": 0, \"ticks\": \"\"}, \"colorscale\": [[0.0, \"#0d0887\"], [0.1111111111111111, \"#46039f\"], [0.2222222222222222, \"#7201a8\"], [0.3333333333333333, \"#9c179e\"], [0.4444444444444444, \"#bd3786\"], [0.5555555555555556, \"#d8576b\"], [0.6666666666666666, \"#ed7953\"], [0.7777777777777778, \"#fb9f3a\"], [0.8888888888888888, \"#fdca26\"], [1.0, \"#f0f921\"]], \"type\": \"surface\"}], \"table\": [{\"cells\": {\"fill\": {\"color\": \"#EBF0F8\"}, \"line\": {\"color\": \"white\"}}, \"header\": {\"fill\": {\"color\": \"#C8D4E3\"}, \"line\": {\"color\": \"white\"}}, \"type\": \"table\"}]}, \"layout\": {\"annotationdefaults\": {\"arrowcolor\": \"#2a3f5f\", \"arrowhead\": 0, \"arrowwidth\": 1}, \"coloraxis\": {\"colorbar\": {\"outlinewidth\": 0, \"ticks\": \"\"}}, \"colorscale\": {\"diverging\": [[0, \"#8e0152\"], [0.1, \"#c51b7d\"], [0.2, \"#de77ae\"], [0.3, \"#f1b6da\"], [0.4, \"#fde0ef\"], [0.5, \"#f7f7f7\"], [0.6, \"#e6f5d0\"], [0.7, \"#b8e186\"], [0.8, \"#7fbc41\"], [0.9, \"#4d9221\"], [1, \"#276419\"]], \"sequential\": [[0.0, \"#0d0887\"], [0.1111111111111111, \"#46039f\"], [0.2222222222222222, \"#7201a8\"], [0.3333333333333333, \"#9c179e\"], [0.4444444444444444, \"#bd3786\"], [0.5555555555555556, \"#d8576b\"], [0.6666666666666666, \"#ed7953\"], [0.7777777777777778, \"#fb9f3a\"], [0.8888888888888888, \"#fdca26\"], [1.0, \"#f0f921\"]], \"sequentialminus\": [[0.0, \"#0d0887\"], [0.1111111111111111, \"#46039f\"], [0.2222222222222222, \"#7201a8\"], [0.3333333333333333, \"#9c179e\"], [0.4444444444444444, \"#bd3786\"], [0.5555555555555556, \"#d8576b\"], [0.6666666666666666, \"#ed7953\"], [0.7777777777777778, \"#fb9f3a\"], [0.8888888888888888, \"#fdca26\"], [1.0, \"#f0f921\"]]}, \"colorway\": [\"#636efa\", \"#EF553B\", \"#00cc96\", \"#ab63fa\", \"#FFA15A\", \"#19d3f3\", \"#FF6692\", \"#B6E880\", \"#FF97FF\", \"#FECB52\"], \"font\": {\"color\": \"#2a3f5f\"}, \"geo\": {\"bgcolor\": \"white\", \"lakecolor\": \"white\", \"landcolor\": \"#E5ECF6\", \"showlakes\": true, \"showland\": true, \"subunitcolor\": \"white\"}, \"hoverlabel\": {\"align\": \"left\"}, \"hovermode\": \"closest\", \"mapbox\": {\"style\": \"light\"}, \"paper_bgcolor\": \"white\", \"plot_bgcolor\": \"#E5ECF6\", \"polar\": {\"angularaxis\": {\"gridcolor\": \"white\", \"linecolor\": \"white\", \"ticks\": \"\"}, \"bgcolor\": \"#E5ECF6\", \"radialaxis\": {\"gridcolor\": \"white\", \"linecolor\": \"white\", \"ticks\": \"\"}}, \"scene\": {\"xaxis\": {\"backgroundcolor\": \"#E5ECF6\", \"gridcolor\": \"white\", \"gridwidth\": 2, \"linecolor\": \"white\", \"showbackground\": true, \"ticks\": \"\", \"zerolinecolor\": \"white\"}, \"yaxis\": {\"backgroundcolor\": \"#E5ECF6\", \"gridcolor\": \"white\", \"gridwidth\": 2, \"linecolor\": \"white\", \"showbackground\": true, \"ticks\": \"\", \"zerolinecolor\": \"white\"}, \"zaxis\": {\"backgroundcolor\": \"#E5ECF6\", \"gridcolor\": \"white\", \"gridwidth\": 2, \"linecolor\": \"white\", \"showbackground\": true, \"ticks\": \"\", \"zerolinecolor\": \"white\"}}, \"shapedefaults\": {\"line\": {\"color\": \"#2a3f5f\"}}, \"ternary\": {\"aaxis\": {\"gridcolor\": \"white\", \"linecolor\": \"white\", \"ticks\": \"\"}, \"baxis\": {\"gridcolor\": \"white\", \"linecolor\": \"white\", \"ticks\": \"\"}, \"bgcolor\": \"#E5ECF6\", \"caxis\": {\"gridcolor\": \"white\", \"linecolor\": \"white\", \"ticks\": \"\"}}, \"title\": {\"x\": 0.05}, \"xaxis\": {\"automargin\": true, \"gridcolor\": \"white\", \"linecolor\": \"white\", \"ticks\": \"\", \"title\": {\"standoff\": 15}, \"zerolinecolor\": \"white\", \"zerolinewidth\": 2}, \"yaxis\": {\"automargin\": true, \"gridcolor\": \"white\", \"linecolor\": \"white\", \"ticks\": \"\", \"title\": {\"standoff\": 15}, \"zerolinecolor\": \"white\", \"zerolinewidth\": 2}}}, \"title\": {\"font\": {\"color\": \"#4D5663\"}}, \"xaxis\": {\"anchor\": \"y\", \"domain\": [0.0, 0.2125], \"gridcolor\": \"#E1E5ED\", \"showgrid\": false, \"tickfont\": {\"color\": \"#4D5663\"}, \"title\": {\"font\": {\"color\": \"#4D5663\"}, \"text\": \"\"}, \"zerolinecolor\": \"#E1E5ED\"}, \"xaxis10\": {\"anchor\": \"y10\", \"domain\": [0.2625, 0.475], \"gridcolor\": \"#E1E5ED\", \"showgrid\": false, \"tickfont\": {\"color\": \"#4D5663\"}, \"title\": {\"font\": {\"color\": \"#4D5663\"}, \"text\": \"\"}, \"zerolinecolor\": \"#E1E5ED\"}, \"xaxis11\": {\"anchor\": \"y11\", \"domain\": [0.525, 0.7375], \"gridcolor\": \"#E1E5ED\", \"showgrid\": false, \"tickfont\": {\"color\": \"#4D5663\"}, \"title\": {\"font\": {\"color\": \"#4D5663\"}, \"text\": \"\"}, \"zerolinecolor\": \"#E1E5ED\"}, \"xaxis12\": {\"anchor\": \"y12\", \"domain\": [0.7875, 1.0], \"gridcolor\": \"#E1E5ED\", \"showgrid\": false, \"tickfont\": {\"color\": \"#4D5663\"}, \"title\": {\"font\": {\"color\": \"#4D5663\"}, \"text\": \"\"}, \"zerolinecolor\": \"#E1E5ED\"}, \"xaxis13\": {\"anchor\": \"y13\", \"domain\": [0.0, 0.2125], \"gridcolor\": \"#E1E5ED\", \"showgrid\": false, \"tickfont\": {\"color\": \"#4D5663\"}, \"title\": {\"font\": {\"color\": \"#4D5663\"}, \"text\": \"\"}, \"zerolinecolor\": \"#E1E5ED\"}, \"xaxis14\": {\"anchor\": \"y14\", \"domain\": [0.2625, 0.475], \"gridcolor\": \"#E1E5ED\", \"showgrid\": false, \"tickfont\": {\"color\": \"#4D5663\"}, \"title\": {\"font\": {\"color\": \"#4D5663\"}, \"text\": \"\"}, \"zerolinecolor\": \"#E1E5ED\"}, \"xaxis15\": {\"anchor\": \"y15\", \"domain\": [0.525, 0.7375], \"gridcolor\": \"#E1E5ED\", \"showgrid\": false, \"tickfont\": {\"color\": \"#4D5663\"}, \"title\": {\"font\": {\"color\": \"#4D5663\"}, \"text\": \"\"}, \"zerolinecolor\": \"#E1E5ED\"}, \"xaxis16\": {\"anchor\": \"y16\", \"domain\": [0.7875, 1.0], \"gridcolor\": \"#E1E5ED\", \"showgrid\": false, \"tickfont\": {\"color\": \"#4D5663\"}, \"title\": {\"font\": {\"color\": \"#4D5663\"}, \"text\": \"\"}, \"zerolinecolor\": \"#E1E5ED\"}, \"xaxis2\": {\"anchor\": \"y2\", \"domain\": [0.2625, 0.475], \"gridcolor\": \"#E1E5ED\", \"showgrid\": false, \"tickfont\": {\"color\": \"#4D5663\"}, \"title\": {\"font\": {\"color\": \"#4D5663\"}, \"text\": \"\"}, \"zerolinecolor\": \"#E1E5ED\"}, \"xaxis3\": {\"anchor\": \"y3\", \"domain\": [0.525, 0.7375], \"gridcolor\": \"#E1E5ED\", \"showgrid\": false, \"tickfont\": {\"color\": \"#4D5663\"}, \"title\": {\"font\": {\"color\": \"#4D5663\"}, \"text\": \"\"}, \"zerolinecolor\": \"#E1E5ED\"}, \"xaxis4\": {\"anchor\": \"y4\", \"domain\": [0.7875, 1.0], \"gridcolor\": \"#E1E5ED\", \"showgrid\": false, \"tickfont\": {\"color\": \"#4D5663\"}, \"title\": {\"font\": {\"color\": \"#4D5663\"}, \"text\": \"\"}, \"zerolinecolor\": \"#E1E5ED\"}, \"xaxis5\": {\"anchor\": \"y5\", \"domain\": [0.0, 0.2125], \"gridcolor\": \"#E1E5ED\", \"showgrid\": false, \"tickfont\": {\"color\": \"#4D5663\"}, \"title\": {\"font\": {\"color\": \"#4D5663\"}, \"text\": \"\"}, \"zerolinecolor\": \"#E1E5ED\"}, \"xaxis6\": {\"anchor\": \"y6\", \"domain\": [0.2625, 0.475], \"gridcolor\": \"#E1E5ED\", \"showgrid\": false, \"tickfont\": {\"color\": \"#4D5663\"}, \"title\": {\"font\": {\"color\": \"#4D5663\"}, \"text\": \"\"}, \"zerolinecolor\": \"#E1E5ED\"}, \"xaxis7\": {\"anchor\": \"y7\", \"domain\": [0.525, 0.7375], \"gridcolor\": \"#E1E5ED\", \"showgrid\": false, \"tickfont\": {\"color\": \"#4D5663\"}, \"title\": {\"font\": {\"color\": \"#4D5663\"}, \"text\": \"\"}, \"zerolinecolor\": \"#E1E5ED\"}, \"xaxis8\": {\"anchor\": \"y8\", \"domain\": [0.7875, 1.0], \"gridcolor\": \"#E1E5ED\", \"showgrid\": false, \"tickfont\": {\"color\": \"#4D5663\"}, \"title\": {\"font\": {\"color\": \"#4D5663\"}, \"text\": \"\"}, \"zerolinecolor\": \"#E1E5ED\"}, \"xaxis9\": {\"anchor\": \"y9\", \"domain\": [0.0, 0.2125], \"gridcolor\": \"#E1E5ED\", \"showgrid\": false, \"tickfont\": {\"color\": \"#4D5663\"}, \"title\": {\"font\": {\"color\": \"#4D5663\"}, \"text\": \"\"}, \"zerolinecolor\": \"#E1E5ED\"}, \"yaxis\": {\"anchor\": \"x\", \"domain\": [0.8025, 1.0], \"gridcolor\": \"#E1E5ED\", \"showgrid\": false, \"tickfont\": {\"color\": \"#4D5663\"}, \"title\": {\"font\": {\"color\": \"#4D5663\"}, \"text\": \"\"}, \"zerolinecolor\": \"#E1E5ED\"}, \"yaxis10\": {\"anchor\": \"x10\", \"domain\": [0.2675, 0.465], \"gridcolor\": \"#E1E5ED\", \"showgrid\": false, \"tickfont\": {\"color\": \"#4D5663\"}, \"title\": {\"font\": {\"color\": \"#4D5663\"}, \"text\": \"\"}, \"zerolinecolor\": \"#E1E5ED\"}, \"yaxis11\": {\"anchor\": \"x11\", \"domain\": [0.2675, 0.465], \"gridcolor\": \"#E1E5ED\", \"showgrid\": false, \"tickfont\": {\"color\": \"#4D5663\"}, \"title\": {\"font\": {\"color\": \"#4D5663\"}, \"text\": \"\"}, \"zerolinecolor\": \"#E1E5ED\"}, \"yaxis12\": {\"anchor\": \"x12\", \"domain\": [0.2675, 0.465], \"gridcolor\": \"#E1E5ED\", \"showgrid\": false, \"tickfont\": {\"color\": \"#4D5663\"}, \"title\": {\"font\": {\"color\": \"#4D5663\"}, \"text\": \"\"}, \"zerolinecolor\": \"#E1E5ED\"}, \"yaxis13\": {\"anchor\": \"x13\", \"domain\": [0.0, 0.1975], \"gridcolor\": \"#E1E5ED\", \"showgrid\": false, \"tickfont\": {\"color\": \"#4D5663\"}, \"title\": {\"font\": {\"color\": \"#4D5663\"}, \"text\": \"\"}, \"zerolinecolor\": \"#E1E5ED\"}, \"yaxis14\": {\"anchor\": \"x14\", \"domain\": [0.0, 0.1975], \"gridcolor\": \"#E1E5ED\", \"showgrid\": false, \"tickfont\": {\"color\": \"#4D5663\"}, \"title\": {\"font\": {\"color\": \"#4D5663\"}, \"text\": \"\"}, \"zerolinecolor\": \"#E1E5ED\"}, \"yaxis15\": {\"anchor\": \"x15\", \"domain\": [0.0, 0.1975], \"gridcolor\": \"#E1E5ED\", \"showgrid\": false, \"tickfont\": {\"color\": \"#4D5663\"}, \"title\": {\"font\": {\"color\": \"#4D5663\"}, \"text\": \"\"}, \"zerolinecolor\": \"#E1E5ED\"}, \"yaxis16\": {\"anchor\": \"x16\", \"domain\": [0.0, 0.1975], \"gridcolor\": \"#E1E5ED\", \"showgrid\": false, \"tickfont\": {\"color\": \"#4D5663\"}, \"title\": {\"font\": {\"color\": \"#4D5663\"}, \"text\": \"\"}, \"zerolinecolor\": \"#E1E5ED\"}, \"yaxis2\": {\"anchor\": \"x2\", \"domain\": [0.8025, 1.0], \"gridcolor\": \"#E1E5ED\", \"showgrid\": false, \"tickfont\": {\"color\": \"#4D5663\"}, \"title\": {\"font\": {\"color\": \"#4D5663\"}, \"text\": \"\"}, \"zerolinecolor\": \"#E1E5ED\"}, \"yaxis3\": {\"anchor\": \"x3\", \"domain\": [0.8025, 1.0], \"gridcolor\": \"#E1E5ED\", \"showgrid\": false, \"tickfont\": {\"color\": \"#4D5663\"}, \"title\": {\"font\": {\"color\": \"#4D5663\"}, \"text\": \"\"}, \"zerolinecolor\": \"#E1E5ED\"}, \"yaxis4\": {\"anchor\": \"x4\", \"domain\": [0.8025, 1.0], \"gridcolor\": \"#E1E5ED\", \"showgrid\": false, \"tickfont\": {\"color\": \"#4D5663\"}, \"title\": {\"font\": {\"color\": \"#4D5663\"}, \"text\": \"\"}, \"zerolinecolor\": \"#E1E5ED\"}, \"yaxis5\": {\"anchor\": \"x5\", \"domain\": [0.535, 0.7325], \"gridcolor\": \"#E1E5ED\", \"showgrid\": false, \"tickfont\": {\"color\": \"#4D5663\"}, \"title\": {\"font\": {\"color\": \"#4D5663\"}, \"text\": \"\"}, \"zerolinecolor\": \"#E1E5ED\"}, \"yaxis6\": {\"anchor\": \"x6\", \"domain\": [0.535, 0.7325], \"gridcolor\": \"#E1E5ED\", \"showgrid\": false, \"tickfont\": {\"color\": \"#4D5663\"}, \"title\": {\"font\": {\"color\": \"#4D5663\"}, \"text\": \"\"}, \"zerolinecolor\": \"#E1E5ED\"}, \"yaxis7\": {\"anchor\": \"x7\", \"domain\": [0.535, 0.7325], \"gridcolor\": \"#E1E5ED\", \"showgrid\": false, \"tickfont\": {\"color\": \"#4D5663\"}, \"title\": {\"font\": {\"color\": \"#4D5663\"}, \"text\": \"\"}, \"zerolinecolor\": \"#E1E5ED\"}, \"yaxis8\": {\"anchor\": \"x8\", \"domain\": [0.535, 0.7325], \"gridcolor\": \"#E1E5ED\", \"showgrid\": false, \"tickfont\": {\"color\": \"#4D5663\"}, \"title\": {\"font\": {\"color\": \"#4D5663\"}, \"text\": \"\"}, \"zerolinecolor\": \"#E1E5ED\"}, \"yaxis9\": {\"anchor\": \"x9\", \"domain\": [0.2675, 0.465], \"gridcolor\": \"#E1E5ED\", \"showgrid\": false, \"tickfont\": {\"color\": \"#4D5663\"}, \"title\": {\"font\": {\"color\": \"#4D5663\"}, \"text\": \"\"}, \"zerolinecolor\": \"#E1E5ED\"}},\n",
              "                        {\"showLink\": true, \"linkText\": \"Export to plot.ly\", \"plotlyServerURL\": \"https://plot.ly\", \"responsive\": true}\n",
              "                    ).then(function(){\n",
              "                            \n",
              "var gd = document.getElementById('b91cbbb5-2f8a-42cf-abbe-2930790ef788');\n",
              "var x = new MutationObserver(function (mutations, observer) {{\n",
              "        var display = window.getComputedStyle(gd).display;\n",
              "        if (!display || display === 'none') {{\n",
              "            console.log([gd, 'removed!']);\n",
              "            Plotly.purge(gd);\n",
              "            observer.disconnect();\n",
              "        }}\n",
              "}});\n",
              "\n",
              "// Listen for the removal of the full notebook cells\n",
              "var notebookContainer = gd.closest('#notebook-container');\n",
              "if (notebookContainer) {{\n",
              "    x.observe(notebookContainer, {childList: true});\n",
              "}}\n",
              "\n",
              "// Listen for the clearing of the current output cell\n",
              "var outputEl = gd.closest('.output');\n",
              "if (outputEl) {{\n",
              "    x.observe(outputEl, {childList: true});\n",
              "}}\n",
              "\n",
              "                        })\n",
              "                };\n",
              "                });\n",
              "            </script>\n",
              "        </div>"
            ],
            "application/vnd.plotly.v1+json": {
              "data": [
                {
                  "opacity": 0.8,
                  "name": "A",
                  "yaxis": "y",
                  "histnorm": "",
                  "xaxis": "x",
                  "nbinsx": 10,
                  "histfunc": "count",
                  "marker": {
                    "color": "rgba(255, 153, 51, 1.0)",
                    "line": {
                      "color": "#4D5663",
                      "width": 1.3
                    }
                  },
                  "x": [
                    0.49449272530329047,
                    0.034528001350900256,
                    -0.7946215341312589,
                    1.9028248305238074,
                    0.006168500487285368,
                    -0.646904665314446,
                    0.48255753274079133,
                    -0.7343086288457172,
                    -0.34794321781969817,
                    1.9142109663219973,
                    1.9009810730582737,
                    0.60851843055985,
                    0.7118296524467419,
                    -1.146016055014683,
                    -0.18326960130776676,
                    -0.12060848620152653,
                    0.6279615151556829,
                    2.3972492782457357,
                    0.25352786848048336,
                    0.30340667749886713,
                    1.911779639274964,
                    -0.41634320669644,
                    0.06774707796135956,
                    -0.6969960897231474,
                    -1.1926002276894017,
                    -0.9052079661067426,
                    1.1360267449714567,
                    -0.8071906369875103,
                    1.5973964698699552,
                    0.8548629282365606,
                    0.00805549333156661,
                    -0.1875107634509211,
                    1.860888082553138,
                    0.4491610317689726,
                    -1.1065729004552944,
                    -1.210253649996616,
                    -1.3861184880132484,
                    -0.37859662107129394,
                    0.6744767804346525,
                    -1.0787036830472339,
                    0.09231075314670419,
                    -0.11910687458279542,
                    -0.00932143515294092,
                    0.8237425395388134,
                    -1.2245368744825151,
                    0.765472350926838,
                    1.488814705875263,
                    0.6332138353148433,
                    0.017800676144336905,
                    -0.10641501029678054,
                    -0.2561215983248197,
                    -0.16090710308918565,
                    -0.5629484054684389,
                    0.24499515509043016,
                    -1.0250294042886583,
                    -0.23433780993918485,
                    -0.6235825081087522,
                    -1.0040664888392414,
                    0.4412264639634368,
                    -0.13897635859556548,
                    0.4909861903980702,
                    1.6283087805480077,
                    -0.8157090997355115,
                    0.2591105079595253,
                    1.8061640134274737,
                    -0.26243055062034426,
                    -1.2041654634413208,
                    0.08228734517166987,
                    0.24626482502167044,
                    0.08211455780515052,
                    1.2051798170386212,
                    -1.1799496193151544,
                    -0.526486513684934,
                    -0.25981063949919314,
                    0.3662313414855823,
                    -0.6529890732166655,
                    1.5678515870250003,
                    0.05769126472384962,
                    -1.2569152310660323,
                    -0.6859973308376616,
                    -1.8511519876772007,
                    -0.9653073216056013,
                    1.112894317654417,
                    0.3907391182199121,
                    -0.63850397282398,
                    -0.8403492596202459,
                    0.48223732635132477,
                    -0.2934179114575572,
                    -0.12704325980510536,
                    0.36727881765268805,
                    1.9638666113011793,
                    -1.1639993715176382,
                    1.4742499705754153,
                    -1.3170710454264,
                    2.061406034108948,
                    1.0390809142847595,
                    -0.35994721777590705,
                    0.5822715275002863,
                    0.5780547144122881,
                    -0.7910318664440708
                  ],
                  "type": "histogram",
                  "orientation": "v"
                },
                {
                  "name": "A",
                  "yaxis": "y2",
                  "text": "",
                  "y": [
                    0.49449272530329047,
                    0.034528001350900256,
                    -0.7946215341312589,
                    1.9028248305238074,
                    0.006168500487285368,
                    -0.646904665314446,
                    0.48255753274079133,
                    -0.7343086288457172,
                    -0.34794321781969817,
                    1.9142109663219973,
                    1.9009810730582737,
                    0.60851843055985,
                    0.7118296524467419,
                    -1.146016055014683,
                    -0.18326960130776676,
                    -0.12060848620152653,
                    0.6279615151556829,
                    2.3972492782457357,
                    0.25352786848048336,
                    0.30340667749886713,
                    1.911779639274964,
                    -0.41634320669644,
                    0.06774707796135956,
                    -0.6969960897231474,
                    -1.1926002276894017,
                    -0.9052079661067426,
                    1.1360267449714567,
                    -0.8071906369875103,
                    1.5973964698699552,
                    0.8548629282365606,
                    0.00805549333156661,
                    -0.1875107634509211,
                    1.860888082553138,
                    0.4491610317689726,
                    -1.1065729004552944,
                    -1.210253649996616,
                    -1.3861184880132484,
                    -0.37859662107129394,
                    0.6744767804346525,
                    -1.0787036830472339,
                    0.09231075314670419,
                    -0.11910687458279542,
                    -0.00932143515294092,
                    0.8237425395388134,
                    -1.2245368744825151,
                    0.765472350926838,
                    1.488814705875263,
                    0.6332138353148433,
                    0.017800676144336905,
                    -0.10641501029678054,
                    -0.2561215983248197,
                    -0.16090710308918565,
                    -0.5629484054684389,
                    0.24499515509043016,
                    -1.0250294042886583,
                    -0.23433780993918485,
                    -0.6235825081087522,
                    -1.0040664888392414,
                    0.4412264639634368,
                    -0.13897635859556548,
                    0.4909861903980702,
                    1.6283087805480077,
                    -0.8157090997355115,
                    0.2591105079595253,
                    1.8061640134274737,
                    -0.26243055062034426,
                    -1.2041654634413208,
                    0.08228734517166987,
                    0.24626482502167044,
                    0.08211455780515052,
                    1.2051798170386212,
                    -1.1799496193151544,
                    -0.526486513684934,
                    -0.25981063949919314,
                    0.3662313414855823,
                    -0.6529890732166655,
                    1.5678515870250003,
                    0.05769126472384962,
                    -1.2569152310660323,
                    -0.6859973308376616,
                    -1.8511519876772007,
                    -0.9653073216056013,
                    1.112894317654417,
                    0.3907391182199121,
                    -0.63850397282398,
                    -0.8403492596202459,
                    0.48223732635132477,
                    -0.2934179114575572,
                    -0.12704325980510536,
                    0.36727881765268805,
                    1.9638666113011793,
                    -1.1639993715176382,
                    1.4742499705754153,
                    -1.3170710454264,
                    2.061406034108948,
                    1.0390809142847595,
                    -0.35994721777590705,
                    0.5822715275002863,
                    0.5780547144122881,
                    -0.7910318664440708
                  ],
                  "mode": "markers",
                  "xaxis": "x2",
                  "marker": {
                    "symbol": "circle",
                    "size": 2
                  },
                  "x": [
                    -0.8136759797552139,
                    -0.05485004777981325,
                    -0.7354321015336972,
                    0.2249286743408787,
                    1.042791519448513,
                    -0.18273615906352095,
                    -0.06692170724897374,
                    1.607177305910856,
                    -0.1793710017199522,
                    -0.018194588543706005,
                    0.12316141153047848,
                    0.3680399156648711,
                    -0.5974356495058103,
                    -0.09832813929968391,
                    0.32320235378837736,
                    -0.30785533668697723,
                    1.5758386876787536,
                    1.5225267490392824,
                    0.6163565107520003,
                    -0.016783669433683018,
                    0.3826115635049692,
                    -0.26777625398632077,
                    -1.635750655467563,
                    0.3406422253573746,
                    -0.787959156960995,
                    0.3645487271885021,
                    -0.35577341396159645,
                    0.6490752613997947,
                    -0.8130874975316237,
                    0.47861025390015216,
                    -1.4102850439880745,
                    0.6389802293177309,
                    -1.080070246304188,
                    0.014505110937698303,
                    0.5335163451855318,
                    -0.020432045686978578,
                    -0.32132438112819084,
                    -1.641500057485398,
                    0.5990451502361493,
                    -0.724953471543375,
                    0.8536130491768231,
                    -0.2910271148862159,
                    -0.9111452886490694,
                    -0.720343772877038,
                    0.7823487918924391,
                    -0.8568066719129985,
                    -0.46363014921539397,
                    -0.34993197525826414,
                    1.3838867053010142,
                    -0.1298659550706131,
                    -3.007146529953769,
                    -0.4371479134339112,
                    -1.4987649242344048,
                    -0.05594828278616842,
                    -2.458347801850056,
                    0.6697959465864352,
                    2.638600323779429,
                    -1.4334736453973018,
                    -1.7527544091674543,
                    -2.55126788260544,
                    0.43919616105371667,
                    -0.5396909605551713,
                    0.5871878208303853,
                    -1.772939745598578,
                    -0.602616598198998,
                    -1.1016540891023183,
                    -0.9630877137017885,
                    1.1248381048177714,
                    0.2748240387380922,
                    0.4358776515904015,
                    0.7685860891350906,
                    -0.004574417545520153,
                    2.14357981609164,
                    -1.8892338070965509,
                    -0.6699330789034134,
                    -0.4015884234543682,
                    -0.7132818644409759,
                    0.2326994556677902,
                    0.8536679521702573,
                    -1.2832262558150698,
                    0.5823721324294828,
                    -0.5481622827200686,
                    1.4767962539420714,
                    -0.05182969341053261,
                    -1.64242794344349,
                    1.3758526793671009,
                    -0.06464799276267091,
                    -0.0038963779145905196,
                    0.6762561054044929,
                    -0.7969326503180237,
                    0.9207974519783559,
                    1.0861925805067818,
                    -2.1934441364003576,
                    -0.5292897576555309,
                    1.1117441137860085,
                    -0.13524443733734617,
                    -0.32520926724879606,
                    -0.11781438669767867,
                    -0.06603583569490025,
                    -0.9416595928090823
                  ],
                  "line": {
                    "color": "rgba(128, 128, 128, 1.0)",
                    "dash": "solid",
                    "shape": "linear",
                    "width": 1.3
                  },
                  "type": "scatter"
                },
                {
                  "name": "A",
                  "yaxis": "y3",
                  "text": "",
                  "y": [
                    0.49449272530329047,
                    0.034528001350900256,
                    -0.7946215341312589,
                    1.9028248305238074,
                    0.006168500487285368,
                    -0.646904665314446,
                    0.48255753274079133,
                    -0.7343086288457172,
                    -0.34794321781969817,
                    1.9142109663219973,
                    1.9009810730582737,
                    0.60851843055985,
                    0.7118296524467419,
                    -1.146016055014683,
                    -0.18326960130776676,
                    -0.12060848620152653,
                    0.6279615151556829,
                    2.3972492782457357,
                    0.25352786848048336,
                    0.30340667749886713,
                    1.911779639274964,
                    -0.41634320669644,
                    0.06774707796135956,
                    -0.6969960897231474,
                    -1.1926002276894017,
                    -0.9052079661067426,
                    1.1360267449714567,
                    -0.8071906369875103,
                    1.5973964698699552,
                    0.8548629282365606,
                    0.00805549333156661,
                    -0.1875107634509211,
                    1.860888082553138,
                    0.4491610317689726,
                    -1.1065729004552944,
                    -1.210253649996616,
                    -1.3861184880132484,
                    -0.37859662107129394,
                    0.6744767804346525,
                    -1.0787036830472339,
                    0.09231075314670419,
                    -0.11910687458279542,
                    -0.00932143515294092,
                    0.8237425395388134,
                    -1.2245368744825151,
                    0.765472350926838,
                    1.488814705875263,
                    0.6332138353148433,
                    0.017800676144336905,
                    -0.10641501029678054,
                    -0.2561215983248197,
                    -0.16090710308918565,
                    -0.5629484054684389,
                    0.24499515509043016,
                    -1.0250294042886583,
                    -0.23433780993918485,
                    -0.6235825081087522,
                    -1.0040664888392414,
                    0.4412264639634368,
                    -0.13897635859556548,
                    0.4909861903980702,
                    1.6283087805480077,
                    -0.8157090997355115,
                    0.2591105079595253,
                    1.8061640134274737,
                    -0.26243055062034426,
                    -1.2041654634413208,
                    0.08228734517166987,
                    0.24626482502167044,
                    0.08211455780515052,
                    1.2051798170386212,
                    -1.1799496193151544,
                    -0.526486513684934,
                    -0.25981063949919314,
                    0.3662313414855823,
                    -0.6529890732166655,
                    1.5678515870250003,
                    0.05769126472384962,
                    -1.2569152310660323,
                    -0.6859973308376616,
                    -1.8511519876772007,
                    -0.9653073216056013,
                    1.112894317654417,
                    0.3907391182199121,
                    -0.63850397282398,
                    -0.8403492596202459,
                    0.48223732635132477,
                    -0.2934179114575572,
                    -0.12704325980510536,
                    0.36727881765268805,
                    1.9638666113011793,
                    -1.1639993715176382,
                    1.4742499705754153,
                    -1.3170710454264,
                    2.061406034108948,
                    1.0390809142847595,
                    -0.35994721777590705,
                    0.5822715275002863,
                    0.5780547144122881,
                    -0.7910318664440708
                  ],
                  "mode": "markers",
                  "xaxis": "x3",
                  "marker": {
                    "symbol": "circle",
                    "size": 2
                  },
                  "x": [
                    -1.310690252440048,
                    -1.0016639097981894,
                    -0.41642088116897713,
                    -1.7550639732151119,
                    -0.2226778514116316,
                    0.23914971590826037,
                    -1.0750014537256962,
                    0.7793484950989243,
                    1.0373619053602594,
                    -0.3478572473188221,
                    -1.096319830061799,
                    -0.23679994530654408,
                    0.8624387834327595,
                    -0.04885765547364744,
                    -0.1793268858240769,
                    -1.5781170700429645,
                    0.2825081976274687,
                    0.9209397871315534,
                    0.2621300064555339,
                    0.2724996898989235,
                    -1.1368491934786962,
                    0.9003625922768816,
                    -0.13431631567823177,
                    0.9920743359639713,
                    -0.6584359514467756,
                    -0.9423231650816679,
                    -0.45739119432055747,
                    0.4890037820101285,
                    0.31802368109812984,
                    1.5506504126217866,
                    -1.9329682877543066,
                    0.2131731694266834,
                    2.0613359524605137,
                    1.0590402039924574,
                    2.4093078538137673,
                    1.2496314878999002,
                    -1.63184777201933,
                    -0.026500697866007724,
                    0.892292585316659,
                    2.7481840888166817,
                    -0.9174748872341176,
                    1.2173088850793061,
                    -0.755318195125809,
                    0.24541712775521726,
                    0.1954851823130636,
                    -1.2749395359716156,
                    0.0693579563756177,
                    0.8369194145379346,
                    1.2897940280700224,
                    -0.9215839409576956,
                    -0.298051090785431,
                    1.2105883602755476,
                    1.4864483357968963,
                    1.254140425573467,
                    -0.6674301504233613,
                    0.6115464292486142,
                    -0.7408458102254861,
                    -0.256478721369443,
                    -1.6066840440240275,
                    -0.7341937458045557,
                    -1.7475583125075766,
                    -0.09265375180489084,
                    -0.28401485744056926,
                    -0.3040640351872021,
                    2.3594592466737465,
                    -0.31699561375963153,
                    -2.0445712227727206,
                    1.7110030149073199,
                    -0.24988710852099302,
                    0.02442585394746932,
                    0.27995346672427457,
                    -0.49094402256524783,
                    0.6593431856088066,
                    0.4691695169897422,
                    -0.0226169882873906,
                    -0.0161375807369831,
                    -0.17390749960001475,
                    0.5935786825750609,
                    -0.002887692043964249,
                    1.4525455124091755,
                    0.46974533283528147,
                    1.0558861103001775,
                    2.4556250439294582,
                    -0.5072269246546878,
                    -0.23070366004823475,
                    -0.7514317490000312,
                    1.7243807656390517,
                    0.7506400344801331,
                    0.5615666496113562,
                    0.606974889270539,
                    -1.2427417303014325,
                    -0.7841558970428817,
                    0.8071819910433602,
                    0.08434711220247389,
                    -0.28189543503859094,
                    -1.2363924276835345,
                    -0.6818873922016349,
                    -0.1780216771073922,
                    -1.22670896499483,
                    0.6530457439101603
                  ],
                  "line": {
                    "color": "rgba(128, 128, 128, 1.0)",
                    "dash": "solid",
                    "shape": "linear",
                    "width": 1.3
                  },
                  "type": "scatter"
                },
                {
                  "name": "A",
                  "yaxis": "y4",
                  "text": "",
                  "y": [
                    0.49449272530329047,
                    0.034528001350900256,
                    -0.7946215341312589,
                    1.9028248305238074,
                    0.006168500487285368,
                    -0.646904665314446,
                    0.48255753274079133,
                    -0.7343086288457172,
                    -0.34794321781969817,
                    1.9142109663219973,
                    1.9009810730582737,
                    0.60851843055985,
                    0.7118296524467419,
                    -1.146016055014683,
                    -0.18326960130776676,
                    -0.12060848620152653,
                    0.6279615151556829,
                    2.3972492782457357,
                    0.25352786848048336,
                    0.30340667749886713,
                    1.911779639274964,
                    -0.41634320669644,
                    0.06774707796135956,
                    -0.6969960897231474,
                    -1.1926002276894017,
                    -0.9052079661067426,
                    1.1360267449714567,
                    -0.8071906369875103,
                    1.5973964698699552,
                    0.8548629282365606,
                    0.00805549333156661,
                    -0.1875107634509211,
                    1.860888082553138,
                    0.4491610317689726,
                    -1.1065729004552944,
                    -1.210253649996616,
                    -1.3861184880132484,
                    -0.37859662107129394,
                    0.6744767804346525,
                    -1.0787036830472339,
                    0.09231075314670419,
                    -0.11910687458279542,
                    -0.00932143515294092,
                    0.8237425395388134,
                    -1.2245368744825151,
                    0.765472350926838,
                    1.488814705875263,
                    0.6332138353148433,
                    0.017800676144336905,
                    -0.10641501029678054,
                    -0.2561215983248197,
                    -0.16090710308918565,
                    -0.5629484054684389,
                    0.24499515509043016,
                    -1.0250294042886583,
                    -0.23433780993918485,
                    -0.6235825081087522,
                    -1.0040664888392414,
                    0.4412264639634368,
                    -0.13897635859556548,
                    0.4909861903980702,
                    1.6283087805480077,
                    -0.8157090997355115,
                    0.2591105079595253,
                    1.8061640134274737,
                    -0.26243055062034426,
                    -1.2041654634413208,
                    0.08228734517166987,
                    0.24626482502167044,
                    0.08211455780515052,
                    1.2051798170386212,
                    -1.1799496193151544,
                    -0.526486513684934,
                    -0.25981063949919314,
                    0.3662313414855823,
                    -0.6529890732166655,
                    1.5678515870250003,
                    0.05769126472384962,
                    -1.2569152310660323,
                    -0.6859973308376616,
                    -1.8511519876772007,
                    -0.9653073216056013,
                    1.112894317654417,
                    0.3907391182199121,
                    -0.63850397282398,
                    -0.8403492596202459,
                    0.48223732635132477,
                    -0.2934179114575572,
                    -0.12704325980510536,
                    0.36727881765268805,
                    1.9638666113011793,
                    -1.1639993715176382,
                    1.4742499705754153,
                    -1.3170710454264,
                    2.061406034108948,
                    1.0390809142847595,
                    -0.35994721777590705,
                    0.5822715275002863,
                    0.5780547144122881,
                    -0.7910318664440708
                  ],
                  "mode": "markers",
                  "xaxis": "x4",
                  "marker": {
                    "symbol": "circle",
                    "size": 2
                  },
                  "x": [
                    -0.5586526736249071,
                    2.5648378161597214,
                    1.3344146941476993,
                    1.254354577490153,
                    0.16357134953986177,
                    -0.9960938884592154,
                    0.13793117385325948,
                    -1.2449787517374886,
                    0.7905569069667446,
                    -0.47189843625849925,
                    1.760083403161101,
                    0.7702342858963125,
                    0.2697744516104289,
                    -0.3957419259082303,
                    -0.65073164328824,
                    1.200082438964805,
                    -1.3384025367746317,
                    0.0850331086823893,
                    1.4780241829910779,
                    -1.2114542784311022,
                    -1.0618230206281567,
                    0.6447217677760896,
                    -1.0349038148035064,
                    -1.4657058306146857,
                    -1.017106448859101,
                    0.6140089693132623,
                    0.44188301079672027,
                    1.0922550023780713,
                    1.7014083913907552,
                    -0.3117596043335442,
                    2.09855568078052,
                    0.977899693543391,
                    -1.0446629832424001,
                    1.8398144196070627,
                    -1.0381798429862215,
                    1.386861108917373,
                    0.9636362602276877,
                    0.9202524368962468,
                    -0.9748531629107791,
                    0.024610466008356827,
                    0.32812732151482943,
                    -0.8789750779745303,
                    0.9011141580879979,
                    0.6879328203279454,
                    -1.3525916616180822,
                    -1.0699882538566368,
                    -0.9645653684430997,
                    -0.8324991511440036,
                    -1.1577494401855701,
                    -0.48500127580568525,
                    0.20555864863386705,
                    1.3455123592229001,
                    -0.4384968657387519,
                    0.7962431896578012,
                    1.3808045347045983,
                    0.057946893201123485,
                    -1.1924462650279564,
                    -0.6443360195741673,
                    0.8158471858962739,
                    -1.1165422679830348,
                    -1.6174056572146196,
                    -0.48200788866862027,
                    -1.3806750452721406,
                    0.307668980125605,
                    0.8008344626421596,
                    -0.3858147783951234,
                    -1.6138348349914224,
                    0.5693639400111072,
                    0.3597726601090242,
                    1.4976770180954566,
                    -0.22677223889894424,
                    -0.639424471179971,
                    0.8137989877267898,
                    -2.1681373219069924,
                    -1.8416815842472938,
                    2.022587975603228,
                    -0.1434116534262859,
                    0.14450424350839192,
                    0.1531220183412497,
                    -1.1146261432345768,
                    0.5339641224227574,
                    -0.4161067384024961,
                    0.5621537536849726,
                    0.8442442731778624,
                    -0.9665262698553451,
                    0.8474770363065303,
                    1.5941001583678718,
                    1.1285820590845328,
                    -1.489469537854431,
                    -0.6036481917882937,
                    0.3007949292001437,
                    0.3904157077266811,
                    -0.07161375607841475,
                    -0.48174246009706273,
                    -0.48901515104489596,
                    0.8097689417719991,
                    1.139437441228571,
                    0.05333200288744596,
                    -0.6753749933549216,
                    -0.42302442124398776
                  ],
                  "line": {
                    "color": "rgba(128, 128, 128, 1.0)",
                    "dash": "solid",
                    "shape": "linear",
                    "width": 1.3
                  },
                  "type": "scatter"
                },
                {
                  "name": "B",
                  "yaxis": "y5",
                  "text": "",
                  "y": [
                    -0.8136759797552139,
                    -0.05485004777981325,
                    -0.7354321015336972,
                    0.2249286743408787,
                    1.042791519448513,
                    -0.18273615906352095,
                    -0.06692170724897374,
                    1.607177305910856,
                    -0.1793710017199522,
                    -0.018194588543706005,
                    0.12316141153047848,
                    0.3680399156648711,
                    -0.5974356495058103,
                    -0.09832813929968391,
                    0.32320235378837736,
                    -0.30785533668697723,
                    1.5758386876787536,
                    1.5225267490392824,
                    0.6163565107520003,
                    -0.016783669433683018,
                    0.3826115635049692,
                    -0.26777625398632077,
                    -1.635750655467563,
                    0.3406422253573746,
                    -0.787959156960995,
                    0.3645487271885021,
                    -0.35577341396159645,
                    0.6490752613997947,
                    -0.8130874975316237,
                    0.47861025390015216,
                    -1.4102850439880745,
                    0.6389802293177309,
                    -1.080070246304188,
                    0.014505110937698303,
                    0.5335163451855318,
                    -0.020432045686978578,
                    -0.32132438112819084,
                    -1.641500057485398,
                    0.5990451502361493,
                    -0.724953471543375,
                    0.8536130491768231,
                    -0.2910271148862159,
                    -0.9111452886490694,
                    -0.720343772877038,
                    0.7823487918924391,
                    -0.8568066719129985,
                    -0.46363014921539397,
                    -0.34993197525826414,
                    1.3838867053010142,
                    -0.1298659550706131,
                    -3.007146529953769,
                    -0.4371479134339112,
                    -1.4987649242344048,
                    -0.05594828278616842,
                    -2.458347801850056,
                    0.6697959465864352,
                    2.638600323779429,
                    -1.4334736453973018,
                    -1.7527544091674543,
                    -2.55126788260544,
                    0.43919616105371667,
                    -0.5396909605551713,
                    0.5871878208303853,
                    -1.772939745598578,
                    -0.602616598198998,
                    -1.1016540891023183,
                    -0.9630877137017885,
                    1.1248381048177714,
                    0.2748240387380922,
                    0.4358776515904015,
                    0.7685860891350906,
                    -0.004574417545520153,
                    2.14357981609164,
                    -1.8892338070965509,
                    -0.6699330789034134,
                    -0.4015884234543682,
                    -0.7132818644409759,
                    0.2326994556677902,
                    0.8536679521702573,
                    -1.2832262558150698,
                    0.5823721324294828,
                    -0.5481622827200686,
                    1.4767962539420714,
                    -0.05182969341053261,
                    -1.64242794344349,
                    1.3758526793671009,
                    -0.06464799276267091,
                    -0.0038963779145905196,
                    0.6762561054044929,
                    -0.7969326503180237,
                    0.9207974519783559,
                    1.0861925805067818,
                    -2.1934441364003576,
                    -0.5292897576555309,
                    1.1117441137860085,
                    -0.13524443733734617,
                    -0.32520926724879606,
                    -0.11781438669767867,
                    -0.06603583569490025,
                    -0.9416595928090823
                  ],
                  "mode": "markers",
                  "xaxis": "x5",
                  "marker": {
                    "symbol": "circle",
                    "size": 2
                  },
                  "x": [
                    0.49449272530329047,
                    0.034528001350900256,
                    -0.7946215341312589,
                    1.9028248305238074,
                    0.006168500487285368,
                    -0.646904665314446,
                    0.48255753274079133,
                    -0.7343086288457172,
                    -0.34794321781969817,
                    1.9142109663219973,
                    1.9009810730582737,
                    0.60851843055985,
                    0.7118296524467419,
                    -1.146016055014683,
                    -0.18326960130776676,
                    -0.12060848620152653,
                    0.6279615151556829,
                    2.3972492782457357,
                    0.25352786848048336,
                    0.30340667749886713,
                    1.911779639274964,
                    -0.41634320669644,
                    0.06774707796135956,
                    -0.6969960897231474,
                    -1.1926002276894017,
                    -0.9052079661067426,
                    1.1360267449714567,
                    -0.8071906369875103,
                    1.5973964698699552,
                    0.8548629282365606,
                    0.00805549333156661,
                    -0.1875107634509211,
                    1.860888082553138,
                    0.4491610317689726,
                    -1.1065729004552944,
                    -1.210253649996616,
                    -1.3861184880132484,
                    -0.37859662107129394,
                    0.6744767804346525,
                    -1.0787036830472339,
                    0.09231075314670419,
                    -0.11910687458279542,
                    -0.00932143515294092,
                    0.8237425395388134,
                    -1.2245368744825151,
                    0.765472350926838,
                    1.488814705875263,
                    0.6332138353148433,
                    0.017800676144336905,
                    -0.10641501029678054,
                    -0.2561215983248197,
                    -0.16090710308918565,
                    -0.5629484054684389,
                    0.24499515509043016,
                    -1.0250294042886583,
                    -0.23433780993918485,
                    -0.6235825081087522,
                    -1.0040664888392414,
                    0.4412264639634368,
                    -0.13897635859556548,
                    0.4909861903980702,
                    1.6283087805480077,
                    -0.8157090997355115,
                    0.2591105079595253,
                    1.8061640134274737,
                    -0.26243055062034426,
                    -1.2041654634413208,
                    0.08228734517166987,
                    0.24626482502167044,
                    0.08211455780515052,
                    1.2051798170386212,
                    -1.1799496193151544,
                    -0.526486513684934,
                    -0.25981063949919314,
                    0.3662313414855823,
                    -0.6529890732166655,
                    1.5678515870250003,
                    0.05769126472384962,
                    -1.2569152310660323,
                    -0.6859973308376616,
                    -1.8511519876772007,
                    -0.9653073216056013,
                    1.112894317654417,
                    0.3907391182199121,
                    -0.63850397282398,
                    -0.8403492596202459,
                    0.48223732635132477,
                    -0.2934179114575572,
                    -0.12704325980510536,
                    0.36727881765268805,
                    1.9638666113011793,
                    -1.1639993715176382,
                    1.4742499705754153,
                    -1.3170710454264,
                    2.061406034108948,
                    1.0390809142847595,
                    -0.35994721777590705,
                    0.5822715275002863,
                    0.5780547144122881,
                    -0.7910318664440708
                  ],
                  "line": {
                    "color": "rgba(128, 128, 128, 1.0)",
                    "dash": "solid",
                    "shape": "linear",
                    "width": 1.3
                  },
                  "type": "scatter"
                },
                {
                  "opacity": 0.8,
                  "name": "B",
                  "yaxis": "y6",
                  "histnorm": "",
                  "xaxis": "x6",
                  "nbinsx": 10,
                  "histfunc": "count",
                  "marker": {
                    "color": "rgba(55, 128, 191, 1.0)",
                    "line": {
                      "color": "#4D5663",
                      "width": 1.3
                    }
                  },
                  "x": [
                    -0.8136759797552139,
                    -0.05485004777981325,
                    -0.7354321015336972,
                    0.2249286743408787,
                    1.042791519448513,
                    -0.18273615906352095,
                    -0.06692170724897374,
                    1.607177305910856,
                    -0.1793710017199522,
                    -0.018194588543706005,
                    0.12316141153047848,
                    0.3680399156648711,
                    -0.5974356495058103,
                    -0.09832813929968391,
                    0.32320235378837736,
                    -0.30785533668697723,
                    1.5758386876787536,
                    1.5225267490392824,
                    0.6163565107520003,
                    -0.016783669433683018,
                    0.3826115635049692,
                    -0.26777625398632077,
                    -1.635750655467563,
                    0.3406422253573746,
                    -0.787959156960995,
                    0.3645487271885021,
                    -0.35577341396159645,
                    0.6490752613997947,
                    -0.8130874975316237,
                    0.47861025390015216,
                    -1.4102850439880745,
                    0.6389802293177309,
                    -1.080070246304188,
                    0.014505110937698303,
                    0.5335163451855318,
                    -0.020432045686978578,
                    -0.32132438112819084,
                    -1.641500057485398,
                    0.5990451502361493,
                    -0.724953471543375,
                    0.8536130491768231,
                    -0.2910271148862159,
                    -0.9111452886490694,
                    -0.720343772877038,
                    0.7823487918924391,
                    -0.8568066719129985,
                    -0.46363014921539397,
                    -0.34993197525826414,
                    1.3838867053010142,
                    -0.1298659550706131,
                    -3.007146529953769,
                    -0.4371479134339112,
                    -1.4987649242344048,
                    -0.05594828278616842,
                    -2.458347801850056,
                    0.6697959465864352,
                    2.638600323779429,
                    -1.4334736453973018,
                    -1.7527544091674543,
                    -2.55126788260544,
                    0.43919616105371667,
                    -0.5396909605551713,
                    0.5871878208303853,
                    -1.772939745598578,
                    -0.602616598198998,
                    -1.1016540891023183,
                    -0.9630877137017885,
                    1.1248381048177714,
                    0.2748240387380922,
                    0.4358776515904015,
                    0.7685860891350906,
                    -0.004574417545520153,
                    2.14357981609164,
                    -1.8892338070965509,
                    -0.6699330789034134,
                    -0.4015884234543682,
                    -0.7132818644409759,
                    0.2326994556677902,
                    0.8536679521702573,
                    -1.2832262558150698,
                    0.5823721324294828,
                    -0.5481622827200686,
                    1.4767962539420714,
                    -0.05182969341053261,
                    -1.64242794344349,
                    1.3758526793671009,
                    -0.06464799276267091,
                    -0.0038963779145905196,
                    0.6762561054044929,
                    -0.7969326503180237,
                    0.9207974519783559,
                    1.0861925805067818,
                    -2.1934441364003576,
                    -0.5292897576555309,
                    1.1117441137860085,
                    -0.13524443733734617,
                    -0.32520926724879606,
                    -0.11781438669767867,
                    -0.06603583569490025,
                    -0.9416595928090823
                  ],
                  "type": "histogram",
                  "orientation": "v"
                },
                {
                  "name": "B",
                  "yaxis": "y7",
                  "text": "",
                  "y": [
                    -0.8136759797552139,
                    -0.05485004777981325,
                    -0.7354321015336972,
                    0.2249286743408787,
                    1.042791519448513,
                    -0.18273615906352095,
                    -0.06692170724897374,
                    1.607177305910856,
                    -0.1793710017199522,
                    -0.018194588543706005,
                    0.12316141153047848,
                    0.3680399156648711,
                    -0.5974356495058103,
                    -0.09832813929968391,
                    0.32320235378837736,
                    -0.30785533668697723,
                    1.5758386876787536,
                    1.5225267490392824,
                    0.6163565107520003,
                    -0.016783669433683018,
                    0.3826115635049692,
                    -0.26777625398632077,
                    -1.635750655467563,
                    0.3406422253573746,
                    -0.787959156960995,
                    0.3645487271885021,
                    -0.35577341396159645,
                    0.6490752613997947,
                    -0.8130874975316237,
                    0.47861025390015216,
                    -1.4102850439880745,
                    0.6389802293177309,
                    -1.080070246304188,
                    0.014505110937698303,
                    0.5335163451855318,
                    -0.020432045686978578,
                    -0.32132438112819084,
                    -1.641500057485398,
                    0.5990451502361493,
                    -0.724953471543375,
                    0.8536130491768231,
                    -0.2910271148862159,
                    -0.9111452886490694,
                    -0.720343772877038,
                    0.7823487918924391,
                    -0.8568066719129985,
                    -0.46363014921539397,
                    -0.34993197525826414,
                    1.3838867053010142,
                    -0.1298659550706131,
                    -3.007146529953769,
                    -0.4371479134339112,
                    -1.4987649242344048,
                    -0.05594828278616842,
                    -2.458347801850056,
                    0.6697959465864352,
                    2.638600323779429,
                    -1.4334736453973018,
                    -1.7527544091674543,
                    -2.55126788260544,
                    0.43919616105371667,
                    -0.5396909605551713,
                    0.5871878208303853,
                    -1.772939745598578,
                    -0.602616598198998,
                    -1.1016540891023183,
                    -0.9630877137017885,
                    1.1248381048177714,
                    0.2748240387380922,
                    0.4358776515904015,
                    0.7685860891350906,
                    -0.004574417545520153,
                    2.14357981609164,
                    -1.8892338070965509,
                    -0.6699330789034134,
                    -0.4015884234543682,
                    -0.7132818644409759,
                    0.2326994556677902,
                    0.8536679521702573,
                    -1.2832262558150698,
                    0.5823721324294828,
                    -0.5481622827200686,
                    1.4767962539420714,
                    -0.05182969341053261,
                    -1.64242794344349,
                    1.3758526793671009,
                    -0.06464799276267091,
                    -0.0038963779145905196,
                    0.6762561054044929,
                    -0.7969326503180237,
                    0.9207974519783559,
                    1.0861925805067818,
                    -2.1934441364003576,
                    -0.5292897576555309,
                    1.1117441137860085,
                    -0.13524443733734617,
                    -0.32520926724879606,
                    -0.11781438669767867,
                    -0.06603583569490025,
                    -0.9416595928090823
                  ],
                  "mode": "markers",
                  "xaxis": "x7",
                  "marker": {
                    "symbol": "circle",
                    "size": 2
                  },
                  "x": [
                    -1.310690252440048,
                    -1.0016639097981894,
                    -0.41642088116897713,
                    -1.7550639732151119,
                    -0.2226778514116316,
                    0.23914971590826037,
                    -1.0750014537256962,
                    0.7793484950989243,
                    1.0373619053602594,
                    -0.3478572473188221,
                    -1.096319830061799,
                    -0.23679994530654408,
                    0.8624387834327595,
                    -0.04885765547364744,
                    -0.1793268858240769,
                    -1.5781170700429645,
                    0.2825081976274687,
                    0.9209397871315534,
                    0.2621300064555339,
                    0.2724996898989235,
                    -1.1368491934786962,
                    0.9003625922768816,
                    -0.13431631567823177,
                    0.9920743359639713,
                    -0.6584359514467756,
                    -0.9423231650816679,
                    -0.45739119432055747,
                    0.4890037820101285,
                    0.31802368109812984,
                    1.5506504126217866,
                    -1.9329682877543066,
                    0.2131731694266834,
                    2.0613359524605137,
                    1.0590402039924574,
                    2.4093078538137673,
                    1.2496314878999002,
                    -1.63184777201933,
                    -0.026500697866007724,
                    0.892292585316659,
                    2.7481840888166817,
                    -0.9174748872341176,
                    1.2173088850793061,
                    -0.755318195125809,
                    0.24541712775521726,
                    0.1954851823130636,
                    -1.2749395359716156,
                    0.0693579563756177,
                    0.8369194145379346,
                    1.2897940280700224,
                    -0.9215839409576956,
                    -0.298051090785431,
                    1.2105883602755476,
                    1.4864483357968963,
                    1.254140425573467,
                    -0.6674301504233613,
                    0.6115464292486142,
                    -0.7408458102254861,
                    -0.256478721369443,
                    -1.6066840440240275,
                    -0.7341937458045557,
                    -1.7475583125075766,
                    -0.09265375180489084,
                    -0.28401485744056926,
                    -0.3040640351872021,
                    2.3594592466737465,
                    -0.31699561375963153,
                    -2.0445712227727206,
                    1.7110030149073199,
                    -0.24988710852099302,
                    0.02442585394746932,
                    0.27995346672427457,
                    -0.49094402256524783,
                    0.6593431856088066,
                    0.4691695169897422,
                    -0.0226169882873906,
                    -0.0161375807369831,
                    -0.17390749960001475,
                    0.5935786825750609,
                    -0.002887692043964249,
                    1.4525455124091755,
                    0.46974533283528147,
                    1.0558861103001775,
                    2.4556250439294582,
                    -0.5072269246546878,
                    -0.23070366004823475,
                    -0.7514317490000312,
                    1.7243807656390517,
                    0.7506400344801331,
                    0.5615666496113562,
                    0.606974889270539,
                    -1.2427417303014325,
                    -0.7841558970428817,
                    0.8071819910433602,
                    0.08434711220247389,
                    -0.28189543503859094,
                    -1.2363924276835345,
                    -0.6818873922016349,
                    -0.1780216771073922,
                    -1.22670896499483,
                    0.6530457439101603
                  ],
                  "line": {
                    "color": "rgba(128, 128, 128, 1.0)",
                    "dash": "solid",
                    "shape": "linear",
                    "width": 1.3
                  },
                  "type": "scatter"
                },
                {
                  "name": "B",
                  "yaxis": "y8",
                  "text": "",
                  "y": [
                    -0.8136759797552139,
                    -0.05485004777981325,
                    -0.7354321015336972,
                    0.2249286743408787,
                    1.042791519448513,
                    -0.18273615906352095,
                    -0.06692170724897374,
                    1.607177305910856,
                    -0.1793710017199522,
                    -0.018194588543706005,
                    0.12316141153047848,
                    0.3680399156648711,
                    -0.5974356495058103,
                    -0.09832813929968391,
                    0.32320235378837736,
                    -0.30785533668697723,
                    1.5758386876787536,
                    1.5225267490392824,
                    0.6163565107520003,
                    -0.016783669433683018,
                    0.3826115635049692,
                    -0.26777625398632077,
                    -1.635750655467563,
                    0.3406422253573746,
                    -0.787959156960995,
                    0.3645487271885021,
                    -0.35577341396159645,
                    0.6490752613997947,
                    -0.8130874975316237,
                    0.47861025390015216,
                    -1.4102850439880745,
                    0.6389802293177309,
                    -1.080070246304188,
                    0.014505110937698303,
                    0.5335163451855318,
                    -0.020432045686978578,
                    -0.32132438112819084,
                    -1.641500057485398,
                    0.5990451502361493,
                    -0.724953471543375,
                    0.8536130491768231,
                    -0.2910271148862159,
                    -0.9111452886490694,
                    -0.720343772877038,
                    0.7823487918924391,
                    -0.8568066719129985,
                    -0.46363014921539397,
                    -0.34993197525826414,
                    1.3838867053010142,
                    -0.1298659550706131,
                    -3.007146529953769,
                    -0.4371479134339112,
                    -1.4987649242344048,
                    -0.05594828278616842,
                    -2.458347801850056,
                    0.6697959465864352,
                    2.638600323779429,
                    -1.4334736453973018,
                    -1.7527544091674543,
                    -2.55126788260544,
                    0.43919616105371667,
                    -0.5396909605551713,
                    0.5871878208303853,
                    -1.772939745598578,
                    -0.602616598198998,
                    -1.1016540891023183,
                    -0.9630877137017885,
                    1.1248381048177714,
                    0.2748240387380922,
                    0.4358776515904015,
                    0.7685860891350906,
                    -0.004574417545520153,
                    2.14357981609164,
                    -1.8892338070965509,
                    -0.6699330789034134,
                    -0.4015884234543682,
                    -0.7132818644409759,
                    0.2326994556677902,
                    0.8536679521702573,
                    -1.2832262558150698,
                    0.5823721324294828,
                    -0.5481622827200686,
                    1.4767962539420714,
                    -0.05182969341053261,
                    -1.64242794344349,
                    1.3758526793671009,
                    -0.06464799276267091,
                    -0.0038963779145905196,
                    0.6762561054044929,
                    -0.7969326503180237,
                    0.9207974519783559,
                    1.0861925805067818,
                    -2.1934441364003576,
                    -0.5292897576555309,
                    1.1117441137860085,
                    -0.13524443733734617,
                    -0.32520926724879606,
                    -0.11781438669767867,
                    -0.06603583569490025,
                    -0.9416595928090823
                  ],
                  "mode": "markers",
                  "xaxis": "x8",
                  "marker": {
                    "symbol": "circle",
                    "size": 2
                  },
                  "x": [
                    -0.5586526736249071,
                    2.5648378161597214,
                    1.3344146941476993,
                    1.254354577490153,
                    0.16357134953986177,
                    -0.9960938884592154,
                    0.13793117385325948,
                    -1.2449787517374886,
                    0.7905569069667446,
                    -0.47189843625849925,
                    1.760083403161101,
                    0.7702342858963125,
                    0.2697744516104289,
                    -0.3957419259082303,
                    -0.65073164328824,
                    1.200082438964805,
                    -1.3384025367746317,
                    0.0850331086823893,
                    1.4780241829910779,
                    -1.2114542784311022,
                    -1.0618230206281567,
                    0.6447217677760896,
                    -1.0349038148035064,
                    -1.4657058306146857,
                    -1.017106448859101,
                    0.6140089693132623,
                    0.44188301079672027,
                    1.0922550023780713,
                    1.7014083913907552,
                    -0.3117596043335442,
                    2.09855568078052,
                    0.977899693543391,
                    -1.0446629832424001,
                    1.8398144196070627,
                    -1.0381798429862215,
                    1.386861108917373,
                    0.9636362602276877,
                    0.9202524368962468,
                    -0.9748531629107791,
                    0.024610466008356827,
                    0.32812732151482943,
                    -0.8789750779745303,
                    0.9011141580879979,
                    0.6879328203279454,
                    -1.3525916616180822,
                    -1.0699882538566368,
                    -0.9645653684430997,
                    -0.8324991511440036,
                    -1.1577494401855701,
                    -0.48500127580568525,
                    0.20555864863386705,
                    1.3455123592229001,
                    -0.4384968657387519,
                    0.7962431896578012,
                    1.3808045347045983,
                    0.057946893201123485,
                    -1.1924462650279564,
                    -0.6443360195741673,
                    0.8158471858962739,
                    -1.1165422679830348,
                    -1.6174056572146196,
                    -0.48200788866862027,
                    -1.3806750452721406,
                    0.307668980125605,
                    0.8008344626421596,
                    -0.3858147783951234,
                    -1.6138348349914224,
                    0.5693639400111072,
                    0.3597726601090242,
                    1.4976770180954566,
                    -0.22677223889894424,
                    -0.639424471179971,
                    0.8137989877267898,
                    -2.1681373219069924,
                    -1.8416815842472938,
                    2.022587975603228,
                    -0.1434116534262859,
                    0.14450424350839192,
                    0.1531220183412497,
                    -1.1146261432345768,
                    0.5339641224227574,
                    -0.4161067384024961,
                    0.5621537536849726,
                    0.8442442731778624,
                    -0.9665262698553451,
                    0.8474770363065303,
                    1.5941001583678718,
                    1.1285820590845328,
                    -1.489469537854431,
                    -0.6036481917882937,
                    0.3007949292001437,
                    0.3904157077266811,
                    -0.07161375607841475,
                    -0.48174246009706273,
                    -0.48901515104489596,
                    0.8097689417719991,
                    1.139437441228571,
                    0.05333200288744596,
                    -0.6753749933549216,
                    -0.42302442124398776
                  ],
                  "line": {
                    "color": "rgba(128, 128, 128, 1.0)",
                    "dash": "solid",
                    "shape": "linear",
                    "width": 1.3
                  },
                  "type": "scatter"
                },
                {
                  "name": "C",
                  "yaxis": "y9",
                  "text": "",
                  "y": [
                    -1.310690252440048,
                    -1.0016639097981894,
                    -0.41642088116897713,
                    -1.7550639732151119,
                    -0.2226778514116316,
                    0.23914971590826037,
                    -1.0750014537256962,
                    0.7793484950989243,
                    1.0373619053602594,
                    -0.3478572473188221,
                    -1.096319830061799,
                    -0.23679994530654408,
                    0.8624387834327595,
                    -0.04885765547364744,
                    -0.1793268858240769,
                    -1.5781170700429645,
                    0.2825081976274687,
                    0.9209397871315534,
                    0.2621300064555339,
                    0.2724996898989235,
                    -1.1368491934786962,
                    0.9003625922768816,
                    -0.13431631567823177,
                    0.9920743359639713,
                    -0.6584359514467756,
                    -0.9423231650816679,
                    -0.45739119432055747,
                    0.4890037820101285,
                    0.31802368109812984,
                    1.5506504126217866,
                    -1.9329682877543066,
                    0.2131731694266834,
                    2.0613359524605137,
                    1.0590402039924574,
                    2.4093078538137673,
                    1.2496314878999002,
                    -1.63184777201933,
                    -0.026500697866007724,
                    0.892292585316659,
                    2.7481840888166817,
                    -0.9174748872341176,
                    1.2173088850793061,
                    -0.755318195125809,
                    0.24541712775521726,
                    0.1954851823130636,
                    -1.2749395359716156,
                    0.0693579563756177,
                    0.8369194145379346,
                    1.2897940280700224,
                    -0.9215839409576956,
                    -0.298051090785431,
                    1.2105883602755476,
                    1.4864483357968963,
                    1.254140425573467,
                    -0.6674301504233613,
                    0.6115464292486142,
                    -0.7408458102254861,
                    -0.256478721369443,
                    -1.6066840440240275,
                    -0.7341937458045557,
                    -1.7475583125075766,
                    -0.09265375180489084,
                    -0.28401485744056926,
                    -0.3040640351872021,
                    2.3594592466737465,
                    -0.31699561375963153,
                    -2.0445712227727206,
                    1.7110030149073199,
                    -0.24988710852099302,
                    0.02442585394746932,
                    0.27995346672427457,
                    -0.49094402256524783,
                    0.6593431856088066,
                    0.4691695169897422,
                    -0.0226169882873906,
                    -0.0161375807369831,
                    -0.17390749960001475,
                    0.5935786825750609,
                    -0.002887692043964249,
                    1.4525455124091755,
                    0.46974533283528147,
                    1.0558861103001775,
                    2.4556250439294582,
                    -0.5072269246546878,
                    -0.23070366004823475,
                    -0.7514317490000312,
                    1.7243807656390517,
                    0.7506400344801331,
                    0.5615666496113562,
                    0.606974889270539,
                    -1.2427417303014325,
                    -0.7841558970428817,
                    0.8071819910433602,
                    0.08434711220247389,
                    -0.28189543503859094,
                    -1.2363924276835345,
                    -0.6818873922016349,
                    -0.1780216771073922,
                    -1.22670896499483,
                    0.6530457439101603
                  ],
                  "mode": "markers",
                  "xaxis": "x9",
                  "marker": {
                    "symbol": "circle",
                    "size": 2
                  },
                  "x": [
                    0.49449272530329047,
                    0.034528001350900256,
                    -0.7946215341312589,
                    1.9028248305238074,
                    0.006168500487285368,
                    -0.646904665314446,
                    0.48255753274079133,
                    -0.7343086288457172,
                    -0.34794321781969817,
                    1.9142109663219973,
                    1.9009810730582737,
                    0.60851843055985,
                    0.7118296524467419,
                    -1.146016055014683,
                    -0.18326960130776676,
                    -0.12060848620152653,
                    0.6279615151556829,
                    2.3972492782457357,
                    0.25352786848048336,
                    0.30340667749886713,
                    1.911779639274964,
                    -0.41634320669644,
                    0.06774707796135956,
                    -0.6969960897231474,
                    -1.1926002276894017,
                    -0.9052079661067426,
                    1.1360267449714567,
                    -0.8071906369875103,
                    1.5973964698699552,
                    0.8548629282365606,
                    0.00805549333156661,
                    -0.1875107634509211,
                    1.860888082553138,
                    0.4491610317689726,
                    -1.1065729004552944,
                    -1.210253649996616,
                    -1.3861184880132484,
                    -0.37859662107129394,
                    0.6744767804346525,
                    -1.0787036830472339,
                    0.09231075314670419,
                    -0.11910687458279542,
                    -0.00932143515294092,
                    0.8237425395388134,
                    -1.2245368744825151,
                    0.765472350926838,
                    1.488814705875263,
                    0.6332138353148433,
                    0.017800676144336905,
                    -0.10641501029678054,
                    -0.2561215983248197,
                    -0.16090710308918565,
                    -0.5629484054684389,
                    0.24499515509043016,
                    -1.0250294042886583,
                    -0.23433780993918485,
                    -0.6235825081087522,
                    -1.0040664888392414,
                    0.4412264639634368,
                    -0.13897635859556548,
                    0.4909861903980702,
                    1.6283087805480077,
                    -0.8157090997355115,
                    0.2591105079595253,
                    1.8061640134274737,
                    -0.26243055062034426,
                    -1.2041654634413208,
                    0.08228734517166987,
                    0.24626482502167044,
                    0.08211455780515052,
                    1.2051798170386212,
                    -1.1799496193151544,
                    -0.526486513684934,
                    -0.25981063949919314,
                    0.3662313414855823,
                    -0.6529890732166655,
                    1.5678515870250003,
                    0.05769126472384962,
                    -1.2569152310660323,
                    -0.6859973308376616,
                    -1.8511519876772007,
                    -0.9653073216056013,
                    1.112894317654417,
                    0.3907391182199121,
                    -0.63850397282398,
                    -0.8403492596202459,
                    0.48223732635132477,
                    -0.2934179114575572,
                    -0.12704325980510536,
                    0.36727881765268805,
                    1.9638666113011793,
                    -1.1639993715176382,
                    1.4742499705754153,
                    -1.3170710454264,
                    2.061406034108948,
                    1.0390809142847595,
                    -0.35994721777590705,
                    0.5822715275002863,
                    0.5780547144122881,
                    -0.7910318664440708
                  ],
                  "line": {
                    "color": "rgba(128, 128, 128, 1.0)",
                    "dash": "solid",
                    "shape": "linear",
                    "width": 1.3
                  },
                  "type": "scatter"
                },
                {
                  "name": "C",
                  "yaxis": "y10",
                  "text": "",
                  "y": [
                    -1.310690252440048,
                    -1.0016639097981894,
                    -0.41642088116897713,
                    -1.7550639732151119,
                    -0.2226778514116316,
                    0.23914971590826037,
                    -1.0750014537256962,
                    0.7793484950989243,
                    1.0373619053602594,
                    -0.3478572473188221,
                    -1.096319830061799,
                    -0.23679994530654408,
                    0.8624387834327595,
                    -0.04885765547364744,
                    -0.1793268858240769,
                    -1.5781170700429645,
                    0.2825081976274687,
                    0.9209397871315534,
                    0.2621300064555339,
                    0.2724996898989235,
                    -1.1368491934786962,
                    0.9003625922768816,
                    -0.13431631567823177,
                    0.9920743359639713,
                    -0.6584359514467756,
                    -0.9423231650816679,
                    -0.45739119432055747,
                    0.4890037820101285,
                    0.31802368109812984,
                    1.5506504126217866,
                    -1.9329682877543066,
                    0.2131731694266834,
                    2.0613359524605137,
                    1.0590402039924574,
                    2.4093078538137673,
                    1.2496314878999002,
                    -1.63184777201933,
                    -0.026500697866007724,
                    0.892292585316659,
                    2.7481840888166817,
                    -0.9174748872341176,
                    1.2173088850793061,
                    -0.755318195125809,
                    0.24541712775521726,
                    0.1954851823130636,
                    -1.2749395359716156,
                    0.0693579563756177,
                    0.8369194145379346,
                    1.2897940280700224,
                    -0.9215839409576956,
                    -0.298051090785431,
                    1.2105883602755476,
                    1.4864483357968963,
                    1.254140425573467,
                    -0.6674301504233613,
                    0.6115464292486142,
                    -0.7408458102254861,
                    -0.256478721369443,
                    -1.6066840440240275,
                    -0.7341937458045557,
                    -1.7475583125075766,
                    -0.09265375180489084,
                    -0.28401485744056926,
                    -0.3040640351872021,
                    2.3594592466737465,
                    -0.31699561375963153,
                    -2.0445712227727206,
                    1.7110030149073199,
                    -0.24988710852099302,
                    0.02442585394746932,
                    0.27995346672427457,
                    -0.49094402256524783,
                    0.6593431856088066,
                    0.4691695169897422,
                    -0.0226169882873906,
                    -0.0161375807369831,
                    -0.17390749960001475,
                    0.5935786825750609,
                    -0.002887692043964249,
                    1.4525455124091755,
                    0.46974533283528147,
                    1.0558861103001775,
                    2.4556250439294582,
                    -0.5072269246546878,
                    -0.23070366004823475,
                    -0.7514317490000312,
                    1.7243807656390517,
                    0.7506400344801331,
                    0.5615666496113562,
                    0.606974889270539,
                    -1.2427417303014325,
                    -0.7841558970428817,
                    0.8071819910433602,
                    0.08434711220247389,
                    -0.28189543503859094,
                    -1.2363924276835345,
                    -0.6818873922016349,
                    -0.1780216771073922,
                    -1.22670896499483,
                    0.6530457439101603
                  ],
                  "mode": "markers",
                  "xaxis": "x10",
                  "marker": {
                    "symbol": "circle",
                    "size": 2
                  },
                  "x": [
                    -0.8136759797552139,
                    -0.05485004777981325,
                    -0.7354321015336972,
                    0.2249286743408787,
                    1.042791519448513,
                    -0.18273615906352095,
                    -0.06692170724897374,
                    1.607177305910856,
                    -0.1793710017199522,
                    -0.018194588543706005,
                    0.12316141153047848,
                    0.3680399156648711,
                    -0.5974356495058103,
                    -0.09832813929968391,
                    0.32320235378837736,
                    -0.30785533668697723,
                    1.5758386876787536,
                    1.5225267490392824,
                    0.6163565107520003,
                    -0.016783669433683018,
                    0.3826115635049692,
                    -0.26777625398632077,
                    -1.635750655467563,
                    0.3406422253573746,
                    -0.787959156960995,
                    0.3645487271885021,
                    -0.35577341396159645,
                    0.6490752613997947,
                    -0.8130874975316237,
                    0.47861025390015216,
                    -1.4102850439880745,
                    0.6389802293177309,
                    -1.080070246304188,
                    0.014505110937698303,
                    0.5335163451855318,
                    -0.020432045686978578,
                    -0.32132438112819084,
                    -1.641500057485398,
                    0.5990451502361493,
                    -0.724953471543375,
                    0.8536130491768231,
                    -0.2910271148862159,
                    -0.9111452886490694,
                    -0.720343772877038,
                    0.7823487918924391,
                    -0.8568066719129985,
                    -0.46363014921539397,
                    -0.34993197525826414,
                    1.3838867053010142,
                    -0.1298659550706131,
                    -3.007146529953769,
                    -0.4371479134339112,
                    -1.4987649242344048,
                    -0.05594828278616842,
                    -2.458347801850056,
                    0.6697959465864352,
                    2.638600323779429,
                    -1.4334736453973018,
                    -1.7527544091674543,
                    -2.55126788260544,
                    0.43919616105371667,
                    -0.5396909605551713,
                    0.5871878208303853,
                    -1.772939745598578,
                    -0.602616598198998,
                    -1.1016540891023183,
                    -0.9630877137017885,
                    1.1248381048177714,
                    0.2748240387380922,
                    0.4358776515904015,
                    0.7685860891350906,
                    -0.004574417545520153,
                    2.14357981609164,
                    -1.8892338070965509,
                    -0.6699330789034134,
                    -0.4015884234543682,
                    -0.7132818644409759,
                    0.2326994556677902,
                    0.8536679521702573,
                    -1.2832262558150698,
                    0.5823721324294828,
                    -0.5481622827200686,
                    1.4767962539420714,
                    -0.05182969341053261,
                    -1.64242794344349,
                    1.3758526793671009,
                    -0.06464799276267091,
                    -0.0038963779145905196,
                    0.6762561054044929,
                    -0.7969326503180237,
                    0.9207974519783559,
                    1.0861925805067818,
                    -2.1934441364003576,
                    -0.5292897576555309,
                    1.1117441137860085,
                    -0.13524443733734617,
                    -0.32520926724879606,
                    -0.11781438669767867,
                    -0.06603583569490025,
                    -0.9416595928090823
                  ],
                  "line": {
                    "color": "rgba(128, 128, 128, 1.0)",
                    "dash": "solid",
                    "shape": "linear",
                    "width": 1.3
                  },
                  "type": "scatter"
                },
                {
                  "opacity": 0.8,
                  "name": "C",
                  "yaxis": "y11",
                  "histnorm": "",
                  "xaxis": "x11",
                  "nbinsx": 10,
                  "histfunc": "count",
                  "marker": {
                    "color": "rgba(50, 171, 96, 1.0)",
                    "line": {
                      "color": "#4D5663",
                      "width": 1.3
                    }
                  },
                  "x": [
                    -1.310690252440048,
                    -1.0016639097981894,
                    -0.41642088116897713,
                    -1.7550639732151119,
                    -0.2226778514116316,
                    0.23914971590826037,
                    -1.0750014537256962,
                    0.7793484950989243,
                    1.0373619053602594,
                    -0.3478572473188221,
                    -1.096319830061799,
                    -0.23679994530654408,
                    0.8624387834327595,
                    -0.04885765547364744,
                    -0.1793268858240769,
                    -1.5781170700429645,
                    0.2825081976274687,
                    0.9209397871315534,
                    0.2621300064555339,
                    0.2724996898989235,
                    -1.1368491934786962,
                    0.9003625922768816,
                    -0.13431631567823177,
                    0.9920743359639713,
                    -0.6584359514467756,
                    -0.9423231650816679,
                    -0.45739119432055747,
                    0.4890037820101285,
                    0.31802368109812984,
                    1.5506504126217866,
                    -1.9329682877543066,
                    0.2131731694266834,
                    2.0613359524605137,
                    1.0590402039924574,
                    2.4093078538137673,
                    1.2496314878999002,
                    -1.63184777201933,
                    -0.026500697866007724,
                    0.892292585316659,
                    2.7481840888166817,
                    -0.9174748872341176,
                    1.2173088850793061,
                    -0.755318195125809,
                    0.24541712775521726,
                    0.1954851823130636,
                    -1.2749395359716156,
                    0.0693579563756177,
                    0.8369194145379346,
                    1.2897940280700224,
                    -0.9215839409576956,
                    -0.298051090785431,
                    1.2105883602755476,
                    1.4864483357968963,
                    1.254140425573467,
                    -0.6674301504233613,
                    0.6115464292486142,
                    -0.7408458102254861,
                    -0.256478721369443,
                    -1.6066840440240275,
                    -0.7341937458045557,
                    -1.7475583125075766,
                    -0.09265375180489084,
                    -0.28401485744056926,
                    -0.3040640351872021,
                    2.3594592466737465,
                    -0.31699561375963153,
                    -2.0445712227727206,
                    1.7110030149073199,
                    -0.24988710852099302,
                    0.02442585394746932,
                    0.27995346672427457,
                    -0.49094402256524783,
                    0.6593431856088066,
                    0.4691695169897422,
                    -0.0226169882873906,
                    -0.0161375807369831,
                    -0.17390749960001475,
                    0.5935786825750609,
                    -0.002887692043964249,
                    1.4525455124091755,
                    0.46974533283528147,
                    1.0558861103001775,
                    2.4556250439294582,
                    -0.5072269246546878,
                    -0.23070366004823475,
                    -0.7514317490000312,
                    1.7243807656390517,
                    0.7506400344801331,
                    0.5615666496113562,
                    0.606974889270539,
                    -1.2427417303014325,
                    -0.7841558970428817,
                    0.8071819910433602,
                    0.08434711220247389,
                    -0.28189543503859094,
                    -1.2363924276835345,
                    -0.6818873922016349,
                    -0.1780216771073922,
                    -1.22670896499483,
                    0.6530457439101603
                  ],
                  "type": "histogram",
                  "orientation": "v"
                },
                {
                  "name": "C",
                  "yaxis": "y12",
                  "text": "",
                  "y": [
                    -1.310690252440048,
                    -1.0016639097981894,
                    -0.41642088116897713,
                    -1.7550639732151119,
                    -0.2226778514116316,
                    0.23914971590826037,
                    -1.0750014537256962,
                    0.7793484950989243,
                    1.0373619053602594,
                    -0.3478572473188221,
                    -1.096319830061799,
                    -0.23679994530654408,
                    0.8624387834327595,
                    -0.04885765547364744,
                    -0.1793268858240769,
                    -1.5781170700429645,
                    0.2825081976274687,
                    0.9209397871315534,
                    0.2621300064555339,
                    0.2724996898989235,
                    -1.1368491934786962,
                    0.9003625922768816,
                    -0.13431631567823177,
                    0.9920743359639713,
                    -0.6584359514467756,
                    -0.9423231650816679,
                    -0.45739119432055747,
                    0.4890037820101285,
                    0.31802368109812984,
                    1.5506504126217866,
                    -1.9329682877543066,
                    0.2131731694266834,
                    2.0613359524605137,
                    1.0590402039924574,
                    2.4093078538137673,
                    1.2496314878999002,
                    -1.63184777201933,
                    -0.026500697866007724,
                    0.892292585316659,
                    2.7481840888166817,
                    -0.9174748872341176,
                    1.2173088850793061,
                    -0.755318195125809,
                    0.24541712775521726,
                    0.1954851823130636,
                    -1.2749395359716156,
                    0.0693579563756177,
                    0.8369194145379346,
                    1.2897940280700224,
                    -0.9215839409576956,
                    -0.298051090785431,
                    1.2105883602755476,
                    1.4864483357968963,
                    1.254140425573467,
                    -0.6674301504233613,
                    0.6115464292486142,
                    -0.7408458102254861,
                    -0.256478721369443,
                    -1.6066840440240275,
                    -0.7341937458045557,
                    -1.7475583125075766,
                    -0.09265375180489084,
                    -0.28401485744056926,
                    -0.3040640351872021,
                    2.3594592466737465,
                    -0.31699561375963153,
                    -2.0445712227727206,
                    1.7110030149073199,
                    -0.24988710852099302,
                    0.02442585394746932,
                    0.27995346672427457,
                    -0.49094402256524783,
                    0.6593431856088066,
                    0.4691695169897422,
                    -0.0226169882873906,
                    -0.0161375807369831,
                    -0.17390749960001475,
                    0.5935786825750609,
                    -0.002887692043964249,
                    1.4525455124091755,
                    0.46974533283528147,
                    1.0558861103001775,
                    2.4556250439294582,
                    -0.5072269246546878,
                    -0.23070366004823475,
                    -0.7514317490000312,
                    1.7243807656390517,
                    0.7506400344801331,
                    0.5615666496113562,
                    0.606974889270539,
                    -1.2427417303014325,
                    -0.7841558970428817,
                    0.8071819910433602,
                    0.08434711220247389,
                    -0.28189543503859094,
                    -1.2363924276835345,
                    -0.6818873922016349,
                    -0.1780216771073922,
                    -1.22670896499483,
                    0.6530457439101603
                  ],
                  "mode": "markers",
                  "xaxis": "x12",
                  "marker": {
                    "symbol": "circle",
                    "size": 2
                  },
                  "x": [
                    -0.5586526736249071,
                    2.5648378161597214,
                    1.3344146941476993,
                    1.254354577490153,
                    0.16357134953986177,
                    -0.9960938884592154,
                    0.13793117385325948,
                    -1.2449787517374886,
                    0.7905569069667446,
                    -0.47189843625849925,
                    1.760083403161101,
                    0.7702342858963125,
                    0.2697744516104289,
                    -0.3957419259082303,
                    -0.65073164328824,
                    1.200082438964805,
                    -1.3384025367746317,
                    0.0850331086823893,
                    1.4780241829910779,
                    -1.2114542784311022,
                    -1.0618230206281567,
                    0.6447217677760896,
                    -1.0349038148035064,
                    -1.4657058306146857,
                    -1.017106448859101,
                    0.6140089693132623,
                    0.44188301079672027,
                    1.0922550023780713,
                    1.7014083913907552,
                    -0.3117596043335442,
                    2.09855568078052,
                    0.977899693543391,
                    -1.0446629832424001,
                    1.8398144196070627,
                    -1.0381798429862215,
                    1.386861108917373,
                    0.9636362602276877,
                    0.9202524368962468,
                    -0.9748531629107791,
                    0.024610466008356827,
                    0.32812732151482943,
                    -0.8789750779745303,
                    0.9011141580879979,
                    0.6879328203279454,
                    -1.3525916616180822,
                    -1.0699882538566368,
                    -0.9645653684430997,
                    -0.8324991511440036,
                    -1.1577494401855701,
                    -0.48500127580568525,
                    0.20555864863386705,
                    1.3455123592229001,
                    -0.4384968657387519,
                    0.7962431896578012,
                    1.3808045347045983,
                    0.057946893201123485,
                    -1.1924462650279564,
                    -0.6443360195741673,
                    0.8158471858962739,
                    -1.1165422679830348,
                    -1.6174056572146196,
                    -0.48200788866862027,
                    -1.3806750452721406,
                    0.307668980125605,
                    0.8008344626421596,
                    -0.3858147783951234,
                    -1.6138348349914224,
                    0.5693639400111072,
                    0.3597726601090242,
                    1.4976770180954566,
                    -0.22677223889894424,
                    -0.639424471179971,
                    0.8137989877267898,
                    -2.1681373219069924,
                    -1.8416815842472938,
                    2.022587975603228,
                    -0.1434116534262859,
                    0.14450424350839192,
                    0.1531220183412497,
                    -1.1146261432345768,
                    0.5339641224227574,
                    -0.4161067384024961,
                    0.5621537536849726,
                    0.8442442731778624,
                    -0.9665262698553451,
                    0.8474770363065303,
                    1.5941001583678718,
                    1.1285820590845328,
                    -1.489469537854431,
                    -0.6036481917882937,
                    0.3007949292001437,
                    0.3904157077266811,
                    -0.07161375607841475,
                    -0.48174246009706273,
                    -0.48901515104489596,
                    0.8097689417719991,
                    1.139437441228571,
                    0.05333200288744596,
                    -0.6753749933549216,
                    -0.42302442124398776
                  ],
                  "line": {
                    "color": "rgba(128, 128, 128, 1.0)",
                    "dash": "solid",
                    "shape": "linear",
                    "width": 1.3
                  },
                  "type": "scatter"
                },
                {
                  "name": "D",
                  "yaxis": "y13",
                  "text": "",
                  "y": [
                    -0.5586526736249071,
                    2.5648378161597214,
                    1.3344146941476993,
                    1.254354577490153,
                    0.16357134953986177,
                    -0.9960938884592154,
                    0.13793117385325948,
                    -1.2449787517374886,
                    0.7905569069667446,
                    -0.47189843625849925,
                    1.760083403161101,
                    0.7702342858963125,
                    0.2697744516104289,
                    -0.3957419259082303,
                    -0.65073164328824,
                    1.200082438964805,
                    -1.3384025367746317,
                    0.0850331086823893,
                    1.4780241829910779,
                    -1.2114542784311022,
                    -1.0618230206281567,
                    0.6447217677760896,
                    -1.0349038148035064,
                    -1.4657058306146857,
                    -1.017106448859101,
                    0.6140089693132623,
                    0.44188301079672027,
                    1.0922550023780713,
                    1.7014083913907552,
                    -0.3117596043335442,
                    2.09855568078052,
                    0.977899693543391,
                    -1.0446629832424001,
                    1.8398144196070627,
                    -1.0381798429862215,
                    1.386861108917373,
                    0.9636362602276877,
                    0.9202524368962468,
                    -0.9748531629107791,
                    0.024610466008356827,
                    0.32812732151482943,
                    -0.8789750779745303,
                    0.9011141580879979,
                    0.6879328203279454,
                    -1.3525916616180822,
                    -1.0699882538566368,
                    -0.9645653684430997,
                    -0.8324991511440036,
                    -1.1577494401855701,
                    -0.48500127580568525,
                    0.20555864863386705,
                    1.3455123592229001,
                    -0.4384968657387519,
                    0.7962431896578012,
                    1.3808045347045983,
                    0.057946893201123485,
                    -1.1924462650279564,
                    -0.6443360195741673,
                    0.8158471858962739,
                    -1.1165422679830348,
                    -1.6174056572146196,
                    -0.48200788866862027,
                    -1.3806750452721406,
                    0.307668980125605,
                    0.8008344626421596,
                    -0.3858147783951234,
                    -1.6138348349914224,
                    0.5693639400111072,
                    0.3597726601090242,
                    1.4976770180954566,
                    -0.22677223889894424,
                    -0.639424471179971,
                    0.8137989877267898,
                    -2.1681373219069924,
                    -1.8416815842472938,
                    2.022587975603228,
                    -0.1434116534262859,
                    0.14450424350839192,
                    0.1531220183412497,
                    -1.1146261432345768,
                    0.5339641224227574,
                    -0.4161067384024961,
                    0.5621537536849726,
                    0.8442442731778624,
                    -0.9665262698553451,
                    0.8474770363065303,
                    1.5941001583678718,
                    1.1285820590845328,
                    -1.489469537854431,
                    -0.6036481917882937,
                    0.3007949292001437,
                    0.3904157077266811,
                    -0.07161375607841475,
                    -0.48174246009706273,
                    -0.48901515104489596,
                    0.8097689417719991,
                    1.139437441228571,
                    0.05333200288744596,
                    -0.6753749933549216,
                    -0.42302442124398776
                  ],
                  "mode": "markers",
                  "xaxis": "x13",
                  "marker": {
                    "symbol": "circle",
                    "size": 2
                  },
                  "x": [
                    0.49449272530329047,
                    0.034528001350900256,
                    -0.7946215341312589,
                    1.9028248305238074,
                    0.006168500487285368,
                    -0.646904665314446,
                    0.48255753274079133,
                    -0.7343086288457172,
                    -0.34794321781969817,
                    1.9142109663219973,
                    1.9009810730582737,
                    0.60851843055985,
                    0.7118296524467419,
                    -1.146016055014683,
                    -0.18326960130776676,
                    -0.12060848620152653,
                    0.6279615151556829,
                    2.3972492782457357,
                    0.25352786848048336,
                    0.30340667749886713,
                    1.911779639274964,
                    -0.41634320669644,
                    0.06774707796135956,
                    -0.6969960897231474,
                    -1.1926002276894017,
                    -0.9052079661067426,
                    1.1360267449714567,
                    -0.8071906369875103,
                    1.5973964698699552,
                    0.8548629282365606,
                    0.00805549333156661,
                    -0.1875107634509211,
                    1.860888082553138,
                    0.4491610317689726,
                    -1.1065729004552944,
                    -1.210253649996616,
                    -1.3861184880132484,
                    -0.37859662107129394,
                    0.6744767804346525,
                    -1.0787036830472339,
                    0.09231075314670419,
                    -0.11910687458279542,
                    -0.00932143515294092,
                    0.8237425395388134,
                    -1.2245368744825151,
                    0.765472350926838,
                    1.488814705875263,
                    0.6332138353148433,
                    0.017800676144336905,
                    -0.10641501029678054,
                    -0.2561215983248197,
                    -0.16090710308918565,
                    -0.5629484054684389,
                    0.24499515509043016,
                    -1.0250294042886583,
                    -0.23433780993918485,
                    -0.6235825081087522,
                    -1.0040664888392414,
                    0.4412264639634368,
                    -0.13897635859556548,
                    0.4909861903980702,
                    1.6283087805480077,
                    -0.8157090997355115,
                    0.2591105079595253,
                    1.8061640134274737,
                    -0.26243055062034426,
                    -1.2041654634413208,
                    0.08228734517166987,
                    0.24626482502167044,
                    0.08211455780515052,
                    1.2051798170386212,
                    -1.1799496193151544,
                    -0.526486513684934,
                    -0.25981063949919314,
                    0.3662313414855823,
                    -0.6529890732166655,
                    1.5678515870250003,
                    0.05769126472384962,
                    -1.2569152310660323,
                    -0.6859973308376616,
                    -1.8511519876772007,
                    -0.9653073216056013,
                    1.112894317654417,
                    0.3907391182199121,
                    -0.63850397282398,
                    -0.8403492596202459,
                    0.48223732635132477,
                    -0.2934179114575572,
                    -0.12704325980510536,
                    0.36727881765268805,
                    1.9638666113011793,
                    -1.1639993715176382,
                    1.4742499705754153,
                    -1.3170710454264,
                    2.061406034108948,
                    1.0390809142847595,
                    -0.35994721777590705,
                    0.5822715275002863,
                    0.5780547144122881,
                    -0.7910318664440708
                  ],
                  "line": {
                    "color": "rgba(128, 128, 128, 1.0)",
                    "dash": "solid",
                    "shape": "linear",
                    "width": 1.3
                  },
                  "type": "scatter"
                },
                {
                  "name": "D",
                  "yaxis": "y14",
                  "text": "",
                  "y": [
                    -0.5586526736249071,
                    2.5648378161597214,
                    1.3344146941476993,
                    1.254354577490153,
                    0.16357134953986177,
                    -0.9960938884592154,
                    0.13793117385325948,
                    -1.2449787517374886,
                    0.7905569069667446,
                    -0.47189843625849925,
                    1.760083403161101,
                    0.7702342858963125,
                    0.2697744516104289,
                    -0.3957419259082303,
                    -0.65073164328824,
                    1.200082438964805,
                    -1.3384025367746317,
                    0.0850331086823893,
                    1.4780241829910779,
                    -1.2114542784311022,
                    -1.0618230206281567,
                    0.6447217677760896,
                    -1.0349038148035064,
                    -1.4657058306146857,
                    -1.017106448859101,
                    0.6140089693132623,
                    0.44188301079672027,
                    1.0922550023780713,
                    1.7014083913907552,
                    -0.3117596043335442,
                    2.09855568078052,
                    0.977899693543391,
                    -1.0446629832424001,
                    1.8398144196070627,
                    -1.0381798429862215,
                    1.386861108917373,
                    0.9636362602276877,
                    0.9202524368962468,
                    -0.9748531629107791,
                    0.024610466008356827,
                    0.32812732151482943,
                    -0.8789750779745303,
                    0.9011141580879979,
                    0.6879328203279454,
                    -1.3525916616180822,
                    -1.0699882538566368,
                    -0.9645653684430997,
                    -0.8324991511440036,
                    -1.1577494401855701,
                    -0.48500127580568525,
                    0.20555864863386705,
                    1.3455123592229001,
                    -0.4384968657387519,
                    0.7962431896578012,
                    1.3808045347045983,
                    0.057946893201123485,
                    -1.1924462650279564,
                    -0.6443360195741673,
                    0.8158471858962739,
                    -1.1165422679830348,
                    -1.6174056572146196,
                    -0.48200788866862027,
                    -1.3806750452721406,
                    0.307668980125605,
                    0.8008344626421596,
                    -0.3858147783951234,
                    -1.6138348349914224,
                    0.5693639400111072,
                    0.3597726601090242,
                    1.4976770180954566,
                    -0.22677223889894424,
                    -0.639424471179971,
                    0.8137989877267898,
                    -2.1681373219069924,
                    -1.8416815842472938,
                    2.022587975603228,
                    -0.1434116534262859,
                    0.14450424350839192,
                    0.1531220183412497,
                    -1.1146261432345768,
                    0.5339641224227574,
                    -0.4161067384024961,
                    0.5621537536849726,
                    0.8442442731778624,
                    -0.9665262698553451,
                    0.8474770363065303,
                    1.5941001583678718,
                    1.1285820590845328,
                    -1.489469537854431,
                    -0.6036481917882937,
                    0.3007949292001437,
                    0.3904157077266811,
                    -0.07161375607841475,
                    -0.48174246009706273,
                    -0.48901515104489596,
                    0.8097689417719991,
                    1.139437441228571,
                    0.05333200288744596,
                    -0.6753749933549216,
                    -0.42302442124398776
                  ],
                  "mode": "markers",
                  "xaxis": "x14",
                  "marker": {
                    "symbol": "circle",
                    "size": 2
                  },
                  "x": [
                    -0.8136759797552139,
                    -0.05485004777981325,
                    -0.7354321015336972,
                    0.2249286743408787,
                    1.042791519448513,
                    -0.18273615906352095,
                    -0.06692170724897374,
                    1.607177305910856,
                    -0.1793710017199522,
                    -0.018194588543706005,
                    0.12316141153047848,
                    0.3680399156648711,
                    -0.5974356495058103,
                    -0.09832813929968391,
                    0.32320235378837736,
                    -0.30785533668697723,
                    1.5758386876787536,
                    1.5225267490392824,
                    0.6163565107520003,
                    -0.016783669433683018,
                    0.3826115635049692,
                    -0.26777625398632077,
                    -1.635750655467563,
                    0.3406422253573746,
                    -0.787959156960995,
                    0.3645487271885021,
                    -0.35577341396159645,
                    0.6490752613997947,
                    -0.8130874975316237,
                    0.47861025390015216,
                    -1.4102850439880745,
                    0.6389802293177309,
                    -1.080070246304188,
                    0.014505110937698303,
                    0.5335163451855318,
                    -0.020432045686978578,
                    -0.32132438112819084,
                    -1.641500057485398,
                    0.5990451502361493,
                    -0.724953471543375,
                    0.8536130491768231,
                    -0.2910271148862159,
                    -0.9111452886490694,
                    -0.720343772877038,
                    0.7823487918924391,
                    -0.8568066719129985,
                    -0.46363014921539397,
                    -0.34993197525826414,
                    1.3838867053010142,
                    -0.1298659550706131,
                    -3.007146529953769,
                    -0.4371479134339112,
                    -1.4987649242344048,
                    -0.05594828278616842,
                    -2.458347801850056,
                    0.6697959465864352,
                    2.638600323779429,
                    -1.4334736453973018,
                    -1.7527544091674543,
                    -2.55126788260544,
                    0.43919616105371667,
                    -0.5396909605551713,
                    0.5871878208303853,
                    -1.772939745598578,
                    -0.602616598198998,
                    -1.1016540891023183,
                    -0.9630877137017885,
                    1.1248381048177714,
                    0.2748240387380922,
                    0.4358776515904015,
                    0.7685860891350906,
                    -0.004574417545520153,
                    2.14357981609164,
                    -1.8892338070965509,
                    -0.6699330789034134,
                    -0.4015884234543682,
                    -0.7132818644409759,
                    0.2326994556677902,
                    0.8536679521702573,
                    -1.2832262558150698,
                    0.5823721324294828,
                    -0.5481622827200686,
                    1.4767962539420714,
                    -0.05182969341053261,
                    -1.64242794344349,
                    1.3758526793671009,
                    -0.06464799276267091,
                    -0.0038963779145905196,
                    0.6762561054044929,
                    -0.7969326503180237,
                    0.9207974519783559,
                    1.0861925805067818,
                    -2.1934441364003576,
                    -0.5292897576555309,
                    1.1117441137860085,
                    -0.13524443733734617,
                    -0.32520926724879606,
                    -0.11781438669767867,
                    -0.06603583569490025,
                    -0.9416595928090823
                  ],
                  "line": {
                    "color": "rgba(128, 128, 128, 1.0)",
                    "dash": "solid",
                    "shape": "linear",
                    "width": 1.3
                  },
                  "type": "scatter"
                },
                {
                  "name": "D",
                  "yaxis": "y15",
                  "text": "",
                  "y": [
                    -0.5586526736249071,
                    2.5648378161597214,
                    1.3344146941476993,
                    1.254354577490153,
                    0.16357134953986177,
                    -0.9960938884592154,
                    0.13793117385325948,
                    -1.2449787517374886,
                    0.7905569069667446,
                    -0.47189843625849925,
                    1.760083403161101,
                    0.7702342858963125,
                    0.2697744516104289,
                    -0.3957419259082303,
                    -0.65073164328824,
                    1.200082438964805,
                    -1.3384025367746317,
                    0.0850331086823893,
                    1.4780241829910779,
                    -1.2114542784311022,
                    -1.0618230206281567,
                    0.6447217677760896,
                    -1.0349038148035064,
                    -1.4657058306146857,
                    -1.017106448859101,
                    0.6140089693132623,
                    0.44188301079672027,
                    1.0922550023780713,
                    1.7014083913907552,
                    -0.3117596043335442,
                    2.09855568078052,
                    0.977899693543391,
                    -1.0446629832424001,
                    1.8398144196070627,
                    -1.0381798429862215,
                    1.386861108917373,
                    0.9636362602276877,
                    0.9202524368962468,
                    -0.9748531629107791,
                    0.024610466008356827,
                    0.32812732151482943,
                    -0.8789750779745303,
                    0.9011141580879979,
                    0.6879328203279454,
                    -1.3525916616180822,
                    -1.0699882538566368,
                    -0.9645653684430997,
                    -0.8324991511440036,
                    -1.1577494401855701,
                    -0.48500127580568525,
                    0.20555864863386705,
                    1.3455123592229001,
                    -0.4384968657387519,
                    0.7962431896578012,
                    1.3808045347045983,
                    0.057946893201123485,
                    -1.1924462650279564,
                    -0.6443360195741673,
                    0.8158471858962739,
                    -1.1165422679830348,
                    -1.6174056572146196,
                    -0.48200788866862027,
                    -1.3806750452721406,
                    0.307668980125605,
                    0.8008344626421596,
                    -0.3858147783951234,
                    -1.6138348349914224,
                    0.5693639400111072,
                    0.3597726601090242,
                    1.4976770180954566,
                    -0.22677223889894424,
                    -0.639424471179971,
                    0.8137989877267898,
                    -2.1681373219069924,
                    -1.8416815842472938,
                    2.022587975603228,
                    -0.1434116534262859,
                    0.14450424350839192,
                    0.1531220183412497,
                    -1.1146261432345768,
                    0.5339641224227574,
                    -0.4161067384024961,
                    0.5621537536849726,
                    0.8442442731778624,
                    -0.9665262698553451,
                    0.8474770363065303,
                    1.5941001583678718,
                    1.1285820590845328,
                    -1.489469537854431,
                    -0.6036481917882937,
                    0.3007949292001437,
                    0.3904157077266811,
                    -0.07161375607841475,
                    -0.48174246009706273,
                    -0.48901515104489596,
                    0.8097689417719991,
                    1.139437441228571,
                    0.05333200288744596,
                    -0.6753749933549216,
                    -0.42302442124398776
                  ],
                  "mode": "markers",
                  "xaxis": "x15",
                  "marker": {
                    "symbol": "circle",
                    "size": 2
                  },
                  "x": [
                    -1.310690252440048,
                    -1.0016639097981894,
                    -0.41642088116897713,
                    -1.7550639732151119,
                    -0.2226778514116316,
                    0.23914971590826037,
                    -1.0750014537256962,
                    0.7793484950989243,
                    1.0373619053602594,
                    -0.3478572473188221,
                    -1.096319830061799,
                    -0.23679994530654408,
                    0.8624387834327595,
                    -0.04885765547364744,
                    -0.1793268858240769,
                    -1.5781170700429645,
                    0.2825081976274687,
                    0.9209397871315534,
                    0.2621300064555339,
                    0.2724996898989235,
                    -1.1368491934786962,
                    0.9003625922768816,
                    -0.13431631567823177,
                    0.9920743359639713,
                    -0.6584359514467756,
                    -0.9423231650816679,
                    -0.45739119432055747,
                    0.4890037820101285,
                    0.31802368109812984,
                    1.5506504126217866,
                    -1.9329682877543066,
                    0.2131731694266834,
                    2.0613359524605137,
                    1.0590402039924574,
                    2.4093078538137673,
                    1.2496314878999002,
                    -1.63184777201933,
                    -0.026500697866007724,
                    0.892292585316659,
                    2.7481840888166817,
                    -0.9174748872341176,
                    1.2173088850793061,
                    -0.755318195125809,
                    0.24541712775521726,
                    0.1954851823130636,
                    -1.2749395359716156,
                    0.0693579563756177,
                    0.8369194145379346,
                    1.2897940280700224,
                    -0.9215839409576956,
                    -0.298051090785431,
                    1.2105883602755476,
                    1.4864483357968963,
                    1.254140425573467,
                    -0.6674301504233613,
                    0.6115464292486142,
                    -0.7408458102254861,
                    -0.256478721369443,
                    -1.6066840440240275,
                    -0.7341937458045557,
                    -1.7475583125075766,
                    -0.09265375180489084,
                    -0.28401485744056926,
                    -0.3040640351872021,
                    2.3594592466737465,
                    -0.31699561375963153,
                    -2.0445712227727206,
                    1.7110030149073199,
                    -0.24988710852099302,
                    0.02442585394746932,
                    0.27995346672427457,
                    -0.49094402256524783,
                    0.6593431856088066,
                    0.4691695169897422,
                    -0.0226169882873906,
                    -0.0161375807369831,
                    -0.17390749960001475,
                    0.5935786825750609,
                    -0.002887692043964249,
                    1.4525455124091755,
                    0.46974533283528147,
                    1.0558861103001775,
                    2.4556250439294582,
                    -0.5072269246546878,
                    -0.23070366004823475,
                    -0.7514317490000312,
                    1.7243807656390517,
                    0.7506400344801331,
                    0.5615666496113562,
                    0.606974889270539,
                    -1.2427417303014325,
                    -0.7841558970428817,
                    0.8071819910433602,
                    0.08434711220247389,
                    -0.28189543503859094,
                    -1.2363924276835345,
                    -0.6818873922016349,
                    -0.1780216771073922,
                    -1.22670896499483,
                    0.6530457439101603
                  ],
                  "line": {
                    "color": "rgba(128, 128, 128, 1.0)",
                    "dash": "solid",
                    "shape": "linear",
                    "width": 1.3
                  },
                  "type": "scatter"
                },
                {
                  "opacity": 0.8,
                  "name": "D",
                  "yaxis": "y16",
                  "histnorm": "",
                  "xaxis": "x16",
                  "nbinsx": 10,
                  "histfunc": "count",
                  "marker": {
                    "color": "rgba(128, 0, 128, 1.0)",
                    "line": {
                      "color": "#4D5663",
                      "width": 1.3
                    }
                  },
                  "x": [
                    -0.5586526736249071,
                    2.5648378161597214,
                    1.3344146941476993,
                    1.254354577490153,
                    0.16357134953986177,
                    -0.9960938884592154,
                    0.13793117385325948,
                    -1.2449787517374886,
                    0.7905569069667446,
                    -0.47189843625849925,
                    1.760083403161101,
                    0.7702342858963125,
                    0.2697744516104289,
                    -0.3957419259082303,
                    -0.65073164328824,
                    1.200082438964805,
                    -1.3384025367746317,
                    0.0850331086823893,
                    1.4780241829910779,
                    -1.2114542784311022,
                    -1.0618230206281567,
                    0.6447217677760896,
                    -1.0349038148035064,
                    -1.4657058306146857,
                    -1.017106448859101,
                    0.6140089693132623,
                    0.44188301079672027,
                    1.0922550023780713,
                    1.7014083913907552,
                    -0.3117596043335442,
                    2.09855568078052,
                    0.977899693543391,
                    -1.0446629832424001,
                    1.8398144196070627,
                    -1.0381798429862215,
                    1.386861108917373,
                    0.9636362602276877,
                    0.9202524368962468,
                    -0.9748531629107791,
                    0.024610466008356827,
                    0.32812732151482943,
                    -0.8789750779745303,
                    0.9011141580879979,
                    0.6879328203279454,
                    -1.3525916616180822,
                    -1.0699882538566368,
                    -0.9645653684430997,
                    -0.8324991511440036,
                    -1.1577494401855701,
                    -0.48500127580568525,
                    0.20555864863386705,
                    1.3455123592229001,
                    -0.4384968657387519,
                    0.7962431896578012,
                    1.3808045347045983,
                    0.057946893201123485,
                    -1.1924462650279564,
                    -0.6443360195741673,
                    0.8158471858962739,
                    -1.1165422679830348,
                    -1.6174056572146196,
                    -0.48200788866862027,
                    -1.3806750452721406,
                    0.307668980125605,
                    0.8008344626421596,
                    -0.3858147783951234,
                    -1.6138348349914224,
                    0.5693639400111072,
                    0.3597726601090242,
                    1.4976770180954566,
                    -0.22677223889894424,
                    -0.639424471179971,
                    0.8137989877267898,
                    -2.1681373219069924,
                    -1.8416815842472938,
                    2.022587975603228,
                    -0.1434116534262859,
                    0.14450424350839192,
                    0.1531220183412497,
                    -1.1146261432345768,
                    0.5339641224227574,
                    -0.4161067384024961,
                    0.5621537536849726,
                    0.8442442731778624,
                    -0.9665262698553451,
                    0.8474770363065303,
                    1.5941001583678718,
                    1.1285820590845328,
                    -1.489469537854431,
                    -0.6036481917882937,
                    0.3007949292001437,
                    0.3904157077266811,
                    -0.07161375607841475,
                    -0.48174246009706273,
                    -0.48901515104489596,
                    0.8097689417719991,
                    1.139437441228571,
                    0.05333200288744596,
                    -0.6753749933549216,
                    -0.42302442124398776
                  ],
                  "type": "histogram",
                  "orientation": "v"
                }
              ],
              "config": {
                "plotlyServerURL": "https://plot.ly",
                "linkText": "Export to plot.ly",
                "showLink": true
              },
              "layout": {
                "paper_bgcolor": "#F5F6F9",
                "xaxis16": {
                  "tickfont": {
                    "color": "#4D5663"
                  },
                  "domain": [
                    0.7875,
                    1
                  ],
                  "title": {
                    "text": "",
                    "font": {
                      "color": "#4D5663"
                    }
                  },
                  "showgrid": false,
                  "zerolinecolor": "#E1E5ED",
                  "gridcolor": "#E1E5ED",
                  "anchor": "y16"
                },
                "xaxis15": {
                  "tickfont": {
                    "color": "#4D5663"
                  },
                  "domain": [
                    0.525,
                    0.7375
                  ],
                  "title": {
                    "text": "",
                    "font": {
                      "color": "#4D5663"
                    }
                  },
                  "showgrid": false,
                  "zerolinecolor": "#E1E5ED",
                  "gridcolor": "#E1E5ED",
                  "anchor": "y15"
                },
                "xaxis14": {
                  "tickfont": {
                    "color": "#4D5663"
                  },
                  "domain": [
                    0.2625,
                    0.475
                  ],
                  "title": {
                    "text": "",
                    "font": {
                      "color": "#4D5663"
                    }
                  },
                  "showgrid": false,
                  "zerolinecolor": "#E1E5ED",
                  "gridcolor": "#E1E5ED",
                  "anchor": "y14"
                },
                "xaxis13": {
                  "tickfont": {
                    "color": "#4D5663"
                  },
                  "domain": [
                    0,
                    0.2125
                  ],
                  "title": {
                    "text": "",
                    "font": {
                      "color": "#4D5663"
                    }
                  },
                  "showgrid": false,
                  "zerolinecolor": "#E1E5ED",
                  "gridcolor": "#E1E5ED",
                  "anchor": "y13"
                },
                "xaxis12": {
                  "tickfont": {
                    "color": "#4D5663"
                  },
                  "domain": [
                    0.7875,
                    1
                  ],
                  "title": {
                    "text": "",
                    "font": {
                      "color": "#4D5663"
                    }
                  },
                  "showgrid": false,
                  "zerolinecolor": "#E1E5ED",
                  "gridcolor": "#E1E5ED",
                  "anchor": "y12"
                },
                "xaxis11": {
                  "tickfont": {
                    "color": "#4D5663"
                  },
                  "domain": [
                    0.525,
                    0.7375
                  ],
                  "title": {
                    "text": "",
                    "font": {
                      "color": "#4D5663"
                    }
                  },
                  "showgrid": false,
                  "zerolinecolor": "#E1E5ED",
                  "gridcolor": "#E1E5ED",
                  "anchor": "y11"
                },
                "xaxis10": {
                  "tickfont": {
                    "color": "#4D5663"
                  },
                  "domain": [
                    0.2625,
                    0.475
                  ],
                  "title": {
                    "text": "",
                    "font": {
                      "color": "#4D5663"
                    }
                  },
                  "showgrid": false,
                  "zerolinecolor": "#E1E5ED",
                  "gridcolor": "#E1E5ED",
                  "anchor": "y10"
                },
                "yaxis2": {
                  "tickfont": {
                    "color": "#4D5663"
                  },
                  "domain": [
                    0.8025,
                    1
                  ],
                  "title": {
                    "text": "",
                    "font": {
                      "color": "#4D5663"
                    }
                  },
                  "showgrid": false,
                  "zerolinecolor": "#E1E5ED",
                  "gridcolor": "#E1E5ED",
                  "anchor": "x2"
                },
                "yaxis3": {
                  "tickfont": {
                    "color": "#4D5663"
                  },
                  "domain": [
                    0.8025,
                    1
                  ],
                  "title": {
                    "text": "",
                    "font": {
                      "color": "#4D5663"
                    }
                  },
                  "showgrid": false,
                  "zerolinecolor": "#E1E5ED",
                  "gridcolor": "#E1E5ED",
                  "anchor": "x3"
                },
                "yaxis4": {
                  "tickfont": {
                    "color": "#4D5663"
                  },
                  "domain": [
                    0.8025,
                    1
                  ],
                  "title": {
                    "text": "",
                    "font": {
                      "color": "#4D5663"
                    }
                  },
                  "showgrid": false,
                  "zerolinecolor": "#E1E5ED",
                  "gridcolor": "#E1E5ED",
                  "anchor": "x4"
                },
                "yaxis5": {
                  "tickfont": {
                    "color": "#4D5663"
                  },
                  "domain": [
                    0.535,
                    0.7325
                  ],
                  "title": {
                    "text": "",
                    "font": {
                      "color": "#4D5663"
                    }
                  },
                  "showgrid": false,
                  "zerolinecolor": "#E1E5ED",
                  "gridcolor": "#E1E5ED",
                  "anchor": "x5"
                },
                "yaxis6": {
                  "tickfont": {
                    "color": "#4D5663"
                  },
                  "domain": [
                    0.535,
                    0.7325
                  ],
                  "title": {
                    "text": "",
                    "font": {
                      "color": "#4D5663"
                    }
                  },
                  "showgrid": false,
                  "zerolinecolor": "#E1E5ED",
                  "gridcolor": "#E1E5ED",
                  "anchor": "x6"
                },
                "yaxis7": {
                  "tickfont": {
                    "color": "#4D5663"
                  },
                  "domain": [
                    0.535,
                    0.7325
                  ],
                  "title": {
                    "text": "",
                    "font": {
                      "color": "#4D5663"
                    }
                  },
                  "showgrid": false,
                  "zerolinecolor": "#E1E5ED",
                  "gridcolor": "#E1E5ED",
                  "anchor": "x7"
                },
                "yaxis8": {
                  "tickfont": {
                    "color": "#4D5663"
                  },
                  "domain": [
                    0.535,
                    0.7325
                  ],
                  "title": {
                    "text": "",
                    "font": {
                      "color": "#4D5663"
                    }
                  },
                  "showgrid": false,
                  "zerolinecolor": "#E1E5ED",
                  "gridcolor": "#E1E5ED",
                  "anchor": "x8"
                },
                "yaxis11": {
                  "tickfont": {
                    "color": "#4D5663"
                  },
                  "domain": [
                    0.2675,
                    0.465
                  ],
                  "title": {
                    "text": "",
                    "font": {
                      "color": "#4D5663"
                    }
                  },
                  "showgrid": false,
                  "zerolinecolor": "#E1E5ED",
                  "gridcolor": "#E1E5ED",
                  "anchor": "x11"
                },
                "yaxis9": {
                  "tickfont": {
                    "color": "#4D5663"
                  },
                  "domain": [
                    0.2675,
                    0.465
                  ],
                  "title": {
                    "text": "",
                    "font": {
                      "color": "#4D5663"
                    }
                  },
                  "showgrid": false,
                  "zerolinecolor": "#E1E5ED",
                  "gridcolor": "#E1E5ED",
                  "anchor": "x9"
                },
                "showlegend": false,
                "title": {
                  "font": {
                    "color": "#4D5663"
                  }
                },
                "plot_bgcolor": "#F5F6F9",
                "yaxis": {
                  "tickfont": {
                    "color": "#4D5663"
                  },
                  "domain": [
                    0.8025,
                    1
                  ],
                  "title": {
                    "text": "",
                    "font": {
                      "color": "#4D5663"
                    }
                  },
                  "showgrid": false,
                  "zerolinecolor": "#E1E5ED",
                  "gridcolor": "#E1E5ED",
                  "anchor": "x"
                },
                "yaxis12": {
                  "tickfont": {
                    "color": "#4D5663"
                  },
                  "domain": [
                    0.2675,
                    0.465
                  ],
                  "title": {
                    "text": "",
                    "font": {
                      "color": "#4D5663"
                    }
                  },
                  "showgrid": false,
                  "zerolinecolor": "#E1E5ED",
                  "gridcolor": "#E1E5ED",
                  "anchor": "x12"
                },
                "yaxis13": {
                  "tickfont": {
                    "color": "#4D5663"
                  },
                  "domain": [
                    0,
                    0.1975
                  ],
                  "title": {
                    "text": "",
                    "font": {
                      "color": "#4D5663"
                    }
                  },
                  "showgrid": false,
                  "zerolinecolor": "#E1E5ED",
                  "gridcolor": "#E1E5ED",
                  "anchor": "x13"
                },
                "yaxis10": {
                  "tickfont": {
                    "color": "#4D5663"
                  },
                  "domain": [
                    0.2675,
                    0.465
                  ],
                  "title": {
                    "text": "",
                    "font": {
                      "color": "#4D5663"
                    }
                  },
                  "showgrid": false,
                  "zerolinecolor": "#E1E5ED",
                  "gridcolor": "#E1E5ED",
                  "anchor": "x10"
                },
                "bargap": 0.02,
                "yaxis16": {
                  "tickfont": {
                    "color": "#4D5663"
                  },
                  "domain": [
                    0,
                    0.1975
                  ],
                  "title": {
                    "text": "",
                    "font": {
                      "color": "#4D5663"
                    }
                  },
                  "showgrid": false,
                  "zerolinecolor": "#E1E5ED",
                  "gridcolor": "#E1E5ED",
                  "anchor": "x16"
                },
                "xaxis": {
                  "tickfont": {
                    "color": "#4D5663"
                  },
                  "domain": [
                    0,
                    0.2125
                  ],
                  "title": {
                    "text": "",
                    "font": {
                      "color": "#4D5663"
                    }
                  },
                  "showgrid": false,
                  "zerolinecolor": "#E1E5ED",
                  "gridcolor": "#E1E5ED",
                  "anchor": "y"
                },
                "yaxis15": {
                  "tickfont": {
                    "color": "#4D5663"
                  },
                  "domain": [
                    0,
                    0.1975
                  ],
                  "title": {
                    "text": "",
                    "font": {
                      "color": "#4D5663"
                    }
                  },
                  "showgrid": false,
                  "zerolinecolor": "#E1E5ED",
                  "gridcolor": "#E1E5ED",
                  "anchor": "x15"
                },
                "template": {
                  "layout": {
                    "shapedefaults": {
                      "line": {
                        "color": "#2a3f5f"
                      }
                    },
                    "polar": {
                      "radialaxis": {
                        "ticks": "",
                        "gridcolor": "white",
                        "linecolor": "white"
                      },
                      "bgcolor": "#E5ECF6",
                      "angularaxis": {
                        "ticks": "",
                        "gridcolor": "white",
                        "linecolor": "white"
                      }
                    },
                    "colorway": [
                      "#636efa",
                      "#EF553B",
                      "#00cc96",
                      "#ab63fa",
                      "#FFA15A",
                      "#19d3f3",
                      "#FF6692",
                      "#B6E880",
                      "#FF97FF",
                      "#FECB52"
                    ],
                    "xaxis": {
                      "automargin": true,
                      "title": {
                        "standoff": 15
                      },
                      "zerolinewidth": 2,
                      "ticks": "",
                      "zerolinecolor": "white",
                      "gridcolor": "white",
                      "linecolor": "white"
                    },
                    "colorscale": {
                      "diverging": [
                        [
                          0,
                          "#8e0152"
                        ],
                        [
                          0.1,
                          "#c51b7d"
                        ],
                        [
                          0.2,
                          "#de77ae"
                        ],
                        [
                          0.3,
                          "#f1b6da"
                        ],
                        [
                          0.4,
                          "#fde0ef"
                        ],
                        [
                          0.5,
                          "#f7f7f7"
                        ],
                        [
                          0.6,
                          "#e6f5d0"
                        ],
                        [
                          0.7,
                          "#b8e186"
                        ],
                        [
                          0.8,
                          "#7fbc41"
                        ],
                        [
                          0.9,
                          "#4d9221"
                        ],
                        [
                          1,
                          "#276419"
                        ]
                      ],
                      "sequential": [
                        [
                          0,
                          "#0d0887"
                        ],
                        [
                          0.1111111111111111,
                          "#46039f"
                        ],
                        [
                          0.2222222222222222,
                          "#7201a8"
                        ],
                        [
                          0.3333333333333333,
                          "#9c179e"
                        ],
                        [
                          0.4444444444444444,
                          "#bd3786"
                        ],
                        [
                          0.5555555555555556,
                          "#d8576b"
                        ],
                        [
                          0.6666666666666666,
                          "#ed7953"
                        ],
                        [
                          0.7777777777777778,
                          "#fb9f3a"
                        ],
                        [
                          0.8888888888888888,
                          "#fdca26"
                        ],
                        [
                          1,
                          "#f0f921"
                        ]
                      ],
                      "sequentialminus": [
                        [
                          0,
                          "#0d0887"
                        ],
                        [
                          0.1111111111111111,
                          "#46039f"
                        ],
                        [
                          0.2222222222222222,
                          "#7201a8"
                        ],
                        [
                          0.3333333333333333,
                          "#9c179e"
                        ],
                        [
                          0.4444444444444444,
                          "#bd3786"
                        ],
                        [
                          0.5555555555555556,
                          "#d8576b"
                        ],
                        [
                          0.6666666666666666,
                          "#ed7953"
                        ],
                        [
                          0.7777777777777778,
                          "#fb9f3a"
                        ],
                        [
                          0.8888888888888888,
                          "#fdca26"
                        ],
                        [
                          1,
                          "#f0f921"
                        ]
                      ]
                    },
                    "paper_bgcolor": "white",
                    "plot_bgcolor": "#E5ECF6",
                    "title": {
                      "x": 0.05
                    },
                    "scene": {
                      "zaxis": {
                        "backgroundcolor": "#E5ECF6",
                        "ticks": "",
                        "gridwidth": 2,
                        "showbackground": true,
                        "zerolinecolor": "white",
                        "gridcolor": "white",
                        "linecolor": "white"
                      },
                      "xaxis": {
                        "backgroundcolor": "#E5ECF6",
                        "ticks": "",
                        "gridwidth": 2,
                        "showbackground": true,
                        "zerolinecolor": "white",
                        "gridcolor": "white",
                        "linecolor": "white"
                      },
                      "yaxis": {
                        "backgroundcolor": "#E5ECF6",
                        "ticks": "",
                        "gridwidth": 2,
                        "showbackground": true,
                        "zerolinecolor": "white",
                        "gridcolor": "white",
                        "linecolor": "white"
                      }
                    },
                    "yaxis": {
                      "automargin": true,
                      "title": {
                        "standoff": 15
                      },
                      "zerolinewidth": 2,
                      "ticks": "",
                      "zerolinecolor": "white",
                      "gridcolor": "white",
                      "linecolor": "white"
                    },
                    "annotationdefaults": {
                      "arrowwidth": 1,
                      "arrowhead": 0,
                      "arrowcolor": "#2a3f5f"
                    },
                    "hoverlabel": {
                      "align": "left"
                    },
                    "ternary": {
                      "bgcolor": "#E5ECF6",
                      "baxis": {
                        "ticks": "",
                        "gridcolor": "white",
                        "linecolor": "white"
                      },
                      "caxis": {
                        "ticks": "",
                        "gridcolor": "white",
                        "linecolor": "white"
                      },
                      "aaxis": {
                        "ticks": "",
                        "gridcolor": "white",
                        "linecolor": "white"
                      }
                    },
                    "mapbox": {
                      "style": "light"
                    },
                    "hovermode": "closest",
                    "font": {
                      "color": "#2a3f5f"
                    },
                    "geo": {
                      "showland": true,
                      "landcolor": "#E5ECF6",
                      "showlakes": true,
                      "bgcolor": "white",
                      "subunitcolor": "white",
                      "lakecolor": "white"
                    },
                    "coloraxis": {
                      "colorbar": {
                        "outlinewidth": 0,
                        "ticks": ""
                      }
                    }
                  },
                  "data": {
                    "mesh3d": [
                      {
                        "colorbar": {
                          "outlinewidth": 0,
                          "ticks": ""
                        },
                        "type": "mesh3d"
                      }
                    ],
                    "scattercarpet": [
                      {
                        "marker": {
                          "colorbar": {
                            "outlinewidth": 0,
                            "ticks": ""
                          }
                        },
                        "type": "scattercarpet"
                      }
                    ],
                    "pie": [
                      {
                        "automargin": true,
                        "type": "pie"
                      }
                    ],
                    "surface": [
                      {
                        "colorbar": {
                          "outlinewidth": 0,
                          "ticks": ""
                        },
                        "type": "surface",
                        "colorscale": [
                          [
                            0,
                            "#0d0887"
                          ],
                          [
                            0.1111111111111111,
                            "#46039f"
                          ],
                          [
                            0.2222222222222222,
                            "#7201a8"
                          ],
                          [
                            0.3333333333333333,
                            "#9c179e"
                          ],
                          [
                            0.4444444444444444,
                            "#bd3786"
                          ],
                          [
                            0.5555555555555556,
                            "#d8576b"
                          ],
                          [
                            0.6666666666666666,
                            "#ed7953"
                          ],
                          [
                            0.7777777777777778,
                            "#fb9f3a"
                          ],
                          [
                            0.8888888888888888,
                            "#fdca26"
                          ],
                          [
                            1,
                            "#f0f921"
                          ]
                        ]
                      }
                    ],
                    "table": [
                      {
                        "header": {
                          "line": {
                            "color": "white"
                          },
                          "fill": {
                            "color": "#C8D4E3"
                          }
                        },
                        "cells": {
                          "line": {
                            "color": "white"
                          },
                          "fill": {
                            "color": "#EBF0F8"
                          }
                        },
                        "type": "table"
                      }
                    ],
                    "scatterpolargl": [
                      {
                        "marker": {
                          "colorbar": {
                            "outlinewidth": 0,
                            "ticks": ""
                          }
                        },
                        "type": "scatterpolargl"
                      }
                    ],
                    "contour": [
                      {
                        "colorbar": {
                          "outlinewidth": 0,
                          "ticks": ""
                        },
                        "type": "contour",
                        "colorscale": [
                          [
                            0,
                            "#0d0887"
                          ],
                          [
                            0.1111111111111111,
                            "#46039f"
                          ],
                          [
                            0.2222222222222222,
                            "#7201a8"
                          ],
                          [
                            0.3333333333333333,
                            "#9c179e"
                          ],
                          [
                            0.4444444444444444,
                            "#bd3786"
                          ],
                          [
                            0.5555555555555556,
                            "#d8576b"
                          ],
                          [
                            0.6666666666666666,
                            "#ed7953"
                          ],
                          [
                            0.7777777777777778,
                            "#fb9f3a"
                          ],
                          [
                            0.8888888888888888,
                            "#fdca26"
                          ],
                          [
                            1,
                            "#f0f921"
                          ]
                        ]
                      }
                    ],
                    "carpet": [
                      {
                        "type": "carpet",
                        "baxis": {
                          "minorgridcolor": "white",
                          "gridcolor": "white",
                          "linecolor": "white",
                          "endlinecolor": "#2a3f5f",
                          "startlinecolor": "#2a3f5f"
                        },
                        "aaxis": {
                          "minorgridcolor": "white",
                          "gridcolor": "white",
                          "linecolor": "white",
                          "endlinecolor": "#2a3f5f",
                          "startlinecolor": "#2a3f5f"
                        }
                      }
                    ],
                    "contourcarpet": [
                      {
                        "colorbar": {
                          "outlinewidth": 0,
                          "ticks": ""
                        },
                        "type": "contourcarpet"
                      }
                    ],
                    "heatmap": [
                      {
                        "colorbar": {
                          "outlinewidth": 0,
                          "ticks": ""
                        },
                        "type": "heatmap",
                        "colorscale": [
                          [
                            0,
                            "#0d0887"
                          ],
                          [
                            0.1111111111111111,
                            "#46039f"
                          ],
                          [
                            0.2222222222222222,
                            "#7201a8"
                          ],
                          [
                            0.3333333333333333,
                            "#9c179e"
                          ],
                          [
                            0.4444444444444444,
                            "#bd3786"
                          ],
                          [
                            0.5555555555555556,
                            "#d8576b"
                          ],
                          [
                            0.6666666666666666,
                            "#ed7953"
                          ],
                          [
                            0.7777777777777778,
                            "#fb9f3a"
                          ],
                          [
                            0.8888888888888888,
                            "#fdca26"
                          ],
                          [
                            1,
                            "#f0f921"
                          ]
                        ]
                      }
                    ],
                    "scattermapbox": [
                      {
                        "marker": {
                          "colorbar": {
                            "outlinewidth": 0,
                            "ticks": ""
                          }
                        },
                        "type": "scattermapbox"
                      }
                    ],
                    "scatter3d": [
                      {
                        "marker": {
                          "colorbar": {
                            "outlinewidth": 0,
                            "ticks": ""
                          }
                        },
                        "line": {
                          "colorbar": {
                            "outlinewidth": 0,
                            "ticks": ""
                          }
                        },
                        "type": "scatter3d"
                      }
                    ],
                    "scattergl": [
                      {
                        "marker": {
                          "colorbar": {
                            "outlinewidth": 0,
                            "ticks": ""
                          }
                        },
                        "type": "scattergl"
                      }
                    ],
                    "scatterternary": [
                      {
                        "marker": {
                          "colorbar": {
                            "outlinewidth": 0,
                            "ticks": ""
                          }
                        },
                        "type": "scatterternary"
                      }
                    ],
                    "histogram": [
                      {
                        "marker": {
                          "colorbar": {
                            "outlinewidth": 0,
                            "ticks": ""
                          }
                        },
                        "type": "histogram"
                      }
                    ],
                    "heatmapgl": [
                      {
                        "colorbar": {
                          "outlinewidth": 0,
                          "ticks": ""
                        },
                        "type": "heatmapgl",
                        "colorscale": [
                          [
                            0,
                            "#0d0887"
                          ],
                          [
                            0.1111111111111111,
                            "#46039f"
                          ],
                          [
                            0.2222222222222222,
                            "#7201a8"
                          ],
                          [
                            0.3333333333333333,
                            "#9c179e"
                          ],
                          [
                            0.4444444444444444,
                            "#bd3786"
                          ],
                          [
                            0.5555555555555556,
                            "#d8576b"
                          ],
                          [
                            0.6666666666666666,
                            "#ed7953"
                          ],
                          [
                            0.7777777777777778,
                            "#fb9f3a"
                          ],
                          [
                            0.8888888888888888,
                            "#fdca26"
                          ],
                          [
                            1,
                            "#f0f921"
                          ]
                        ]
                      }
                    ],
                    "scatterpolar": [
                      {
                        "marker": {
                          "colorbar": {
                            "outlinewidth": 0,
                            "ticks": ""
                          }
                        },
                        "type": "scatterpolar"
                      }
                    ],
                    "histogram2d": [
                      {
                        "colorbar": {
                          "outlinewidth": 0,
                          "ticks": ""
                        },
                        "type": "histogram2d",
                        "colorscale": [
                          [
                            0,
                            "#0d0887"
                          ],
                          [
                            0.1111111111111111,
                            "#46039f"
                          ],
                          [
                            0.2222222222222222,
                            "#7201a8"
                          ],
                          [
                            0.3333333333333333,
                            "#9c179e"
                          ],
                          [
                            0.4444444444444444,
                            "#bd3786"
                          ],
                          [
                            0.5555555555555556,
                            "#d8576b"
                          ],
                          [
                            0.6666666666666666,
                            "#ed7953"
                          ],
                          [
                            0.7777777777777778,
                            "#fb9f3a"
                          ],
                          [
                            0.8888888888888888,
                            "#fdca26"
                          ],
                          [
                            1,
                            "#f0f921"
                          ]
                        ]
                      }
                    ],
                    "scattergeo": [
                      {
                        "marker": {
                          "colorbar": {
                            "outlinewidth": 0,
                            "ticks": ""
                          }
                        },
                        "type": "scattergeo"
                      }
                    ],
                    "bar": [
                      {
                        "marker": {
                          "line": {
                            "color": "#E5ECF6",
                            "width": 0.5
                          }
                        },
                        "type": "bar",
                        "error_x": {
                          "color": "#2a3f5f"
                        },
                        "error_y": {
                          "color": "#2a3f5f"
                        }
                      }
                    ],
                    "choropleth": [
                      {
                        "colorbar": {
                          "outlinewidth": 0,
                          "ticks": ""
                        },
                        "type": "choropleth"
                      }
                    ],
                    "parcoords": [
                      {
                        "line": {
                          "colorbar": {
                            "outlinewidth": 0,
                            "ticks": ""
                          }
                        },
                        "type": "parcoords"
                      }
                    ],
                    "barpolar": [
                      {
                        "marker": {
                          "line": {
                            "color": "#E5ECF6",
                            "width": 0.5
                          }
                        },
                        "type": "barpolar"
                      }
                    ],
                    "histogram2dcontour": [
                      {
                        "colorbar": {
                          "outlinewidth": 0,
                          "ticks": ""
                        },
                        "type": "histogram2dcontour",
                        "colorscale": [
                          [
                            0,
                            "#0d0887"
                          ],
                          [
                            0.1111111111111111,
                            "#46039f"
                          ],
                          [
                            0.2222222222222222,
                            "#7201a8"
                          ],
                          [
                            0.3333333333333333,
                            "#9c179e"
                          ],
                          [
                            0.4444444444444444,
                            "#bd3786"
                          ],
                          [
                            0.5555555555555556,
                            "#d8576b"
                          ],
                          [
                            0.6666666666666666,
                            "#ed7953"
                          ],
                          [
                            0.7777777777777778,
                            "#fb9f3a"
                          ],
                          [
                            0.8888888888888888,
                            "#fdca26"
                          ],
                          [
                            1,
                            "#f0f921"
                          ]
                        ]
                      }
                    ],
                    "scatter": [
                      {
                        "marker": {
                          "colorbar": {
                            "outlinewidth": 0,
                            "ticks": ""
                          }
                        },
                        "type": "scatter"
                      }
                    ]
                  }
                },
                "legend": {
                  "bgcolor": "#F5F6F9",
                  "font": {
                    "color": "#4D5663"
                  }
                },
                "xaxis9": {
                  "tickfont": {
                    "color": "#4D5663"
                  },
                  "domain": [
                    0,
                    0.2125
                  ],
                  "title": {
                    "text": "",
                    "font": {
                      "color": "#4D5663"
                    }
                  },
                  "showgrid": false,
                  "zerolinecolor": "#E1E5ED",
                  "gridcolor": "#E1E5ED",
                  "anchor": "y9"
                },
                "xaxis8": {
                  "tickfont": {
                    "color": "#4D5663"
                  },
                  "domain": [
                    0.7875,
                    1
                  ],
                  "title": {
                    "text": "",
                    "font": {
                      "color": "#4D5663"
                    }
                  },
                  "showgrid": false,
                  "zerolinecolor": "#E1E5ED",
                  "gridcolor": "#E1E5ED",
                  "anchor": "y8"
                },
                "xaxis7": {
                  "tickfont": {
                    "color": "#4D5663"
                  },
                  "domain": [
                    0.525,
                    0.7375
                  ],
                  "title": {
                    "text": "",
                    "font": {
                      "color": "#4D5663"
                    }
                  },
                  "showgrid": false,
                  "zerolinecolor": "#E1E5ED",
                  "gridcolor": "#E1E5ED",
                  "anchor": "y7"
                },
                "xaxis6": {
                  "tickfont": {
                    "color": "#4D5663"
                  },
                  "domain": [
                    0.2625,
                    0.475
                  ],
                  "title": {
                    "text": "",
                    "font": {
                      "color": "#4D5663"
                    }
                  },
                  "showgrid": false,
                  "zerolinecolor": "#E1E5ED",
                  "gridcolor": "#E1E5ED",
                  "anchor": "y6"
                },
                "xaxis5": {
                  "tickfont": {
                    "color": "#4D5663"
                  },
                  "domain": [
                    0,
                    0.2125
                  ],
                  "title": {
                    "text": "",
                    "font": {
                      "color": "#4D5663"
                    }
                  },
                  "showgrid": false,
                  "zerolinecolor": "#E1E5ED",
                  "gridcolor": "#E1E5ED",
                  "anchor": "y5"
                },
                "xaxis4": {
                  "tickfont": {
                    "color": "#4D5663"
                  },
                  "domain": [
                    0.7875,
                    1
                  ],
                  "title": {
                    "text": "",
                    "font": {
                      "color": "#4D5663"
                    }
                  },
                  "showgrid": false,
                  "zerolinecolor": "#E1E5ED",
                  "gridcolor": "#E1E5ED",
                  "anchor": "y4"
                },
                "xaxis3": {
                  "tickfont": {
                    "color": "#4D5663"
                  },
                  "domain": [
                    0.525,
                    0.7375
                  ],
                  "title": {
                    "text": "",
                    "font": {
                      "color": "#4D5663"
                    }
                  },
                  "showgrid": false,
                  "zerolinecolor": "#E1E5ED",
                  "gridcolor": "#E1E5ED",
                  "anchor": "y3"
                },
                "xaxis2": {
                  "tickfont": {
                    "color": "#4D5663"
                  },
                  "domain": [
                    0.2625,
                    0.475
                  ],
                  "title": {
                    "text": "",
                    "font": {
                      "color": "#4D5663"
                    }
                  },
                  "showgrid": false,
                  "zerolinecolor": "#E1E5ED",
                  "gridcolor": "#E1E5ED",
                  "anchor": "y2"
                },
                "yaxis14": {
                  "tickfont": {
                    "color": "#4D5663"
                  },
                  "domain": [
                    0,
                    0.1975
                  ],
                  "title": {
                    "text": "",
                    "font": {
                      "color": "#4D5663"
                    }
                  },
                  "showgrid": false,
                  "zerolinecolor": "#E1E5ED",
                  "gridcolor": "#E1E5ED",
                  "anchor": "x14"
                }
              }
            }
          },
          "metadata": {
            "tags": []
          }
        }
      ]
    },
    {
      "cell_type": "markdown",
      "metadata": {
        "collapsed": true,
        "id": "MjjB1Dwjo0LE"
      },
      "source": [
        ""
      ]
    }
  ]
}